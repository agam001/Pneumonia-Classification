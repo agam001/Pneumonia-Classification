{
  "nbformat": 4,
  "nbformat_minor": 0,
  "metadata": {
    "accelerator": "TPU",
    "colab": {
      "name": "Pneumonia_classification_Resnet50.ipynb",
      "provenance": [],
      "collapsed_sections": [],
      "toc_visible": true
    },
    "kernelspec": {
      "display_name": "Python 3",
      "name": "python3"
    },
    "language_info": {
      "name": "python"
    }
  },
  "cells": [
    {
      "cell_type": "markdown",
      "metadata": {
        "id": "dFUGPuZKZe-A"
      },
      "source": [
        "\n",
        "\n",
        "---\n",
        "\n",
        "# **Pneumonia Classification using RESNET**\n",
        "\n",
        "---\n",
        "\n",
        "\n",
        "\n",
        "\n",
        "\n"
      ]
    },
    {
      "cell_type": "code",
      "metadata": {
        "id": "Uuvzf3bGAbdq"
      },
      "source": [
        "import cv2\n",
        "import os\n",
        "import random\n",
        "from PIL import Image, ImageOps\n",
        "import numpy as np\n",
        "from keras import layers\n",
        "from keras.layers import Input, Add, Dense, Activation, ZeroPadding2D, BatchNormalization, Flatten, Conv2D, AveragePooling2D, MaxPooling2D, GlobalMaxPooling2D\n",
        "from keras.models import Model, load_model\n",
        "import keras.preprocessing as preprocessing\n",
        "from keras.utils import layer_utils\n",
        "from keras.utils.data_utils import get_file\n",
        "from keras import regularizers\n",
        "from keras.applications.imagenet_utils import preprocess_input\n",
        "import pydot\n",
        "from IPython.display import SVG\n",
        "from keras.utils.vis_utils import model_to_dot\n",
        "from keras.utils import plot_model\n",
        "from keras.initializers import glorot_uniform\n",
        "from keras.metrics import Recall\n",
        "from keras.losses import BinaryCrossentropy\n",
        "from keras import optimizers \n",
        "from sklearn.preprocessing import LabelEncoder\n",
        "from sklearn.preprocessing import OneHotEncoder\n",
        "import tensorflow as tf\n",
        "import scipy.misc\n",
        "from matplotlib.pyplot import imshow\n",
        "import matplotlib.pyplot as plt\n",
        "%matplotlib inline\n",
        "\n",
        "import keras.backend as K\n",
        "K.set_image_data_format('channels_last')\n"
      ],
      "execution_count": 5,
      "outputs": []
    },
    {
      "cell_type": "markdown",
      "metadata": {
        "id": "qcy6QTmfZ7_L"
      },
      "source": [
        "## **1. Initializing a TPU system**\n",
        "\n",
        "\n"
      ]
    },
    {
      "cell_type": "code",
      "metadata": {
        "colab": {
          "base_uri": "https://localhost:8080/"
        },
        "id": "2jMp8WkgUd37",
        "outputId": "43d4b5a9-5ec4-4842-bd04-60df9d0f1ce3"
      },
      "source": [
        "resolver = tf.distribute.cluster_resolver.TPUClusterResolver(tpu='')\n",
        "tf.config.experimental_connect_to_cluster(resolver)\n",
        "tf.tpu.experimental.initialize_tpu_system(resolver)\n",
        "print(\"All devices: \", tf.config.list_logical_devices('TPU'))"
      ],
      "execution_count": 6,
      "outputs": [
        {
          "output_type": "stream",
          "text": [
            "INFO:tensorflow:Initializing the TPU system: grpc://10.51.205.106:8470\n"
          ],
          "name": "stdout"
        },
        {
          "output_type": "stream",
          "text": [
            "INFO:tensorflow:Initializing the TPU system: grpc://10.51.205.106:8470\n"
          ],
          "name": "stderr"
        },
        {
          "output_type": "stream",
          "text": [
            "INFO:tensorflow:Clearing out eager caches\n"
          ],
          "name": "stdout"
        },
        {
          "output_type": "stream",
          "text": [
            "INFO:tensorflow:Clearing out eager caches\n"
          ],
          "name": "stderr"
        },
        {
          "output_type": "stream",
          "text": [
            "INFO:tensorflow:Finished initializing TPU system.\n"
          ],
          "name": "stdout"
        },
        {
          "output_type": "stream",
          "text": [
            "INFO:tensorflow:Finished initializing TPU system.\n"
          ],
          "name": "stderr"
        },
        {
          "output_type": "stream",
          "text": [
            "All devices:  [LogicalDevice(name='/job:worker/replica:0/task:0/device:TPU:7', device_type='TPU'), LogicalDevice(name='/job:worker/replica:0/task:0/device:TPU:6', device_type='TPU'), LogicalDevice(name='/job:worker/replica:0/task:0/device:TPU:5', device_type='TPU'), LogicalDevice(name='/job:worker/replica:0/task:0/device:TPU:4', device_type='TPU'), LogicalDevice(name='/job:worker/replica:0/task:0/device:TPU:3', device_type='TPU'), LogicalDevice(name='/job:worker/replica:0/task:0/device:TPU:0', device_type='TPU'), LogicalDevice(name='/job:worker/replica:0/task:0/device:TPU:1', device_type='TPU'), LogicalDevice(name='/job:worker/replica:0/task:0/device:TPU:2', device_type='TPU')]\n"
          ],
          "name": "stdout"
        }
      ]
    },
    {
      "cell_type": "code",
      "metadata": {
        "colab": {
          "base_uri": "https://localhost:8080/"
        },
        "id": "1wHfXs3PN1uQ",
        "outputId": "e8fda351-431e-487a-a5c9-e7c72920f9e9"
      },
      "source": [
        "try:\n",
        " device_name = os.environ['COLAB_TPU_ADDR']\n",
        " TPU_ADDRESS = 'grpc://' + device_name\n",
        " print('Found TPU at: {}'.format(TPU_ADDRESS))\n",
        "except KeyError:\n",
        " print('TPU not found')"
      ],
      "execution_count": 7,
      "outputs": [
        {
          "output_type": "stream",
          "text": [
            "Found TPU at: grpc://10.51.205.106:8470\n"
          ],
          "name": "stdout"
        }
      ]
    },
    {
      "cell_type": "markdown",
      "metadata": {
        "id": "AD4m24VtakAX"
      },
      "source": [
        "## **2. Importing data**"
      ]
    },
    {
      "cell_type": "code",
      "metadata": {
        "colab": {
          "base_uri": "https://localhost:8080/"
        },
        "id": "B1x5rsQQIvTM",
        "outputId": "b3d17811-f36a-4ba3-e0dc-2132d5482c80"
      },
      "source": [
        "from google.colab import drive\n",
        "drive.mount('/content/gdrive')"
      ],
      "execution_count": 4,
      "outputs": [
        {
          "output_type": "stream",
          "text": [
            "Mounted at /content/gdrive\n"
          ],
          "name": "stdout"
        }
      ]
    },
    {
      "cell_type": "code",
      "metadata": {
        "id": "90nJSoCRNKoZ"
      },
      "source": [
        "def input_fn(x,y,batch_size=0,use_batch=True):\n",
        "    # Convert the inputs to a Tensorflow dataset.\n",
        "    dataset = tf.data.Dataset.from_tensor_slices((x,y))\n",
        "\n",
        "    # Shuffle, repeat, and batch the examples.\n",
        "    dataset = dataset.cache()\n",
        "    dataset = dataset.shuffle(1000, reshuffle_each_iteration=True)\n",
        "    dataset = dataset.repeat()\n",
        "\n",
        "    if use_batch:\n",
        "      dataset = dataset.batch(batch_size, drop_remainder=True)\n",
        "      \n",
        "\n",
        "    return dataset\n",
        "\n",
        "def input_fn_1(x,batch_size=0,use_batch=True):\n",
        "    # Convert the inputs to a Tensorflow dataset.\n",
        "    dataset = tf.data.Dataset.from_tensor_slices((x))\n",
        "\n",
        "    # Shuffle, repeat, and batch the examples.\n",
        "    dataset = dataset.cache()\n",
        "    dataset = dataset.shuffle(1000, reshuffle_each_iteration=True)\n",
        "    dataset = dataset.repeat()\n",
        "\n",
        "    if use_batch:\n",
        "      dataset = dataset.batch(batch_size, drop_remainder=True)\n",
        "      \n",
        "\n",
        "    return dataset\n",
        "\n",
        "def load_data(data_dir, sample_size, use_sample_size, img_dim=64):\n",
        "  \n",
        "  ds = []\n",
        "\n",
        "  label_dir = os.listdir(data_dir)\n",
        "  \n",
        "  for label in label_dir:\n",
        "\n",
        "    if not(label == '.DS_Store'):\n",
        "      label_dir_path = os.path.join(data_dir,label)\n",
        "      filenames = os.listdir(label_dir_path)\n",
        "      imgs_path = [os.path.join(label_dir_path, img_name) for img_name in filenames if img_name.endswith('.jpeg')]\n",
        "\n",
        "      if use_sample_size: \n",
        "        imgs_path = imgs_path[:sample_size]\n",
        "\n",
        "      print('Number of images of type {}:'.format(label),len(imgs_path))\n",
        "     \n",
        "      for img_path in imgs_path:\n",
        "        img = Image.open(img_path)\n",
        "        img = ImageOps.grayscale(img)\n",
        "        img = np.array(img)\n",
        "        img = np.reshape(img,(img_dim,img_dim,1))\n",
        "        img = img.astype('float32')\n",
        "        img = img/225\n",
        "        ds.append([img,label])\n",
        "  \n",
        "  random.seed(1234)\n",
        "  random.shuffle(ds)\n",
        "\n",
        "  return ds\n",
        "\n",
        "def load_tensorflow_ds(train_val=True, sample_size=255, use_sample_size=True, img_dim=64, train_batch_size=120, val_batch_size=8, test_batch_size=16):\n",
        "  if train_val:\n",
        "    train_ds = load_data('/content/gdrive/MyDrive/chest_xray/Resized_train_64_all',sample_size, use_sample_size, img_dim)\n",
        "    labels = []\n",
        "    images = []\n",
        "    for x in range(len(train_ds)):\n",
        "      labels.append(train_ds[x][1])\n",
        "      images.append(train_ds[x][0])\n",
        "    \n",
        "    train_size = 5160\n",
        "    X_train = images[:train_size]\n",
        "    y_train = labels[:train_size]\n",
        "\n",
        "    X_val = images[train_size:]\n",
        "    y_val = labels[train_size:]\n",
        "\n",
        "    # One-hot-encoding y_train\n",
        "    label_encoder = LabelEncoder()\n",
        "    integer_encoded = label_encoder.fit_transform(y_train)\n",
        "    onehot_encoder = OneHotEncoder(sparse=False)\n",
        "    integer_encoded = integer_encoded.reshape(len(integer_encoded), 1)\n",
        "    y_train = onehot_encoder.fit_transform(integer_encoded)\n",
        "\n",
        "    # One-hot-encoding y_val\n",
        "    integer_encoded = label_encoder.fit_transform(y_val)\n",
        "    integer_encoded = integer_encoded.reshape(len(integer_encoded), 1)\n",
        "    y_val = onehot_encoder.fit_transform(integer_encoded)\n",
        "\n",
        "    print('Loading train Tensorflow dataset')\n",
        "    train_ds = input_fn(X_train, y_train, train_batch_size)\n",
        "    print('Loading val Tensorflow dataset')\n",
        "    val_ds = input_fn(X_val, y_val, val_batch_size)\n",
        "\n",
        "    train_val_list = [len(X_train),np.array(X_train).shape,np.array(y_train).shape]\n",
        "\n",
        "    return train_ds,val_ds,train_val_list\n",
        "  \n",
        "  else:\n",
        "    test_ds = load_data('/content/gdrive/MyDrive/chest_xray/Resized_test_64',sample_size, use_sample_size, img_dim)\n",
        "    labels = []\n",
        "    images = []\n",
        "\n",
        "    for x in range(len(test_ds)):\n",
        "      labels.append(test_ds[x][1])\n",
        "      images.append(test_ds[x][0])\n",
        "    X_test = images\n",
        "    y_test = labels\n",
        "\n",
        "    # One-hot-encoding y_test\n",
        "    label_encoder = LabelEncoder()\n",
        "    integer_encoded = label_encoder.fit_transform(y_test)\n",
        "\n",
        "    onehot_encoder = OneHotEncoder(sparse=False)\n",
        "    integer_encoded = integer_encoded.reshape(len(integer_encoded), 1)\n",
        "    y_test = onehot_encoder.fit_transform(integer_encoded)\n",
        "\n",
        "    print('Loading test Tensorflow dataset')\n",
        "    test_ds = input_fn(X_test, y_test, test_batch_size)\n",
        "\n",
        "    test_list = [len(X_test),np.array(X_test).shape,np.array(y_test).shape]\n",
        "    \n",
        "    return test_ds,test_list,X_test,y_test"
      ],
      "execution_count": 8,
      "outputs": []
    },
    {
      "cell_type": "markdown",
      "metadata": {
        "id": "pkJUlrNqeg1L"
      },
      "source": [
        "Loading train, val, and test datasets"
      ]
    },
    {
      "cell_type": "code",
      "metadata": {
        "colab": {
          "base_uri": "https://localhost:8080/"
        },
        "id": "z7SwcT4r06UQ",
        "outputId": "3b601208-4c14-498b-c6fa-7b83c2586779"
      },
      "source": [
        "print('\\033[1mLoading train & val ds\\033[0m')\n",
        "train_ds,val_ds, train_val_list = load_tensorflow_ds(use_sample_size=False)\n",
        "print('\\033[1mLoafing test ds\\033[0m')\n",
        "test_ds,test_list,X_test,y_test = load_tensorflow_ds(train_val=False,use_sample_size=False)"
      ],
      "execution_count": 62,
      "outputs": [
        {
          "output_type": "stream",
          "text": [
            "\u001b[1mLoading train & val ds\u001b[0m\n",
            "Number of images of type NORMAL: 1341\n",
            "Number of images of type PNEUMONIA: 3875\n",
            "Loading train Tensorflow dataset\n",
            "Loading val Tensorflow dataset\n",
            "\u001b[1mLoafing test ds\u001b[0m\n",
            "Number of images of type NORMAL: 234\n",
            "Number of images of type PNEUMONIA: 390\n",
            "Loading test Tensorflow dataset\n"
          ],
          "name": "stdout"
        }
      ]
    },
    {
      "cell_type": "code",
      "metadata": {
        "id": "4oEMj_4wlbcU"
      },
      "source": [
        "x_test = input_fn_1(X_test,624)"
      ],
      "execution_count": 63,
      "outputs": []
    },
    {
      "cell_type": "code",
      "metadata": {
        "id": "GinOcnsMoyES",
        "colab": {
          "base_uri": "https://localhost:8080/"
        },
        "outputId": "fb891bdc-d1d7-49a7-9b08-7399bf01caa1"
      },
      "source": [
        "print (\"Number of training examples:\" + str(train_val_list[0]))\n",
        "print (\"Number of test examples:\" + str(test_list[0]))\n",
        "print (\"X_train shape:\" + str(train_val_list[1]))\n",
        "print (\"y_train shape:\" + str(train_val_list[2]))\n",
        "print (\"X_test shape:\" + str(test_list[1]))\n",
        "print (\"y_test shape:\" + str(test_list[2]))"
      ],
      "execution_count": 14,
      "outputs": [
        {
          "output_type": "stream",
          "text": [
            "Number of training examples:5160\n",
            "Number of test examples:624\n",
            "X_train shape:(5160, 64, 64, 1)\n",
            "y_train shape:(5160, 2)\n",
            "X_test shape:(624, 64, 64, 1)\n",
            "y_test shape:(624, 2)\n"
          ],
          "name": "stdout"
        }
      ]
    },
    {
      "cell_type": "code",
      "metadata": {
        "id": "kXf0Ky85ZTYR"
      },
      "source": [
        "plt.figure(figsize=(10, 10))\n",
        "i=0\n",
        "for image, label in (X_train[0:9],y_train[0:9]):\n",
        "  ax = plt.subplot(3, 3, i + 1)\n",
        "  plt.imshow(image[i].numpy().astype(\"uint8\"))\n",
        "  plt.title(label[i])\n",
        "  plt.axis(\"off\")\n",
        "  i+=1"
      ],
      "execution_count": null,
      "outputs": []
    },
    {
      "cell_type": "markdown",
      "metadata": {
        "id": "D0QVHVn6hRfj"
      },
      "source": [
        "## **3. ResNet architecture**"
      ]
    },
    {
      "cell_type": "code",
      "metadata": {
        "id": "N1i9XHtSRM5l"
      },
      "source": [
        "def convolutional_block(X, f, filters, stage, block, s = 2):\n",
        "    \"\"\"\n",
        "    Implementation of the convolutional block \n",
        "  \n",
        "    Returns:\n",
        "    X -- output of the convolutional block, tensor of shape (n_H, n_W, n_C)\n",
        "    \"\"\"\n",
        "    \n",
        "    # defining name basis\n",
        "    conv_name_base = 'res' + str(stage) + block + '_branch'\n",
        "    bn_name_base = 'bn' + str(stage) + block + '_branch'\n",
        "    \n",
        "    # Retrieve Filters\n",
        "    F1, F2, F3 = filters\n",
        "    \n",
        "    # Save the input value\n",
        "    X_shortcut = X\n",
        "\n",
        "\n",
        "    ##### MAIN PATH #####\n",
        "    # First component of main path \n",
        "    X = Conv2D(F1, (1, 1), strides = (s,s), name = conv_name_base + '2a', kernel_initializer = glorot_uniform(seed=0),kernel_regularizer=regularizers.l2(0.01))(X)\n",
        "    X = BatchNormalization(axis = 3, name = bn_name_base + '2a')(X)\n",
        "    X = Activation('relu')(X)\n",
        "    \n",
        "    ### START CODE HERE ###\n",
        "\n",
        "    # Second component of main path (≈3 lines)\n",
        "    X = Conv2D(F2, (f, f), strides = (1,1),padding = \"same\", name = conv_name_base + '2b', kernel_initializer = glorot_uniform(seed=0),kernel_regularizer=regularizers.l2(0.01))(X)\n",
        "    X = BatchNormalization(axis = 3, name = bn_name_base + '2b')(X)\n",
        "    X = Activation('relu')(X)\n",
        "\n",
        "    # Third component of main path (≈2 lines)\n",
        "    X = Conv2D(F3, (1, 1), strides = (1,1), name = conv_name_base + '2c', kernel_initializer = glorot_uniform(seed=0),kernel_regularizer=regularizers.l2(0.01))(X)\n",
        "    X = BatchNormalization(axis = 3, name = bn_name_base + '2c')(X)\n",
        "    \n",
        "    ##### SHORTCUT PATH #### (≈2 lines)\n",
        "    X_shortcut = Conv2D(F3, (1, 1), strides = (s,s), name = conv_name_base + '1', kernel_initializer = glorot_uniform(seed=0),kernel_regularizer=regularizers.l2(0.01))(X_shortcut)\n",
        "    X_shortcut = BatchNormalization(axis = 3, name = bn_name_base + '1')(X_shortcut)\n",
        "\n",
        "    # Final step: Add shortcut value to main path, and pass it through a RELU activation (≈2 lines)\n",
        "    X = Add()([X,X_shortcut])\n",
        "    X = Activation('relu')(X)\n",
        "    \n",
        "    ### END CODE HERE ###\n",
        "    \n",
        "    return X"
      ],
      "execution_count": 15,
      "outputs": []
    },
    {
      "cell_type": "code",
      "metadata": {
        "id": "Bkb3D0mmURPx"
      },
      "source": [
        "def identity_block(X, f, filters, stage, block):\n",
        "    \"\"\"\n",
        "    Implementation of the identity block \n",
        "   \n",
        "    Returns:\n",
        "    X -- output of the identity block, tensor of shape (n_H, n_W, n_C)\n",
        "    \"\"\"\n",
        "    \n",
        "    # defining name basis\n",
        "    conv_name_base = 'res' + str(stage) + block + '_branch'\n",
        "    bn_name_base = 'bn' + str(stage) + block + '_branch'\n",
        "    \n",
        "    # Retrieve Filters\n",
        "    F1, F2, F3 = filters\n",
        "    \n",
        "    # Save the input value. You'll need this later to add back to the main path. \n",
        "    X_shortcut = X\n",
        "    \n",
        "    # First component of main path\n",
        "    X = Conv2D(filters = F1, kernel_size = (1, 1), strides = (1,1), padding = 'valid', name = conv_name_base + '2a', kernel_initializer = glorot_uniform(seed=0),kernel_regularizer=regularizers.l2(0.01))(X)\n",
        "    X = BatchNormalization(axis = 3, name = bn_name_base + '2a')(X)\n",
        "    X = Activation('relu')(X)\n",
        "    \n",
        "    ### START CODE HERE ###\n",
        "    \n",
        "    # Second component of main path (≈3 lines)\n",
        "    X = Conv2D(filters = F2, kernel_size = (f, f), strides = (1,1), padding = 'same', name = conv_name_base + '2b', kernel_initializer = glorot_uniform(seed=0),kernel_regularizer=regularizers.l2(0.01))(X)\n",
        "    X = BatchNormalization(axis = 3, name = bn_name_base + '2b')(X)\n",
        "    X = Activation('relu')(X)\n",
        "    \n",
        "\n",
        "    # Third component of main path (≈2 lines)\n",
        "    X = Conv2D(filters = F3, kernel_size = (1, 1), strides = (1,1), padding = 'valid', name = conv_name_base + '2c', kernel_initializer = glorot_uniform(seed=0),kernel_regularizer=regularizers.l2(0.01))(X)\n",
        "    X = BatchNormalization(axis = 3, name = bn_name_base + '2c')(X)\n",
        "\n",
        "    # Final step: Add shortcut value to main path, and pass it through a RELU activation (≈2 lines)\n",
        "    X = Add()([X,X_shortcut])\n",
        "    X = Activation(\"relu\")(X)\n",
        "    \n",
        "    ### END CODE HERE ###\n",
        "    \n",
        "    return X\n"
      ],
      "execution_count": 16,
      "outputs": []
    },
    {
      "cell_type": "code",
      "metadata": {
        "id": "jZRRTyB72o0Q"
      },
      "source": [
        "def ResNet(input_shape = (64, 64,1), classes = 2, rate = 0.3):\n",
        "    \"\"\"\n",
        "    Implementation of the popular ResNet architecture\n",
        "\n",
        "    Returns:\n",
        "    model -- a Model() instance in Keras\n",
        "    \"\"\"\n",
        "    \n",
        "    # Define the input as a tensor with shape input_shape\n",
        "    X_input = Input(input_shape)\n",
        "\n",
        "    \n",
        "    # Zero-Padding\n",
        "    X = ZeroPadding2D((1, 1))(X_input)\n",
        "    \n",
        "    # Stage 1\n",
        "    X = Conv2D(64, (3, 3), strides = (2, 2), name = 'conv1', kernel_initializer = glorot_uniform(seed=0))(X)\n",
        "    X = BatchNormalization(axis = 3, name = 'bn_conv1')(X)\n",
        "    X = Activation('relu')(X)\n",
        "    X = MaxPooling2D((3, 3), strides=(2, 2))(X)\n",
        "\n",
        "    # Stage 2\n",
        "    X = convolutional_block(X, f = 3, filters = [64, 64, 128], stage = 2, block='a', s = 1)\n",
        "    X = identity_block(X, 3, [64, 64, 128], stage=2, block='b')\n",
        "    X = identity_block(X, 3, [64, 64, 128], stage=2, block='c')\n",
        "    X = identity_block(X, 3, [64, 64, 128], stage=2, block='d')\n",
        "    X = tf.keras.layers.Dropout(rate, seed=134)(X)\n",
        "\n",
        "    # stage 3\n",
        "    X = convolutional_block(X, f = 3, filters = [64, 64, 128], stage = 3, block='a', s = 1)\n",
        "    X = identity_block(X, 3, [64, 64, 128], stage=3, block='b')\n",
        "    X = identity_block(X, 3, [64, 64, 128], stage=3, block='c')\n",
        "    X = identity_block(X, 3, [64, 64, 128], stage=3, block='d')\n",
        "    X = tf.keras.layers.Dropout(rate, seed=234)(X)\n",
        "  \n",
        "    # Stage 4 \n",
        "    X = convolutional_block(X, f = 3, filters = [128, 128, 256], stage = 4, block='a', s = 2)\n",
        "    X = identity_block(X, 3, [128, 128, 256], stage=4, block='b')\n",
        "    X = identity_block(X, 3, [128, 128, 256], stage=4, block='c')\n",
        "    X = identity_block(X, 3, [128, 128, 256], stage=4, block='d')\n",
        "    X = tf.keras.layers.Dropout(rate, seed=124)(X)\n",
        "\n",
        "    # Stage 5\n",
        "    X = convolutional_block(X, f = 3, filters = [128, 128, 256], stage = 5, block='a', s = 2)\n",
        "    X = identity_block(X, 3, [128, 128, 256], stage=5, block='b')\n",
        "    X = identity_block(X, 3, [128, 128, 256], stage=5, block='c')\n",
        "    X = identity_block(X, 3, [128, 128, 256], stage=5, block='d')\n",
        "    X = tf.keras.layers.Dropout(rate, seed=123)(X)\n",
        "\n",
        "    # Stage 6 \n",
        "    X = convolutional_block(X, f = 3, filters = [256, 256, 512], stage = 6, block='a', s = 2)\n",
        "    X = identity_block(X, 3, [256, 256, 512], stage=6, block='b')\n",
        "    X = identity_block(X, 3, [256, 256, 512], stage=6, block='c')\n",
        "    X = identity_block(X, 3, [256, 256, 512], stage=6, block='d')\n",
        "    X = tf.keras.layers.Dropout(rate, seed=14)(X)\n",
        "\n",
        "    # Stage 7\n",
        "    X = convolutional_block(X, f = 3, filters = [256, 256, 512], stage = 7, block='a', s = 2)\n",
        "    X = identity_block(X, 3, [256, 256, 512], stage=7, block='b')\n",
        "    X = identity_block(X, 3, [256, 256, 512], stage=7, block='c')\n",
        "    X = identity_block(X, 3, [256, 256, 512], stage=7, block='d')\n",
        "    X = tf.keras.layers.Dropout(rate, seed=34)(X)\n",
        "\n",
        "    # output layer\n",
        "    X = Flatten()(X)\n",
        "    X = Dense(classes, activation='sigmoid', name='fc' + str(classes), kernel_initializer = glorot_uniform(seed=0))(X)\n",
        "    \n",
        "    # Create model\n",
        "    model = Model(inputs = X_input, outputs = X, name='ResNet')\n",
        "\n",
        "    return model"
      ],
      "execution_count": 17,
      "outputs": []
    },
    {
      "cell_type": "markdown",
      "metadata": {
        "id": "orDWqlhehjhs"
      },
      "source": [
        "## **4. Model training**"
      ]
    },
    {
      "cell_type": "code",
      "metadata": {
        "id": "doi1gStcQFd4",
        "colab": {
          "base_uri": "https://localhost:8080/"
        },
        "outputId": "0798b0b3-164a-41eb-d302-502aeaed5f19"
      },
      "source": [
        "strategy = tf.distribute.TPUStrategy(resolver)"
      ],
      "execution_count": 18,
      "outputs": [
        {
          "output_type": "stream",
          "text": [
            "INFO:tensorflow:Found TPU system:\n"
          ],
          "name": "stdout"
        },
        {
          "output_type": "stream",
          "text": [
            "INFO:tensorflow:Found TPU system:\n"
          ],
          "name": "stderr"
        },
        {
          "output_type": "stream",
          "text": [
            "INFO:tensorflow:*** Num TPU Cores: 8\n"
          ],
          "name": "stdout"
        },
        {
          "output_type": "stream",
          "text": [
            "INFO:tensorflow:*** Num TPU Cores: 8\n"
          ],
          "name": "stderr"
        },
        {
          "output_type": "stream",
          "text": [
            "INFO:tensorflow:*** Num TPU Workers: 1\n"
          ],
          "name": "stdout"
        },
        {
          "output_type": "stream",
          "text": [
            "INFO:tensorflow:*** Num TPU Workers: 1\n"
          ],
          "name": "stderr"
        },
        {
          "output_type": "stream",
          "text": [
            "INFO:tensorflow:*** Num TPU Cores Per Worker: 8\n"
          ],
          "name": "stdout"
        },
        {
          "output_type": "stream",
          "text": [
            "INFO:tensorflow:*** Num TPU Cores Per Worker: 8\n"
          ],
          "name": "stderr"
        },
        {
          "output_type": "stream",
          "text": [
            "INFO:tensorflow:*** Available Device: _DeviceAttributes(/job:localhost/replica:0/task:0/device:CPU:0, CPU, 0, 0)\n"
          ],
          "name": "stdout"
        },
        {
          "output_type": "stream",
          "text": [
            "INFO:tensorflow:*** Available Device: _DeviceAttributes(/job:localhost/replica:0/task:0/device:CPU:0, CPU, 0, 0)\n"
          ],
          "name": "stderr"
        },
        {
          "output_type": "stream",
          "text": [
            "INFO:tensorflow:*** Available Device: _DeviceAttributes(/job:worker/replica:0/task:0/device:CPU:0, CPU, 0, 0)\n"
          ],
          "name": "stdout"
        },
        {
          "output_type": "stream",
          "text": [
            "INFO:tensorflow:*** Available Device: _DeviceAttributes(/job:worker/replica:0/task:0/device:CPU:0, CPU, 0, 0)\n"
          ],
          "name": "stderr"
        },
        {
          "output_type": "stream",
          "text": [
            "INFO:tensorflow:*** Available Device: _DeviceAttributes(/job:worker/replica:0/task:0/device:TPU:0, TPU, 0, 0)\n"
          ],
          "name": "stdout"
        },
        {
          "output_type": "stream",
          "text": [
            "INFO:tensorflow:*** Available Device: _DeviceAttributes(/job:worker/replica:0/task:0/device:TPU:0, TPU, 0, 0)\n"
          ],
          "name": "stderr"
        },
        {
          "output_type": "stream",
          "text": [
            "INFO:tensorflow:*** Available Device: _DeviceAttributes(/job:worker/replica:0/task:0/device:TPU:1, TPU, 0, 0)\n"
          ],
          "name": "stdout"
        },
        {
          "output_type": "stream",
          "text": [
            "INFO:tensorflow:*** Available Device: _DeviceAttributes(/job:worker/replica:0/task:0/device:TPU:1, TPU, 0, 0)\n"
          ],
          "name": "stderr"
        },
        {
          "output_type": "stream",
          "text": [
            "INFO:tensorflow:*** Available Device: _DeviceAttributes(/job:worker/replica:0/task:0/device:TPU:2, TPU, 0, 0)\n"
          ],
          "name": "stdout"
        },
        {
          "output_type": "stream",
          "text": [
            "INFO:tensorflow:*** Available Device: _DeviceAttributes(/job:worker/replica:0/task:0/device:TPU:2, TPU, 0, 0)\n"
          ],
          "name": "stderr"
        },
        {
          "output_type": "stream",
          "text": [
            "INFO:tensorflow:*** Available Device: _DeviceAttributes(/job:worker/replica:0/task:0/device:TPU:3, TPU, 0, 0)\n"
          ],
          "name": "stdout"
        },
        {
          "output_type": "stream",
          "text": [
            "INFO:tensorflow:*** Available Device: _DeviceAttributes(/job:worker/replica:0/task:0/device:TPU:3, TPU, 0, 0)\n"
          ],
          "name": "stderr"
        },
        {
          "output_type": "stream",
          "text": [
            "INFO:tensorflow:*** Available Device: _DeviceAttributes(/job:worker/replica:0/task:0/device:TPU:4, TPU, 0, 0)\n"
          ],
          "name": "stdout"
        },
        {
          "output_type": "stream",
          "text": [
            "INFO:tensorflow:*** Available Device: _DeviceAttributes(/job:worker/replica:0/task:0/device:TPU:4, TPU, 0, 0)\n"
          ],
          "name": "stderr"
        },
        {
          "output_type": "stream",
          "text": [
            "INFO:tensorflow:*** Available Device: _DeviceAttributes(/job:worker/replica:0/task:0/device:TPU:5, TPU, 0, 0)\n"
          ],
          "name": "stdout"
        },
        {
          "output_type": "stream",
          "text": [
            "INFO:tensorflow:*** Available Device: _DeviceAttributes(/job:worker/replica:0/task:0/device:TPU:5, TPU, 0, 0)\n"
          ],
          "name": "stderr"
        },
        {
          "output_type": "stream",
          "text": [
            "INFO:tensorflow:*** Available Device: _DeviceAttributes(/job:worker/replica:0/task:0/device:TPU:6, TPU, 0, 0)\n"
          ],
          "name": "stdout"
        },
        {
          "output_type": "stream",
          "text": [
            "INFO:tensorflow:*** Available Device: _DeviceAttributes(/job:worker/replica:0/task:0/device:TPU:6, TPU, 0, 0)\n"
          ],
          "name": "stderr"
        },
        {
          "output_type": "stream",
          "text": [
            "INFO:tensorflow:*** Available Device: _DeviceAttributes(/job:worker/replica:0/task:0/device:TPU:7, TPU, 0, 0)\n"
          ],
          "name": "stdout"
        },
        {
          "output_type": "stream",
          "text": [
            "INFO:tensorflow:*** Available Device: _DeviceAttributes(/job:worker/replica:0/task:0/device:TPU:7, TPU, 0, 0)\n"
          ],
          "name": "stderr"
        },
        {
          "output_type": "stream",
          "text": [
            "INFO:tensorflow:*** Available Device: _DeviceAttributes(/job:worker/replica:0/task:0/device:TPU_SYSTEM:0, TPU_SYSTEM, 0, 0)\n"
          ],
          "name": "stdout"
        },
        {
          "output_type": "stream",
          "text": [
            "INFO:tensorflow:*** Available Device: _DeviceAttributes(/job:worker/replica:0/task:0/device:TPU_SYSTEM:0, TPU_SYSTEM, 0, 0)\n"
          ],
          "name": "stderr"
        },
        {
          "output_type": "stream",
          "text": [
            "INFO:tensorflow:*** Available Device: _DeviceAttributes(/job:worker/replica:0/task:0/device:XLA_CPU:0, XLA_CPU, 0, 0)\n"
          ],
          "name": "stdout"
        },
        {
          "output_type": "stream",
          "text": [
            "INFO:tensorflow:*** Available Device: _DeviceAttributes(/job:worker/replica:0/task:0/device:XLA_CPU:0, XLA_CPU, 0, 0)\n"
          ],
          "name": "stderr"
        }
      ]
    },
    {
      "cell_type": "code",
      "metadata": {
        "id": "3pCSygnp5J0N"
      },
      "source": [
        "with strategy.scope():\n",
        "  model = ResNet()\n",
        "  model.compile(optimizer='adam',\n",
        "                loss=BinaryCrossentropy(from_logits=True),\n",
        "                metrics=Recall())"
      ],
      "execution_count": 80,
      "outputs": []
    },
    {
      "cell_type": "code",
      "metadata": {
        "id": "WQqv2HayZ39s"
      },
      "source": [
        "steps_per_epoch = 5160 // 120\n",
        "validation_steps = 56 // 8\n",
        "\n",
        "weight_for_normal = 5216 / (2 * 1341 )\n",
        "weight_for_pneumonia = 5216 / (2 * 3875)\n",
        "\n",
        "weights = {0:weight_for_normal, 1:weight_for_pneumonia}"
      ],
      "execution_count": 21,
      "outputs": []
    },
    {
      "cell_type": "code",
      "metadata": {
        "colab": {
          "base_uri": "https://localhost:8080/"
        },
        "id": "9BMtjD3WYOIW",
        "outputId": "3536f611-89b2-4f2a-9907-ba6c63c274d4"
      },
      "source": [
        "from keras.callbacks import EarlyStopping, ModelCheckpoint, ReduceLROnPlateau\n",
        "model_checkpoint = ModelCheckpoint('.mdl_wts.hdf5', save_best_only=True, monitor='val_recall_1', mode='max',verbose=1)\n",
        "history = model.fit(train_ds,\n",
        "          epochs=50,\n",
        "          steps_per_epoch=steps_per_epoch,\n",
        "          validation_data=val_ds, \n",
        "          validation_steps=validation_steps,\n",
        "          callbacks=[model_checkpoint],\n",
        "          class_weight=weights)"
      ],
      "execution_count": 81,
      "outputs": [
        {
          "output_type": "stream",
          "text": [
            "Epoch 1/50\n",
            "43/43 [==============================] - 67s 200ms/step - loss: 139.8227 - recall_2: 0.5068 - val_loss: 123.9933 - val_recall_2: 1.0000\n",
            "WARNING:tensorflow:Can save best model only with val_recall_1 available, skipping.\n"
          ],
          "name": "stdout"
        },
        {
          "output_type": "stream",
          "text": [
            "WARNING:tensorflow:Can save best model only with val_recall_1 available, skipping.\n"
          ],
          "name": "stderr"
        },
        {
          "output_type": "stream",
          "text": [
            "Epoch 2/50\n",
            "43/43 [==============================] - 3s 61ms/step - loss: 119.5693 - recall_2: 0.6867 - val_loss: 106.0616 - val_recall_2: 0.5893\n",
            "WARNING:tensorflow:Can save best model only with val_recall_1 available, skipping.\n"
          ],
          "name": "stdout"
        },
        {
          "output_type": "stream",
          "text": [
            "WARNING:tensorflow:Can save best model only with val_recall_1 available, skipping.\n"
          ],
          "name": "stderr"
        },
        {
          "output_type": "stream",
          "text": [
            "Epoch 3/50\n",
            "43/43 [==============================] - 3s 61ms/step - loss: 101.4826 - recall_2: 0.7903 - val_loss: 89.9603 - val_recall_2: 0.5893\n",
            "WARNING:tensorflow:Can save best model only with val_recall_1 available, skipping.\n"
          ],
          "name": "stdout"
        },
        {
          "output_type": "stream",
          "text": [
            "WARNING:tensorflow:Can save best model only with val_recall_1 available, skipping.\n"
          ],
          "name": "stderr"
        },
        {
          "output_type": "stream",
          "text": [
            "Epoch 4/50\n",
            "43/43 [==============================] - 3s 62ms/step - loss: 85.7224 - recall_2: 0.8585 - val_loss: 76.4827 - val_recall_2: 0.5893\n",
            "WARNING:tensorflow:Can save best model only with val_recall_1 available, skipping.\n"
          ],
          "name": "stdout"
        },
        {
          "output_type": "stream",
          "text": [
            "WARNING:tensorflow:Can save best model only with val_recall_1 available, skipping.\n"
          ],
          "name": "stderr"
        },
        {
          "output_type": "stream",
          "text": [
            "Epoch 5/50\n",
            "43/43 [==============================] - 3s 62ms/step - loss: 72.8285 - recall_2: 0.8847 - val_loss: 65.5631 - val_recall_2: 0.5893\n",
            "WARNING:tensorflow:Can save best model only with val_recall_1 available, skipping.\n"
          ],
          "name": "stdout"
        },
        {
          "output_type": "stream",
          "text": [
            "WARNING:tensorflow:Can save best model only with val_recall_1 available, skipping.\n"
          ],
          "name": "stderr"
        },
        {
          "output_type": "stream",
          "text": [
            "Epoch 6/50\n",
            "43/43 [==============================] - 3s 61ms/step - loss: 62.5159 - recall_2: 0.8967 - val_loss: 57.0650 - val_recall_2: 0.5893\n",
            "WARNING:tensorflow:Can save best model only with val_recall_1 available, skipping.\n"
          ],
          "name": "stdout"
        },
        {
          "output_type": "stream",
          "text": [
            "WARNING:tensorflow:Can save best model only with val_recall_1 available, skipping.\n"
          ],
          "name": "stderr"
        },
        {
          "output_type": "stream",
          "text": [
            "Epoch 7/50\n",
            "43/43 [==============================] - 3s 61ms/step - loss: 54.2054 - recall_2: 0.8986 - val_loss: 50.0479 - val_recall_2: 0.5893\n",
            "WARNING:tensorflow:Can save best model only with val_recall_1 available, skipping.\n"
          ],
          "name": "stdout"
        },
        {
          "output_type": "stream",
          "text": [
            "WARNING:tensorflow:Can save best model only with val_recall_1 available, skipping.\n"
          ],
          "name": "stderr"
        },
        {
          "output_type": "stream",
          "text": [
            "Epoch 8/50\n",
            "43/43 [==============================] - 3s 62ms/step - loss: 47.5327 - recall_2: 0.9093 - val_loss: 44.4911 - val_recall_2: 0.5893\n",
            "WARNING:tensorflow:Can save best model only with val_recall_1 available, skipping.\n"
          ],
          "name": "stdout"
        },
        {
          "output_type": "stream",
          "text": [
            "WARNING:tensorflow:Can save best model only with val_recall_1 available, skipping.\n"
          ],
          "name": "stderr"
        },
        {
          "output_type": "stream",
          "text": [
            "Epoch 9/50\n",
            "43/43 [==============================] - 3s 62ms/step - loss: 42.0307 - recall_2: 0.9220 - val_loss: 39.7803 - val_recall_2: 0.5893\n",
            "WARNING:tensorflow:Can save best model only with val_recall_1 available, skipping.\n"
          ],
          "name": "stdout"
        },
        {
          "output_type": "stream",
          "text": [
            "WARNING:tensorflow:Can save best model only with val_recall_1 available, skipping.\n"
          ],
          "name": "stderr"
        },
        {
          "output_type": "stream",
          "text": [
            "Epoch 10/50\n",
            "43/43 [==============================] - 3s 62ms/step - loss: 37.4584 - recall_2: 0.9341 - val_loss: 35.9949 - val_recall_2: 0.5893\n",
            "WARNING:tensorflow:Can save best model only with val_recall_1 available, skipping.\n"
          ],
          "name": "stdout"
        },
        {
          "output_type": "stream",
          "text": [
            "WARNING:tensorflow:Can save best model only with val_recall_1 available, skipping.\n"
          ],
          "name": "stderr"
        },
        {
          "output_type": "stream",
          "text": [
            "Epoch 11/50\n",
            "43/43 [==============================] - 3s 62ms/step - loss: 33.6177 - recall_2: 0.9348 - val_loss: 32.5873 - val_recall_2: 0.5893\n",
            "WARNING:tensorflow:Can save best model only with val_recall_1 available, skipping.\n"
          ],
          "name": "stdout"
        },
        {
          "output_type": "stream",
          "text": [
            "WARNING:tensorflow:Can save best model only with val_recall_1 available, skipping.\n"
          ],
          "name": "stderr"
        },
        {
          "output_type": "stream",
          "text": [
            "Epoch 12/50\n",
            "43/43 [==============================] - 3s 61ms/step - loss: 30.3269 - recall_2: 0.9378 - val_loss: 29.6223 - val_recall_2: 0.5893\n",
            "WARNING:tensorflow:Can save best model only with val_recall_1 available, skipping.\n"
          ],
          "name": "stdout"
        },
        {
          "output_type": "stream",
          "text": [
            "WARNING:tensorflow:Can save best model only with val_recall_1 available, skipping.\n"
          ],
          "name": "stderr"
        },
        {
          "output_type": "stream",
          "text": [
            "Epoch 13/50\n",
            "43/43 [==============================] - 3s 63ms/step - loss: 27.4873 - recall_2: 0.9447 - val_loss: 27.1564 - val_recall_2: 0.5893\n",
            "WARNING:tensorflow:Can save best model only with val_recall_1 available, skipping.\n"
          ],
          "name": "stdout"
        },
        {
          "output_type": "stream",
          "text": [
            "WARNING:tensorflow:Can save best model only with val_recall_1 available, skipping.\n"
          ],
          "name": "stderr"
        },
        {
          "output_type": "stream",
          "text": [
            "Epoch 14/50\n",
            "43/43 [==============================] - 3s 62ms/step - loss: 25.0219 - recall_2: 0.9504 - val_loss: 25.0108 - val_recall_2: 0.5893\n",
            "WARNING:tensorflow:Can save best model only with val_recall_1 available, skipping.\n"
          ],
          "name": "stdout"
        },
        {
          "output_type": "stream",
          "text": [
            "WARNING:tensorflow:Can save best model only with val_recall_1 available, skipping.\n"
          ],
          "name": "stderr"
        },
        {
          "output_type": "stream",
          "text": [
            "Epoch 15/50\n",
            "43/43 [==============================] - 3s 62ms/step - loss: 22.8977 - recall_2: 0.9487 - val_loss: 23.1776 - val_recall_2: 0.5893\n",
            "WARNING:tensorflow:Can save best model only with val_recall_1 available, skipping.\n"
          ],
          "name": "stdout"
        },
        {
          "output_type": "stream",
          "text": [
            "WARNING:tensorflow:Can save best model only with val_recall_1 available, skipping.\n"
          ],
          "name": "stderr"
        },
        {
          "output_type": "stream",
          "text": [
            "Epoch 16/50\n",
            "43/43 [==============================] - 3s 61ms/step - loss: 20.9234 - recall_2: 0.9621 - val_loss: 21.0630 - val_recall_2: 0.5893\n",
            "WARNING:tensorflow:Can save best model only with val_recall_1 available, skipping.\n"
          ],
          "name": "stdout"
        },
        {
          "output_type": "stream",
          "text": [
            "WARNING:tensorflow:Can save best model only with val_recall_1 available, skipping.\n"
          ],
          "name": "stderr"
        },
        {
          "output_type": "stream",
          "text": [
            "Epoch 17/50\n",
            "43/43 [==============================] - 3s 63ms/step - loss: 19.2405 - recall_2: 0.9542 - val_loss: 19.1862 - val_recall_2: 0.5893\n",
            "WARNING:tensorflow:Can save best model only with val_recall_1 available, skipping.\n"
          ],
          "name": "stdout"
        },
        {
          "output_type": "stream",
          "text": [
            "WARNING:tensorflow:Can save best model only with val_recall_1 available, skipping.\n"
          ],
          "name": "stderr"
        },
        {
          "output_type": "stream",
          "text": [
            "Epoch 18/50\n",
            "43/43 [==============================] - 3s 63ms/step - loss: 17.7610 - recall_2: 0.9586 - val_loss: 17.8656 - val_recall_2: 0.5893\n",
            "WARNING:tensorflow:Can save best model only with val_recall_1 available, skipping.\n"
          ],
          "name": "stdout"
        },
        {
          "output_type": "stream",
          "text": [
            "WARNING:tensorflow:Can save best model only with val_recall_1 available, skipping.\n"
          ],
          "name": "stderr"
        },
        {
          "output_type": "stream",
          "text": [
            "Epoch 19/50\n",
            "43/43 [==============================] - 3s 63ms/step - loss: 16.3326 - recall_2: 0.9608 - val_loss: 17.1535 - val_recall_2: 0.5893\n",
            "WARNING:tensorflow:Can save best model only with val_recall_1 available, skipping.\n"
          ],
          "name": "stdout"
        },
        {
          "output_type": "stream",
          "text": [
            "WARNING:tensorflow:Can save best model only with val_recall_1 available, skipping.\n"
          ],
          "name": "stderr"
        },
        {
          "output_type": "stream",
          "text": [
            "Epoch 20/50\n",
            "43/43 [==============================] - 3s 62ms/step - loss: 15.0672 - recall_2: 0.9649 - val_loss: 15.1501 - val_recall_2: 0.5893\n",
            "WARNING:tensorflow:Can save best model only with val_recall_1 available, skipping.\n"
          ],
          "name": "stdout"
        },
        {
          "output_type": "stream",
          "text": [
            "WARNING:tensorflow:Can save best model only with val_recall_1 available, skipping.\n"
          ],
          "name": "stderr"
        },
        {
          "output_type": "stream",
          "text": [
            "Epoch 21/50\n",
            "43/43 [==============================] - 3s 62ms/step - loss: 13.9381 - recall_2: 0.9583 - val_loss: 14.2750 - val_recall_2: 0.5893\n",
            "WARNING:tensorflow:Can save best model only with val_recall_1 available, skipping.\n"
          ],
          "name": "stdout"
        },
        {
          "output_type": "stream",
          "text": [
            "WARNING:tensorflow:Can save best model only with val_recall_1 available, skipping.\n"
          ],
          "name": "stderr"
        },
        {
          "output_type": "stream",
          "text": [
            "Epoch 22/50\n",
            "43/43 [==============================] - 3s 60ms/step - loss: 12.9507 - recall_2: 0.9584 - val_loss: 13.4198 - val_recall_2: 0.5893\n",
            "WARNING:tensorflow:Can save best model only with val_recall_1 available, skipping.\n"
          ],
          "name": "stdout"
        },
        {
          "output_type": "stream",
          "text": [
            "WARNING:tensorflow:Can save best model only with val_recall_1 available, skipping.\n"
          ],
          "name": "stderr"
        },
        {
          "output_type": "stream",
          "text": [
            "Epoch 23/50\n",
            "43/43 [==============================] - 3s 61ms/step - loss: 12.0147 - recall_2: 0.9695 - val_loss: 12.6537 - val_recall_2: 0.5893\n",
            "WARNING:tensorflow:Can save best model only with val_recall_1 available, skipping.\n"
          ],
          "name": "stdout"
        },
        {
          "output_type": "stream",
          "text": [
            "WARNING:tensorflow:Can save best model only with val_recall_1 available, skipping.\n"
          ],
          "name": "stderr"
        },
        {
          "output_type": "stream",
          "text": [
            "Epoch 24/50\n",
            "43/43 [==============================] - 3s 60ms/step - loss: 11.0833 - recall_2: 0.9759 - val_loss: 12.9164 - val_recall_2: 0.5893\n",
            "WARNING:tensorflow:Can save best model only with val_recall_1 available, skipping.\n"
          ],
          "name": "stdout"
        },
        {
          "output_type": "stream",
          "text": [
            "WARNING:tensorflow:Can save best model only with val_recall_1 available, skipping.\n"
          ],
          "name": "stderr"
        },
        {
          "output_type": "stream",
          "text": [
            "Epoch 25/50\n",
            "43/43 [==============================] - 3s 61ms/step - loss: 10.3458 - recall_2: 0.9557 - val_loss: 15.2328 - val_recall_2: 0.5893\n",
            "WARNING:tensorflow:Can save best model only with val_recall_1 available, skipping.\n"
          ],
          "name": "stdout"
        },
        {
          "output_type": "stream",
          "text": [
            "WARNING:tensorflow:Can save best model only with val_recall_1 available, skipping.\n"
          ],
          "name": "stderr"
        },
        {
          "output_type": "stream",
          "text": [
            "Epoch 26/50\n",
            "43/43 [==============================] - 3s 60ms/step - loss: 9.6093 - recall_2: 0.9680 - val_loss: 10.4930 - val_recall_2: 0.5893\n",
            "WARNING:tensorflow:Can save best model only with val_recall_1 available, skipping.\n"
          ],
          "name": "stdout"
        },
        {
          "output_type": "stream",
          "text": [
            "WARNING:tensorflow:Can save best model only with val_recall_1 available, skipping.\n"
          ],
          "name": "stderr"
        },
        {
          "output_type": "stream",
          "text": [
            "Epoch 27/50\n",
            "43/43 [==============================] - 3s 60ms/step - loss: 8.9275 - recall_2: 0.9619 - val_loss: 9.3027 - val_recall_2: 0.5893\n",
            "WARNING:tensorflow:Can save best model only with val_recall_1 available, skipping.\n"
          ],
          "name": "stdout"
        },
        {
          "output_type": "stream",
          "text": [
            "WARNING:tensorflow:Can save best model only with val_recall_1 available, skipping.\n"
          ],
          "name": "stderr"
        },
        {
          "output_type": "stream",
          "text": [
            "Epoch 28/50\n",
            "43/43 [==============================] - 3s 62ms/step - loss: 8.3373 - recall_2: 0.9677 - val_loss: 8.8173 - val_recall_2: 0.5893\n",
            "WARNING:tensorflow:Can save best model only with val_recall_1 available, skipping.\n"
          ],
          "name": "stdout"
        },
        {
          "output_type": "stream",
          "text": [
            "WARNING:tensorflow:Can save best model only with val_recall_1 available, skipping.\n"
          ],
          "name": "stderr"
        },
        {
          "output_type": "stream",
          "text": [
            "Epoch 29/50\n",
            "43/43 [==============================] - 3s 61ms/step - loss: 7.8607 - recall_2: 0.9462 - val_loss: 8.3328 - val_recall_2: 0.5893\n",
            "WARNING:tensorflow:Can save best model only with val_recall_1 available, skipping.\n"
          ],
          "name": "stdout"
        },
        {
          "output_type": "stream",
          "text": [
            "WARNING:tensorflow:Can save best model only with val_recall_1 available, skipping.\n"
          ],
          "name": "stderr"
        },
        {
          "output_type": "stream",
          "text": [
            "Epoch 30/50\n",
            "43/43 [==============================] - 3s 61ms/step - loss: 7.2628 - recall_2: 0.9670 - val_loss: 7.7309 - val_recall_2: 0.5893\n",
            "WARNING:tensorflow:Can save best model only with val_recall_1 available, skipping.\n"
          ],
          "name": "stdout"
        },
        {
          "output_type": "stream",
          "text": [
            "WARNING:tensorflow:Can save best model only with val_recall_1 available, skipping.\n"
          ],
          "name": "stderr"
        },
        {
          "output_type": "stream",
          "text": [
            "Epoch 31/50\n",
            "43/43 [==============================] - 3s 60ms/step - loss: 6.7244 - recall_2: 0.9723 - val_loss: 8.3317 - val_recall_2: 0.5893\n",
            "WARNING:tensorflow:Can save best model only with val_recall_1 available, skipping.\n"
          ],
          "name": "stdout"
        },
        {
          "output_type": "stream",
          "text": [
            "WARNING:tensorflow:Can save best model only with val_recall_1 available, skipping.\n"
          ],
          "name": "stderr"
        },
        {
          "output_type": "stream",
          "text": [
            "Epoch 32/50\n",
            "43/43 [==============================] - 3s 61ms/step - loss: 6.2549 - recall_2: 0.9732 - val_loss: 6.8739 - val_recall_2: 0.6964\n",
            "WARNING:tensorflow:Can save best model only with val_recall_1 available, skipping.\n"
          ],
          "name": "stdout"
        },
        {
          "output_type": "stream",
          "text": [
            "WARNING:tensorflow:Can save best model only with val_recall_1 available, skipping.\n"
          ],
          "name": "stderr"
        },
        {
          "output_type": "stream",
          "text": [
            "Epoch 33/50\n",
            "43/43 [==============================] - 3s 61ms/step - loss: 6.2600 - recall_2: 0.9399 - val_loss: 6.8202 - val_recall_2: 0.6964\n",
            "WARNING:tensorflow:Can save best model only with val_recall_1 available, skipping.\n"
          ],
          "name": "stdout"
        },
        {
          "output_type": "stream",
          "text": [
            "WARNING:tensorflow:Can save best model only with val_recall_1 available, skipping.\n"
          ],
          "name": "stderr"
        },
        {
          "output_type": "stream",
          "text": [
            "Epoch 34/50\n",
            "43/43 [==============================] - 3s 63ms/step - loss: 5.6394 - recall_2: 0.9668 - val_loss: 6.1796 - val_recall_2: 0.5893\n",
            "WARNING:tensorflow:Can save best model only with val_recall_1 available, skipping.\n"
          ],
          "name": "stdout"
        },
        {
          "output_type": "stream",
          "text": [
            "WARNING:tensorflow:Can save best model only with val_recall_1 available, skipping.\n"
          ],
          "name": "stderr"
        },
        {
          "output_type": "stream",
          "text": [
            "Epoch 35/50\n",
            "43/43 [==============================] - 3s 62ms/step - loss: 5.2211 - recall_2: 0.9692 - val_loss: 5.8097 - val_recall_2: 0.5893\n",
            "WARNING:tensorflow:Can save best model only with val_recall_1 available, skipping.\n"
          ],
          "name": "stdout"
        },
        {
          "output_type": "stream",
          "text": [
            "WARNING:tensorflow:Can save best model only with val_recall_1 available, skipping.\n"
          ],
          "name": "stderr"
        },
        {
          "output_type": "stream",
          "text": [
            "Epoch 36/50\n",
            "43/43 [==============================] - 3s 61ms/step - loss: 4.8126 - recall_2: 0.9691 - val_loss: 6.1440 - val_recall_2: 0.5893\n",
            "WARNING:tensorflow:Can save best model only with val_recall_1 available, skipping.\n"
          ],
          "name": "stdout"
        },
        {
          "output_type": "stream",
          "text": [
            "WARNING:tensorflow:Can save best model only with val_recall_1 available, skipping.\n"
          ],
          "name": "stderr"
        },
        {
          "output_type": "stream",
          "text": [
            "Epoch 37/50\n",
            "43/43 [==============================] - 3s 62ms/step - loss: 4.4887 - recall_2: 0.9673 - val_loss: 5.4802 - val_recall_2: 0.5893\n",
            "WARNING:tensorflow:Can save best model only with val_recall_1 available, skipping.\n"
          ],
          "name": "stdout"
        },
        {
          "output_type": "stream",
          "text": [
            "WARNING:tensorflow:Can save best model only with val_recall_1 available, skipping.\n"
          ],
          "name": "stderr"
        },
        {
          "output_type": "stream",
          "text": [
            "Epoch 38/50\n",
            "43/43 [==============================] - 3s 61ms/step - loss: 4.2041 - recall_2: 0.9779 - val_loss: 4.8821 - val_recall_2: 0.5893\n",
            "WARNING:tensorflow:Can save best model only with val_recall_1 available, skipping.\n"
          ],
          "name": "stdout"
        },
        {
          "output_type": "stream",
          "text": [
            "WARNING:tensorflow:Can save best model only with val_recall_1 available, skipping.\n"
          ],
          "name": "stderr"
        },
        {
          "output_type": "stream",
          "text": [
            "Epoch 39/50\n",
            "43/43 [==============================] - 3s 62ms/step - loss: 4.0570 - recall_2: 0.9493 - val_loss: 2359784.0000 - val_recall_2: 0.4107\n",
            "WARNING:tensorflow:Can save best model only with val_recall_1 available, skipping.\n"
          ],
          "name": "stdout"
        },
        {
          "output_type": "stream",
          "text": [
            "WARNING:tensorflow:Can save best model only with val_recall_1 available, skipping.\n"
          ],
          "name": "stderr"
        },
        {
          "output_type": "stream",
          "text": [
            "Epoch 40/50\n",
            "43/43 [==============================] - 3s 61ms/step - loss: 4.6028 - recall_2: 0.9238 - val_loss: 18.2897 - val_recall_2: 0.5000\n",
            "WARNING:tensorflow:Can save best model only with val_recall_1 available, skipping.\n"
          ],
          "name": "stdout"
        },
        {
          "output_type": "stream",
          "text": [
            "WARNING:tensorflow:Can save best model only with val_recall_1 available, skipping.\n"
          ],
          "name": "stderr"
        },
        {
          "output_type": "stream",
          "text": [
            "Epoch 41/50\n",
            "43/43 [==============================] - 3s 62ms/step - loss: 3.8579 - recall_2: 0.9573 - val_loss: 4.2032 - val_recall_2: 0.6429\n",
            "WARNING:tensorflow:Can save best model only with val_recall_1 available, skipping.\n"
          ],
          "name": "stdout"
        },
        {
          "output_type": "stream",
          "text": [
            "WARNING:tensorflow:Can save best model only with val_recall_1 available, skipping.\n"
          ],
          "name": "stderr"
        },
        {
          "output_type": "stream",
          "text": [
            "Epoch 42/50\n",
            "43/43 [==============================] - 3s 62ms/step - loss: 3.5464 - recall_2: 0.9648 - val_loss: 4.6720 - val_recall_2: 0.5893\n",
            "WARNING:tensorflow:Can save best model only with val_recall_1 available, skipping.\n"
          ],
          "name": "stdout"
        },
        {
          "output_type": "stream",
          "text": [
            "WARNING:tensorflow:Can save best model only with val_recall_1 available, skipping.\n"
          ],
          "name": "stderr"
        },
        {
          "output_type": "stream",
          "text": [
            "Epoch 43/50\n",
            "43/43 [==============================] - 3s 60ms/step - loss: 3.2300 - recall_2: 0.9618 - val_loss: 4.1561 - val_recall_2: 0.5893\n",
            "WARNING:tensorflow:Can save best model only with val_recall_1 available, skipping.\n"
          ],
          "name": "stdout"
        },
        {
          "output_type": "stream",
          "text": [
            "WARNING:tensorflow:Can save best model only with val_recall_1 available, skipping.\n"
          ],
          "name": "stderr"
        },
        {
          "output_type": "stream",
          "text": [
            "Epoch 44/50\n",
            "43/43 [==============================] - 3s 60ms/step - loss: 2.9945 - recall_2: 0.9590 - val_loss: 4.3263 - val_recall_2: 0.5893\n",
            "WARNING:tensorflow:Can save best model only with val_recall_1 available, skipping.\n"
          ],
          "name": "stdout"
        },
        {
          "output_type": "stream",
          "text": [
            "WARNING:tensorflow:Can save best model only with val_recall_1 available, skipping.\n"
          ],
          "name": "stderr"
        },
        {
          "output_type": "stream",
          "text": [
            "Epoch 45/50\n",
            "43/43 [==============================] - 3s 63ms/step - loss: 2.8417 - recall_2: 0.9617 - val_loss: 5.1508 - val_recall_2: 0.5893\n",
            "WARNING:tensorflow:Can save best model only with val_recall_1 available, skipping.\n"
          ],
          "name": "stdout"
        },
        {
          "output_type": "stream",
          "text": [
            "WARNING:tensorflow:Can save best model only with val_recall_1 available, skipping.\n"
          ],
          "name": "stderr"
        },
        {
          "output_type": "stream",
          "text": [
            "Epoch 46/50\n",
            "43/43 [==============================] - 3s 65ms/step - loss: 2.6244 - recall_2: 0.9792 - val_loss: 4.2841 - val_recall_2: 0.5893\n",
            "WARNING:tensorflow:Can save best model only with val_recall_1 available, skipping.\n"
          ],
          "name": "stdout"
        },
        {
          "output_type": "stream",
          "text": [
            "WARNING:tensorflow:Can save best model only with val_recall_1 available, skipping.\n"
          ],
          "name": "stderr"
        },
        {
          "output_type": "stream",
          "text": [
            "Epoch 47/50\n",
            "43/43 [==============================] - 3s 64ms/step - loss: 2.5202 - recall_2: 0.9757 - val_loss: 4.5424 - val_recall_2: 0.5893\n",
            "WARNING:tensorflow:Can save best model only with val_recall_1 available, skipping.\n"
          ],
          "name": "stdout"
        },
        {
          "output_type": "stream",
          "text": [
            "WARNING:tensorflow:Can save best model only with val_recall_1 available, skipping.\n"
          ],
          "name": "stderr"
        },
        {
          "output_type": "stream",
          "text": [
            "Epoch 48/50\n",
            "43/43 [==============================] - 3s 66ms/step - loss: 2.4052 - recall_2: 0.9717 - val_loss: 3.5701 - val_recall_2: 0.5893\n",
            "WARNING:tensorflow:Can save best model only with val_recall_1 available, skipping.\n"
          ],
          "name": "stdout"
        },
        {
          "output_type": "stream",
          "text": [
            "WARNING:tensorflow:Can save best model only with val_recall_1 available, skipping.\n"
          ],
          "name": "stderr"
        },
        {
          "output_type": "stream",
          "text": [
            "Epoch 49/50\n",
            "43/43 [==============================] - 3s 64ms/step - loss: 2.2896 - recall_2: 0.9689 - val_loss: 4.7801 - val_recall_2: 0.3750\n",
            "WARNING:tensorflow:Can save best model only with val_recall_1 available, skipping.\n"
          ],
          "name": "stdout"
        },
        {
          "output_type": "stream",
          "text": [
            "WARNING:tensorflow:Can save best model only with val_recall_1 available, skipping.\n"
          ],
          "name": "stderr"
        },
        {
          "output_type": "stream",
          "text": [
            "Epoch 50/50\n",
            "43/43 [==============================] - 3s 63ms/step - loss: 2.8335 - recall_2: 0.9593 - val_loss: 3.4411 - val_recall_2: 0.5893\n",
            "WARNING:tensorflow:Can save best model only with val_recall_1 available, skipping.\n"
          ],
          "name": "stdout"
        },
        {
          "output_type": "stream",
          "text": [
            "WARNING:tensorflow:Can save best model only with val_recall_1 available, skipping.\n"
          ],
          "name": "stderr"
        }
      ]
    },
    {
      "cell_type": "code",
      "metadata": {
        "id": "JLoATuertnkj"
      },
      "source": [
        "#model.load_weights('.mdl_wts.hdf5')\n",
        "model.load_weights('/content/gdrive/MyDrive/Resnet_models/model_Resnet_4_weights_recall_988.h5')"
      ],
      "execution_count": 54,
      "outputs": []
    },
    {
      "cell_type": "code",
      "metadata": {
        "id": "QX_ip--dT0Qy"
      },
      "source": [
        "model.save_weights('/content/gdrive/MyDrive/Resnet_models/model_Resnet_weights_recall_988.h5', overwrite=True)"
      ],
      "execution_count": null,
      "outputs": []
    },
    {
      "cell_type": "code",
      "metadata": {
        "colab": {
          "base_uri": "https://localhost:8080/"
        },
        "id": "dUAbFnsHczvQ",
        "outputId": "1ef2d4d9-e593-4bcf-d9c2-030d12fddc68"
      },
      "source": [
        "preds = model.evaluate(test_ds,steps=39)\n",
        "print (\"Loss = \" + str(preds[0]))\n",
        "print (\"Test Recall = \" + str(preds[1]))"
      ],
      "execution_count": 83,
      "outputs": [
        {
          "output_type": "stream",
          "text": [
            "39/39 [==============================] - 10s 22ms/step - loss: 4.2201 - recall_2: 0.6250\n",
            "Loss = 4.220149517059326\n",
            "Test Recall = 0.625\n"
          ],
          "name": "stdout"
        }
      ]
    },
    {
      "cell_type": "code",
      "metadata": {
        "id": "JD5tL0cz8Azw",
        "colab": {
          "base_uri": "https://localhost:8080/"
        },
        "outputId": "f821bc32-b0a2-4b9a-c7e3-02e429c949b5"
      },
      "source": [
        "from sklearn.metrics import classification_report\n",
        "predictions = model.predict(x_test,steps = 1)\n",
        "#predictions = predictions.reshape(1,-1)[0]\n",
        "predictions = np.argmax(predictions, axis=1)\n",
        "#y_test = np.argmax(y_test, axis=1)\n",
        "#report = classification_report(, predicted)\n",
        "\n",
        "print(classification_report(np.argmax(y_test, axis=1), list(predictions), target_names = ['NORMAL (Class 0)','PNEUMONIA (Class 1)']))"
      ],
      "execution_count": 82,
      "outputs": [
        {
          "output_type": "stream",
          "text": [
            "                     precision    recall  f1-score   support\n",
            "\n",
            "   NORMAL (Class 0)       0.00      0.00      0.00       234\n",
            "PNEUMONIA (Class 1)       0.62      1.00      0.77       390\n",
            "\n",
            "           accuracy                           0.62       624\n",
            "          macro avg       0.31      0.50      0.38       624\n",
            "       weighted avg       0.39      0.62      0.48       624\n",
            "\n"
          ],
          "name": "stdout"
        },
        {
          "output_type": "stream",
          "text": [
            "/usr/local/lib/python3.7/dist-packages/sklearn/metrics/_classification.py:1272: UndefinedMetricWarning: Precision and F-score are ill-defined and being set to 0.0 in labels with no predicted samples. Use `zero_division` parameter to control this behavior.\n",
            "  _warn_prf(average, modifier, msg_start, len(result))\n"
          ],
          "name": "stderr"
        }
      ]
    },
    {
      "cell_type": "code",
      "metadata": {
        "colab": {
          "base_uri": "https://localhost:8080/"
        },
        "id": "yXXTVAaDwAAV",
        "outputId": "1d4923b4-b08f-42f3-906d-807755afeafd"
      },
      "source": [
        "from sklearn.metrics import confusion_matrix\n",
        "confusion_matrix(np.argmax(y_test, axis=1),predictions)"
      ],
      "execution_count": 84,
      "outputs": [
        {
          "output_type": "execute_result",
          "data": {
            "text/plain": [
              "array([[  0, 234],\n",
              "       [  0, 390]])"
            ]
          },
          "metadata": {
            "tags": []
          },
          "execution_count": 84
        }
      ]
    },
    {
      "cell_type": "code",
      "metadata": {
        "colab": {
          "base_uri": "https://localhost:8080/"
        },
        "id": "3QATk3YZ2JtA",
        "outputId": "0b6d96f0-2756-493e-c8f7-d4274e295a6f"
      },
      "source": [
        "255/(255+135)"
      ],
      "execution_count": 79,
      "outputs": [
        {
          "output_type": "execute_result",
          "data": {
            "text/plain": [
              "0.6538461538461539"
            ]
          },
          "metadata": {
            "tags": []
          },
          "execution_count": 79
        }
      ]
    },
    {
      "cell_type": "markdown",
      "metadata": {
        "id": "jFVu0YKF13o6"
      },
      "source": [
        ""
      ]
    },
    {
      "cell_type": "code",
      "metadata": {
        "colab": {
          "base_uri": "https://localhost:8080/",
          "height": 499
        },
        "id": "VAYyoZdiIEuR",
        "outputId": "afb1ad2d-29f2-4271-e465-4c181a35cb0d"
      },
      "source": [
        "epochs = 70\n",
        "acc = history.history['recall']\n",
        "val_acc = history.history['val_recall']\n",
        "\n",
        "loss = history.history['loss']\n",
        "val_loss = history.history['val_loss']\n",
        "\n",
        "epochs_range = range(epochs)\n",
        "\n",
        "plt.figure(figsize=(8, 8))\n",
        "plt.subplot(1, 2, 1)\n",
        "plt.plot(epochs_range, acc, label='Training Recall')\n",
        "plt.plot(epochs_range, val_acc, label='Validation Recall')\n",
        "plt.legend(loc='lower right')\n",
        "plt.title('Training and Validation Recall')\n",
        "\n",
        "plt.subplot(1, 2, 2)\n",
        "plt.plot(epochs_range, loss, label='Training Loss')\n",
        "plt.plot(epochs_range, val_loss, label='Validation Loss')\n",
        "plt.legend(loc='upper right')\n",
        "plt.title('Training and Validation Loss')\n",
        "plt.show()"
      ],
      "execution_count": 34,
      "outputs": [
        {
          "output_type": "display_data",
          "data": {
            "image/png": "[encoded data removed]",
            "text/plain": [
              "<Figure size 576x576 with 2 Axes>"
            ]
          },
          "metadata": {
            "tags": [],
            "needs_background": "light"
          }
        }
      ]
    },
    {
      "cell_type": "code",
      "metadata": {
        "colab": {
          "base_uri": "https://localhost:8080/"
        },
        "id": "aa3UorxksLww",
        "outputId": "c0b0f47a-19e5-4a30-f828-9e824f4e873a"
      },
      "source": [
        "model.summary()"
      ],
      "execution_count": 23,
      "outputs": [
        {
          "output_type": "stream",
          "text": [
            "Model: \"ResNet50_2\"\n",
            "__________________________________________________________________________________________________\n",
            "Layer (type)                    Output Shape         Param #     Connected to                     \n",
            "==================================================================================================\n",
            "input_1 (InputLayer)            [(None, 64, 64, 1)]  0                                            \n",
            "__________________________________________________________________________________________________\n",
            "zero_padding2d (ZeroPadding2D)  (None, 66, 66, 1)    0           input_1[0][0]                    \n",
            "__________________________________________________________________________________________________\n",
            "conv1 (Conv2D)                  (None, 32, 32, 64)   640         zero_padding2d[0][0]             \n",
            "__________________________________________________________________________________________________\n",
            "bn_conv1 (BatchNormalization)   (None, 32, 32, 64)   256         conv1[0][0]                      \n",
            "__________________________________________________________________________________________________\n",
            "activation (Activation)         (None, 32, 32, 64)   0           bn_conv1[0][0]                   \n",
            "__________________________________________________________________________________________________\n",
            "max_pooling2d (MaxPooling2D)    (None, 15, 15, 64)   0           activation[0][0]                 \n",
            "__________________________________________________________________________________________________\n",
            "res2a_branch2a (Conv2D)         (None, 15, 15, 64)   4160        max_pooling2d[0][0]              \n",
            "__________________________________________________________________________________________________\n",
            "bn2a_branch2a (BatchNormalizati (None, 15, 15, 64)   256         res2a_branch2a[0][0]             \n",
            "__________________________________________________________________________________________________\n",
            "activation_1 (Activation)       (None, 15, 15, 64)   0           bn2a_branch2a[0][0]              \n",
            "__________________________________________________________________________________________________\n",
            "res2a_branch2b (Conv2D)         (None, 15, 15, 64)   36928       activation_1[0][0]               \n",
            "__________________________________________________________________________________________________\n",
            "bn2a_branch2b (BatchNormalizati (None, 15, 15, 64)   256         res2a_branch2b[0][0]             \n",
            "__________________________________________________________________________________________________\n",
            "activation_2 (Activation)       (None, 15, 15, 64)   0           bn2a_branch2b[0][0]              \n",
            "__________________________________________________________________________________________________\n",
            "res2a_branch2c (Conv2D)         (None, 15, 15, 128)  8320        activation_2[0][0]               \n",
            "__________________________________________________________________________________________________\n",
            "res2a_branch1 (Conv2D)          (None, 15, 15, 128)  8320        max_pooling2d[0][0]              \n",
            "__________________________________________________________________________________________________\n",
            "bn2a_branch2c (BatchNormalizati (None, 15, 15, 128)  512         res2a_branch2c[0][0]             \n",
            "__________________________________________________________________________________________________\n",
            "bn2a_branch1 (BatchNormalizatio (None, 15, 15, 128)  512         res2a_branch1[0][0]              \n",
            "__________________________________________________________________________________________________\n",
            "add (Add)                       (None, 15, 15, 128)  0           bn2a_branch2c[0][0]              \n",
            "                                                                 bn2a_branch1[0][0]               \n",
            "__________________________________________________________________________________________________\n",
            "activation_3 (Activation)       (None, 15, 15, 128)  0           add[0][0]                        \n",
            "__________________________________________________________________________________________________\n",
            "res2b_branch2a (Conv2D)         (None, 15, 15, 64)   8256        activation_3[0][0]               \n",
            "__________________________________________________________________________________________________\n",
            "bn2b_branch2a (BatchNormalizati (None, 15, 15, 64)   256         res2b_branch2a[0][0]             \n",
            "__________________________________________________________________________________________________\n",
            "activation_4 (Activation)       (None, 15, 15, 64)   0           bn2b_branch2a[0][0]              \n",
            "__________________________________________________________________________________________________\n",
            "res2b_branch2b (Conv2D)         (None, 15, 15, 64)   36928       activation_4[0][0]               \n",
            "__________________________________________________________________________________________________\n",
            "bn2b_branch2b (BatchNormalizati (None, 15, 15, 64)   256         res2b_branch2b[0][0]             \n",
            "__________________________________________________________________________________________________\n",
            "activation_5 (Activation)       (None, 15, 15, 64)   0           bn2b_branch2b[0][0]              \n",
            "__________________________________________________________________________________________________\n",
            "res2b_branch2c (Conv2D)         (None, 15, 15, 128)  8320        activation_5[0][0]               \n",
            "__________________________________________________________________________________________________\n",
            "bn2b_branch2c (BatchNormalizati (None, 15, 15, 128)  512         res2b_branch2c[0][0]             \n",
            "__________________________________________________________________________________________________\n",
            "add_1 (Add)                     (None, 15, 15, 128)  0           bn2b_branch2c[0][0]              \n",
            "                                                                 activation_3[0][0]               \n",
            "__________________________________________________________________________________________________\n",
            "activation_6 (Activation)       (None, 15, 15, 128)  0           add_1[0][0]                      \n",
            "__________________________________________________________________________________________________\n",
            "res2c_branch2a (Conv2D)         (None, 15, 15, 64)   8256        activation_6[0][0]               \n",
            "__________________________________________________________________________________________________\n",
            "bn2c_branch2a (BatchNormalizati (None, 15, 15, 64)   256         res2c_branch2a[0][0]             \n",
            "__________________________________________________________________________________________________\n",
            "activation_7 (Activation)       (None, 15, 15, 64)   0           bn2c_branch2a[0][0]              \n",
            "__________________________________________________________________________________________________\n",
            "res2c_branch2b (Conv2D)         (None, 15, 15, 64)   36928       activation_7[0][0]               \n",
            "__________________________________________________________________________________________________\n",
            "bn2c_branch2b (BatchNormalizati (None, 15, 15, 64)   256         res2c_branch2b[0][0]             \n",
            "__________________________________________________________________________________________________\n",
            "activation_8 (Activation)       (None, 15, 15, 64)   0           bn2c_branch2b[0][0]              \n",
            "__________________________________________________________________________________________________\n",
            "res2c_branch2c (Conv2D)         (None, 15, 15, 128)  8320        activation_8[0][0]               \n",
            "__________________________________________________________________________________________________\n",
            "bn2c_branch2c (BatchNormalizati (None, 15, 15, 128)  512         res2c_branch2c[0][0]             \n",
            "__________________________________________________________________________________________________\n",
            "add_2 (Add)                     (None, 15, 15, 128)  0           bn2c_branch2c[0][0]              \n",
            "                                                                 activation_6[0][0]               \n",
            "__________________________________________________________________________________________________\n",
            "activation_9 (Activation)       (None, 15, 15, 128)  0           add_2[0][0]                      \n",
            "__________________________________________________________________________________________________\n",
            "res2d_branch2a (Conv2D)         (None, 15, 15, 64)   8256        activation_9[0][0]               \n",
            "__________________________________________________________________________________________________\n",
            "bn2d_branch2a (BatchNormalizati (None, 15, 15, 64)   256         res2d_branch2a[0][0]             \n",
            "__________________________________________________________________________________________________\n",
            "activation_10 (Activation)      (None, 15, 15, 64)   0           bn2d_branch2a[0][0]              \n",
            "__________________________________________________________________________________________________\n",
            "res2d_branch2b (Conv2D)         (None, 15, 15, 64)   36928       activation_10[0][0]              \n",
            "__________________________________________________________________________________________________\n",
            "bn2d_branch2b (BatchNormalizati (None, 15, 15, 64)   256         res2d_branch2b[0][0]             \n",
            "__________________________________________________________________________________________________\n",
            "activation_11 (Activation)      (None, 15, 15, 64)   0           bn2d_branch2b[0][0]              \n",
            "__________________________________________________________________________________________________\n",
            "res2d_branch2c (Conv2D)         (None, 15, 15, 128)  8320        activation_11[0][0]              \n",
            "__________________________________________________________________________________________________\n",
            "bn2d_branch2c (BatchNormalizati (None, 15, 15, 128)  512         res2d_branch2c[0][0]             \n",
            "__________________________________________________________________________________________________\n",
            "add_3 (Add)                     (None, 15, 15, 128)  0           bn2d_branch2c[0][0]              \n",
            "                                                                 activation_9[0][0]               \n",
            "__________________________________________________________________________________________________\n",
            "activation_12 (Activation)      (None, 15, 15, 128)  0           add_3[0][0]                      \n",
            "__________________________________________________________________________________________________\n",
            "dropout (Dropout)               (None, 15, 15, 128)  0           activation_12[0][0]              \n",
            "__________________________________________________________________________________________________\n",
            "res3a_branch2a (Conv2D)         (None, 15, 15, 64)   8256        dropout[0][0]                    \n",
            "__________________________________________________________________________________________________\n",
            "bn3a_branch2a (BatchNormalizati (None, 15, 15, 64)   256         res3a_branch2a[0][0]             \n",
            "__________________________________________________________________________________________________\n",
            "activation_13 (Activation)      (None, 15, 15, 64)   0           bn3a_branch2a[0][0]              \n",
            "__________________________________________________________________________________________________\n",
            "res3a_branch2b (Conv2D)         (None, 15, 15, 64)   36928       activation_13[0][0]              \n",
            "__________________________________________________________________________________________________\n",
            "bn3a_branch2b (BatchNormalizati (None, 15, 15, 64)   256         res3a_branch2b[0][0]             \n",
            "__________________________________________________________________________________________________\n",
            "activation_14 (Activation)      (None, 15, 15, 64)   0           bn3a_branch2b[0][0]              \n",
            "__________________________________________________________________________________________________\n",
            "res3a_branch2c (Conv2D)         (None, 15, 15, 128)  8320        activation_14[0][0]              \n",
            "__________________________________________________________________________________________________\n",
            "res3a_branch1 (Conv2D)          (None, 15, 15, 128)  16512       dropout[0][0]                    \n",
            "__________________________________________________________________________________________________\n",
            "bn3a_branch2c (BatchNormalizati (None, 15, 15, 128)  512         res3a_branch2c[0][0]             \n",
            "__________________________________________________________________________________________________\n",
            "bn3a_branch1 (BatchNormalizatio (None, 15, 15, 128)  512         res3a_branch1[0][0]              \n",
            "__________________________________________________________________________________________________\n",
            "add_4 (Add)                     (None, 15, 15, 128)  0           bn3a_branch2c[0][0]              \n",
            "                                                                 bn3a_branch1[0][0]               \n",
            "__________________________________________________________________________________________________\n",
            "activation_15 (Activation)      (None, 15, 15, 128)  0           add_4[0][0]                      \n",
            "__________________________________________________________________________________________________\n",
            "res3b_branch2a (Conv2D)         (None, 15, 15, 64)   8256        activation_15[0][0]              \n",
            "__________________________________________________________________________________________________\n",
            "bn3b_branch2a (BatchNormalizati (None, 15, 15, 64)   256         res3b_branch2a[0][0]             \n",
            "__________________________________________________________________________________________________\n",
            "activation_16 (Activation)      (None, 15, 15, 64)   0           bn3b_branch2a[0][0]              \n",
            "__________________________________________________________________________________________________\n",
            "res3b_branch2b (Conv2D)         (None, 15, 15, 64)   36928       activation_16[0][0]              \n",
            "__________________________________________________________________________________________________\n",
            "bn3b_branch2b (BatchNormalizati (None, 15, 15, 64)   256         res3b_branch2b[0][0]             \n",
            "__________________________________________________________________________________________________\n",
            "activation_17 (Activation)      (None, 15, 15, 64)   0           bn3b_branch2b[0][0]              \n",
            "__________________________________________________________________________________________________\n",
            "res3b_branch2c (Conv2D)         (None, 15, 15, 128)  8320        activation_17[0][0]              \n",
            "__________________________________________________________________________________________________\n",
            "bn3b_branch2c (BatchNormalizati (None, 15, 15, 128)  512         res3b_branch2c[0][0]             \n",
            "__________________________________________________________________________________________________\n",
            "add_5 (Add)                     (None, 15, 15, 128)  0           bn3b_branch2c[0][0]              \n",
            "                                                                 activation_15[0][0]              \n",
            "__________________________________________________________________________________________________\n",
            "activation_18 (Activation)      (None, 15, 15, 128)  0           add_5[0][0]                      \n",
            "__________________________________________________________________________________________________\n",
            "res3c_branch2a (Conv2D)         (None, 15, 15, 64)   8256        activation_18[0][0]              \n",
            "__________________________________________________________________________________________________\n",
            "bn3c_branch2a (BatchNormalizati (None, 15, 15, 64)   256         res3c_branch2a[0][0]             \n",
            "__________________________________________________________________________________________________\n",
            "activation_19 (Activation)      (None, 15, 15, 64)   0           bn3c_branch2a[0][0]              \n",
            "__________________________________________________________________________________________________\n",
            "res3c_branch2b (Conv2D)         (None, 15, 15, 64)   36928       activation_19[0][0]              \n",
            "__________________________________________________________________________________________________\n",
            "bn3c_branch2b (BatchNormalizati (None, 15, 15, 64)   256         res3c_branch2b[0][0]             \n",
            "__________________________________________________________________________________________________\n",
            "activation_20 (Activation)      (None, 15, 15, 64)   0           bn3c_branch2b[0][0]              \n",
            "__________________________________________________________________________________________________\n",
            "res3c_branch2c (Conv2D)         (None, 15, 15, 128)  8320        activation_20[0][0]              \n",
            "__________________________________________________________________________________________________\n",
            "bn3c_branch2c (BatchNormalizati (None, 15, 15, 128)  512         res3c_branch2c[0][0]             \n",
            "__________________________________________________________________________________________________\n",
            "add_6 (Add)                     (None, 15, 15, 128)  0           bn3c_branch2c[0][0]              \n",
            "                                                                 activation_18[0][0]              \n",
            "__________________________________________________________________________________________________\n",
            "activation_21 (Activation)      (None, 15, 15, 128)  0           add_6[0][0]                      \n",
            "__________________________________________________________________________________________________\n",
            "res3d_branch2a (Conv2D)         (None, 15, 15, 64)   8256        activation_21[0][0]              \n",
            "__________________________________________________________________________________________________\n",
            "bn3d_branch2a (BatchNormalizati (None, 15, 15, 64)   256         res3d_branch2a[0][0]             \n",
            "__________________________________________________________________________________________________\n",
            "activation_22 (Activation)      (None, 15, 15, 64)   0           bn3d_branch2a[0][0]              \n",
            "__________________________________________________________________________________________________\n",
            "res3d_branch2b (Conv2D)         (None, 15, 15, 64)   36928       activation_22[0][0]              \n",
            "__________________________________________________________________________________________________\n",
            "bn3d_branch2b (BatchNormalizati (None, 15, 15, 64)   256         res3d_branch2b[0][0]             \n",
            "__________________________________________________________________________________________________\n",
            "activation_23 (Activation)      (None, 15, 15, 64)   0           bn3d_branch2b[0][0]              \n",
            "__________________________________________________________________________________________________\n",
            "res3d_branch2c (Conv2D)         (None, 15, 15, 128)  8320        activation_23[0][0]              \n",
            "__________________________________________________________________________________________________\n",
            "bn3d_branch2c (BatchNormalizati (None, 15, 15, 128)  512         res3d_branch2c[0][0]             \n",
            "__________________________________________________________________________________________________\n",
            "add_7 (Add)                     (None, 15, 15, 128)  0           bn3d_branch2c[0][0]              \n",
            "                                                                 activation_21[0][0]              \n",
            "__________________________________________________________________________________________________\n",
            "activation_24 (Activation)      (None, 15, 15, 128)  0           add_7[0][0]                      \n",
            "__________________________________________________________________________________________________\n",
            "dropout_1 (Dropout)             (None, 15, 15, 128)  0           activation_24[0][0]              \n",
            "__________________________________________________________________________________________________\n",
            "res4a_branch2a (Conv2D)         (None, 8, 8, 128)    16512       dropout_1[0][0]                  \n",
            "__________________________________________________________________________________________________\n",
            "bn4a_branch2a (BatchNormalizati (None, 8, 8, 128)    512         res4a_branch2a[0][0]             \n",
            "__________________________________________________________________________________________________\n",
            "activation_25 (Activation)      (None, 8, 8, 128)    0           bn4a_branch2a[0][0]              \n",
            "__________________________________________________________________________________________________\n",
            "res4a_branch2b (Conv2D)         (None, 8, 8, 128)    147584      activation_25[0][0]              \n",
            "__________________________________________________________________________________________________\n",
            "bn4a_branch2b (BatchNormalizati (None, 8, 8, 128)    512         res4a_branch2b[0][0]             \n",
            "__________________________________________________________________________________________________\n",
            "activation_26 (Activation)      (None, 8, 8, 128)    0           bn4a_branch2b[0][0]              \n",
            "__________________________________________________________________________________________________\n",
            "res4a_branch2c (Conv2D)         (None, 8, 8, 256)    33024       activation_26[0][0]              \n",
            "__________________________________________________________________________________________________\n",
            "res4a_branch1 (Conv2D)          (None, 8, 8, 256)    33024       dropout_1[0][0]                  \n",
            "__________________________________________________________________________________________________\n",
            "bn4a_branch2c (BatchNormalizati (None, 8, 8, 256)    1024        res4a_branch2c[0][0]             \n",
            "__________________________________________________________________________________________________\n",
            "bn4a_branch1 (BatchNormalizatio (None, 8, 8, 256)    1024        res4a_branch1[0][0]              \n",
            "__________________________________________________________________________________________________\n",
            "add_8 (Add)                     (None, 8, 8, 256)    0           bn4a_branch2c[0][0]              \n",
            "                                                                 bn4a_branch1[0][0]               \n",
            "__________________________________________________________________________________________________\n",
            "activation_27 (Activation)      (None, 8, 8, 256)    0           add_8[0][0]                      \n",
            "__________________________________________________________________________________________________\n",
            "res4b_branch2a (Conv2D)         (None, 8, 8, 128)    32896       activation_27[0][0]              \n",
            "__________________________________________________________________________________________________\n",
            "bn4b_branch2a (BatchNormalizati (None, 8, 8, 128)    512         res4b_branch2a[0][0]             \n",
            "__________________________________________________________________________________________________\n",
            "activation_28 (Activation)      (None, 8, 8, 128)    0           bn4b_branch2a[0][0]              \n",
            "__________________________________________________________________________________________________\n",
            "res4b_branch2b (Conv2D)         (None, 8, 8, 128)    147584      activation_28[0][0]              \n",
            "__________________________________________________________________________________________________\n",
            "bn4b_branch2b (BatchNormalizati (None, 8, 8, 128)    512         res4b_branch2b[0][0]             \n",
            "__________________________________________________________________________________________________\n",
            "activation_29 (Activation)      (None, 8, 8, 128)    0           bn4b_branch2b[0][0]              \n",
            "__________________________________________________________________________________________________\n",
            "res4b_branch2c (Conv2D)         (None, 8, 8, 256)    33024       activation_29[0][0]              \n",
            "__________________________________________________________________________________________________\n",
            "bn4b_branch2c (BatchNormalizati (None, 8, 8, 256)    1024        res4b_branch2c[0][0]             \n",
            "__________________________________________________________________________________________________\n",
            "add_9 (Add)                     (None, 8, 8, 256)    0           bn4b_branch2c[0][0]              \n",
            "                                                                 activation_27[0][0]              \n",
            "__________________________________________________________________________________________________\n",
            "activation_30 (Activation)      (None, 8, 8, 256)    0           add_9[0][0]                      \n",
            "__________________________________________________________________________________________________\n",
            "res4c_branch2a (Conv2D)         (None, 8, 8, 128)    32896       activation_30[0][0]              \n",
            "__________________________________________________________________________________________________\n",
            "bn4c_branch2a (BatchNormalizati (None, 8, 8, 128)    512         res4c_branch2a[0][0]             \n",
            "__________________________________________________________________________________________________\n",
            "activation_31 (Activation)      (None, 8, 8, 128)    0           bn4c_branch2a[0][0]              \n",
            "__________________________________________________________________________________________________\n",
            "res4c_branch2b (Conv2D)         (None, 8, 8, 128)    147584      activation_31[0][0]              \n",
            "__________________________________________________________________________________________________\n",
            "bn4c_branch2b (BatchNormalizati (None, 8, 8, 128)    512         res4c_branch2b[0][0]             \n",
            "__________________________________________________________________________________________________\n",
            "activation_32 (Activation)      (None, 8, 8, 128)    0           bn4c_branch2b[0][0]              \n",
            "__________________________________________________________________________________________________\n",
            "res4c_branch2c (Conv2D)         (None, 8, 8, 256)    33024       activation_32[0][0]              \n",
            "__________________________________________________________________________________________________\n",
            "bn4c_branch2c (BatchNormalizati (None, 8, 8, 256)    1024        res4c_branch2c[0][0]             \n",
            "__________________________________________________________________________________________________\n",
            "add_10 (Add)                    (None, 8, 8, 256)    0           bn4c_branch2c[0][0]              \n",
            "                                                                 activation_30[0][0]              \n",
            "__________________________________________________________________________________________________\n",
            "activation_33 (Activation)      (None, 8, 8, 256)    0           add_10[0][0]                     \n",
            "__________________________________________________________________________________________________\n",
            "res4d_branch2a (Conv2D)         (None, 8, 8, 128)    32896       activation_33[0][0]              \n",
            "__________________________________________________________________________________________________\n",
            "bn4d_branch2a (BatchNormalizati (None, 8, 8, 128)    512         res4d_branch2a[0][0]             \n",
            "__________________________________________________________________________________________________\n",
            "activation_34 (Activation)      (None, 8, 8, 128)    0           bn4d_branch2a[0][0]              \n",
            "__________________________________________________________________________________________________\n",
            "res4d_branch2b (Conv2D)         (None, 8, 8, 128)    147584      activation_34[0][0]              \n",
            "__________________________________________________________________________________________________\n",
            "bn4d_branch2b (BatchNormalizati (None, 8, 8, 128)    512         res4d_branch2b[0][0]             \n",
            "__________________________________________________________________________________________________\n",
            "activation_35 (Activation)      (None, 8, 8, 128)    0           bn4d_branch2b[0][0]              \n",
            "__________________________________________________________________________________________________\n",
            "res4d_branch2c (Conv2D)         (None, 8, 8, 256)    33024       activation_35[0][0]              \n",
            "__________________________________________________________________________________________________\n",
            "bn4d_branch2c (BatchNormalizati (None, 8, 8, 256)    1024        res4d_branch2c[0][0]             \n",
            "__________________________________________________________________________________________________\n",
            "add_11 (Add)                    (None, 8, 8, 256)    0           bn4d_branch2c[0][0]              \n",
            "                                                                 activation_33[0][0]              \n",
            "__________________________________________________________________________________________________\n",
            "activation_36 (Activation)      (None, 8, 8, 256)    0           add_11[0][0]                     \n",
            "__________________________________________________________________________________________________\n",
            "dropout_2 (Dropout)             (None, 8, 8, 256)    0           activation_36[0][0]              \n",
            "__________________________________________________________________________________________________\n",
            "res5a_branch2a (Conv2D)         (None, 4, 4, 128)    32896       dropout_2[0][0]                  \n",
            "__________________________________________________________________________________________________\n",
            "bn5a_branch2a (BatchNormalizati (None, 4, 4, 128)    512         res5a_branch2a[0][0]             \n",
            "__________________________________________________________________________________________________\n",
            "activation_37 (Activation)      (None, 4, 4, 128)    0           bn5a_branch2a[0][0]              \n",
            "__________________________________________________________________________________________________\n",
            "res5a_branch2b (Conv2D)         (None, 4, 4, 128)    147584      activation_37[0][0]              \n",
            "__________________________________________________________________________________________________\n",
            "bn5a_branch2b (BatchNormalizati (None, 4, 4, 128)    512         res5a_branch2b[0][0]             \n",
            "__________________________________________________________________________________________________\n",
            "activation_38 (Activation)      (None, 4, 4, 128)    0           bn5a_branch2b[0][0]              \n",
            "__________________________________________________________________________________________________\n",
            "res5a_branch2c (Conv2D)         (None, 4, 4, 256)    33024       activation_38[0][0]              \n",
            "__________________________________________________________________________________________________\n",
            "res5a_branch1 (Conv2D)          (None, 4, 4, 256)    65792       dropout_2[0][0]                  \n",
            "__________________________________________________________________________________________________\n",
            "bn5a_branch2c (BatchNormalizati (None, 4, 4, 256)    1024        res5a_branch2c[0][0]             \n",
            "__________________________________________________________________________________________________\n",
            "bn5a_branch1 (BatchNormalizatio (None, 4, 4, 256)    1024        res5a_branch1[0][0]              \n",
            "__________________________________________________________________________________________________\n",
            "add_12 (Add)                    (None, 4, 4, 256)    0           bn5a_branch2c[0][0]              \n",
            "                                                                 bn5a_branch1[0][0]               \n",
            "__________________________________________________________________________________________________\n",
            "activation_39 (Activation)      (None, 4, 4, 256)    0           add_12[0][0]                     \n",
            "__________________________________________________________________________________________________\n",
            "res5b_branch2a (Conv2D)         (None, 4, 4, 128)    32896       activation_39[0][0]              \n",
            "__________________________________________________________________________________________________\n",
            "bn5b_branch2a (BatchNormalizati (None, 4, 4, 128)    512         res5b_branch2a[0][0]             \n",
            "__________________________________________________________________________________________________\n",
            "activation_40 (Activation)      (None, 4, 4, 128)    0           bn5b_branch2a[0][0]              \n",
            "__________________________________________________________________________________________________\n",
            "res5b_branch2b (Conv2D)         (None, 4, 4, 128)    147584      activation_40[0][0]              \n",
            "__________________________________________________________________________________________________\n",
            "bn5b_branch2b (BatchNormalizati (None, 4, 4, 128)    512         res5b_branch2b[0][0]             \n",
            "__________________________________________________________________________________________________\n",
            "activation_41 (Activation)      (None, 4, 4, 128)    0           bn5b_branch2b[0][0]              \n",
            "__________________________________________________________________________________________________\n",
            "res5b_branch2c (Conv2D)         (None, 4, 4, 256)    33024       activation_41[0][0]              \n",
            "__________________________________________________________________________________________________\n",
            "bn5b_branch2c (BatchNormalizati (None, 4, 4, 256)    1024        res5b_branch2c[0][0]             \n",
            "__________________________________________________________________________________________________\n",
            "add_13 (Add)                    (None, 4, 4, 256)    0           bn5b_branch2c[0][0]              \n",
            "                                                                 activation_39[0][0]              \n",
            "__________________________________________________________________________________________________\n",
            "activation_42 (Activation)      (None, 4, 4, 256)    0           add_13[0][0]                     \n",
            "__________________________________________________________________________________________________\n",
            "res5c_branch2a (Conv2D)         (None, 4, 4, 128)    32896       activation_42[0][0]              \n",
            "__________________________________________________________________________________________________\n",
            "bn5c_branch2a (BatchNormalizati (None, 4, 4, 128)    512         res5c_branch2a[0][0]             \n",
            "__________________________________________________________________________________________________\n",
            "activation_43 (Activation)      (None, 4, 4, 128)    0           bn5c_branch2a[0][0]              \n",
            "__________________________________________________________________________________________________\n",
            "res5c_branch2b (Conv2D)         (None, 4, 4, 128)    147584      activation_43[0][0]              \n",
            "__________________________________________________________________________________________________\n",
            "bn5c_branch2b (BatchNormalizati (None, 4, 4, 128)    512         res5c_branch2b[0][0]             \n",
            "__________________________________________________________________________________________________\n",
            "activation_44 (Activation)      (None, 4, 4, 128)    0           bn5c_branch2b[0][0]              \n",
            "__________________________________________________________________________________________________\n",
            "res5c_branch2c (Conv2D)         (None, 4, 4, 256)    33024       activation_44[0][0]              \n",
            "__________________________________________________________________________________________________\n",
            "bn5c_branch2c (BatchNormalizati (None, 4, 4, 256)    1024        res5c_branch2c[0][0]             \n",
            "__________________________________________________________________________________________________\n",
            "add_14 (Add)                    (None, 4, 4, 256)    0           bn5c_branch2c[0][0]              \n",
            "                                                                 activation_42[0][0]              \n",
            "__________________________________________________________________________________________________\n",
            "activation_45 (Activation)      (None, 4, 4, 256)    0           add_14[0][0]                     \n",
            "__________________________________________________________________________________________________\n",
            "res5d_branch2a (Conv2D)         (None, 4, 4, 128)    32896       activation_45[0][0]              \n",
            "__________________________________________________________________________________________________\n",
            "bn5d_branch2a (BatchNormalizati (None, 4, 4, 128)    512         res5d_branch2a[0][0]             \n",
            "__________________________________________________________________________________________________\n",
            "activation_46 (Activation)      (None, 4, 4, 128)    0           bn5d_branch2a[0][0]              \n",
            "__________________________________________________________________________________________________\n",
            "res5d_branch2b (Conv2D)         (None, 4, 4, 128)    147584      activation_46[0][0]              \n",
            "__________________________________________________________________________________________________\n",
            "bn5d_branch2b (BatchNormalizati (None, 4, 4, 128)    512         res5d_branch2b[0][0]             \n",
            "__________________________________________________________________________________________________\n",
            "activation_47 (Activation)      (None, 4, 4, 128)    0           bn5d_branch2b[0][0]              \n",
            "__________________________________________________________________________________________________\n",
            "res5d_branch2c (Conv2D)         (None, 4, 4, 256)    33024       activation_47[0][0]              \n",
            "__________________________________________________________________________________________________\n",
            "bn5d_branch2c (BatchNormalizati (None, 4, 4, 256)    1024        res5d_branch2c[0][0]             \n",
            "__________________________________________________________________________________________________\n",
            "add_15 (Add)                    (None, 4, 4, 256)    0           bn5d_branch2c[0][0]              \n",
            "                                                                 activation_45[0][0]              \n",
            "__________________________________________________________________________________________________\n",
            "activation_48 (Activation)      (None, 4, 4, 256)    0           add_15[0][0]                     \n",
            "__________________________________________________________________________________________________\n",
            "dropout_3 (Dropout)             (None, 4, 4, 256)    0           activation_48[0][0]              \n",
            "__________________________________________________________________________________________________\n",
            "res6a_branch2a (Conv2D)         (None, 2, 2, 256)    65792       dropout_3[0][0]                  \n",
            "__________________________________________________________________________________________________\n",
            "bn6a_branch2a (BatchNormalizati (None, 2, 2, 256)    1024        res6a_branch2a[0][0]             \n",
            "__________________________________________________________________________________________________\n",
            "activation_49 (Activation)      (None, 2, 2, 256)    0           bn6a_branch2a[0][0]              \n",
            "__________________________________________________________________________________________________\n",
            "res6a_branch2b (Conv2D)         (None, 2, 2, 256)    590080      activation_49[0][0]              \n",
            "__________________________________________________________________________________________________\n",
            "bn6a_branch2b (BatchNormalizati (None, 2, 2, 256)    1024        res6a_branch2b[0][0]             \n",
            "__________________________________________________________________________________________________\n",
            "activation_50 (Activation)      (None, 2, 2, 256)    0           bn6a_branch2b[0][0]              \n",
            "__________________________________________________________________________________________________\n",
            "res6a_branch2c (Conv2D)         (None, 2, 2, 512)    131584      activation_50[0][0]              \n",
            "__________________________________________________________________________________________________\n",
            "res6a_branch1 (Conv2D)          (None, 2, 2, 512)    131584      dropout_3[0][0]                  \n",
            "__________________________________________________________________________________________________\n",
            "bn6a_branch2c (BatchNormalizati (None, 2, 2, 512)    2048        res6a_branch2c[0][0]             \n",
            "__________________________________________________________________________________________________\n",
            "bn6a_branch1 (BatchNormalizatio (None, 2, 2, 512)    2048        res6a_branch1[0][0]              \n",
            "__________________________________________________________________________________________________\n",
            "add_16 (Add)                    (None, 2, 2, 512)    0           bn6a_branch2c[0][0]              \n",
            "                                                                 bn6a_branch1[0][0]               \n",
            "__________________________________________________________________________________________________\n",
            "activation_51 (Activation)      (None, 2, 2, 512)    0           add_16[0][0]                     \n",
            "__________________________________________________________________________________________________\n",
            "res6b_branch2a (Conv2D)         (None, 2, 2, 256)    131328      activation_51[0][0]              \n",
            "__________________________________________________________________________________________________\n",
            "bn6b_branch2a (BatchNormalizati (None, 2, 2, 256)    1024        res6b_branch2a[0][0]             \n",
            "__________________________________________________________________________________________________\n",
            "activation_52 (Activation)      (None, 2, 2, 256)    0           bn6b_branch2a[0][0]              \n",
            "__________________________________________________________________________________________________\n",
            "res6b_branch2b (Conv2D)         (None, 2, 2, 256)    590080      activation_52[0][0]              \n",
            "__________________________________________________________________________________________________\n",
            "bn6b_branch2b (BatchNormalizati (None, 2, 2, 256)    1024        res6b_branch2b[0][0]             \n",
            "__________________________________________________________________________________________________\n",
            "activation_53 (Activation)      (None, 2, 2, 256)    0           bn6b_branch2b[0][0]              \n",
            "__________________________________________________________________________________________________\n",
            "res6b_branch2c (Conv2D)         (None, 2, 2, 512)    131584      activation_53[0][0]              \n",
            "__________________________________________________________________________________________________\n",
            "bn6b_branch2c (BatchNormalizati (None, 2, 2, 512)    2048        res6b_branch2c[0][0]             \n",
            "__________________________________________________________________________________________________\n",
            "add_17 (Add)                    (None, 2, 2, 512)    0           bn6b_branch2c[0][0]              \n",
            "                                                                 activation_51[0][0]              \n",
            "__________________________________________________________________________________________________\n",
            "activation_54 (Activation)      (None, 2, 2, 512)    0           add_17[0][0]                     \n",
            "__________________________________________________________________________________________________\n",
            "res6c_branch2a (Conv2D)         (None, 2, 2, 256)    131328      activation_54[0][0]              \n",
            "__________________________________________________________________________________________________\n",
            "bn6c_branch2a (BatchNormalizati (None, 2, 2, 256)    1024        res6c_branch2a[0][0]             \n",
            "__________________________________________________________________________________________________\n",
            "activation_55 (Activation)      (None, 2, 2, 256)    0           bn6c_branch2a[0][0]              \n",
            "__________________________________________________________________________________________________\n",
            "res6c_branch2b (Conv2D)         (None, 2, 2, 256)    590080      activation_55[0][0]              \n",
            "__________________________________________________________________________________________________\n",
            "bn6c_branch2b (BatchNormalizati (None, 2, 2, 256)    1024        res6c_branch2b[0][0]             \n",
            "__________________________________________________________________________________________________\n",
            "activation_56 (Activation)      (None, 2, 2, 256)    0           bn6c_branch2b[0][0]              \n",
            "__________________________________________________________________________________________________\n",
            "res6c_branch2c (Conv2D)         (None, 2, 2, 512)    131584      activation_56[0][0]              \n",
            "__________________________________________________________________________________________________\n",
            "bn6c_branch2c (BatchNormalizati (None, 2, 2, 512)    2048        res6c_branch2c[0][0]             \n",
            "__________________________________________________________________________________________________\n",
            "add_18 (Add)                    (None, 2, 2, 512)    0           bn6c_branch2c[0][0]              \n",
            "                                                                 activation_54[0][0]              \n",
            "__________________________________________________________________________________________________\n",
            "activation_57 (Activation)      (None, 2, 2, 512)    0           add_18[0][0]                     \n",
            "__________________________________________________________________________________________________\n",
            "res6d_branch2a (Conv2D)         (None, 2, 2, 256)    131328      activation_57[0][0]              \n",
            "__________________________________________________________________________________________________\n",
            "bn6d_branch2a (BatchNormalizati (None, 2, 2, 256)    1024        res6d_branch2a[0][0]             \n",
            "__________________________________________________________________________________________________\n",
            "activation_58 (Activation)      (None, 2, 2, 256)    0           bn6d_branch2a[0][0]              \n",
            "__________________________________________________________________________________________________\n",
            "res6d_branch2b (Conv2D)         (None, 2, 2, 256)    590080      activation_58[0][0]              \n",
            "__________________________________________________________________________________________________\n",
            "bn6d_branch2b (BatchNormalizati (None, 2, 2, 256)    1024        res6d_branch2b[0][0]             \n",
            "__________________________________________________________________________________________________\n",
            "activation_59 (Activation)      (None, 2, 2, 256)    0           bn6d_branch2b[0][0]              \n",
            "__________________________________________________________________________________________________\n",
            "res6d_branch2c (Conv2D)         (None, 2, 2, 512)    131584      activation_59[0][0]              \n",
            "__________________________________________________________________________________________________\n",
            "bn6d_branch2c (BatchNormalizati (None, 2, 2, 512)    2048        res6d_branch2c[0][0]             \n",
            "__________________________________________________________________________________________________\n",
            "add_19 (Add)                    (None, 2, 2, 512)    0           bn6d_branch2c[0][0]              \n",
            "                                                                 activation_57[0][0]              \n",
            "__________________________________________________________________________________________________\n",
            "activation_60 (Activation)      (None, 2, 2, 512)    0           add_19[0][0]                     \n",
            "__________________________________________________________________________________________________\n",
            "dropout_4 (Dropout)             (None, 2, 2, 512)    0           activation_60[0][0]              \n",
            "__________________________________________________________________________________________________\n",
            "res7a_branch2a (Conv2D)         (None, 1, 1, 256)    131328      dropout_4[0][0]                  \n",
            "__________________________________________________________________________________________________\n",
            "bn7a_branch2a (BatchNormalizati (None, 1, 1, 256)    1024        res7a_branch2a[0][0]             \n",
            "__________________________________________________________________________________________________\n",
            "activation_61 (Activation)      (None, 1, 1, 256)    0           bn7a_branch2a[0][0]              \n",
            "__________________________________________________________________________________________________\n",
            "res7a_branch2b (Conv2D)         (None, 1, 1, 256)    590080      activation_61[0][0]              \n",
            "__________________________________________________________________________________________________\n",
            "bn7a_branch2b (BatchNormalizati (None, 1, 1, 256)    1024        res7a_branch2b[0][0]             \n",
            "__________________________________________________________________________________________________\n",
            "activation_62 (Activation)      (None, 1, 1, 256)    0           bn7a_branch2b[0][0]              \n",
            "__________________________________________________________________________________________________\n",
            "res7a_branch2c (Conv2D)         (None, 1, 1, 512)    131584      activation_62[0][0]              \n",
            "__________________________________________________________________________________________________\n",
            "res7a_branch1 (Conv2D)          (None, 1, 1, 512)    262656      dropout_4[0][0]                  \n",
            "__________________________________________________________________________________________________\n",
            "bn7a_branch2c (BatchNormalizati (None, 1, 1, 512)    2048        res7a_branch2c[0][0]             \n",
            "__________________________________________________________________________________________________\n",
            "bn7a_branch1 (BatchNormalizatio (None, 1, 1, 512)    2048        res7a_branch1[0][0]              \n",
            "__________________________________________________________________________________________________\n",
            "add_20 (Add)                    (None, 1, 1, 512)    0           bn7a_branch2c[0][0]              \n",
            "                                                                 bn7a_branch1[0][0]               \n",
            "__________________________________________________________________________________________________\n",
            "activation_63 (Activation)      (None, 1, 1, 512)    0           add_20[0][0]                     \n",
            "__________________________________________________________________________________________________\n",
            "res7b_branch2a (Conv2D)         (None, 1, 1, 256)    131328      activation_63[0][0]              \n",
            "__________________________________________________________________________________________________\n",
            "bn7b_branch2a (BatchNormalizati (None, 1, 1, 256)    1024        res7b_branch2a[0][0]             \n",
            "__________________________________________________________________________________________________\n",
            "activation_64 (Activation)      (None, 1, 1, 256)    0           bn7b_branch2a[0][0]              \n",
            "__________________________________________________________________________________________________\n",
            "res7b_branch2b (Conv2D)         (None, 1, 1, 256)    590080      activation_64[0][0]              \n",
            "__________________________________________________________________________________________________\n",
            "bn7b_branch2b (BatchNormalizati (None, 1, 1, 256)    1024        res7b_branch2b[0][0]             \n",
            "__________________________________________________________________________________________________\n",
            "activation_65 (Activation)      (None, 1, 1, 256)    0           bn7b_branch2b[0][0]              \n",
            "__________________________________________________________________________________________________\n",
            "res7b_branch2c (Conv2D)         (None, 1, 1, 512)    131584      activation_65[0][0]              \n",
            "__________________________________________________________________________________________________\n",
            "bn7b_branch2c (BatchNormalizati (None, 1, 1, 512)    2048        res7b_branch2c[0][0]             \n",
            "__________________________________________________________________________________________________\n",
            "add_21 (Add)                    (None, 1, 1, 512)    0           bn7b_branch2c[0][0]              \n",
            "                                                                 activation_63[0][0]              \n",
            "__________________________________________________________________________________________________\n",
            "activation_66 (Activation)      (None, 1, 1, 512)    0           add_21[0][0]                     \n",
            "__________________________________________________________________________________________________\n",
            "res7c_branch2a (Conv2D)         (None, 1, 1, 256)    131328      activation_66[0][0]              \n",
            "__________________________________________________________________________________________________\n",
            "bn7c_branch2a (BatchNormalizati (None, 1, 1, 256)    1024        res7c_branch2a[0][0]             \n",
            "__________________________________________________________________________________________________\n",
            "activation_67 (Activation)      (None, 1, 1, 256)    0           bn7c_branch2a[0][0]              \n",
            "__________________________________________________________________________________________________\n",
            "res7c_branch2b (Conv2D)         (None, 1, 1, 256)    590080      activation_67[0][0]              \n",
            "__________________________________________________________________________________________________\n",
            "bn7c_branch2b (BatchNormalizati (None, 1, 1, 256)    1024        res7c_branch2b[0][0]             \n",
            "__________________________________________________________________________________________________\n",
            "activation_68 (Activation)      (None, 1, 1, 256)    0           bn7c_branch2b[0][0]              \n",
            "__________________________________________________________________________________________________\n",
            "res7c_branch2c (Conv2D)         (None, 1, 1, 512)    131584      activation_68[0][0]              \n",
            "__________________________________________________________________________________________________\n",
            "bn7c_branch2c (BatchNormalizati (None, 1, 1, 512)    2048        res7c_branch2c[0][0]             \n",
            "__________________________________________________________________________________________________\n",
            "add_22 (Add)                    (None, 1, 1, 512)    0           bn7c_branch2c[0][0]              \n",
            "                                                                 activation_66[0][0]              \n",
            "__________________________________________________________________________________________________\n",
            "activation_69 (Activation)      (None, 1, 1, 512)    0           add_22[0][0]                     \n",
            "__________________________________________________________________________________________________\n",
            "res7d_branch2a (Conv2D)         (None, 1, 1, 256)    131328      activation_69[0][0]              \n",
            "__________________________________________________________________________________________________\n",
            "bn7d_branch2a (BatchNormalizati (None, 1, 1, 256)    1024        res7d_branch2a[0][0]             \n",
            "__________________________________________________________________________________________________\n",
            "activation_70 (Activation)      (None, 1, 1, 256)    0           bn7d_branch2a[0][0]              \n",
            "__________________________________________________________________________________________________\n",
            "res7d_branch2b (Conv2D)         (None, 1, 1, 256)    590080      activation_70[0][0]              \n",
            "__________________________________________________________________________________________________\n",
            "bn7d_branch2b (BatchNormalizati (None, 1, 1, 256)    1024        res7d_branch2b[0][0]             \n",
            "__________________________________________________________________________________________________\n",
            "activation_71 (Activation)      (None, 1, 1, 256)    0           bn7d_branch2b[0][0]              \n",
            "__________________________________________________________________________________________________\n",
            "res7d_branch2c (Conv2D)         (None, 1, 1, 512)    131584      activation_71[0][0]              \n",
            "__________________________________________________________________________________________________\n",
            "bn7d_branch2c (BatchNormalizati (None, 1, 1, 512)    2048        res7d_branch2c[0][0]             \n",
            "__________________________________________________________________________________________________\n",
            "add_23 (Add)                    (None, 1, 1, 512)    0           bn7d_branch2c[0][0]              \n",
            "                                                                 activation_69[0][0]              \n",
            "__________________________________________________________________________________________________\n",
            "activation_72 (Activation)      (None, 1, 1, 512)    0           add_23[0][0]                     \n",
            "__________________________________________________________________________________________________\n",
            "dropout_5 (Dropout)             (None, 1, 1, 512)    0           activation_72[0][0]              \n",
            "__________________________________________________________________________________________________\n",
            "flatten (Flatten)               (None, 512)          0           dropout_5[0][0]                  \n",
            "__________________________________________________________________________________________________\n",
            "fc2 (Dense)                     (None, 2)            1026        flatten[0][0]                    \n",
            "==================================================================================================\n",
            "Total params: 9,458,306\n",
            "Trainable params: 9,425,922\n",
            "Non-trainable params: 32,384\n",
            "__________________________________________________________________________________________________\n"
          ],
          "name": "stdout"
        }
      ]
    },
    {
      "cell_type": "code",
      "metadata": {
        "colab": {
          "base_uri": "https://localhost:8080/"
        },
        "id": "sm4NSwIS10Vk",
        "outputId": "c5ed67c9-a479-47dd-9513-b27b822b4fcd"
      },
      "source": [
        "len(model.layers)"
      ],
      "execution_count": 25,
      "outputs": [
        {
          "output_type": "execute_result",
          "data": {
            "text/plain": [
              "266"
            ]
          },
          "metadata": {
            "tags": []
          },
          "execution_count": 25
        }
      ]
    },
    {
      "cell_type": "code",
      "metadata": {
        "colab": {
          "base_uri": "https://localhost:8080/",
          "height": 1000
        },
        "id": "2NiFGHkrmv33",
        "outputId": "1509c55d-622f-4263-9b96-d273fc128970"
      },
      "source": [
        "plot_model(model, to_file='resnet_model.png')\n",
        "SVG(model_to_dot(model).create(prog='dot', format='svg'))"
      ],
      "execution_count": 27,
      "outputs": [
        {
          "output_type": "execute_result",
          "data": {
            "text/plain": [
              "<IPython.core.display.SVG object>"
            ],
            "image/svg+xml": "<svg height=\"24685pt\" viewBox=\"0.00 0.00 498.00 18514.00\" width=\"664pt\" xmlns=\"http://www.w3.org/2000/svg\" xmlns:xlink=\"http://www.w3.org/1999/xlink\">\n<g class=\"graph\" id=\"graph0\" transform=\"scale(1.3333 1.3333) rotate(0) translate(4 18510)\">\n<title>G</title>\n<polygon fill=\"#ffffff\" points=\"-4,4 -4,-18510 494,-18510 494,4 -4,4\" stroke=\"transparent\"/>\n<!-- 139881427980880 -->\n<g class=\"node\" id=\"node1\">\n<title>139881427980880</title>\n<polygon fill=\"none\" points=\"152,-18469.5 152,-18505.5 285,-18505.5 285,-18469.5 152,-18469.5\" stroke=\"#000000\"/>\n<text fill=\"#000000\" font-family=\"Times,serif\" font-size=\"14.00\" text-anchor=\"middle\" x=\"218.5\" y=\"-18483.8\">input_1: InputLayer</text>\n</g>\n<!-- 139882296420112 -->\n<g class=\"node\" id=\"node2\">\n<title>139882296420112</title>\n<polygon fill=\"none\" points=\"113,-18396.5 113,-18432.5 324,-18432.5 324,-18396.5 113,-18396.5\" stroke=\"#000000\"/>\n<text fill=\"#000000\" font-family=\"Times,serif\" font-size=\"14.00\" text-anchor=\"middle\" x=\"218.5\" y=\"-18410.8\">zero_padding2d: ZeroPadding2D</text>\n</g>\n<!-- 139881427980880&#45;&gt;139882296420112 -->\n<g class=\"edge\" id=\"edge1\">\n<title>139881427980880-&gt;139882296420112</title>\n<path d=\"M218.5,-18469.4551C218.5,-18461.3828 218.5,-18451.6764 218.5,-18442.6817\" fill=\"none\" stroke=\"#000000\"/>\n<polygon fill=\"#000000\" points=\"222.0001,-18442.5903 218.5,-18432.5904 215.0001,-18442.5904 222.0001,-18442.5903\" stroke=\"#000000\"/>\n</g>\n<!-- 139881358575632 -->\n<g class=\"node\" id=\"node3\">\n<title>139881358575632</title>\n<polygon fill=\"none\" points=\"163.5,-18323.5 163.5,-18359.5 273.5,-18359.5 273.5,-18323.5 163.5,-18323.5\" stroke=\"#000000\"/>\n<text fill=\"#000000\" font-family=\"Times,serif\" font-size=\"14.00\" text-anchor=\"middle\" x=\"218.5\" y=\"-18337.8\">conv1: Conv2D</text>\n</g>\n<!-- 139882296420112&#45;&gt;139881358575632 -->\n<g class=\"edge\" id=\"edge2\">\n<title>139882296420112-&gt;139881358575632</title>\n<path d=\"M218.5,-18396.4551C218.5,-18388.3828 218.5,-18378.6764 218.5,-18369.6817\" fill=\"none\" stroke=\"#000000\"/>\n<polygon fill=\"#000000\" points=\"222.0001,-18369.5903 218.5,-18359.5904 215.0001,-18369.5904 222.0001,-18369.5903\" stroke=\"#000000\"/>\n</g>\n<!-- 139881358769488 -->\n<g class=\"node\" id=\"node4\">\n<title>139881358769488</title>\n<polygon fill=\"none\" points=\"120,-18250.5 120,-18286.5 317,-18286.5 317,-18250.5 120,-18250.5\" stroke=\"#000000\"/>\n<text fill=\"#000000\" font-family=\"Times,serif\" font-size=\"14.00\" text-anchor=\"middle\" x=\"218.5\" y=\"-18264.8\">bn_conv1: BatchNormalization</text>\n</g>\n<!-- 139881358575632&#45;&gt;139881358769488 -->\n<g class=\"edge\" id=\"edge3\">\n<title>139881358575632-&gt;139881358769488</title>\n<path d=\"M218.5,-18323.4551C218.5,-18315.3828 218.5,-18305.6764 218.5,-18296.6817\" fill=\"none\" stroke=\"#000000\"/>\n<polygon fill=\"#000000\" points=\"222.0001,-18296.5903 218.5,-18286.5904 215.0001,-18296.5904 222.0001,-18296.5903\" stroke=\"#000000\"/>\n</g>\n<!-- 139881429874384 -->\n<g class=\"node\" id=\"node5\">\n<title>139881429874384</title>\n<polygon fill=\"none\" points=\"149,-18177.5 149,-18213.5 288,-18213.5 288,-18177.5 149,-18177.5\" stroke=\"#000000\"/>\n<text fill=\"#000000\" font-family=\"Times,serif\" font-size=\"14.00\" text-anchor=\"middle\" x=\"218.5\" y=\"-18191.8\">activation: Activation</text>\n</g>\n<!-- 139881358769488&#45;&gt;139881429874384 -->\n<g class=\"edge\" id=\"edge4\">\n<title>139881358769488-&gt;139881429874384</title>\n<path d=\"M218.5,-18250.4551C218.5,-18242.3828 218.5,-18232.6764 218.5,-18223.6817\" fill=\"none\" stroke=\"#000000\"/>\n<polygon fill=\"#000000\" points=\"222.0001,-18223.5903 218.5,-18213.5904 215.0001,-18223.5904 222.0001,-18223.5903\" stroke=\"#000000\"/>\n</g>\n<!-- 139881359031504 -->\n<g class=\"node\" id=\"node6\">\n<title>139881359031504</title>\n<polygon fill=\"none\" points=\"115.5,-18104.5 115.5,-18140.5 321.5,-18140.5 321.5,-18104.5 115.5,-18104.5\" stroke=\"#000000\"/>\n<text fill=\"#000000\" font-family=\"Times,serif\" font-size=\"14.00\" text-anchor=\"middle\" x=\"218.5\" y=\"-18118.8\">max_pooling2d: MaxPooling2D</text>\n</g>\n<!-- 139881429874384&#45;&gt;139881359031504 -->\n<g class=\"edge\" id=\"edge5\">\n<title>139881429874384-&gt;139881359031504</title>\n<path d=\"M218.5,-18177.4551C218.5,-18169.3828 218.5,-18159.6764 218.5,-18150.6817\" fill=\"none\" stroke=\"#000000\"/>\n<polygon fill=\"#000000\" points=\"222.0001,-18150.5903 218.5,-18140.5904 215.0001,-18150.5904 222.0001,-18150.5903\" stroke=\"#000000\"/>\n</g>\n<!-- 139881429894288 -->\n<g class=\"node\" id=\"node7\">\n<title>139881429894288</title>\n<polygon fill=\"none\" points=\"81.5,-18031.5 81.5,-18067.5 245.5,-18067.5 245.5,-18031.5 81.5,-18031.5\" stroke=\"#000000\"/>\n<text fill=\"#000000\" font-family=\"Times,serif\" font-size=\"14.00\" text-anchor=\"middle\" x=\"163.5\" y=\"-18045.8\">res2a_branch2a: Conv2D</text>\n</g>\n<!-- 139881359031504&#45;&gt;139881429894288 -->\n<g class=\"edge\" id=\"edge6\">\n<title>139881359031504-&gt;139881429894288</title>\n<path d=\"M204.9045,-18104.4551C198.3599,-18095.7686 190.3896,-18085.1898 183.196,-18075.642\" fill=\"none\" stroke=\"#000000\"/>\n<polygon fill=\"#000000\" points=\"185.9427,-18073.4711 177.1297,-18067.5904 180.3518,-18077.6834 185.9427,-18073.4711\" stroke=\"#000000\"/>\n</g>\n<!-- 139881359111568 -->\n<g class=\"node\" id=\"node14\">\n<title>139881359111568</title>\n<polygon fill=\"none\" points=\"245.5,-17958.5 245.5,-17994.5 403.5,-17994.5 403.5,-17958.5 245.5,-17958.5\" stroke=\"#000000\"/>\n<text fill=\"#000000\" font-family=\"Times,serif\" font-size=\"14.00\" text-anchor=\"middle\" x=\"324.5\" y=\"-17972.8\">res2a_branch1: Conv2D</text>\n</g>\n<!-- 139881359031504&#45;&gt;139881359111568 -->\n<g class=\"edge\" id=\"edge13\">\n<title>139881359031504-&gt;139881359111568</title>\n<path d=\"M231.7106,-18104.3042C250.1981,-18078.8403 283.9072,-18032.4108 305.2051,-18003.0759\" fill=\"none\" stroke=\"#000000\"/>\n<polygon fill=\"#000000\" points=\"308.08,-18005.0736 311.1229,-17994.9251 302.4154,-18000.961 308.08,-18005.0736\" stroke=\"#000000\"/>\n</g>\n<!-- 139881361444624 -->\n<g class=\"node\" id=\"node8\">\n<title>139881361444624</title>\n<polygon fill=\"none\" points=\"0,-17958.5 0,-17994.5 227,-17994.5 227,-17958.5 0,-17958.5\" stroke=\"#000000\"/>\n<text fill=\"#000000\" font-family=\"Times,serif\" font-size=\"14.00\" text-anchor=\"middle\" x=\"113.5\" y=\"-17972.8\">bn2a_branch2a: BatchNormalization</text>\n</g>\n<!-- 139881429894288&#45;&gt;139881361444624 -->\n<g class=\"edge\" id=\"edge7\">\n<title>139881429894288-&gt;139881361444624</title>\n<path d=\"M151.1404,-18031.4551C145.2509,-18022.8564 138.0913,-18012.4034 131.6039,-18002.9316\" fill=\"none\" stroke=\"#000000\"/>\n<polygon fill=\"#000000\" points=\"134.4292,-18000.8628 125.8907,-17994.5904 128.654,-18004.8185 134.4292,-18000.8628\" stroke=\"#000000\"/>\n</g>\n<!-- 139881361443088 -->\n<g class=\"node\" id=\"node9\">\n<title>139881361443088</title>\n<polygon fill=\"none\" points=\"38.5,-17885.5 38.5,-17921.5 192.5,-17921.5 192.5,-17885.5 38.5,-17885.5\" stroke=\"#000000\"/>\n<text fill=\"#000000\" font-family=\"Times,serif\" font-size=\"14.00\" text-anchor=\"middle\" x=\"115.5\" y=\"-17899.8\">activation_1: Activation</text>\n</g>\n<!-- 139881361444624&#45;&gt;139881361443088 -->\n<g class=\"edge\" id=\"edge8\">\n<title>139881361444624-&gt;139881361443088</title>\n<path d=\"M113.9944,-17958.4551C114.2155,-17950.3828 114.4815,-17940.6764 114.7279,-17931.6817\" fill=\"none\" stroke=\"#000000\"/>\n<polygon fill=\"#000000\" points=\"118.2291,-17931.6825 115.0044,-17921.5904 111.2317,-17931.4907 118.2291,-17931.6825\" stroke=\"#000000\"/>\n</g>\n<!-- 139881359995920 -->\n<g class=\"node\" id=\"node10\">\n<title>139881359995920</title>\n<polygon fill=\"none\" points=\"49,-17812.5 49,-17848.5 214,-17848.5 214,-17812.5 49,-17812.5\" stroke=\"#000000\"/>\n<text fill=\"#000000\" font-family=\"Times,serif\" font-size=\"14.00\" text-anchor=\"middle\" x=\"131.5\" y=\"-17826.8\">res2a_branch2b: Conv2D</text>\n</g>\n<!-- 139881361443088&#45;&gt;139881359995920 -->\n<g class=\"edge\" id=\"edge9\">\n<title>139881361443088-&gt;139881359995920</title>\n<path d=\"M119.4551,-17885.4551C121.2435,-17877.2951 123.398,-17867.4652 125.3874,-17858.3887\" fill=\"none\" stroke=\"#000000\"/>\n<polygon fill=\"#000000\" points=\"128.8128,-17859.1079 127.535,-17848.5904 121.9751,-17857.6091 128.8128,-17859.1079\" stroke=\"#000000\"/>\n</g>\n<!-- 139881359998416 -->\n<g class=\"node\" id=\"node11\">\n<title>139881359998416</title>\n<polygon fill=\"none\" points=\"48,-17739.5 48,-17775.5 277,-17775.5 277,-17739.5 48,-17739.5\" stroke=\"#000000\"/>\n<text fill=\"#000000\" font-family=\"Times,serif\" font-size=\"14.00\" text-anchor=\"middle\" x=\"162.5\" y=\"-17753.8\">bn2a_branch2b: BatchNormalization</text>\n</g>\n<!-- 139881359995920&#45;&gt;139881359998416 -->\n<g class=\"edge\" id=\"edge10\">\n<title>139881359995920-&gt;139881359998416</title>\n<path d=\"M139.1629,-17812.4551C142.7026,-17804.1196 146.9823,-17794.0416 150.9051,-17784.8042\" fill=\"none\" stroke=\"#000000\"/>\n<polygon fill=\"#000000\" points=\"154.1306,-17786.1629 154.8178,-17775.5904 147.6874,-17783.4267 154.1306,-17786.1629\" stroke=\"#000000\"/>\n</g>\n<!-- 139881359953680 -->\n<g class=\"node\" id=\"node12\">\n<title>139881359953680</title>\n<polygon fill=\"none\" points=\"90.5,-17666.5 90.5,-17702.5 244.5,-17702.5 244.5,-17666.5 90.5,-17666.5\" stroke=\"#000000\"/>\n<text fill=\"#000000\" font-family=\"Times,serif\" font-size=\"14.00\" text-anchor=\"middle\" x=\"167.5\" y=\"-17680.8\">activation_2: Activation</text>\n</g>\n<!-- 139881359998416&#45;&gt;139881359953680 -->\n<g class=\"edge\" id=\"edge11\">\n<title>139881359998416-&gt;139881359953680</title>\n<path d=\"M163.736,-17739.4551C164.2888,-17731.3828 164.9537,-17721.6764 165.5697,-17712.6817\" fill=\"none\" stroke=\"#000000\"/>\n<polygon fill=\"#000000\" points=\"169.0693,-17712.8062 166.2609,-17702.5904 162.0857,-17712.3278 169.0693,-17712.8062\" stroke=\"#000000\"/>\n</g>\n<!-- 139881361450576 -->\n<g class=\"node\" id=\"node13\">\n<title>139881361450576</title>\n<polygon fill=\"none\" points=\"85.5,-17593.5 85.5,-17629.5 249.5,-17629.5 249.5,-17593.5 85.5,-17593.5\" stroke=\"#000000\"/>\n<text fill=\"#000000\" font-family=\"Times,serif\" font-size=\"14.00\" text-anchor=\"middle\" x=\"167.5\" y=\"-17607.8\">res2a_branch2c: Conv2D</text>\n</g>\n<!-- 139881359953680&#45;&gt;139881361450576 -->\n<g class=\"edge\" id=\"edge12\">\n<title>139881359953680-&gt;139881361450576</title>\n<path d=\"M167.5,-17666.4551C167.5,-17658.3828 167.5,-17648.6764 167.5,-17639.6817\" fill=\"none\" stroke=\"#000000\"/>\n<polygon fill=\"#000000\" points=\"171.0001,-17639.5903 167.5,-17629.5904 164.0001,-17639.5904 171.0001,-17639.5903\" stroke=\"#000000\"/>\n</g>\n<!-- 139881361496976 -->\n<g class=\"node\" id=\"node15\">\n<title>139881361496976</title>\n<polygon fill=\"none\" points=\"54,-17520.5 54,-17556.5 281,-17556.5 281,-17520.5 54,-17520.5\" stroke=\"#000000\"/>\n<text fill=\"#000000\" font-family=\"Times,serif\" font-size=\"14.00\" text-anchor=\"middle\" x=\"167.5\" y=\"-17534.8\">bn2a_branch2c: BatchNormalization</text>\n</g>\n<!-- 139881361450576&#45;&gt;139881361496976 -->\n<g class=\"edge\" id=\"edge14\">\n<title>139881361450576-&gt;139881361496976</title>\n<path d=\"M167.5,-17593.4551C167.5,-17585.3828 167.5,-17575.6764 167.5,-17566.6817\" fill=\"none\" stroke=\"#000000\"/>\n<polygon fill=\"#000000\" points=\"171.0001,-17566.5903 167.5,-17556.5904 164.0001,-17566.5904 171.0001,-17566.5903\" stroke=\"#000000\"/>\n</g>\n<!-- 139881359783824 -->\n<g class=\"node\" id=\"node16\">\n<title>139881359783824</title>\n<polygon fill=\"none\" points=\"212,-17885.5 212,-17921.5 433,-17921.5 433,-17885.5 212,-17885.5\" stroke=\"#000000\"/>\n<text fill=\"#000000\" font-family=\"Times,serif\" font-size=\"14.00\" text-anchor=\"middle\" x=\"322.5\" y=\"-17899.8\">bn2a_branch1: BatchNormalization</text>\n</g>\n<!-- 139881359111568&#45;&gt;139881359783824 -->\n<g class=\"edge\" id=\"edge15\">\n<title>139881359111568-&gt;139881359783824</title>\n<path d=\"M324.0056,-17958.4551C323.7845,-17950.3828 323.5185,-17940.6764 323.2721,-17931.6817\" fill=\"none\" stroke=\"#000000\"/>\n<polygon fill=\"#000000\" points=\"326.7683,-17931.4907 322.9956,-17921.5904 319.7709,-17931.6825 326.7683,-17931.4907\" stroke=\"#000000\"/>\n</g>\n<!-- 139881359801616 -->\n<g class=\"node\" id=\"node17\">\n<title>139881359801616</title>\n<polygon fill=\"none\" points=\"203.5,-17447.5 203.5,-17483.5 273.5,-17483.5 273.5,-17447.5 203.5,-17447.5\" stroke=\"#000000\"/>\n<text fill=\"#000000\" font-family=\"Times,serif\" font-size=\"14.00\" text-anchor=\"middle\" x=\"238.5\" y=\"-17461.8\">add: Add</text>\n</g>\n<!-- 139881361496976&#45;&gt;139881359801616 -->\n<g class=\"edge\" id=\"edge16\">\n<title>139881361496976-&gt;139881359801616</title>\n<path d=\"M185.0506,-17520.4551C193.755,-17511.5054 204.4132,-17500.547 213.9156,-17490.7769\" fill=\"none\" stroke=\"#000000\"/>\n<polygon fill=\"#000000\" points=\"216.4421,-17493.1992 220.9053,-17483.5904 211.424,-17488.3187 216.4421,-17493.1992\" stroke=\"#000000\"/>\n</g>\n<!-- 139881359783824&#45;&gt;139881359801616 -->\n<g class=\"edge\" id=\"edge17\">\n<title>139881359783824-&gt;139881359801616</title>\n<path d=\"M320.6352,-17885.0845C317.999,-17857.4173 313.5,-17803.4656 313.5,-17757.5 313.5,-17757.5 313.5,-17757.5 313.5,-17611.5 313.5,-17569.4577 309.8174,-17556.807 289.5,-17520 283.6393,-17509.3828 275.2479,-17499.2448 266.9593,-17490.6546\" fill=\"none\" stroke=\"#000000\"/>\n<polygon fill=\"#000000\" points=\"269.3356,-17488.082 259.7681,-17483.5308 264.4093,-17493.055 269.3356,-17488.082\" stroke=\"#000000\"/>\n</g>\n<!-- 139881359932240 -->\n<g class=\"node\" id=\"node18\">\n<title>139881359932240</title>\n<polygon fill=\"none\" points=\"161.5,-17374.5 161.5,-17410.5 315.5,-17410.5 315.5,-17374.5 161.5,-17374.5\" stroke=\"#000000\"/>\n<text fill=\"#000000\" font-family=\"Times,serif\" font-size=\"14.00\" text-anchor=\"middle\" x=\"238.5\" y=\"-17388.8\">activation_3: Activation</text>\n</g>\n<!-- 139881359801616&#45;&gt;139881359932240 -->\n<g class=\"edge\" id=\"edge18\">\n<title>139881359801616-&gt;139881359932240</title>\n<path d=\"M238.5,-17447.4551C238.5,-17439.3828 238.5,-17429.6764 238.5,-17420.6817\" fill=\"none\" stroke=\"#000000\"/>\n<polygon fill=\"#000000\" points=\"242.0001,-17420.5903 238.5,-17410.5904 235.0001,-17420.5904 242.0001,-17420.5903\" stroke=\"#000000\"/>\n</g>\n<!-- 139881360421968 -->\n<g class=\"node\" id=\"node19\">\n<title>139881360421968</title>\n<polygon fill=\"none\" points=\"85,-17301.5 85,-17337.5 250,-17337.5 250,-17301.5 85,-17301.5\" stroke=\"#000000\"/>\n<text fill=\"#000000\" font-family=\"Times,serif\" font-size=\"14.00\" text-anchor=\"middle\" x=\"167.5\" y=\"-17315.8\">res2b_branch2a: Conv2D</text>\n</g>\n<!-- 139881359932240&#45;&gt;139881360421968 -->\n<g class=\"edge\" id=\"edge19\">\n<title>139881359932240-&gt;139881360421968</title>\n<path d=\"M220.9494,-17374.4551C212.245,-17365.5054 201.5868,-17354.547 192.0844,-17344.7769\" fill=\"none\" stroke=\"#000000\"/>\n<polygon fill=\"#000000\" points=\"194.576,-17342.3187 185.0947,-17337.5904 189.5579,-17347.1992 194.576,-17342.3187\" stroke=\"#000000\"/>\n</g>\n<!-- 139881360900944 -->\n<g class=\"node\" id=\"node27\">\n<title>139881360900944</title>\n<polygon fill=\"none\" points=\"180,-16717.5 180,-16753.5 265,-16753.5 265,-16717.5 180,-16717.5\" stroke=\"#000000\"/>\n<text fill=\"#000000\" font-family=\"Times,serif\" font-size=\"14.00\" text-anchor=\"middle\" x=\"222.5\" y=\"-16731.8\">add_1: Add</text>\n</g>\n<!-- 139881359932240&#45;&gt;139881360900944 -->\n<g class=\"edge\" id=\"edge28\">\n<title>139881359932240-&gt;139881360900944</title>\n<path d=\"M250.3762,-17374.4575C266.8145,-17347.6944 294.5,-17295.366 294.5,-17246.5 294.5,-17246.5 294.5,-17246.5 294.5,-16881.5 294.5,-16839.8732 294.0378,-16826.7568 274.5,-16790 268.8031,-16779.2823 260.402,-16769.1724 252.0064,-16760.6383\" fill=\"none\" stroke=\"#000000\"/>\n<polygon fill=\"#000000\" points=\"254.3189,-16758.0057 244.6979,-16753.5687 249.452,-16763.037 254.3189,-16758.0057\" stroke=\"#000000\"/>\n</g>\n<!-- 139881360424400 -->\n<g class=\"node\" id=\"node20\">\n<title>139881360424400</title>\n<polygon fill=\"none\" points=\"37,-17228.5 37,-17264.5 266,-17264.5 266,-17228.5 37,-17228.5\" stroke=\"#000000\"/>\n<text fill=\"#000000\" font-family=\"Times,serif\" font-size=\"14.00\" text-anchor=\"middle\" x=\"151.5\" y=\"-17242.8\">bn2b_branch2a: BatchNormalization</text>\n</g>\n<!-- 139881360421968&#45;&gt;139881360424400 -->\n<g class=\"edge\" id=\"edge20\">\n<title>139881360421968-&gt;139881360424400</title>\n<path d=\"M163.5449,-17301.4551C161.7565,-17293.2951 159.602,-17283.4652 157.6126,-17274.3887\" fill=\"none\" stroke=\"#000000\"/>\n<polygon fill=\"#000000\" points=\"161.0249,-17273.6091 155.465,-17264.5904 154.1872,-17275.1079 161.0249,-17273.6091\" stroke=\"#000000\"/>\n</g>\n<!-- 139881360438672 -->\n<g class=\"node\" id=\"node21\">\n<title>139881360438672</title>\n<polygon fill=\"none\" points=\"74.5,-17155.5 74.5,-17191.5 228.5,-17191.5 228.5,-17155.5 74.5,-17155.5\" stroke=\"#000000\"/>\n<text fill=\"#000000\" font-family=\"Times,serif\" font-size=\"14.00\" text-anchor=\"middle\" x=\"151.5\" y=\"-17169.8\">activation_4: Activation</text>\n</g>\n<!-- 139881360424400&#45;&gt;139881360438672 -->\n<g class=\"edge\" id=\"edge21\">\n<title>139881360424400-&gt;139881360438672</title>\n<path d=\"M151.5,-17228.4551C151.5,-17220.3828 151.5,-17210.6764 151.5,-17201.6817\" fill=\"none\" stroke=\"#000000\"/>\n<polygon fill=\"#000000\" points=\"155.0001,-17201.5903 151.5,-17191.5904 148.0001,-17201.5904 155.0001,-17201.5903\" stroke=\"#000000\"/>\n</g>\n<!-- 139881360272016 -->\n<g class=\"node\" id=\"node22\">\n<title>139881360272016</title>\n<polygon fill=\"none\" points=\"68,-17082.5 68,-17118.5 235,-17118.5 235,-17082.5 68,-17082.5\" stroke=\"#000000\"/>\n<text fill=\"#000000\" font-family=\"Times,serif\" font-size=\"14.00\" text-anchor=\"middle\" x=\"151.5\" y=\"-17096.8\">res2b_branch2b: Conv2D</text>\n</g>\n<!-- 139881360438672&#45;&gt;139881360272016 -->\n<g class=\"edge\" id=\"edge22\">\n<title>139881360438672-&gt;139881360272016</title>\n<path d=\"M151.5,-17155.4551C151.5,-17147.3828 151.5,-17137.6764 151.5,-17128.6817\" fill=\"none\" stroke=\"#000000\"/>\n<polygon fill=\"#000000\" points=\"155.0001,-17128.5903 151.5,-17118.5904 148.0001,-17128.5904 155.0001,-17128.5903\" stroke=\"#000000\"/>\n</g>\n<!-- 139881360272400 -->\n<g class=\"node\" id=\"node23\">\n<title>139881360272400</title>\n<polygon fill=\"none\" points=\"36.5,-17009.5 36.5,-17045.5 266.5,-17045.5 266.5,-17009.5 36.5,-17009.5\" stroke=\"#000000\"/>\n<text fill=\"#000000\" font-family=\"Times,serif\" font-size=\"14.00\" text-anchor=\"middle\" x=\"151.5\" y=\"-17023.8\">bn2b_branch2b: BatchNormalization</text>\n</g>\n<!-- 139881360272016&#45;&gt;139881360272400 -->\n<g class=\"edge\" id=\"edge23\">\n<title>139881360272016-&gt;139881360272400</title>\n<path d=\"M151.5,-17082.4551C151.5,-17074.3828 151.5,-17064.6764 151.5,-17055.6817\" fill=\"none\" stroke=\"#000000\"/>\n<polygon fill=\"#000000\" points=\"155.0001,-17055.5903 151.5,-17045.5904 148.0001,-17055.5904 155.0001,-17055.5903\" stroke=\"#000000\"/>\n</g>\n<!-- 139881361089744 -->\n<g class=\"node\" id=\"node24\">\n<title>139881361089744</title>\n<polygon fill=\"none\" points=\"74.5,-16936.5 74.5,-16972.5 228.5,-16972.5 228.5,-16936.5 74.5,-16936.5\" stroke=\"#000000\"/>\n<text fill=\"#000000\" font-family=\"Times,serif\" font-size=\"14.00\" text-anchor=\"middle\" x=\"151.5\" y=\"-16950.8\">activation_5: Activation</text>\n</g>\n<!-- 139881360272400&#45;&gt;139881361089744 -->\n<g class=\"edge\" id=\"edge24\">\n<title>139881360272400-&gt;139881361089744</title>\n<path d=\"M151.5,-17009.4551C151.5,-17001.3828 151.5,-16991.6764 151.5,-16982.6817\" fill=\"none\" stroke=\"#000000\"/>\n<polygon fill=\"#000000\" points=\"155.0001,-16982.5903 151.5,-16972.5904 148.0001,-16982.5904 155.0001,-16982.5903\" stroke=\"#000000\"/>\n</g>\n<!-- 139881361218000 -->\n<g class=\"node\" id=\"node25\">\n<title>139881361218000</title>\n<polygon fill=\"none\" points=\"69,-16863.5 69,-16899.5 234,-16899.5 234,-16863.5 69,-16863.5\" stroke=\"#000000\"/>\n<text fill=\"#000000\" font-family=\"Times,serif\" font-size=\"14.00\" text-anchor=\"middle\" x=\"151.5\" y=\"-16877.8\">res2b_branch2c: Conv2D</text>\n</g>\n<!-- 139881361089744&#45;&gt;139881361218000 -->\n<g class=\"edge\" id=\"edge25\">\n<title>139881361089744-&gt;139881361218000</title>\n<path d=\"M151.5,-16936.4551C151.5,-16928.3828 151.5,-16918.6764 151.5,-16909.6817\" fill=\"none\" stroke=\"#000000\"/>\n<polygon fill=\"#000000\" points=\"155.0001,-16909.5903 151.5,-16899.5904 148.0001,-16909.5904 155.0001,-16909.5903\" stroke=\"#000000\"/>\n</g>\n<!-- 139881361218320 -->\n<g class=\"node\" id=\"node26\">\n<title>139881361218320</title>\n<polygon fill=\"none\" points=\"37,-16790.5 37,-16826.5 266,-16826.5 266,-16790.5 37,-16790.5\" stroke=\"#000000\"/>\n<text fill=\"#000000\" font-family=\"Times,serif\" font-size=\"14.00\" text-anchor=\"middle\" x=\"151.5\" y=\"-16804.8\">bn2b_branch2c: BatchNormalization</text>\n</g>\n<!-- 139881361218000&#45;&gt;139881361218320 -->\n<g class=\"edge\" id=\"edge26\">\n<title>139881361218000-&gt;139881361218320</title>\n<path d=\"M151.5,-16863.4551C151.5,-16855.3828 151.5,-16845.6764 151.5,-16836.6817\" fill=\"none\" stroke=\"#000000\"/>\n<polygon fill=\"#000000\" points=\"155.0001,-16836.5903 151.5,-16826.5904 148.0001,-16836.5904 155.0001,-16836.5903\" stroke=\"#000000\"/>\n</g>\n<!-- 139881361218320&#45;&gt;139881360900944 -->\n<g class=\"edge\" id=\"edge27\">\n<title>139881361218320-&gt;139881360900944</title>\n<path d=\"M169.0506,-16790.4551C177.755,-16781.5054 188.4132,-16770.547 197.9156,-16760.7769\" fill=\"none\" stroke=\"#000000\"/>\n<polygon fill=\"#000000\" points=\"200.4421,-16763.1992 204.9053,-16753.5904 195.424,-16758.3187 200.4421,-16763.1992\" stroke=\"#000000\"/>\n</g>\n<!-- 139881360925712 -->\n<g class=\"node\" id=\"node28\">\n<title>139881360925712</title>\n<polygon fill=\"none\" points=\"145.5,-16644.5 145.5,-16680.5 299.5,-16680.5 299.5,-16644.5 145.5,-16644.5\" stroke=\"#000000\"/>\n<text fill=\"#000000\" font-family=\"Times,serif\" font-size=\"14.00\" text-anchor=\"middle\" x=\"222.5\" y=\"-16658.8\">activation_6: Activation</text>\n</g>\n<!-- 139881360900944&#45;&gt;139881360925712 -->\n<g class=\"edge\" id=\"edge29\">\n<title>139881360900944-&gt;139881360925712</title>\n<path d=\"M222.5,-16717.4551C222.5,-16709.3828 222.5,-16699.6764 222.5,-16690.6817\" fill=\"none\" stroke=\"#000000\"/>\n<polygon fill=\"#000000\" points=\"226.0001,-16690.5903 222.5,-16680.5904 219.0001,-16690.5904 226.0001,-16690.5903\" stroke=\"#000000\"/>\n</g>\n<!-- 139881360777808 -->\n<g class=\"node\" id=\"node29\">\n<title>139881360777808</title>\n<polygon fill=\"none\" points=\"85.5,-16571.5 85.5,-16607.5 249.5,-16607.5 249.5,-16571.5 85.5,-16571.5\" stroke=\"#000000\"/>\n<text fill=\"#000000\" font-family=\"Times,serif\" font-size=\"14.00\" text-anchor=\"middle\" x=\"167.5\" y=\"-16585.8\">res2c_branch2a: Conv2D</text>\n</g>\n<!-- 139881360925712&#45;&gt;139881360777808 -->\n<g class=\"edge\" id=\"edge30\">\n<title>139881360925712-&gt;139881360777808</title>\n<path d=\"M208.9045,-16644.4551C202.3599,-16635.7686 194.3896,-16625.1898 187.196,-16615.642\" fill=\"none\" stroke=\"#000000\"/>\n<polygon fill=\"#000000\" points=\"189.9427,-16613.4711 181.1297,-16607.5904 184.3518,-16617.6834 189.9427,-16613.4711\" stroke=\"#000000\"/>\n</g>\n<!-- 139881359895696 -->\n<g class=\"node\" id=\"node37\">\n<title>139881359895696</title>\n<polygon fill=\"none\" points=\"180,-15987.5 180,-16023.5 265,-16023.5 265,-15987.5 180,-15987.5\" stroke=\"#000000\"/>\n<text fill=\"#000000\" font-family=\"Times,serif\" font-size=\"14.00\" text-anchor=\"middle\" x=\"222.5\" y=\"-16001.8\">add_2: Add</text>\n</g>\n<!-- 139881360925712&#45;&gt;139881359895696 -->\n<g class=\"edge\" id=\"edge39\">\n<title>139881360925712-&gt;139881359895696</title>\n<path d=\"M238.2572,-16644.0704C259.1744,-16617.6575 293.5,-16566.6702 293.5,-16516.5 293.5,-16516.5 293.5,-16516.5 293.5,-16151.5 293.5,-16109.8732 292.8594,-16096.8511 273.5,-16060 267.9066,-16049.3527 259.6654,-16039.2622 251.4315,-16030.7242\" fill=\"none\" stroke=\"#000000\"/>\n<polygon fill=\"#000000\" points=\"253.8388,-16028.1825 244.2644,-16023.6458 248.92,-16033.163 253.8388,-16028.1825\" stroke=\"#000000\"/>\n</g>\n<!-- 139881360778192 -->\n<g class=\"node\" id=\"node30\">\n<title>139881360778192</title>\n<polygon fill=\"none\" points=\"38,-16498.5 38,-16534.5 265,-16534.5 265,-16498.5 38,-16498.5\" stroke=\"#000000\"/>\n<text fill=\"#000000\" font-family=\"Times,serif\" font-size=\"14.00\" text-anchor=\"middle\" x=\"151.5\" y=\"-16512.8\">bn2c_branch2a: BatchNormalization</text>\n</g>\n<!-- 139881360777808&#45;&gt;139881360778192 -->\n<g class=\"edge\" id=\"edge31\">\n<title>139881360777808-&gt;139881360778192</title>\n<path d=\"M163.5449,-16571.4551C161.7565,-16563.2951 159.602,-16553.4652 157.6126,-16544.3887\" fill=\"none\" stroke=\"#000000\"/>\n<polygon fill=\"#000000\" points=\"161.0249,-16543.6091 155.465,-16534.5904 154.1872,-16545.1079 161.0249,-16543.6091\" stroke=\"#000000\"/>\n</g>\n<!-- 139881361415504 -->\n<g class=\"node\" id=\"node31\">\n<title>139881361415504</title>\n<polygon fill=\"none\" points=\"74.5,-16425.5 74.5,-16461.5 228.5,-16461.5 228.5,-16425.5 74.5,-16425.5\" stroke=\"#000000\"/>\n<text fill=\"#000000\" font-family=\"Times,serif\" font-size=\"14.00\" text-anchor=\"middle\" x=\"151.5\" y=\"-16439.8\">activation_7: Activation</text>\n</g>\n<!-- 139881360778192&#45;&gt;139881361415504 -->\n<g class=\"edge\" id=\"edge32\">\n<title>139881360778192-&gt;139881361415504</title>\n<path d=\"M151.5,-16498.4551C151.5,-16490.3828 151.5,-16480.6764 151.5,-16471.6817\" fill=\"none\" stroke=\"#000000\"/>\n<polygon fill=\"#000000\" points=\"155.0001,-16471.5903 151.5,-16461.5904 148.0001,-16471.5904 155.0001,-16471.5903\" stroke=\"#000000\"/>\n</g>\n<!-- 139881360891536 -->\n<g class=\"node\" id=\"node32\">\n<title>139881360891536</title>\n<polygon fill=\"none\" points=\"69,-16352.5 69,-16388.5 234,-16388.5 234,-16352.5 69,-16352.5\" stroke=\"#000000\"/>\n<text fill=\"#000000\" font-family=\"Times,serif\" font-size=\"14.00\" text-anchor=\"middle\" x=\"151.5\" y=\"-16366.8\">res2c_branch2b: Conv2D</text>\n</g>\n<!-- 139881361415504&#45;&gt;139881360891536 -->\n<g class=\"edge\" id=\"edge33\">\n<title>139881361415504-&gt;139881360891536</title>\n<path d=\"M151.5,-16425.4551C151.5,-16417.3828 151.5,-16407.6764 151.5,-16398.6817\" fill=\"none\" stroke=\"#000000\"/>\n<polygon fill=\"#000000\" points=\"155.0001,-16398.5903 151.5,-16388.5904 148.0001,-16398.5904 155.0001,-16398.5903\" stroke=\"#000000\"/>\n</g>\n<!-- 139881360888784 -->\n<g class=\"node\" id=\"node33\">\n<title>139881360888784</title>\n<polygon fill=\"none\" points=\"36,-16279.5 36,-16315.5 265,-16315.5 265,-16279.5 36,-16279.5\" stroke=\"#000000\"/>\n<text fill=\"#000000\" font-family=\"Times,serif\" font-size=\"14.00\" text-anchor=\"middle\" x=\"150.5\" y=\"-16293.8\">bn2c_branch2b: BatchNormalization</text>\n</g>\n<!-- 139881360891536&#45;&gt;139881360888784 -->\n<g class=\"edge\" id=\"edge34\">\n<title>139881360891536-&gt;139881360888784</title>\n<path d=\"M151.2528,-16352.4551C151.1422,-16344.3828 151.0093,-16334.6764 150.8861,-16325.6817\" fill=\"none\" stroke=\"#000000\"/>\n<polygon fill=\"#000000\" points=\"154.3846,-16325.5414 150.7478,-16315.5904 147.3852,-16325.6374 154.3846,-16325.5414\" stroke=\"#000000\"/>\n</g>\n<!-- 139881361189264 -->\n<g class=\"node\" id=\"node34\">\n<title>139881361189264</title>\n<polygon fill=\"none\" points=\"73.5,-16206.5 73.5,-16242.5 227.5,-16242.5 227.5,-16206.5 73.5,-16206.5\" stroke=\"#000000\"/>\n<text fill=\"#000000\" font-family=\"Times,serif\" font-size=\"14.00\" text-anchor=\"middle\" x=\"150.5\" y=\"-16220.8\">activation_8: Activation</text>\n</g>\n<!-- 139881360888784&#45;&gt;139881361189264 -->\n<g class=\"edge\" id=\"edge35\">\n<title>139881360888784-&gt;139881361189264</title>\n<path d=\"M150.5,-16279.4551C150.5,-16271.3828 150.5,-16261.6764 150.5,-16252.6817\" fill=\"none\" stroke=\"#000000\"/>\n<polygon fill=\"#000000\" points=\"154.0001,-16252.5903 150.5,-16242.5904 147.0001,-16252.5904 154.0001,-16252.5903\" stroke=\"#000000\"/>\n</g>\n<!-- 139881360430544 -->\n<g class=\"node\" id=\"node35\">\n<title>139881360430544</title>\n<polygon fill=\"none\" points=\"68.5,-16133.5 68.5,-16169.5 232.5,-16169.5 232.5,-16133.5 68.5,-16133.5\" stroke=\"#000000\"/>\n<text fill=\"#000000\" font-family=\"Times,serif\" font-size=\"14.00\" text-anchor=\"middle\" x=\"150.5\" y=\"-16147.8\">res2c_branch2c: Conv2D</text>\n</g>\n<!-- 139881361189264&#45;&gt;139881360430544 -->\n<g class=\"edge\" id=\"edge36\">\n<title>139881361189264-&gt;139881360430544</title>\n<path d=\"M150.5,-16206.4551C150.5,-16198.3828 150.5,-16188.6764 150.5,-16179.6817\" fill=\"none\" stroke=\"#000000\"/>\n<polygon fill=\"#000000\" points=\"154.0001,-16179.5903 150.5,-16169.5904 147.0001,-16179.5904 154.0001,-16179.5903\" stroke=\"#000000\"/>\n</g>\n<!-- 139881360423696 -->\n<g class=\"node\" id=\"node36\">\n<title>139881360423696</title>\n<polygon fill=\"none\" points=\"38,-16060.5 38,-16096.5 265,-16096.5 265,-16060.5 38,-16060.5\" stroke=\"#000000\"/>\n<text fill=\"#000000\" font-family=\"Times,serif\" font-size=\"14.00\" text-anchor=\"middle\" x=\"151.5\" y=\"-16074.8\">bn2c_branch2c: BatchNormalization</text>\n</g>\n<!-- 139881360430544&#45;&gt;139881360423696 -->\n<g class=\"edge\" id=\"edge37\">\n<title>139881360430544-&gt;139881360423696</title>\n<path d=\"M150.7472,-16133.4551C150.8578,-16125.3828 150.9907,-16115.6764 151.1139,-16106.6817\" fill=\"none\" stroke=\"#000000\"/>\n<polygon fill=\"#000000\" points=\"154.6148,-16106.6374 151.2522,-16096.5904 147.6154,-16106.5414 154.6148,-16106.6374\" stroke=\"#000000\"/>\n</g>\n<!-- 139881360423696&#45;&gt;139881359895696 -->\n<g class=\"edge\" id=\"edge38\">\n<title>139881360423696-&gt;139881359895696</title>\n<path d=\"M169.0506,-16060.4551C177.755,-16051.5054 188.4132,-16040.547 197.9156,-16030.7769\" fill=\"none\" stroke=\"#000000\"/>\n<polygon fill=\"#000000\" points=\"200.4421,-16033.1992 204.9053,-16023.5904 195.424,-16028.3187 200.4421,-16033.1992\" stroke=\"#000000\"/>\n</g>\n<!-- 139881359783440 -->\n<g class=\"node\" id=\"node38\">\n<title>139881359783440</title>\n<polygon fill=\"none\" points=\"145.5,-15914.5 145.5,-15950.5 299.5,-15950.5 299.5,-15914.5 145.5,-15914.5\" stroke=\"#000000\"/>\n<text fill=\"#000000\" font-family=\"Times,serif\" font-size=\"14.00\" text-anchor=\"middle\" x=\"222.5\" y=\"-15928.8\">activation_9: Activation</text>\n</g>\n<!-- 139881359895696&#45;&gt;139881359783440 -->\n<g class=\"edge\" id=\"edge40\">\n<title>139881359895696-&gt;139881359783440</title>\n<path d=\"M222.5,-15987.4551C222.5,-15979.3828 222.5,-15969.6764 222.5,-15960.6817\" fill=\"none\" stroke=\"#000000\"/>\n<polygon fill=\"#000000\" points=\"226.0001,-15960.5903 222.5,-15950.5904 219.0001,-15960.5904 226.0001,-15960.5903\" stroke=\"#000000\"/>\n</g>\n<!-- 139881360495440 -->\n<g class=\"node\" id=\"node39\">\n<title>139881360495440</title>\n<polygon fill=\"none\" points=\"85,-15841.5 85,-15877.5 250,-15877.5 250,-15841.5 85,-15841.5\" stroke=\"#000000\"/>\n<text fill=\"#000000\" font-family=\"Times,serif\" font-size=\"14.00\" text-anchor=\"middle\" x=\"167.5\" y=\"-15855.8\">res2d_branch2a: Conv2D</text>\n</g>\n<!-- 139881359783440&#45;&gt;139881360495440 -->\n<g class=\"edge\" id=\"edge41\">\n<title>139881359783440-&gt;139881360495440</title>\n<path d=\"M208.9045,-15914.4551C202.3599,-15905.7686 194.3896,-15895.1898 187.196,-15885.642\" fill=\"none\" stroke=\"#000000\"/>\n<polygon fill=\"#000000\" points=\"189.9427,-15883.4711 181.1297,-15877.5904 184.3518,-15887.6834 189.9427,-15883.4711\" stroke=\"#000000\"/>\n</g>\n<!-- 139881359604944 -->\n<g class=\"node\" id=\"node47\">\n<title>139881359604944</title>\n<polygon fill=\"none\" points=\"180,-15257.5 180,-15293.5 265,-15293.5 265,-15257.5 180,-15257.5\" stroke=\"#000000\"/>\n<text fill=\"#000000\" font-family=\"Times,serif\" font-size=\"14.00\" text-anchor=\"middle\" x=\"222.5\" y=\"-15271.8\">add_3: Add</text>\n</g>\n<!-- 139881359783440&#45;&gt;139881359604944 -->\n<g class=\"edge\" id=\"edge50\">\n<title>139881359783440-&gt;139881359604944</title>\n<path d=\"M238.4791,-15914.1083C259.6909,-15887.7403 294.5,-15836.8061 294.5,-15786.5 294.5,-15786.5 294.5,-15786.5 294.5,-15421.5 294.5,-15379.8732 294.0378,-15366.7568 274.5,-15330 268.8031,-15319.2823 260.402,-15309.1724 252.0064,-15300.6383\" fill=\"none\" stroke=\"#000000\"/>\n<polygon fill=\"#000000\" points=\"254.3189,-15298.0057 244.6979,-15293.5687 249.452,-15303.037 254.3189,-15298.0057\" stroke=\"#000000\"/>\n</g>\n<!-- 139881359740496 -->\n<g class=\"node\" id=\"node40\">\n<title>139881359740496</title>\n<polygon fill=\"none\" points=\"37,-15768.5 37,-15804.5 266,-15804.5 266,-15768.5 37,-15768.5\" stroke=\"#000000\"/>\n<text fill=\"#000000\" font-family=\"Times,serif\" font-size=\"14.00\" text-anchor=\"middle\" x=\"151.5\" y=\"-15782.8\">bn2d_branch2a: BatchNormalization</text>\n</g>\n<!-- 139881360495440&#45;&gt;139881359740496 -->\n<g class=\"edge\" id=\"edge42\">\n<title>139881360495440-&gt;139881359740496</title>\n<path d=\"M163.5449,-15841.4551C161.7565,-15833.2951 159.602,-15823.4652 157.6126,-15814.3887\" fill=\"none\" stroke=\"#000000\"/>\n<polygon fill=\"#000000\" points=\"161.0249,-15813.6091 155.465,-15804.5904 154.1872,-15815.1079 161.0249,-15813.6091\" stroke=\"#000000\"/>\n</g>\n<!-- 139881359737552 -->\n<g class=\"node\" id=\"node41\">\n<title>139881359737552</title>\n<polygon fill=\"none\" points=\"71,-15695.5 71,-15731.5 232,-15731.5 232,-15695.5 71,-15695.5\" stroke=\"#000000\"/>\n<text fill=\"#000000\" font-family=\"Times,serif\" font-size=\"14.00\" text-anchor=\"middle\" x=\"151.5\" y=\"-15709.8\">activation_10: Activation</text>\n</g>\n<!-- 139881359740496&#45;&gt;139881359737552 -->\n<g class=\"edge\" id=\"edge43\">\n<title>139881359740496-&gt;139881359737552</title>\n<path d=\"M151.5,-15768.4551C151.5,-15760.3828 151.5,-15750.6764 151.5,-15741.6817\" fill=\"none\" stroke=\"#000000\"/>\n<polygon fill=\"#000000\" points=\"155.0001,-15741.5903 151.5,-15731.5904 148.0001,-15741.5904 155.0001,-15741.5903\" stroke=\"#000000\"/>\n</g>\n<!-- 139881360730576 -->\n<g class=\"node\" id=\"node42\">\n<title>139881360730576</title>\n<polygon fill=\"none\" points=\"68,-15622.5 68,-15658.5 235,-15658.5 235,-15622.5 68,-15622.5\" stroke=\"#000000\"/>\n<text fill=\"#000000\" font-family=\"Times,serif\" font-size=\"14.00\" text-anchor=\"middle\" x=\"151.5\" y=\"-15636.8\">res2d_branch2b: Conv2D</text>\n</g>\n<!-- 139881359737552&#45;&gt;139881360730576 -->\n<g class=\"edge\" id=\"edge44\">\n<title>139881359737552-&gt;139881360730576</title>\n<path d=\"M151.5,-15695.4551C151.5,-15687.3828 151.5,-15677.6764 151.5,-15668.6817\" fill=\"none\" stroke=\"#000000\"/>\n<polygon fill=\"#000000\" points=\"155.0001,-15668.5903 151.5,-15658.5904 148.0001,-15668.5904 155.0001,-15668.5903\" stroke=\"#000000\"/>\n</g>\n<!-- 139881359444816 -->\n<g class=\"node\" id=\"node43\">\n<title>139881359444816</title>\n<polygon fill=\"none\" points=\"36.5,-15549.5 36.5,-15585.5 266.5,-15585.5 266.5,-15549.5 36.5,-15549.5\" stroke=\"#000000\"/>\n<text fill=\"#000000\" font-family=\"Times,serif\" font-size=\"14.00\" text-anchor=\"middle\" x=\"151.5\" y=\"-15563.8\">bn2d_branch2b: BatchNormalization</text>\n</g>\n<!-- 139881360730576&#45;&gt;139881359444816 -->\n<g class=\"edge\" id=\"edge45\">\n<title>139881360730576-&gt;139881359444816</title>\n<path d=\"M151.5,-15622.4551C151.5,-15614.3828 151.5,-15604.6764 151.5,-15595.6817\" fill=\"none\" stroke=\"#000000\"/>\n<polygon fill=\"#000000\" points=\"155.0001,-15595.5903 151.5,-15585.5904 148.0001,-15595.5904 155.0001,-15595.5903\" stroke=\"#000000\"/>\n</g>\n<!-- 139881360688016 -->\n<g class=\"node\" id=\"node44\">\n<title>139881360688016</title>\n<polygon fill=\"none\" points=\"71,-15476.5 71,-15512.5 232,-15512.5 232,-15476.5 71,-15476.5\" stroke=\"#000000\"/>\n<text fill=\"#000000\" font-family=\"Times,serif\" font-size=\"14.00\" text-anchor=\"middle\" x=\"151.5\" y=\"-15490.8\">activation_11: Activation</text>\n</g>\n<!-- 139881359444816&#45;&gt;139881360688016 -->\n<g class=\"edge\" id=\"edge46\">\n<title>139881359444816-&gt;139881360688016</title>\n<path d=\"M151.5,-15549.4551C151.5,-15541.3828 151.5,-15531.6764 151.5,-15522.6817\" fill=\"none\" stroke=\"#000000\"/>\n<polygon fill=\"#000000\" points=\"155.0001,-15522.5903 151.5,-15512.5904 148.0001,-15522.5904 155.0001,-15522.5903\" stroke=\"#000000\"/>\n</g>\n<!-- 139881359603216 -->\n<g class=\"node\" id=\"node45\">\n<title>139881359603216</title>\n<polygon fill=\"none\" points=\"69,-15403.5 69,-15439.5 234,-15439.5 234,-15403.5 69,-15403.5\" stroke=\"#000000\"/>\n<text fill=\"#000000\" font-family=\"Times,serif\" font-size=\"14.00\" text-anchor=\"middle\" x=\"151.5\" y=\"-15417.8\">res2d_branch2c: Conv2D</text>\n</g>\n<!-- 139881360688016&#45;&gt;139881359603216 -->\n<g class=\"edge\" id=\"edge47\">\n<title>139881360688016-&gt;139881359603216</title>\n<path d=\"M151.5,-15476.4551C151.5,-15468.3828 151.5,-15458.6764 151.5,-15449.6817\" fill=\"none\" stroke=\"#000000\"/>\n<polygon fill=\"#000000\" points=\"155.0001,-15449.5903 151.5,-15439.5904 148.0001,-15449.5904 155.0001,-15449.5903\" stroke=\"#000000\"/>\n</g>\n<!-- 139881359603536 -->\n<g class=\"node\" id=\"node46\">\n<title>139881359603536</title>\n<polygon fill=\"none\" points=\"37,-15330.5 37,-15366.5 266,-15366.5 266,-15330.5 37,-15330.5\" stroke=\"#000000\"/>\n<text fill=\"#000000\" font-family=\"Times,serif\" font-size=\"14.00\" text-anchor=\"middle\" x=\"151.5\" y=\"-15344.8\">bn2d_branch2c: BatchNormalization</text>\n</g>\n<!-- 139881359603216&#45;&gt;139881359603536 -->\n<g class=\"edge\" id=\"edge48\">\n<title>139881359603216-&gt;139881359603536</title>\n<path d=\"M151.5,-15403.4551C151.5,-15395.3828 151.5,-15385.6764 151.5,-15376.6817\" fill=\"none\" stroke=\"#000000\"/>\n<polygon fill=\"#000000\" points=\"155.0001,-15376.5903 151.5,-15366.5904 148.0001,-15376.5904 155.0001,-15376.5903\" stroke=\"#000000\"/>\n</g>\n<!-- 139881359603536&#45;&gt;139881359604944 -->\n<g class=\"edge\" id=\"edge49\">\n<title>139881359603536-&gt;139881359604944</title>\n<path d=\"M169.0506,-15330.4551C177.755,-15321.5054 188.4132,-15310.547 197.9156,-15300.7769\" fill=\"none\" stroke=\"#000000\"/>\n<polygon fill=\"#000000\" points=\"200.4421,-15303.1992 204.9053,-15293.5904 195.424,-15298.3187 200.4421,-15303.1992\" stroke=\"#000000\"/>\n</g>\n<!-- 139881359203280 -->\n<g class=\"node\" id=\"node48\">\n<title>139881359203280</title>\n<polygon fill=\"none\" points=\"142,-15184.5 142,-15220.5 303,-15220.5 303,-15184.5 142,-15184.5\" stroke=\"#000000\"/>\n<text fill=\"#000000\" font-family=\"Times,serif\" font-size=\"14.00\" text-anchor=\"middle\" x=\"222.5\" y=\"-15198.8\">activation_12: Activation</text>\n</g>\n<!-- 139881359604944&#45;&gt;139881359203280 -->\n<g class=\"edge\" id=\"edge51\">\n<title>139881359604944-&gt;139881359203280</title>\n<path d=\"M222.5,-15257.4551C222.5,-15249.3828 222.5,-15239.6764 222.5,-15230.6817\" fill=\"none\" stroke=\"#000000\"/>\n<polygon fill=\"#000000\" points=\"226.0001,-15230.5903 222.5,-15220.5904 219.0001,-15230.5904 226.0001,-15230.5903\" stroke=\"#000000\"/>\n</g>\n<!-- 139881359110736 -->\n<g class=\"node\" id=\"node49\">\n<title>139881359110736</title>\n<polygon fill=\"none\" points=\"163,-15111.5 163,-15147.5 282,-15147.5 282,-15111.5 163,-15111.5\" stroke=\"#000000\"/>\n<text fill=\"#000000\" font-family=\"Times,serif\" font-size=\"14.00\" text-anchor=\"middle\" x=\"222.5\" y=\"-15125.8\">dropout: Dropout</text>\n</g>\n<!-- 139881359203280&#45;&gt;139881359110736 -->\n<g class=\"edge\" id=\"edge52\">\n<title>139881359203280-&gt;139881359110736</title>\n<path d=\"M222.5,-15184.4551C222.5,-15176.3828 222.5,-15166.6764 222.5,-15157.6817\" fill=\"none\" stroke=\"#000000\"/>\n<polygon fill=\"#000000\" points=\"226.0001,-15157.5903 222.5,-15147.5904 219.0001,-15157.5904 226.0001,-15157.5903\" stroke=\"#000000\"/>\n</g>\n<!-- 139881359324176 -->\n<g class=\"node\" id=\"node50\">\n<title>139881359324176</title>\n<polygon fill=\"none\" points=\"85.5,-15038.5 85.5,-15074.5 249.5,-15074.5 249.5,-15038.5 85.5,-15038.5\" stroke=\"#000000\"/>\n<text fill=\"#000000\" font-family=\"Times,serif\" font-size=\"14.00\" text-anchor=\"middle\" x=\"167.5\" y=\"-15052.8\">res3a_branch2a: Conv2D</text>\n</g>\n<!-- 139881359110736&#45;&gt;139881359324176 -->\n<g class=\"edge\" id=\"edge53\">\n<title>139881359110736-&gt;139881359324176</title>\n<path d=\"M208.9045,-15111.4551C202.3599,-15102.7686 194.3896,-15092.1898 187.196,-15082.642\" fill=\"none\" stroke=\"#000000\"/>\n<polygon fill=\"#000000\" points=\"189.9427,-15080.4711 181.1297,-15074.5904 184.3518,-15084.6834 189.9427,-15080.4711\" stroke=\"#000000\"/>\n</g>\n<!-- 139881361199952 -->\n<g class=\"node\" id=\"node57\">\n<title>139881361199952</title>\n<polygon fill=\"none\" points=\"249.5,-14965.5 249.5,-15001.5 407.5,-15001.5 407.5,-14965.5 249.5,-14965.5\" stroke=\"#000000\"/>\n<text fill=\"#000000\" font-family=\"Times,serif\" font-size=\"14.00\" text-anchor=\"middle\" x=\"328.5\" y=\"-14979.8\">res3a_branch1: Conv2D</text>\n</g>\n<!-- 139881359110736&#45;&gt;139881361199952 -->\n<g class=\"edge\" id=\"edge60\">\n<title>139881359110736-&gt;139881361199952</title>\n<path d=\"M235.7106,-15111.3042C254.1981,-15085.8403 287.9072,-15039.4108 309.2051,-15010.0759\" fill=\"none\" stroke=\"#000000\"/>\n<polygon fill=\"#000000\" points=\"312.08,-15012.0736 315.1229,-15001.9251 306.4154,-15007.961 312.08,-15012.0736\" stroke=\"#000000\"/>\n</g>\n<!-- 139881359299664 -->\n<g class=\"node\" id=\"node51\">\n<title>139881359299664</title>\n<polygon fill=\"none\" points=\"4,-14965.5 4,-15001.5 231,-15001.5 231,-14965.5 4,-14965.5\" stroke=\"#000000\"/>\n<text fill=\"#000000\" font-family=\"Times,serif\" font-size=\"14.00\" text-anchor=\"middle\" x=\"117.5\" y=\"-14979.8\">bn3a_branch2a: BatchNormalization</text>\n</g>\n<!-- 139881359324176&#45;&gt;139881359299664 -->\n<g class=\"edge\" id=\"edge54\">\n<title>139881359324176-&gt;139881359299664</title>\n<path d=\"M155.1404,-15038.4551C149.2509,-15029.8564 142.0913,-15019.4034 135.6039,-15009.9316\" fill=\"none\" stroke=\"#000000\"/>\n<polygon fill=\"#000000\" points=\"138.4292,-15007.8628 129.8907,-15001.5904 132.654,-15011.8185 138.4292,-15007.8628\" stroke=\"#000000\"/>\n</g>\n<!-- 139881359301072 -->\n<g class=\"node\" id=\"node52\">\n<title>139881359301072</title>\n<polygon fill=\"none\" points=\"38,-14892.5 38,-14928.5 199,-14928.5 199,-14892.5 38,-14892.5\" stroke=\"#000000\"/>\n<text fill=\"#000000\" font-family=\"Times,serif\" font-size=\"14.00\" text-anchor=\"middle\" x=\"118.5\" y=\"-14906.8\">activation_13: Activation</text>\n</g>\n<!-- 139881359299664&#45;&gt;139881359301072 -->\n<g class=\"edge\" id=\"edge55\">\n<title>139881359299664-&gt;139881359301072</title>\n<path d=\"M117.7472,-14965.4551C117.8578,-14957.3828 117.9907,-14947.6764 118.1139,-14938.6817\" fill=\"none\" stroke=\"#000000\"/>\n<polygon fill=\"#000000\" points=\"121.6148,-14938.6374 118.2522,-14928.5904 114.6154,-14938.5414 121.6148,-14938.6374\" stroke=\"#000000\"/>\n</g>\n<!-- 139881360711952 -->\n<g class=\"node\" id=\"node53\">\n<title>139881360711952</title>\n<polygon fill=\"none\" points=\"69,-14819.5 69,-14855.5 234,-14855.5 234,-14819.5 69,-14819.5\" stroke=\"#000000\"/>\n<text fill=\"#000000\" font-family=\"Times,serif\" font-size=\"14.00\" text-anchor=\"middle\" x=\"151.5\" y=\"-14833.8\">res3a_branch2b: Conv2D</text>\n</g>\n<!-- 139881359301072&#45;&gt;139881360711952 -->\n<g class=\"edge\" id=\"edge56\">\n<title>139881359301072-&gt;139881360711952</title>\n<path d=\"M126.6573,-14892.4551C130.4254,-14884.1196 134.9812,-14874.0416 139.157,-14864.8042\" fill=\"none\" stroke=\"#000000\"/>\n<polygon fill=\"#000000\" points=\"142.3922,-14866.1443 143.3222,-14855.5904 136.0136,-14863.2608 142.3922,-14866.1443\" stroke=\"#000000\"/>\n</g>\n<!-- 139881360709776 -->\n<g class=\"node\" id=\"node54\">\n<title>139881360709776</title>\n<polygon fill=\"none\" points=\"53,-14746.5 53,-14782.5 282,-14782.5 282,-14746.5 53,-14746.5\" stroke=\"#000000\"/>\n<text fill=\"#000000\" font-family=\"Times,serif\" font-size=\"14.00\" text-anchor=\"middle\" x=\"167.5\" y=\"-14760.8\">bn3a_branch2b: BatchNormalization</text>\n</g>\n<!-- 139881360711952&#45;&gt;139881360709776 -->\n<g class=\"edge\" id=\"edge57\">\n<title>139881360711952-&gt;139881360709776</title>\n<path d=\"M155.4551,-14819.4551C157.2435,-14811.2951 159.398,-14801.4652 161.3874,-14792.3887\" fill=\"none\" stroke=\"#000000\"/>\n<polygon fill=\"#000000\" points=\"164.8128,-14793.1079 163.535,-14782.5904 157.9751,-14791.6091 164.8128,-14793.1079\" stroke=\"#000000\"/>\n</g>\n<!-- 139881360637392 -->\n<g class=\"node\" id=\"node55\">\n<title>139881360637392</title>\n<polygon fill=\"none\" points=\"96,-14673.5 96,-14709.5 257,-14709.5 257,-14673.5 96,-14673.5\" stroke=\"#000000\"/>\n<text fill=\"#000000\" font-family=\"Times,serif\" font-size=\"14.00\" text-anchor=\"middle\" x=\"176.5\" y=\"-14687.8\">activation_14: Activation</text>\n</g>\n<!-- 139881360709776&#45;&gt;139881360637392 -->\n<g class=\"edge\" id=\"edge58\">\n<title>139881360709776-&gt;139881360637392</title>\n<path d=\"M169.7247,-14746.4551C170.7199,-14738.3828 171.9166,-14728.6764 173.0255,-14719.6817\" fill=\"none\" stroke=\"#000000\"/>\n<polygon fill=\"#000000\" points=\"176.5197,-14719.9435 174.2697,-14709.5904 169.5723,-14719.0869 176.5197,-14719.9435\" stroke=\"#000000\"/>\n</g>\n<!-- 139881360217872 -->\n<g class=\"node\" id=\"node56\">\n<title>139881360217872</title>\n<polygon fill=\"none\" points=\"94.5,-14600.5 94.5,-14636.5 258.5,-14636.5 258.5,-14600.5 94.5,-14600.5\" stroke=\"#000000\"/>\n<text fill=\"#000000\" font-family=\"Times,serif\" font-size=\"14.00\" text-anchor=\"middle\" x=\"176.5\" y=\"-14614.8\">res3a_branch2c: Conv2D</text>\n</g>\n<!-- 139881360637392&#45;&gt;139881360217872 -->\n<g class=\"edge\" id=\"edge59\">\n<title>139881360637392-&gt;139881360217872</title>\n<path d=\"M176.5,-14673.4551C176.5,-14665.3828 176.5,-14655.6764 176.5,-14646.6817\" fill=\"none\" stroke=\"#000000\"/>\n<polygon fill=\"#000000\" points=\"180.0001,-14646.5903 176.5,-14636.5904 173.0001,-14646.5904 180.0001,-14646.5903\" stroke=\"#000000\"/>\n</g>\n<!-- 139881360240464 -->\n<g class=\"node\" id=\"node58\">\n<title>139881360240464</title>\n<polygon fill=\"none\" points=\"63,-14527.5 63,-14563.5 290,-14563.5 290,-14527.5 63,-14527.5\" stroke=\"#000000\"/>\n<text fill=\"#000000\" font-family=\"Times,serif\" font-size=\"14.00\" text-anchor=\"middle\" x=\"176.5\" y=\"-14541.8\">bn3a_branch2c: BatchNormalization</text>\n</g>\n<!-- 139881360217872&#45;&gt;139881360240464 -->\n<g class=\"edge\" id=\"edge61\">\n<title>139881360217872-&gt;139881360240464</title>\n<path d=\"M176.5,-14600.4551C176.5,-14592.3828 176.5,-14582.6764 176.5,-14573.6817\" fill=\"none\" stroke=\"#000000\"/>\n<polygon fill=\"#000000\" points=\"180.0001,-14573.5903 176.5,-14563.5904 173.0001,-14573.5904 180.0001,-14573.5903\" stroke=\"#000000\"/>\n</g>\n<!-- 139881357920720 -->\n<g class=\"node\" id=\"node59\">\n<title>139881357920720</title>\n<polygon fill=\"none\" points=\"217,-14892.5 217,-14928.5 438,-14928.5 438,-14892.5 217,-14892.5\" stroke=\"#000000\"/>\n<text fill=\"#000000\" font-family=\"Times,serif\" font-size=\"14.00\" text-anchor=\"middle\" x=\"327.5\" y=\"-14906.8\">bn3a_branch1: BatchNormalization</text>\n</g>\n<!-- 139881361199952&#45;&gt;139881357920720 -->\n<g class=\"edge\" id=\"edge62\">\n<title>139881361199952-&gt;139881357920720</title>\n<path d=\"M328.2528,-14965.4551C328.1422,-14957.3828 328.0093,-14947.6764 327.8861,-14938.6817\" fill=\"none\" stroke=\"#000000\"/>\n<polygon fill=\"#000000\" points=\"331.3846,-14938.5414 327.7478,-14928.5904 324.3852,-14938.6374 331.3846,-14938.5414\" stroke=\"#000000\"/>\n</g>\n<!-- 139881357980112 -->\n<g class=\"node\" id=\"node60\">\n<title>139881357980112</title>\n<polygon fill=\"none\" points=\"205,-14454.5 205,-14490.5 290,-14490.5 290,-14454.5 205,-14454.5\" stroke=\"#000000\"/>\n<text fill=\"#000000\" font-family=\"Times,serif\" font-size=\"14.00\" text-anchor=\"middle\" x=\"247.5\" y=\"-14468.8\">add_4: Add</text>\n</g>\n<!-- 139881360240464&#45;&gt;139881357980112 -->\n<g class=\"edge\" id=\"edge63\">\n<title>139881360240464-&gt;139881357980112</title>\n<path d=\"M194.0506,-14527.4551C202.755,-14518.5054 213.4132,-14507.547 222.9156,-14497.7769\" fill=\"none\" stroke=\"#000000\"/>\n<polygon fill=\"#000000\" points=\"225.4421,-14500.1992 229.9053,-14490.5904 220.424,-14495.3187 225.4421,-14500.1992\" stroke=\"#000000\"/>\n</g>\n<!-- 139881357920720&#45;&gt;139881357980112 -->\n<g class=\"edge\" id=\"edge64\">\n<title>139881357920720-&gt;139881357980112</title>\n<path d=\"M325.6352,-14892.0845C322.999,-14864.4173 318.5,-14810.4656 318.5,-14764.5 318.5,-14764.5 318.5,-14764.5 318.5,-14618.5 318.5,-14576.8732 317.8594,-14563.8511 298.5,-14527 292.9066,-14516.3527 284.6654,-14506.2622 276.4315,-14497.7242\" fill=\"none\" stroke=\"#000000\"/>\n<polygon fill=\"#000000\" points=\"278.8388,-14495.1825 269.2644,-14490.6458 273.92,-14500.163 278.8388,-14495.1825\" stroke=\"#000000\"/>\n</g>\n<!-- 139881358005200 -->\n<g class=\"node\" id=\"node61\">\n<title>139881358005200</title>\n<polygon fill=\"none\" points=\"167,-14381.5 167,-14417.5 328,-14417.5 328,-14381.5 167,-14381.5\" stroke=\"#000000\"/>\n<text fill=\"#000000\" font-family=\"Times,serif\" font-size=\"14.00\" text-anchor=\"middle\" x=\"247.5\" y=\"-14395.8\">activation_15: Activation</text>\n</g>\n<!-- 139881357980112&#45;&gt;139881358005200 -->\n<g class=\"edge\" id=\"edge65\">\n<title>139881357980112-&gt;139881358005200</title>\n<path d=\"M247.5,-14454.4551C247.5,-14446.3828 247.5,-14436.6764 247.5,-14427.6817\" fill=\"none\" stroke=\"#000000\"/>\n<polygon fill=\"#000000\" points=\"251.0001,-14427.5903 247.5,-14417.5904 244.0001,-14427.5904 251.0001,-14427.5903\" stroke=\"#000000\"/>\n</g>\n<!-- 139881357593296 -->\n<g class=\"node\" id=\"node62\">\n<title>139881357593296</title>\n<polygon fill=\"none\" points=\"110,-14308.5 110,-14344.5 275,-14344.5 275,-14308.5 110,-14308.5\" stroke=\"#000000\"/>\n<text fill=\"#000000\" font-family=\"Times,serif\" font-size=\"14.00\" text-anchor=\"middle\" x=\"192.5\" y=\"-14322.8\">res3b_branch2a: Conv2D</text>\n</g>\n<!-- 139881358005200&#45;&gt;139881357593296 -->\n<g class=\"edge\" id=\"edge66\">\n<title>139881358005200-&gt;139881357593296</title>\n<path d=\"M233.9045,-14381.4551C227.3599,-14372.7686 219.3896,-14362.1898 212.196,-14352.642\" fill=\"none\" stroke=\"#000000\"/>\n<polygon fill=\"#000000\" points=\"214.9427,-14350.4711 206.1297,-14344.5904 209.3518,-14354.6834 214.9427,-14350.4711\" stroke=\"#000000\"/>\n</g>\n<!-- 139881357342032 -->\n<g class=\"node\" id=\"node70\">\n<title>139881357342032</title>\n<polygon fill=\"none\" points=\"205,-13724.5 205,-13760.5 290,-13760.5 290,-13724.5 205,-13724.5\" stroke=\"#000000\"/>\n<text fill=\"#000000\" font-family=\"Times,serif\" font-size=\"14.00\" text-anchor=\"middle\" x=\"247.5\" y=\"-13738.8\">add_5: Add</text>\n</g>\n<!-- 139881358005200&#45;&gt;139881357342032 -->\n<g class=\"edge\" id=\"edge75\">\n<title>139881358005200-&gt;139881357342032</title>\n<path d=\"M263.4791,-14381.1083C284.6909,-14354.7403 319.5,-14303.8061 319.5,-14253.5 319.5,-14253.5 319.5,-14253.5 319.5,-13888.5 319.5,-13846.8732 319.0378,-13833.7568 299.5,-13797 293.8031,-13786.2823 285.402,-13776.1724 277.0064,-13767.6383\" fill=\"none\" stroke=\"#000000\"/>\n<polygon fill=\"#000000\" points=\"279.3189,-13765.0057 269.6979,-13760.5687 274.452,-13770.037 279.3189,-13765.0057\" stroke=\"#000000\"/>\n</g>\n<!-- 139881357593680 -->\n<g class=\"node\" id=\"node63\">\n<title>139881357593680</title>\n<polygon fill=\"none\" points=\"62,-14235.5 62,-14271.5 291,-14271.5 291,-14235.5 62,-14235.5\" stroke=\"#000000\"/>\n<text fill=\"#000000\" font-family=\"Times,serif\" font-size=\"14.00\" text-anchor=\"middle\" x=\"176.5\" y=\"-14249.8\">bn3b_branch2a: BatchNormalization</text>\n</g>\n<!-- 139881357593296&#45;&gt;139881357593680 -->\n<g class=\"edge\" id=\"edge67\">\n<title>139881357593296-&gt;139881357593680</title>\n<path d=\"M188.5449,-14308.4551C186.7565,-14300.2951 184.602,-14290.4652 182.6126,-14281.3887\" fill=\"none\" stroke=\"#000000\"/>\n<polygon fill=\"#000000\" points=\"186.0249,-14280.6091 180.465,-14271.5904 179.1872,-14282.1079 186.0249,-14280.6091\" stroke=\"#000000\"/>\n</g>\n<!-- 139882296420496 -->\n<g class=\"node\" id=\"node64\">\n<title>139882296420496</title>\n<polygon fill=\"none\" points=\"96,-14162.5 96,-14198.5 257,-14198.5 257,-14162.5 96,-14162.5\" stroke=\"#000000\"/>\n<text fill=\"#000000\" font-family=\"Times,serif\" font-size=\"14.00\" text-anchor=\"middle\" x=\"176.5\" y=\"-14176.8\">activation_16: Activation</text>\n</g>\n<!-- 139881357593680&#45;&gt;139882296420496 -->\n<g class=\"edge\" id=\"edge68\">\n<title>139881357593680-&gt;139882296420496</title>\n<path d=\"M176.5,-14235.4551C176.5,-14227.3828 176.5,-14217.6764 176.5,-14208.6817\" fill=\"none\" stroke=\"#000000\"/>\n<polygon fill=\"#000000\" points=\"180.0001,-14208.5903 176.5,-14198.5904 173.0001,-14208.5904 180.0001,-14208.5903\" stroke=\"#000000\"/>\n</g>\n<!-- 139881357803792 -->\n<g class=\"node\" id=\"node65\">\n<title>139881357803792</title>\n<polygon fill=\"none\" points=\"93,-14089.5 93,-14125.5 260,-14125.5 260,-14089.5 93,-14089.5\" stroke=\"#000000\"/>\n<text fill=\"#000000\" font-family=\"Times,serif\" font-size=\"14.00\" text-anchor=\"middle\" x=\"176.5\" y=\"-14103.8\">res3b_branch2b: Conv2D</text>\n</g>\n<!-- 139882296420496&#45;&gt;139881357803792 -->\n<g class=\"edge\" id=\"edge69\">\n<title>139882296420496-&gt;139881357803792</title>\n<path d=\"M176.5,-14162.4551C176.5,-14154.3828 176.5,-14144.6764 176.5,-14135.6817\" fill=\"none\" stroke=\"#000000\"/>\n<polygon fill=\"#000000\" points=\"180.0001,-14135.5903 176.5,-14125.5904 173.0001,-14135.5904 180.0001,-14135.5903\" stroke=\"#000000\"/>\n</g>\n<!-- 139881357807504 -->\n<g class=\"node\" id=\"node66\">\n<title>139881357807504</title>\n<polygon fill=\"none\" points=\"61.5,-14016.5 61.5,-14052.5 291.5,-14052.5 291.5,-14016.5 61.5,-14016.5\" stroke=\"#000000\"/>\n<text fill=\"#000000\" font-family=\"Times,serif\" font-size=\"14.00\" text-anchor=\"middle\" x=\"176.5\" y=\"-14030.8\">bn3b_branch2b: BatchNormalization</text>\n</g>\n<!-- 139881357803792&#45;&gt;139881357807504 -->\n<g class=\"edge\" id=\"edge70\">\n<title>139881357803792-&gt;139881357807504</title>\n<path d=\"M176.5,-14089.4551C176.5,-14081.3828 176.5,-14071.6764 176.5,-14062.6817\" fill=\"none\" stroke=\"#000000\"/>\n<polygon fill=\"#000000\" points=\"180.0001,-14062.5903 176.5,-14052.5904 173.0001,-14062.5904 180.0001,-14062.5903\" stroke=\"#000000\"/>\n</g>\n<!-- 139881359255184 -->\n<g class=\"node\" id=\"node67\">\n<title>139881359255184</title>\n<polygon fill=\"none\" points=\"96,-13943.5 96,-13979.5 257,-13979.5 257,-13943.5 96,-13943.5\" stroke=\"#000000\"/>\n<text fill=\"#000000\" font-family=\"Times,serif\" font-size=\"14.00\" text-anchor=\"middle\" x=\"176.5\" y=\"-13957.8\">activation_17: Activation</text>\n</g>\n<!-- 139881357807504&#45;&gt;139881359255184 -->\n<g class=\"edge\" id=\"edge71\">\n<title>139881357807504-&gt;139881359255184</title>\n<path d=\"M176.5,-14016.4551C176.5,-14008.3828 176.5,-13998.6764 176.5,-13989.6817\" fill=\"none\" stroke=\"#000000\"/>\n<polygon fill=\"#000000\" points=\"180.0001,-13989.5903 176.5,-13979.5904 173.0001,-13989.5904 180.0001,-13989.5903\" stroke=\"#000000\"/>\n</g>\n<!-- 139881357512592 -->\n<g class=\"node\" id=\"node68\">\n<title>139881357512592</title>\n<polygon fill=\"none\" points=\"94,-13870.5 94,-13906.5 259,-13906.5 259,-13870.5 94,-13870.5\" stroke=\"#000000\"/>\n<text fill=\"#000000\" font-family=\"Times,serif\" font-size=\"14.00\" text-anchor=\"middle\" x=\"176.5\" y=\"-13884.8\">res3b_branch2c: Conv2D</text>\n</g>\n<!-- 139881359255184&#45;&gt;139881357512592 -->\n<g class=\"edge\" id=\"edge72\">\n<title>139881359255184-&gt;139881357512592</title>\n<path d=\"M176.5,-13943.4551C176.5,-13935.3828 176.5,-13925.6764 176.5,-13916.6817\" fill=\"none\" stroke=\"#000000\"/>\n<polygon fill=\"#000000\" points=\"180.0001,-13916.5903 176.5,-13906.5904 173.0001,-13916.5904 180.0001,-13916.5903\" stroke=\"#000000\"/>\n</g>\n<!-- 139881357512272 -->\n<g class=\"node\" id=\"node69\">\n<title>139881357512272</title>\n<polygon fill=\"none\" points=\"62,-13797.5 62,-13833.5 291,-13833.5 291,-13797.5 62,-13797.5\" stroke=\"#000000\"/>\n<text fill=\"#000000\" font-family=\"Times,serif\" font-size=\"14.00\" text-anchor=\"middle\" x=\"176.5\" y=\"-13811.8\">bn3b_branch2c: BatchNormalization</text>\n</g>\n<!-- 139881357512592&#45;&gt;139881357512272 -->\n<g class=\"edge\" id=\"edge73\">\n<title>139881357512592-&gt;139881357512272</title>\n<path d=\"M176.5,-13870.4551C176.5,-13862.3828 176.5,-13852.6764 176.5,-13843.6817\" fill=\"none\" stroke=\"#000000\"/>\n<polygon fill=\"#000000\" points=\"180.0001,-13843.5903 176.5,-13833.5904 173.0001,-13843.5904 180.0001,-13843.5903\" stroke=\"#000000\"/>\n</g>\n<!-- 139881357512272&#45;&gt;139881357342032 -->\n<g class=\"edge\" id=\"edge74\">\n<title>139881357512272-&gt;139881357342032</title>\n<path d=\"M194.0506,-13797.4551C202.755,-13788.5054 213.4132,-13777.547 222.9156,-13767.7769\" fill=\"none\" stroke=\"#000000\"/>\n<polygon fill=\"#000000\" points=\"225.4421,-13770.1992 229.9053,-13760.5904 220.424,-13765.3187 225.4421,-13770.1992\" stroke=\"#000000\"/>\n</g>\n<!-- 139881357466256 -->\n<g class=\"node\" id=\"node71\">\n<title>139881357466256</title>\n<polygon fill=\"none\" points=\"167,-13651.5 167,-13687.5 328,-13687.5 328,-13651.5 167,-13651.5\" stroke=\"#000000\"/>\n<text fill=\"#000000\" font-family=\"Times,serif\" font-size=\"14.00\" text-anchor=\"middle\" x=\"247.5\" y=\"-13665.8\">activation_18: Activation</text>\n</g>\n<!-- 139881357342032&#45;&gt;139881357466256 -->\n<g class=\"edge\" id=\"edge76\">\n<title>139881357342032-&gt;139881357466256</title>\n<path d=\"M247.5,-13724.4551C247.5,-13716.3828 247.5,-13706.6764 247.5,-13697.6817\" fill=\"none\" stroke=\"#000000\"/>\n<polygon fill=\"#000000\" points=\"251.0001,-13697.5903 247.5,-13687.5904 244.0001,-13697.5904 251.0001,-13697.5903\" stroke=\"#000000\"/>\n</g>\n<!-- 139881357655888 -->\n<g class=\"node\" id=\"node72\">\n<title>139881357655888</title>\n<polygon fill=\"none\" points=\"110.5,-13578.5 110.5,-13614.5 274.5,-13614.5 274.5,-13578.5 110.5,-13578.5\" stroke=\"#000000\"/>\n<text fill=\"#000000\" font-family=\"Times,serif\" font-size=\"14.00\" text-anchor=\"middle\" x=\"192.5\" y=\"-13592.8\">res3c_branch2a: Conv2D</text>\n</g>\n<!-- 139881357466256&#45;&gt;139881357655888 -->\n<g class=\"edge\" id=\"edge77\">\n<title>139881357466256-&gt;139881357655888</title>\n<path d=\"M233.9045,-13651.4551C227.3599,-13642.7686 219.3896,-13632.1898 212.196,-13622.642\" fill=\"none\" stroke=\"#000000\"/>\n<polygon fill=\"#000000\" points=\"214.9427,-13620.4711 206.1297,-13614.5904 209.3518,-13624.6834 214.9427,-13620.4711\" stroke=\"#000000\"/>\n</g>\n<!-- 139881357536464 -->\n<g class=\"node\" id=\"node80\">\n<title>139881357536464</title>\n<polygon fill=\"none\" points=\"205,-12994.5 205,-13030.5 290,-13030.5 290,-12994.5 205,-12994.5\" stroke=\"#000000\"/>\n<text fill=\"#000000\" font-family=\"Times,serif\" font-size=\"14.00\" text-anchor=\"middle\" x=\"247.5\" y=\"-13008.8\">add_6: Add</text>\n</g>\n<!-- 139881357466256&#45;&gt;139881357536464 -->\n<g class=\"edge\" id=\"edge86\">\n<title>139881357466256-&gt;139881357536464</title>\n<path d=\"M263.2572,-13651.0704C284.1744,-13624.6575 318.5,-13573.6702 318.5,-13523.5 318.5,-13523.5 318.5,-13523.5 318.5,-13158.5 318.5,-13116.8732 317.8594,-13103.8511 298.5,-13067 292.9066,-13056.3527 284.6654,-13046.2622 276.4315,-13037.7242\" fill=\"none\" stroke=\"#000000\"/>\n<polygon fill=\"#000000\" points=\"278.8388,-13035.1825 269.2644,-13030.6458 273.92,-13040.163 278.8388,-13035.1825\" stroke=\"#000000\"/>\n</g>\n<!-- 139881357609552 -->\n<g class=\"node\" id=\"node73\">\n<title>139881357609552</title>\n<polygon fill=\"none\" points=\"62,-13505.5 62,-13541.5 289,-13541.5 289,-13505.5 62,-13505.5\" stroke=\"#000000\"/>\n<text fill=\"#000000\" font-family=\"Times,serif\" font-size=\"14.00\" text-anchor=\"middle\" x=\"175.5\" y=\"-13519.8\">bn3c_branch2a: BatchNormalization</text>\n</g>\n<!-- 139881357655888&#45;&gt;139881357609552 -->\n<g class=\"edge\" id=\"edge78\">\n<title>139881357655888-&gt;139881357609552</title>\n<path d=\"M188.2978,-13578.4551C186.3975,-13570.2951 184.1083,-13560.4652 181.9946,-13551.3887\" fill=\"none\" stroke=\"#000000\"/>\n<polygon fill=\"#000000\" points=\"185.3898,-13550.5359 179.7128,-13541.5904 178.5722,-13552.1236 185.3898,-13550.5359\" stroke=\"#000000\"/>\n</g>\n<!-- 139881357653328 -->\n<g class=\"node\" id=\"node74\">\n<title>139881357653328</title>\n<polygon fill=\"none\" points=\"95,-13432.5 95,-13468.5 256,-13468.5 256,-13432.5 95,-13432.5\" stroke=\"#000000\"/>\n<text fill=\"#000000\" font-family=\"Times,serif\" font-size=\"14.00\" text-anchor=\"middle\" x=\"175.5\" y=\"-13446.8\">activation_19: Activation</text>\n</g>\n<!-- 139881357609552&#45;&gt;139881357653328 -->\n<g class=\"edge\" id=\"edge79\">\n<title>139881357609552-&gt;139881357653328</title>\n<path d=\"M175.5,-13505.4551C175.5,-13497.3828 175.5,-13487.6764 175.5,-13478.6817\" fill=\"none\" stroke=\"#000000\"/>\n<polygon fill=\"#000000\" points=\"179.0001,-13478.5903 175.5,-13468.5904 172.0001,-13478.5904 179.0001,-13478.5903\" stroke=\"#000000\"/>\n</g>\n<!-- 139881359409104 -->\n<g class=\"node\" id=\"node75\">\n<title>139881359409104</title>\n<polygon fill=\"none\" points=\"93,-13359.5 93,-13395.5 258,-13395.5 258,-13359.5 93,-13359.5\" stroke=\"#000000\"/>\n<text fill=\"#000000\" font-family=\"Times,serif\" font-size=\"14.00\" text-anchor=\"middle\" x=\"175.5\" y=\"-13373.8\">res3c_branch2b: Conv2D</text>\n</g>\n<!-- 139881357653328&#45;&gt;139881359409104 -->\n<g class=\"edge\" id=\"edge80\">\n<title>139881357653328-&gt;139881359409104</title>\n<path d=\"M175.5,-13432.4551C175.5,-13424.3828 175.5,-13414.6764 175.5,-13405.6817\" fill=\"none\" stroke=\"#000000\"/>\n<polygon fill=\"#000000\" points=\"179.0001,-13405.5903 175.5,-13395.5904 172.0001,-13405.5904 179.0001,-13405.5903\" stroke=\"#000000\"/>\n</g>\n<!-- 139881359405776 -->\n<g class=\"node\" id=\"node76\">\n<title>139881359405776</title>\n<polygon fill=\"none\" points=\"61,-13286.5 61,-13322.5 290,-13322.5 290,-13286.5 61,-13286.5\" stroke=\"#000000\"/>\n<text fill=\"#000000\" font-family=\"Times,serif\" font-size=\"14.00\" text-anchor=\"middle\" x=\"175.5\" y=\"-13300.8\">bn3c_branch2b: BatchNormalization</text>\n</g>\n<!-- 139881359409104&#45;&gt;139881359405776 -->\n<g class=\"edge\" id=\"edge81\">\n<title>139881359409104-&gt;139881359405776</title>\n<path d=\"M175.5,-13359.4551C175.5,-13351.3828 175.5,-13341.6764 175.5,-13332.6817\" fill=\"none\" stroke=\"#000000\"/>\n<polygon fill=\"#000000\" points=\"179.0001,-13332.5903 175.5,-13322.5904 172.0001,-13332.5904 179.0001,-13332.5903\" stroke=\"#000000\"/>\n</g>\n<!-- 139881359839952 -->\n<g class=\"node\" id=\"node77\">\n<title>139881359839952</title>\n<polygon fill=\"none\" points=\"95,-13213.5 95,-13249.5 256,-13249.5 256,-13213.5 95,-13213.5\" stroke=\"#000000\"/>\n<text fill=\"#000000\" font-family=\"Times,serif\" font-size=\"14.00\" text-anchor=\"middle\" x=\"175.5\" y=\"-13227.8\">activation_20: Activation</text>\n</g>\n<!-- 139881359405776&#45;&gt;139881359839952 -->\n<g class=\"edge\" id=\"edge82\">\n<title>139881359405776-&gt;139881359839952</title>\n<path d=\"M175.5,-13286.4551C175.5,-13278.3828 175.5,-13268.6764 175.5,-13259.6817\" fill=\"none\" stroke=\"#000000\"/>\n<polygon fill=\"#000000\" points=\"179.0001,-13259.5903 175.5,-13249.5904 172.0001,-13259.5904 179.0001,-13259.5903\" stroke=\"#000000\"/>\n</g>\n<!-- 139881359545680 -->\n<g class=\"node\" id=\"node78\">\n<title>139881359545680</title>\n<polygon fill=\"none\" points=\"93.5,-13140.5 93.5,-13176.5 257.5,-13176.5 257.5,-13140.5 93.5,-13140.5\" stroke=\"#000000\"/>\n<text fill=\"#000000\" font-family=\"Times,serif\" font-size=\"14.00\" text-anchor=\"middle\" x=\"175.5\" y=\"-13154.8\">res3c_branch2c: Conv2D</text>\n</g>\n<!-- 139881359839952&#45;&gt;139881359545680 -->\n<g class=\"edge\" id=\"edge83\">\n<title>139881359839952-&gt;139881359545680</title>\n<path d=\"M175.5,-13213.4551C175.5,-13205.3828 175.5,-13195.6764 175.5,-13186.6817\" fill=\"none\" stroke=\"#000000\"/>\n<polygon fill=\"#000000\" points=\"179.0001,-13186.5903 175.5,-13176.5904 172.0001,-13186.5904 179.0001,-13186.5903\" stroke=\"#000000\"/>\n</g>\n<!-- 139881359585936 -->\n<g class=\"node\" id=\"node79\">\n<title>139881359585936</title>\n<polygon fill=\"none\" points=\"63,-13067.5 63,-13103.5 290,-13103.5 290,-13067.5 63,-13067.5\" stroke=\"#000000\"/>\n<text fill=\"#000000\" font-family=\"Times,serif\" font-size=\"14.00\" text-anchor=\"middle\" x=\"176.5\" y=\"-13081.8\">bn3c_branch2c: BatchNormalization</text>\n</g>\n<!-- 139881359545680&#45;&gt;139881359585936 -->\n<g class=\"edge\" id=\"edge84\">\n<title>139881359545680-&gt;139881359585936</title>\n<path d=\"M175.7472,-13140.4551C175.8578,-13132.3828 175.9907,-13122.6764 176.1139,-13113.6817\" fill=\"none\" stroke=\"#000000\"/>\n<polygon fill=\"#000000\" points=\"179.6148,-13113.6374 176.2522,-13103.5904 172.6154,-13113.5414 179.6148,-13113.6374\" stroke=\"#000000\"/>\n</g>\n<!-- 139881359585936&#45;&gt;139881357536464 -->\n<g class=\"edge\" id=\"edge85\">\n<title>139881359585936-&gt;139881357536464</title>\n<path d=\"M194.0506,-13067.4551C202.755,-13058.5054 213.4132,-13047.547 222.9156,-13037.7769\" fill=\"none\" stroke=\"#000000\"/>\n<polygon fill=\"#000000\" points=\"225.4421,-13040.1992 229.9053,-13030.5904 220.424,-13035.3187 225.4421,-13040.1992\" stroke=\"#000000\"/>\n</g>\n<!-- 139881357166416 -->\n<g class=\"node\" id=\"node81\">\n<title>139881357166416</title>\n<polygon fill=\"none\" points=\"167,-12921.5 167,-12957.5 328,-12957.5 328,-12921.5 167,-12921.5\" stroke=\"#000000\"/>\n<text fill=\"#000000\" font-family=\"Times,serif\" font-size=\"14.00\" text-anchor=\"middle\" x=\"247.5\" y=\"-12935.8\">activation_21: Activation</text>\n</g>\n<!-- 139881357536464&#45;&gt;139881357166416 -->\n<g class=\"edge\" id=\"edge87\">\n<title>139881357536464-&gt;139881357166416</title>\n<path d=\"M247.5,-12994.4551C247.5,-12986.3828 247.5,-12976.6764 247.5,-12967.6817\" fill=\"none\" stroke=\"#000000\"/>\n<polygon fill=\"#000000\" points=\"251.0001,-12967.5903 247.5,-12957.5904 244.0001,-12967.5904 251.0001,-12967.5903\" stroke=\"#000000\"/>\n</g>\n<!-- 139881357243280 -->\n<g class=\"node\" id=\"node82\">\n<title>139881357243280</title>\n<polygon fill=\"none\" points=\"94,-12848.5 94,-12884.5 259,-12884.5 259,-12848.5 94,-12848.5\" stroke=\"#000000\"/>\n<text fill=\"#000000\" font-family=\"Times,serif\" font-size=\"14.00\" text-anchor=\"middle\" x=\"176.5\" y=\"-12862.8\">res3d_branch2a: Conv2D</text>\n</g>\n<!-- 139881357166416&#45;&gt;139881357243280 -->\n<g class=\"edge\" id=\"edge88\">\n<title>139881357166416-&gt;139881357243280</title>\n<path d=\"M229.9494,-12921.4551C221.245,-12912.5054 210.5868,-12901.547 201.0844,-12891.7769\" fill=\"none\" stroke=\"#000000\"/>\n<polygon fill=\"#000000\" points=\"203.576,-12889.3187 194.0947,-12884.5904 198.5579,-12894.1992 203.576,-12889.3187\" stroke=\"#000000\"/>\n</g>\n<!-- 139881357052944 -->\n<g class=\"node\" id=\"node90\">\n<title>139881357052944</title>\n<polygon fill=\"none\" points=\"189,-12264.5 189,-12300.5 274,-12300.5 274,-12264.5 189,-12264.5\" stroke=\"#000000\"/>\n<text fill=\"#000000\" font-family=\"Times,serif\" font-size=\"14.00\" text-anchor=\"middle\" x=\"231.5\" y=\"-12278.8\">add_7: Add</text>\n</g>\n<!-- 139881357166416&#45;&gt;139881357052944 -->\n<g class=\"edge\" id=\"edge97\">\n<title>139881357166416-&gt;139881357052944</title>\n<path d=\"M259.3762,-12921.4575C275.8145,-12894.6944 303.5,-12842.366 303.5,-12793.5 303.5,-12793.5 303.5,-12793.5 303.5,-12428.5 303.5,-12386.8732 303.0378,-12373.7568 283.5,-12337 277.8031,-12326.2823 269.402,-12316.1724 261.0064,-12307.6383\" fill=\"none\" stroke=\"#000000\"/>\n<polygon fill=\"#000000\" points=\"263.3189,-12305.0057 253.6979,-12300.5687 258.452,-12310.037 263.3189,-12305.0057\" stroke=\"#000000\"/>\n</g>\n<!-- 139881357244688 -->\n<g class=\"node\" id=\"node83\">\n<title>139881357244688</title>\n<polygon fill=\"none\" points=\"46,-12775.5 46,-12811.5 275,-12811.5 275,-12775.5 46,-12775.5\" stroke=\"#000000\"/>\n<text fill=\"#000000\" font-family=\"Times,serif\" font-size=\"14.00\" text-anchor=\"middle\" x=\"160.5\" y=\"-12789.8\">bn3d_branch2a: BatchNormalization</text>\n</g>\n<!-- 139881357243280&#45;&gt;139881357244688 -->\n<g class=\"edge\" id=\"edge89\">\n<title>139881357243280-&gt;139881357244688</title>\n<path d=\"M172.5449,-12848.4551C170.7565,-12840.2951 168.602,-12830.4652 166.6126,-12821.3887\" fill=\"none\" stroke=\"#000000\"/>\n<polygon fill=\"#000000\" points=\"170.0249,-12820.6091 164.465,-12811.5904 163.1872,-12822.1079 170.0249,-12820.6091\" stroke=\"#000000\"/>\n</g>\n<!-- 139881357262672 -->\n<g class=\"node\" id=\"node84\">\n<title>139881357262672</title>\n<polygon fill=\"none\" points=\"80,-12702.5 80,-12738.5 241,-12738.5 241,-12702.5 80,-12702.5\" stroke=\"#000000\"/>\n<text fill=\"#000000\" font-family=\"Times,serif\" font-size=\"14.00\" text-anchor=\"middle\" x=\"160.5\" y=\"-12716.8\">activation_22: Activation</text>\n</g>\n<!-- 139881357244688&#45;&gt;139881357262672 -->\n<g class=\"edge\" id=\"edge90\">\n<title>139881357244688-&gt;139881357262672</title>\n<path d=\"M160.5,-12775.4551C160.5,-12767.3828 160.5,-12757.6764 160.5,-12748.6817\" fill=\"none\" stroke=\"#000000\"/>\n<polygon fill=\"#000000\" points=\"164.0001,-12748.5903 160.5,-12738.5904 157.0001,-12748.5904 164.0001,-12748.5903\" stroke=\"#000000\"/>\n</g>\n<!-- 139881356921552 -->\n<g class=\"node\" id=\"node85\">\n<title>139881356921552</title>\n<polygon fill=\"none\" points=\"77,-12629.5 77,-12665.5 244,-12665.5 244,-12629.5 77,-12629.5\" stroke=\"#000000\"/>\n<text fill=\"#000000\" font-family=\"Times,serif\" font-size=\"14.00\" text-anchor=\"middle\" x=\"160.5\" y=\"-12643.8\">res3d_branch2b: Conv2D</text>\n</g>\n<!-- 139881357262672&#45;&gt;139881356921552 -->\n<g class=\"edge\" id=\"edge91\">\n<title>139881357262672-&gt;139881356921552</title>\n<path d=\"M160.5,-12702.4551C160.5,-12694.3828 160.5,-12684.6764 160.5,-12675.6817\" fill=\"none\" stroke=\"#000000\"/>\n<polygon fill=\"#000000\" points=\"164.0001,-12675.5903 160.5,-12665.5904 157.0001,-12675.5904 164.0001,-12675.5903\" stroke=\"#000000\"/>\n</g>\n<!-- 139881356942288 -->\n<g class=\"node\" id=\"node86\">\n<title>139881356942288</title>\n<polygon fill=\"none\" points=\"45.5,-12556.5 45.5,-12592.5 275.5,-12592.5 275.5,-12556.5 45.5,-12556.5\" stroke=\"#000000\"/>\n<text fill=\"#000000\" font-family=\"Times,serif\" font-size=\"14.00\" text-anchor=\"middle\" x=\"160.5\" y=\"-12570.8\">bn3d_branch2b: BatchNormalization</text>\n</g>\n<!-- 139881356921552&#45;&gt;139881356942288 -->\n<g class=\"edge\" id=\"edge92\">\n<title>139881356921552-&gt;139881356942288</title>\n<path d=\"M160.5,-12629.4551C160.5,-12621.3828 160.5,-12611.6764 160.5,-12602.6817\" fill=\"none\" stroke=\"#000000\"/>\n<polygon fill=\"#000000\" points=\"164.0001,-12602.5903 160.5,-12592.5904 157.0001,-12602.5904 164.0001,-12602.5903\" stroke=\"#000000\"/>\n</g>\n<!-- 139881356866896 -->\n<g class=\"node\" id=\"node87\">\n<title>139881356866896</title>\n<polygon fill=\"none\" points=\"80,-12483.5 80,-12519.5 241,-12519.5 241,-12483.5 80,-12483.5\" stroke=\"#000000\"/>\n<text fill=\"#000000\" font-family=\"Times,serif\" font-size=\"14.00\" text-anchor=\"middle\" x=\"160.5\" y=\"-12497.8\">activation_23: Activation</text>\n</g>\n<!-- 139881356942288&#45;&gt;139881356866896 -->\n<g class=\"edge\" id=\"edge93\">\n<title>139881356942288-&gt;139881356866896</title>\n<path d=\"M160.5,-12556.4551C160.5,-12548.3828 160.5,-12538.6764 160.5,-12529.6817\" fill=\"none\" stroke=\"#000000\"/>\n<polygon fill=\"#000000\" points=\"164.0001,-12529.5903 160.5,-12519.5904 157.0001,-12529.5904 164.0001,-12529.5903\" stroke=\"#000000\"/>\n</g>\n<!-- 139881356588816 -->\n<g class=\"node\" id=\"node88\">\n<title>139881356588816</title>\n<polygon fill=\"none\" points=\"78,-12410.5 78,-12446.5 243,-12446.5 243,-12410.5 78,-12410.5\" stroke=\"#000000\"/>\n<text fill=\"#000000\" font-family=\"Times,serif\" font-size=\"14.00\" text-anchor=\"middle\" x=\"160.5\" y=\"-12424.8\">res3d_branch2c: Conv2D</text>\n</g>\n<!-- 139881356866896&#45;&gt;139881356588816 -->\n<g class=\"edge\" id=\"edge94\">\n<title>139881356866896-&gt;139881356588816</title>\n<path d=\"M160.5,-12483.4551C160.5,-12475.3828 160.5,-12465.6764 160.5,-12456.6817\" fill=\"none\" stroke=\"#000000\"/>\n<polygon fill=\"#000000\" points=\"164.0001,-12456.5903 160.5,-12446.5904 157.0001,-12456.5904 164.0001,-12456.5903\" stroke=\"#000000\"/>\n</g>\n<!-- 139881356588688 -->\n<g class=\"node\" id=\"node89\">\n<title>139881356588688</title>\n<polygon fill=\"none\" points=\"46,-12337.5 46,-12373.5 275,-12373.5 275,-12337.5 46,-12337.5\" stroke=\"#000000\"/>\n<text fill=\"#000000\" font-family=\"Times,serif\" font-size=\"14.00\" text-anchor=\"middle\" x=\"160.5\" y=\"-12351.8\">bn3d_branch2c: BatchNormalization</text>\n</g>\n<!-- 139881356588816&#45;&gt;139881356588688 -->\n<g class=\"edge\" id=\"edge95\">\n<title>139881356588816-&gt;139881356588688</title>\n<path d=\"M160.5,-12410.4551C160.5,-12402.3828 160.5,-12392.6764 160.5,-12383.6817\" fill=\"none\" stroke=\"#000000\"/>\n<polygon fill=\"#000000\" points=\"164.0001,-12383.5903 160.5,-12373.5904 157.0001,-12383.5904 164.0001,-12383.5903\" stroke=\"#000000\"/>\n</g>\n<!-- 139881356588688&#45;&gt;139881357052944 -->\n<g class=\"edge\" id=\"edge96\">\n<title>139881356588688-&gt;139881357052944</title>\n<path d=\"M178.0506,-12337.4551C186.755,-12328.5054 197.4132,-12317.547 206.9156,-12307.7769\" fill=\"none\" stroke=\"#000000\"/>\n<polygon fill=\"#000000\" points=\"209.4421,-12310.1992 213.9053,-12300.5904 204.424,-12305.3187 209.4421,-12310.1992\" stroke=\"#000000\"/>\n</g>\n<!-- 139881356986960 -->\n<g class=\"node\" id=\"node91\">\n<title>139881356986960</title>\n<polygon fill=\"none\" points=\"151,-12191.5 151,-12227.5 312,-12227.5 312,-12191.5 151,-12191.5\" stroke=\"#000000\"/>\n<text fill=\"#000000\" font-family=\"Times,serif\" font-size=\"14.00\" text-anchor=\"middle\" x=\"231.5\" y=\"-12205.8\">activation_24: Activation</text>\n</g>\n<!-- 139881357052944&#45;&gt;139881356986960 -->\n<g class=\"edge\" id=\"edge98\">\n<title>139881357052944-&gt;139881356986960</title>\n<path d=\"M231.5,-12264.4551C231.5,-12256.3828 231.5,-12246.6764 231.5,-12237.6817\" fill=\"none\" stroke=\"#000000\"/>\n<polygon fill=\"#000000\" points=\"235.0001,-12237.5903 231.5,-12227.5904 228.0001,-12237.5904 235.0001,-12237.5903\" stroke=\"#000000\"/>\n</g>\n<!-- 139881357218768 -->\n<g class=\"node\" id=\"node92\">\n<title>139881357218768</title>\n<polygon fill=\"none\" points=\"164.5,-12118.5 164.5,-12154.5 298.5,-12154.5 298.5,-12118.5 164.5,-12118.5\" stroke=\"#000000\"/>\n<text fill=\"#000000\" font-family=\"Times,serif\" font-size=\"14.00\" text-anchor=\"middle\" x=\"231.5\" y=\"-12132.8\">dropout_1: Dropout</text>\n</g>\n<!-- 139881356986960&#45;&gt;139881357218768 -->\n<g class=\"edge\" id=\"edge99\">\n<title>139881356986960-&gt;139881357218768</title>\n<path d=\"M231.5,-12191.4551C231.5,-12183.3828 231.5,-12173.6764 231.5,-12164.6817\" fill=\"none\" stroke=\"#000000\"/>\n<polygon fill=\"#000000\" points=\"235.0001,-12164.5903 231.5,-12154.5904 228.0001,-12164.5904 235.0001,-12164.5903\" stroke=\"#000000\"/>\n</g>\n<!-- 139881357231568 -->\n<g class=\"node\" id=\"node93\">\n<title>139881357231568</title>\n<polygon fill=\"none\" points=\"94.5,-12045.5 94.5,-12081.5 258.5,-12081.5 258.5,-12045.5 94.5,-12045.5\" stroke=\"#000000\"/>\n<text fill=\"#000000\" font-family=\"Times,serif\" font-size=\"14.00\" text-anchor=\"middle\" x=\"176.5\" y=\"-12059.8\">res4a_branch2a: Conv2D</text>\n</g>\n<!-- 139881357218768&#45;&gt;139881357231568 -->\n<g class=\"edge\" id=\"edge100\">\n<title>139881357218768-&gt;139881357231568</title>\n<path d=\"M217.9045,-12118.4551C211.3599,-12109.7686 203.3896,-12099.1898 196.196,-12089.642\" fill=\"none\" stroke=\"#000000\"/>\n<polygon fill=\"#000000\" points=\"198.9427,-12087.4711 190.1297,-12081.5904 193.3518,-12091.6834 198.9427,-12087.4711\" stroke=\"#000000\"/>\n</g>\n<!-- 139881356749200 -->\n<g class=\"node\" id=\"node100\">\n<title>139881356749200</title>\n<polygon fill=\"none\" points=\"258.5,-11972.5 258.5,-12008.5 416.5,-12008.5 416.5,-11972.5 258.5,-11972.5\" stroke=\"#000000\"/>\n<text fill=\"#000000\" font-family=\"Times,serif\" font-size=\"14.00\" text-anchor=\"middle\" x=\"337.5\" y=\"-11986.8\">res4a_branch1: Conv2D</text>\n</g>\n<!-- 139881357218768&#45;&gt;139881356749200 -->\n<g class=\"edge\" id=\"edge107\">\n<title>139881357218768-&gt;139881356749200</title>\n<path d=\"M244.7106,-12118.3042C263.1981,-12092.8403 296.9072,-12046.4108 318.2051,-12017.0759\" fill=\"none\" stroke=\"#000000\"/>\n<polygon fill=\"#000000\" points=\"321.08,-12019.0736 324.1229,-12008.9251 315.4154,-12014.961 321.08,-12019.0736\" stroke=\"#000000\"/>\n</g>\n<!-- 139881357203728 -->\n<g class=\"node\" id=\"node94\">\n<title>139881357203728</title>\n<polygon fill=\"none\" points=\"13,-11972.5 13,-12008.5 240,-12008.5 240,-11972.5 13,-11972.5\" stroke=\"#000000\"/>\n<text fill=\"#000000\" font-family=\"Times,serif\" font-size=\"14.00\" text-anchor=\"middle\" x=\"126.5\" y=\"-11986.8\">bn4a_branch2a: BatchNormalization</text>\n</g>\n<!-- 139881357231568&#45;&gt;139881357203728 -->\n<g class=\"edge\" id=\"edge101\">\n<title>139881357231568-&gt;139881357203728</title>\n<path d=\"M164.1404,-12045.4551C158.2509,-12036.8564 151.0913,-12026.4034 144.6039,-12016.9316\" fill=\"none\" stroke=\"#000000\"/>\n<polygon fill=\"#000000\" points=\"147.4292,-12014.8628 138.8907,-12008.5904 141.654,-12018.8185 147.4292,-12014.8628\" stroke=\"#000000\"/>\n</g>\n<!-- 139881359545104 -->\n<g class=\"node\" id=\"node95\">\n<title>139881359545104</title>\n<polygon fill=\"none\" points=\"47,-11899.5 47,-11935.5 208,-11935.5 208,-11899.5 47,-11899.5\" stroke=\"#000000\"/>\n<text fill=\"#000000\" font-family=\"Times,serif\" font-size=\"14.00\" text-anchor=\"middle\" x=\"127.5\" y=\"-11913.8\">activation_25: Activation</text>\n</g>\n<!-- 139881357203728&#45;&gt;139881359545104 -->\n<g class=\"edge\" id=\"edge102\">\n<title>139881357203728-&gt;139881359545104</title>\n<path d=\"M126.7472,-11972.4551C126.8578,-11964.3828 126.9907,-11954.6764 127.1139,-11945.6817\" fill=\"none\" stroke=\"#000000\"/>\n<polygon fill=\"#000000\" points=\"130.6148,-11945.6374 127.2522,-11935.5904 123.6154,-11945.5414 130.6148,-11945.6374\" stroke=\"#000000\"/>\n</g>\n<!-- 139881359406544 -->\n<g class=\"node\" id=\"node96\">\n<title>139881359406544</title>\n<polygon fill=\"none\" points=\"78,-11826.5 78,-11862.5 243,-11862.5 243,-11826.5 78,-11826.5\" stroke=\"#000000\"/>\n<text fill=\"#000000\" font-family=\"Times,serif\" font-size=\"14.00\" text-anchor=\"middle\" x=\"160.5\" y=\"-11840.8\">res4a_branch2b: Conv2D</text>\n</g>\n<!-- 139881359545104&#45;&gt;139881359406544 -->\n<g class=\"edge\" id=\"edge103\">\n<title>139881359545104-&gt;139881359406544</title>\n<path d=\"M135.6573,-11899.4551C139.4254,-11891.1196 143.9812,-11881.0416 148.157,-11871.8042\" fill=\"none\" stroke=\"#000000\"/>\n<polygon fill=\"#000000\" points=\"151.3922,-11873.1443 152.3222,-11862.5904 145.0136,-11870.2608 151.3922,-11873.1443\" stroke=\"#000000\"/>\n</g>\n<!-- 139881357885072 -->\n<g class=\"node\" id=\"node97\">\n<title>139881357885072</title>\n<polygon fill=\"none\" points=\"62,-11753.5 62,-11789.5 291,-11789.5 291,-11753.5 62,-11753.5\" stroke=\"#000000\"/>\n<text fill=\"#000000\" font-family=\"Times,serif\" font-size=\"14.00\" text-anchor=\"middle\" x=\"176.5\" y=\"-11767.8\">bn4a_branch2b: BatchNormalization</text>\n</g>\n<!-- 139881359406544&#45;&gt;139881357885072 -->\n<g class=\"edge\" id=\"edge104\">\n<title>139881359406544-&gt;139881357885072</title>\n<path d=\"M164.4551,-11826.4551C166.2435,-11818.2951 168.398,-11808.4652 170.3874,-11799.3887\" fill=\"none\" stroke=\"#000000\"/>\n<polygon fill=\"#000000\" points=\"173.8128,-11800.1079 172.535,-11789.5904 166.9751,-11798.6091 173.8128,-11800.1079\" stroke=\"#000000\"/>\n</g>\n<!-- 139881357973072 -->\n<g class=\"node\" id=\"node98\">\n<title>139881357973072</title>\n<polygon fill=\"none\" points=\"105,-11680.5 105,-11716.5 266,-11716.5 266,-11680.5 105,-11680.5\" stroke=\"#000000\"/>\n<text fill=\"#000000\" font-family=\"Times,serif\" font-size=\"14.00\" text-anchor=\"middle\" x=\"185.5\" y=\"-11694.8\">activation_26: Activation</text>\n</g>\n<!-- 139881357885072&#45;&gt;139881357973072 -->\n<g class=\"edge\" id=\"edge105\">\n<title>139881357885072-&gt;139881357973072</title>\n<path d=\"M178.7247,-11753.4551C179.7199,-11745.3828 180.9166,-11735.6764 182.0255,-11726.6817\" fill=\"none\" stroke=\"#000000\"/>\n<polygon fill=\"#000000\" points=\"185.5197,-11726.9435 183.2697,-11716.5904 178.5723,-11726.0869 185.5197,-11726.9435\" stroke=\"#000000\"/>\n</g>\n<!-- 139881357893776 -->\n<g class=\"node\" id=\"node99\">\n<title>139881357893776</title>\n<polygon fill=\"none\" points=\"103.5,-11607.5 103.5,-11643.5 267.5,-11643.5 267.5,-11607.5 103.5,-11607.5\" stroke=\"#000000\"/>\n<text fill=\"#000000\" font-family=\"Times,serif\" font-size=\"14.00\" text-anchor=\"middle\" x=\"185.5\" y=\"-11621.8\">res4a_branch2c: Conv2D</text>\n</g>\n<!-- 139881357973072&#45;&gt;139881357893776 -->\n<g class=\"edge\" id=\"edge106\">\n<title>139881357973072-&gt;139881357893776</title>\n<path d=\"M185.5,-11680.4551C185.5,-11672.3828 185.5,-11662.6764 185.5,-11653.6817\" fill=\"none\" stroke=\"#000000\"/>\n<polygon fill=\"#000000\" points=\"189.0001,-11653.5903 185.5,-11643.5904 182.0001,-11653.5904 189.0001,-11653.5903\" stroke=\"#000000\"/>\n</g>\n<!-- 139881357895568 -->\n<g class=\"node\" id=\"node101\">\n<title>139881357895568</title>\n<polygon fill=\"none\" points=\"72,-11534.5 72,-11570.5 299,-11570.5 299,-11534.5 72,-11534.5\" stroke=\"#000000\"/>\n<text fill=\"#000000\" font-family=\"Times,serif\" font-size=\"14.00\" text-anchor=\"middle\" x=\"185.5\" y=\"-11548.8\">bn4a_branch2c: BatchNormalization</text>\n</g>\n<!-- 139881357893776&#45;&gt;139881357895568 -->\n<g class=\"edge\" id=\"edge108\">\n<title>139881357893776-&gt;139881357895568</title>\n<path d=\"M185.5,-11607.4551C185.5,-11599.3828 185.5,-11589.6764 185.5,-11580.6817\" fill=\"none\" stroke=\"#000000\"/>\n<polygon fill=\"#000000\" points=\"189.0001,-11580.5903 185.5,-11570.5904 182.0001,-11580.5904 189.0001,-11580.5903\" stroke=\"#000000\"/>\n</g>\n<!-- 139881356331728 -->\n<g class=\"node\" id=\"node102\">\n<title>139881356331728</title>\n<polygon fill=\"none\" points=\"226,-11899.5 226,-11935.5 447,-11935.5 447,-11899.5 226,-11899.5\" stroke=\"#000000\"/>\n<text fill=\"#000000\" font-family=\"Times,serif\" font-size=\"14.00\" text-anchor=\"middle\" x=\"336.5\" y=\"-11913.8\">bn4a_branch1: BatchNormalization</text>\n</g>\n<!-- 139881356749200&#45;&gt;139881356331728 -->\n<g class=\"edge\" id=\"edge109\">\n<title>139881356749200-&gt;139881356331728</title>\n<path d=\"M337.2528,-11972.4551C337.1422,-11964.3828 337.0093,-11954.6764 336.8861,-11945.6817\" fill=\"none\" stroke=\"#000000\"/>\n<polygon fill=\"#000000\" points=\"340.3846,-11945.5414 336.7478,-11935.5904 333.3852,-11945.6374 340.3846,-11945.5414\" stroke=\"#000000\"/>\n</g>\n<!-- 139881356403984 -->\n<g class=\"node\" id=\"node103\">\n<title>139881356403984</title>\n<polygon fill=\"none\" points=\"214,-11461.5 214,-11497.5 299,-11497.5 299,-11461.5 214,-11461.5\" stroke=\"#000000\"/>\n<text fill=\"#000000\" font-family=\"Times,serif\" font-size=\"14.00\" text-anchor=\"middle\" x=\"256.5\" y=\"-11475.8\">add_8: Add</text>\n</g>\n<!-- 139881357895568&#45;&gt;139881356403984 -->\n<g class=\"edge\" id=\"edge110\">\n<title>139881357895568-&gt;139881356403984</title>\n<path d=\"M203.0506,-11534.4551C211.755,-11525.5054 222.4132,-11514.547 231.9156,-11504.7769\" fill=\"none\" stroke=\"#000000\"/>\n<polygon fill=\"#000000\" points=\"234.4421,-11507.1992 238.9053,-11497.5904 229.424,-11502.3187 234.4421,-11507.1992\" stroke=\"#000000\"/>\n</g>\n<!-- 139881356331728&#45;&gt;139881356403984 -->\n<g class=\"edge\" id=\"edge111\">\n<title>139881356331728-&gt;139881356403984</title>\n<path d=\"M334.6352,-11899.0845C331.999,-11871.4173 327.5,-11817.4656 327.5,-11771.5 327.5,-11771.5 327.5,-11771.5 327.5,-11625.5 327.5,-11583.8732 326.8594,-11570.8511 307.5,-11534 301.9066,-11523.3527 293.6654,-11513.2622 285.4315,-11504.7242\" fill=\"none\" stroke=\"#000000\"/>\n<polygon fill=\"#000000\" points=\"287.8388,-11502.1825 278.2644,-11497.6458 282.92,-11507.163 287.8388,-11502.1825\" stroke=\"#000000\"/>\n</g>\n<!-- 139881356456976 -->\n<g class=\"node\" id=\"node104\">\n<title>139881356456976</title>\n<polygon fill=\"none\" points=\"176,-11388.5 176,-11424.5 337,-11424.5 337,-11388.5 176,-11388.5\" stroke=\"#000000\"/>\n<text fill=\"#000000\" font-family=\"Times,serif\" font-size=\"14.00\" text-anchor=\"middle\" x=\"256.5\" y=\"-11402.8\">activation_27: Activation</text>\n</g>\n<!-- 139881356403984&#45;&gt;139881356456976 -->\n<g class=\"edge\" id=\"edge112\">\n<title>139881356403984-&gt;139881356456976</title>\n<path d=\"M256.5,-11461.4551C256.5,-11453.3828 256.5,-11443.6764 256.5,-11434.6817\" fill=\"none\" stroke=\"#000000\"/>\n<polygon fill=\"#000000\" points=\"260.0001,-11434.5903 256.5,-11424.5904 253.0001,-11434.5904 260.0001,-11434.5903\" stroke=\"#000000\"/>\n</g>\n<!-- 139881356021008 -->\n<g class=\"node\" id=\"node105\">\n<title>139881356021008</title>\n<polygon fill=\"none\" points=\"119,-11315.5 119,-11351.5 284,-11351.5 284,-11315.5 119,-11315.5\" stroke=\"#000000\"/>\n<text fill=\"#000000\" font-family=\"Times,serif\" font-size=\"14.00\" text-anchor=\"middle\" x=\"201.5\" y=\"-11329.8\">res4b_branch2a: Conv2D</text>\n</g>\n<!-- 139881356456976&#45;&gt;139881356021008 -->\n<g class=\"edge\" id=\"edge113\">\n<title>139881356456976-&gt;139881356021008</title>\n<path d=\"M242.9045,-11388.4551C236.3599,-11379.7686 228.3896,-11369.1898 221.196,-11359.642\" fill=\"none\" stroke=\"#000000\"/>\n<polygon fill=\"#000000\" points=\"223.9427,-11357.4711 215.1297,-11351.5904 218.3518,-11361.6834 223.9427,-11357.4711\" stroke=\"#000000\"/>\n</g>\n<!-- 139881356740560 -->\n<g class=\"node\" id=\"node113\">\n<title>139881356740560</title>\n<polygon fill=\"none\" points=\"214,-10731.5 214,-10767.5 299,-10767.5 299,-10731.5 214,-10731.5\" stroke=\"#000000\"/>\n<text fill=\"#000000\" font-family=\"Times,serif\" font-size=\"14.00\" text-anchor=\"middle\" x=\"256.5\" y=\"-10745.8\">add_9: Add</text>\n</g>\n<!-- 139881356456976&#45;&gt;139881356740560 -->\n<g class=\"edge\" id=\"edge122\">\n<title>139881356456976-&gt;139881356740560</title>\n<path d=\"M272.4791,-11388.1083C293.6909,-11361.7403 328.5,-11310.8061 328.5,-11260.5 328.5,-11260.5 328.5,-11260.5 328.5,-10895.5 328.5,-10853.8732 328.0378,-10840.7568 308.5,-10804 302.8031,-10793.2823 294.402,-10783.1724 286.0064,-10774.6383\" fill=\"none\" stroke=\"#000000\"/>\n<polygon fill=\"#000000\" points=\"288.3189,-10772.0057 278.6979,-10767.5687 283.452,-10777.037 288.3189,-10772.0057\" stroke=\"#000000\"/>\n</g>\n<!-- 139881356529424 -->\n<g class=\"node\" id=\"node106\">\n<title>139881356529424</title>\n<polygon fill=\"none\" points=\"71,-11242.5 71,-11278.5 300,-11278.5 300,-11242.5 71,-11242.5\" stroke=\"#000000\"/>\n<text fill=\"#000000\" font-family=\"Times,serif\" font-size=\"14.00\" text-anchor=\"middle\" x=\"185.5\" y=\"-11256.8\">bn4b_branch2a: BatchNormalization</text>\n</g>\n<!-- 139881356021008&#45;&gt;139881356529424 -->\n<g class=\"edge\" id=\"edge114\">\n<title>139881356021008-&gt;139881356529424</title>\n<path d=\"M197.5449,-11315.4551C195.7565,-11307.2951 193.602,-11297.4652 191.6126,-11288.3887\" fill=\"none\" stroke=\"#000000\"/>\n<polygon fill=\"#000000\" points=\"195.0249,-11287.6091 189.465,-11278.5904 188.1872,-11289.1079 195.0249,-11287.6091\" stroke=\"#000000\"/>\n</g>\n<!-- 139881356020624 -->\n<g class=\"node\" id=\"node107\">\n<title>139881356020624</title>\n<polygon fill=\"none\" points=\"105,-11169.5 105,-11205.5 266,-11205.5 266,-11169.5 105,-11169.5\" stroke=\"#000000\"/>\n<text fill=\"#000000\" font-family=\"Times,serif\" font-size=\"14.00\" text-anchor=\"middle\" x=\"185.5\" y=\"-11183.8\">activation_28: Activation</text>\n</g>\n<!-- 139881356529424&#45;&gt;139881356020624 -->\n<g class=\"edge\" id=\"edge115\">\n<title>139881356529424-&gt;139881356020624</title>\n<path d=\"M185.5,-11242.4551C185.5,-11234.3828 185.5,-11224.6764 185.5,-11215.6817\" fill=\"none\" stroke=\"#000000\"/>\n<polygon fill=\"#000000\" points=\"189.0001,-11215.5903 185.5,-11205.5904 182.0001,-11215.5904 189.0001,-11215.5903\" stroke=\"#000000\"/>\n</g>\n<!-- 139881356226768 -->\n<g class=\"node\" id=\"node108\">\n<title>139881356226768</title>\n<polygon fill=\"none\" points=\"102,-11096.5 102,-11132.5 269,-11132.5 269,-11096.5 102,-11096.5\" stroke=\"#000000\"/>\n<text fill=\"#000000\" font-family=\"Times,serif\" font-size=\"14.00\" text-anchor=\"middle\" x=\"185.5\" y=\"-11110.8\">res4b_branch2b: Conv2D</text>\n</g>\n<!-- 139881356020624&#45;&gt;139881356226768 -->\n<g class=\"edge\" id=\"edge116\">\n<title>139881356020624-&gt;139881356226768</title>\n<path d=\"M185.5,-11169.4551C185.5,-11161.3828 185.5,-11151.6764 185.5,-11142.6817\" fill=\"none\" stroke=\"#000000\"/>\n<polygon fill=\"#000000\" points=\"189.0001,-11142.5903 185.5,-11132.5904 182.0001,-11142.5904 189.0001,-11142.5903\" stroke=\"#000000\"/>\n</g>\n<!-- 139881356173712 -->\n<g class=\"node\" id=\"node109\">\n<title>139881356173712</title>\n<polygon fill=\"none\" points=\"70.5,-11023.5 70.5,-11059.5 300.5,-11059.5 300.5,-11023.5 70.5,-11023.5\" stroke=\"#000000\"/>\n<text fill=\"#000000\" font-family=\"Times,serif\" font-size=\"14.00\" text-anchor=\"middle\" x=\"185.5\" y=\"-11037.8\">bn4b_branch2b: BatchNormalization</text>\n</g>\n<!-- 139881356226768&#45;&gt;139881356173712 -->\n<g class=\"edge\" id=\"edge117\">\n<title>139881356226768-&gt;139881356173712</title>\n<path d=\"M185.5,-11096.4551C185.5,-11088.3828 185.5,-11078.6764 185.5,-11069.6817\" fill=\"none\" stroke=\"#000000\"/>\n<polygon fill=\"#000000\" points=\"189.0001,-11069.5903 185.5,-11059.5904 182.0001,-11069.5904 189.0001,-11069.5903\" stroke=\"#000000\"/>\n</g>\n<!-- 139881356019600 -->\n<g class=\"node\" id=\"node110\">\n<title>139881356019600</title>\n<polygon fill=\"none\" points=\"105,-10950.5 105,-10986.5 266,-10986.5 266,-10950.5 105,-10950.5\" stroke=\"#000000\"/>\n<text fill=\"#000000\" font-family=\"Times,serif\" font-size=\"14.00\" text-anchor=\"middle\" x=\"185.5\" y=\"-10964.8\">activation_29: Activation</text>\n</g>\n<!-- 139881356173712&#45;&gt;139881356019600 -->\n<g class=\"edge\" id=\"edge118\">\n<title>139881356173712-&gt;139881356019600</title>\n<path d=\"M185.5,-11023.4551C185.5,-11015.3828 185.5,-11005.6764 185.5,-10996.6817\" fill=\"none\" stroke=\"#000000\"/>\n<polygon fill=\"#000000\" points=\"189.0001,-10996.5903 185.5,-10986.5904 182.0001,-10996.5904 189.0001,-10996.5903\" stroke=\"#000000\"/>\n</g>\n<!-- 139881356332048 -->\n<g class=\"node\" id=\"node111\">\n<title>139881356332048</title>\n<polygon fill=\"none\" points=\"103,-10877.5 103,-10913.5 268,-10913.5 268,-10877.5 103,-10877.5\" stroke=\"#000000\"/>\n<text fill=\"#000000\" font-family=\"Times,serif\" font-size=\"14.00\" text-anchor=\"middle\" x=\"185.5\" y=\"-10891.8\">res4b_branch2c: Conv2D</text>\n</g>\n<!-- 139881356019600&#45;&gt;139881356332048 -->\n<g class=\"edge\" id=\"edge119\">\n<title>139881356019600-&gt;139881356332048</title>\n<path d=\"M185.5,-10950.4551C185.5,-10942.3828 185.5,-10932.6764 185.5,-10923.6817\" fill=\"none\" stroke=\"#000000\"/>\n<polygon fill=\"#000000\" points=\"189.0001,-10923.5903 185.5,-10913.5904 182.0001,-10923.5904 189.0001,-10923.5903\" stroke=\"#000000\"/>\n</g>\n<!-- 139881356496592 -->\n<g class=\"node\" id=\"node112\">\n<title>139881356496592</title>\n<polygon fill=\"none\" points=\"71,-10804.5 71,-10840.5 300,-10840.5 300,-10804.5 71,-10804.5\" stroke=\"#000000\"/>\n<text fill=\"#000000\" font-family=\"Times,serif\" font-size=\"14.00\" text-anchor=\"middle\" x=\"185.5\" y=\"-10818.8\">bn4b_branch2c: BatchNormalization</text>\n</g>\n<!-- 139881356332048&#45;&gt;139881356496592 -->\n<g class=\"edge\" id=\"edge120\">\n<title>139881356332048-&gt;139881356496592</title>\n<path d=\"M185.5,-10877.4551C185.5,-10869.3828 185.5,-10859.6764 185.5,-10850.6817\" fill=\"none\" stroke=\"#000000\"/>\n<polygon fill=\"#000000\" points=\"189.0001,-10850.5903 185.5,-10840.5904 182.0001,-10850.5904 189.0001,-10850.5903\" stroke=\"#000000\"/>\n</g>\n<!-- 139881356496592&#45;&gt;139881356740560 -->\n<g class=\"edge\" id=\"edge121\">\n<title>139881356496592-&gt;139881356740560</title>\n<path d=\"M203.0506,-10804.4551C211.755,-10795.5054 222.4132,-10784.547 231.9156,-10774.7769\" fill=\"none\" stroke=\"#000000\"/>\n<polygon fill=\"#000000\" points=\"234.4421,-10777.1992 238.9053,-10767.5904 229.424,-10772.3187 234.4421,-10777.1992\" stroke=\"#000000\"/>\n</g>\n<!-- 139881427725968 -->\n<g class=\"node\" id=\"node114\">\n<title>139881427725968</title>\n<polygon fill=\"none\" points=\"176,-10658.5 176,-10694.5 337,-10694.5 337,-10658.5 176,-10658.5\" stroke=\"#000000\"/>\n<text fill=\"#000000\" font-family=\"Times,serif\" font-size=\"14.00\" text-anchor=\"middle\" x=\"256.5\" y=\"-10672.8\">activation_30: Activation</text>\n</g>\n<!-- 139881356740560&#45;&gt;139881427725968 -->\n<g class=\"edge\" id=\"edge123\">\n<title>139881356740560-&gt;139881427725968</title>\n<path d=\"M256.5,-10731.4551C256.5,-10723.3828 256.5,-10713.6764 256.5,-10704.6817\" fill=\"none\" stroke=\"#000000\"/>\n<polygon fill=\"#000000\" points=\"260.0001,-10704.5903 256.5,-10694.5904 253.0001,-10704.5904 260.0001,-10704.5903\" stroke=\"#000000\"/>\n</g>\n<!-- 139881360336080 -->\n<g class=\"node\" id=\"node115\">\n<title>139881360336080</title>\n<polygon fill=\"none\" points=\"103.5,-10585.5 103.5,-10621.5 267.5,-10621.5 267.5,-10585.5 103.5,-10585.5\" stroke=\"#000000\"/>\n<text fill=\"#000000\" font-family=\"Times,serif\" font-size=\"14.00\" text-anchor=\"middle\" x=\"185.5\" y=\"-10599.8\">res4c_branch2a: Conv2D</text>\n</g>\n<!-- 139881427725968&#45;&gt;139881360336080 -->\n<g class=\"edge\" id=\"edge124\">\n<title>139881427725968-&gt;139881360336080</title>\n<path d=\"M238.9494,-10658.4551C230.245,-10649.5054 219.5868,-10638.547 210.0844,-10628.7769\" fill=\"none\" stroke=\"#000000\"/>\n<polygon fill=\"#000000\" points=\"212.576,-10626.3187 203.0947,-10621.5904 207.5579,-10631.1992 212.576,-10626.3187\" stroke=\"#000000\"/>\n</g>\n<!-- 139881355535056 -->\n<g class=\"node\" id=\"node123\">\n<title>139881355535056</title>\n<polygon fill=\"none\" points=\"194.5,-10001.5 194.5,-10037.5 286.5,-10037.5 286.5,-10001.5 194.5,-10001.5\" stroke=\"#000000\"/>\n<text fill=\"#000000\" font-family=\"Times,serif\" font-size=\"14.00\" text-anchor=\"middle\" x=\"240.5\" y=\"-10015.8\">add_10: Add</text>\n</g>\n<!-- 139881427725968&#45;&gt;139881355535056 -->\n<g class=\"edge\" id=\"edge133\">\n<title>139881427725968-&gt;139881355535056</title>\n<path d=\"M268.1641,-10658.4282C284.3088,-10631.6285 311.5,-10579.255 311.5,-10530.5 311.5,-10530.5 311.5,-10530.5 311.5,-10165.5 311.5,-10123.8732 310.8594,-10110.8511 291.5,-10074 285.9066,-10063.3527 277.6654,-10053.2622 269.4315,-10044.7242\" fill=\"none\" stroke=\"#000000\"/>\n<polygon fill=\"#000000\" points=\"271.8388,-10042.1825 262.2644,-10037.6458 266.92,-10047.163 271.8388,-10042.1825\" stroke=\"#000000\"/>\n</g>\n<!-- 139881356546704 -->\n<g class=\"node\" id=\"node116\">\n<title>139881356546704</title>\n<polygon fill=\"none\" points=\"56,-10512.5 56,-10548.5 283,-10548.5 283,-10512.5 56,-10512.5\" stroke=\"#000000\"/>\n<text fill=\"#000000\" font-family=\"Times,serif\" font-size=\"14.00\" text-anchor=\"middle\" x=\"169.5\" y=\"-10526.8\">bn4c_branch2a: BatchNormalization</text>\n</g>\n<!-- 139881360336080&#45;&gt;139881356546704 -->\n<g class=\"edge\" id=\"edge125\">\n<title>139881360336080-&gt;139881356546704</title>\n<path d=\"M181.5449,-10585.4551C179.7565,-10577.2951 177.602,-10567.4652 175.6126,-10558.3887\" fill=\"none\" stroke=\"#000000\"/>\n<polygon fill=\"#000000\" points=\"179.0249,-10557.6091 173.465,-10548.5904 172.1872,-10559.1079 179.0249,-10557.6091\" stroke=\"#000000\"/>\n</g>\n<!-- 139881357534544 -->\n<g class=\"node\" id=\"node117\">\n<title>139881357534544</title>\n<polygon fill=\"none\" points=\"89,-10439.5 89,-10475.5 250,-10475.5 250,-10439.5 89,-10439.5\" stroke=\"#000000\"/>\n<text fill=\"#000000\" font-family=\"Times,serif\" font-size=\"14.00\" text-anchor=\"middle\" x=\"169.5\" y=\"-10453.8\">activation_31: Activation</text>\n</g>\n<!-- 139881356546704&#45;&gt;139881357534544 -->\n<g class=\"edge\" id=\"edge126\">\n<title>139881356546704-&gt;139881357534544</title>\n<path d=\"M169.5,-10512.4551C169.5,-10504.3828 169.5,-10494.6764 169.5,-10485.6817\" fill=\"none\" stroke=\"#000000\"/>\n<polygon fill=\"#000000\" points=\"173.0001,-10485.5903 169.5,-10475.5904 166.0001,-10485.5904 173.0001,-10485.5903\" stroke=\"#000000\"/>\n</g>\n<!-- 139881355813136 -->\n<g class=\"node\" id=\"node118\">\n<title>139881355813136</title>\n<polygon fill=\"none\" points=\"86,-10366.5 86,-10402.5 251,-10402.5 251,-10366.5 86,-10366.5\" stroke=\"#000000\"/>\n<text fill=\"#000000\" font-family=\"Times,serif\" font-size=\"14.00\" text-anchor=\"middle\" x=\"168.5\" y=\"-10380.8\">res4c_branch2b: Conv2D</text>\n</g>\n<!-- 139881357534544&#45;&gt;139881355813136 -->\n<g class=\"edge\" id=\"edge127\">\n<title>139881357534544-&gt;139881355813136</title>\n<path d=\"M169.2528,-10439.4551C169.1422,-10431.3828 169.0093,-10421.6764 168.8861,-10412.6817\" fill=\"none\" stroke=\"#000000\"/>\n<polygon fill=\"#000000\" points=\"172.3846,-10412.5414 168.7478,-10402.5904 165.3852,-10412.6374 172.3846,-10412.5414\" stroke=\"#000000\"/>\n</g>\n<!-- 139881355816592 -->\n<g class=\"node\" id=\"node119\">\n<title>139881355816592</title>\n<polygon fill=\"none\" points=\"54,-10293.5 54,-10329.5 283,-10329.5 283,-10293.5 54,-10293.5\" stroke=\"#000000\"/>\n<text fill=\"#000000\" font-family=\"Times,serif\" font-size=\"14.00\" text-anchor=\"middle\" x=\"168.5\" y=\"-10307.8\">bn4c_branch2b: BatchNormalization</text>\n</g>\n<!-- 139881355813136&#45;&gt;139881355816592 -->\n<g class=\"edge\" id=\"edge128\">\n<title>139881355813136-&gt;139881355816592</title>\n<path d=\"M168.5,-10366.4551C168.5,-10358.3828 168.5,-10348.6764 168.5,-10339.6817\" fill=\"none\" stroke=\"#000000\"/>\n<polygon fill=\"#000000\" points=\"172.0001,-10339.5903 168.5,-10329.5904 165.0001,-10339.5904 172.0001,-10339.5903\" stroke=\"#000000\"/>\n</g>\n<!-- 139881355872144 -->\n<g class=\"node\" id=\"node120\">\n<title>139881355872144</title>\n<polygon fill=\"none\" points=\"88,-10220.5 88,-10256.5 249,-10256.5 249,-10220.5 88,-10220.5\" stroke=\"#000000\"/>\n<text fill=\"#000000\" font-family=\"Times,serif\" font-size=\"14.00\" text-anchor=\"middle\" x=\"168.5\" y=\"-10234.8\">activation_32: Activation</text>\n</g>\n<!-- 139881355816592&#45;&gt;139881355872144 -->\n<g class=\"edge\" id=\"edge129\">\n<title>139881355816592-&gt;139881355872144</title>\n<path d=\"M168.5,-10293.4551C168.5,-10285.3828 168.5,-10275.6764 168.5,-10266.6817\" fill=\"none\" stroke=\"#000000\"/>\n<polygon fill=\"#000000\" points=\"172.0001,-10266.5903 168.5,-10256.5904 165.0001,-10266.5904 172.0001,-10266.5903\" stroke=\"#000000\"/>\n</g>\n<!-- 139881355535248 -->\n<g class=\"node\" id=\"node121\">\n<title>139881355535248</title>\n<polygon fill=\"none\" points=\"87.5,-10147.5 87.5,-10183.5 251.5,-10183.5 251.5,-10147.5 87.5,-10147.5\" stroke=\"#000000\"/>\n<text fill=\"#000000\" font-family=\"Times,serif\" font-size=\"14.00\" text-anchor=\"middle\" x=\"169.5\" y=\"-10161.8\">res4c_branch2c: Conv2D</text>\n</g>\n<!-- 139881355872144&#45;&gt;139881355535248 -->\n<g class=\"edge\" id=\"edge130\">\n<title>139881355872144-&gt;139881355535248</title>\n<path d=\"M168.7472,-10220.4551C168.8578,-10212.3828 168.9907,-10202.6764 169.1139,-10193.6817\" fill=\"none\" stroke=\"#000000\"/>\n<polygon fill=\"#000000\" points=\"172.6148,-10193.6374 169.2522,-10183.5904 165.6154,-10193.5414 172.6148,-10193.6374\" stroke=\"#000000\"/>\n</g>\n<!-- 139881355537680 -->\n<g class=\"node\" id=\"node122\">\n<title>139881355537680</title>\n<polygon fill=\"none\" points=\"56,-10074.5 56,-10110.5 283,-10110.5 283,-10074.5 56,-10074.5\" stroke=\"#000000\"/>\n<text fill=\"#000000\" font-family=\"Times,serif\" font-size=\"14.00\" text-anchor=\"middle\" x=\"169.5\" y=\"-10088.8\">bn4c_branch2c: BatchNormalization</text>\n</g>\n<!-- 139881355535248&#45;&gt;139881355537680 -->\n<g class=\"edge\" id=\"edge131\">\n<title>139881355535248-&gt;139881355537680</title>\n<path d=\"M169.5,-10147.4551C169.5,-10139.3828 169.5,-10129.6764 169.5,-10120.6817\" fill=\"none\" stroke=\"#000000\"/>\n<polygon fill=\"#000000\" points=\"173.0001,-10120.5903 169.5,-10110.5904 166.0001,-10120.5904 173.0001,-10120.5903\" stroke=\"#000000\"/>\n</g>\n<!-- 139881355537680&#45;&gt;139881355535056 -->\n<g class=\"edge\" id=\"edge132\">\n<title>139881355537680-&gt;139881355535056</title>\n<path d=\"M187.0506,-10074.4551C195.755,-10065.5054 206.4132,-10054.547 215.9156,-10044.7769\" fill=\"none\" stroke=\"#000000\"/>\n<polygon fill=\"#000000\" points=\"218.4421,-10047.1992 222.9053,-10037.5904 213.424,-10042.3187 218.4421,-10047.1992\" stroke=\"#000000\"/>\n</g>\n<!-- 139881356011280 -->\n<g class=\"node\" id=\"node124\">\n<title>139881356011280</title>\n<polygon fill=\"none\" points=\"160,-9928.5 160,-9964.5 321,-9964.5 321,-9928.5 160,-9928.5\" stroke=\"#000000\"/>\n<text fill=\"#000000\" font-family=\"Times,serif\" font-size=\"14.00\" text-anchor=\"middle\" x=\"240.5\" y=\"-9942.8\">activation_33: Activation</text>\n</g>\n<!-- 139881355535056&#45;&gt;139881356011280 -->\n<g class=\"edge\" id=\"edge134\">\n<title>139881355535056-&gt;139881356011280</title>\n<path d=\"M240.5,-10001.4551C240.5,-9993.3828 240.5,-9983.6764 240.5,-9974.6817\" fill=\"none\" stroke=\"#000000\"/>\n<polygon fill=\"#000000\" points=\"244.0001,-9974.5903 240.5,-9964.5904 237.0001,-9974.5904 244.0001,-9974.5903\" stroke=\"#000000\"/>\n</g>\n<!-- 139881355675600 -->\n<g class=\"node\" id=\"node125\">\n<title>139881355675600</title>\n<polygon fill=\"none\" points=\"103,-9855.5 103,-9891.5 268,-9891.5 268,-9855.5 103,-9855.5\" stroke=\"#000000\"/>\n<text fill=\"#000000\" font-family=\"Times,serif\" font-size=\"14.00\" text-anchor=\"middle\" x=\"185.5\" y=\"-9869.8\">res4d_branch2a: Conv2D</text>\n</g>\n<!-- 139881356011280&#45;&gt;139881355675600 -->\n<g class=\"edge\" id=\"edge135\">\n<title>139881356011280-&gt;139881355675600</title>\n<path d=\"M226.9045,-9928.4551C220.3599,-9919.7686 212.3896,-9909.1898 205.196,-9899.642\" fill=\"none\" stroke=\"#000000\"/>\n<polygon fill=\"#000000\" points=\"207.9427,-9897.4711 199.1297,-9891.5904 202.3518,-9901.6834 207.9427,-9897.4711\" stroke=\"#000000\"/>\n</g>\n<!-- 139881355859472 -->\n<g class=\"node\" id=\"node133\">\n<title>139881355859472</title>\n<polygon fill=\"none\" points=\"194.5,-9271.5 194.5,-9307.5 286.5,-9307.5 286.5,-9271.5 194.5,-9271.5\" stroke=\"#000000\"/>\n<text fill=\"#000000\" font-family=\"Times,serif\" font-size=\"14.00\" text-anchor=\"middle\" x=\"240.5\" y=\"-9285.8\">add_11: Add</text>\n</g>\n<!-- 139881356011280&#45;&gt;139881355859472 -->\n<g class=\"edge\" id=\"edge144\">\n<title>139881356011280-&gt;139881355859472</title>\n<path d=\"M256.4791,-9928.1083C277.6909,-9901.7403 312.5,-9850.8061 312.5,-9800.5 312.5,-9800.5 312.5,-9800.5 312.5,-9435.5 312.5,-9393.8732 312.0378,-9380.7568 292.5,-9344 286.8031,-9333.2823 278.402,-9323.1724 270.0064,-9314.6383\" fill=\"none\" stroke=\"#000000\"/>\n<polygon fill=\"#000000\" points=\"272.3189,-9312.0057 262.6979,-9307.5687 267.452,-9317.037 272.3189,-9312.0057\" stroke=\"#000000\"/>\n</g>\n<!-- 139881355675920 -->\n<g class=\"node\" id=\"node126\">\n<title>139881355675920</title>\n<polygon fill=\"none\" points=\"55,-9782.5 55,-9818.5 284,-9818.5 284,-9782.5 55,-9782.5\" stroke=\"#000000\"/>\n<text fill=\"#000000\" font-family=\"Times,serif\" font-size=\"14.00\" text-anchor=\"middle\" x=\"169.5\" y=\"-9796.8\">bn4d_branch2a: BatchNormalization</text>\n</g>\n<!-- 139881355675600&#45;&gt;139881355675920 -->\n<g class=\"edge\" id=\"edge136\">\n<title>139881355675600-&gt;139881355675920</title>\n<path d=\"M181.5449,-9855.4551C179.7565,-9847.2951 177.602,-9837.4652 175.6126,-9828.3887\" fill=\"none\" stroke=\"#000000\"/>\n<polygon fill=\"#000000\" points=\"179.0249,-9827.6091 173.465,-9818.5904 172.1872,-9829.1079 179.0249,-9827.6091\" stroke=\"#000000\"/>\n</g>\n<!-- 139881355677456 -->\n<g class=\"node\" id=\"node127\">\n<title>139881355677456</title>\n<polygon fill=\"none\" points=\"89,-9709.5 89,-9745.5 250,-9745.5 250,-9709.5 89,-9709.5\" stroke=\"#000000\"/>\n<text fill=\"#000000\" font-family=\"Times,serif\" font-size=\"14.00\" text-anchor=\"middle\" x=\"169.5\" y=\"-9723.8\">activation_34: Activation</text>\n</g>\n<!-- 139881355675920&#45;&gt;139881355677456 -->\n<g class=\"edge\" id=\"edge137\">\n<title>139881355675920-&gt;139881355677456</title>\n<path d=\"M169.5,-9782.4551C169.5,-9774.3828 169.5,-9764.6764 169.5,-9755.6817\" fill=\"none\" stroke=\"#000000\"/>\n<polygon fill=\"#000000\" points=\"173.0001,-9755.5903 169.5,-9745.5904 166.0001,-9755.5904 173.0001,-9755.5903\" stroke=\"#000000\"/>\n</g>\n<!-- 139881355320272 -->\n<g class=\"node\" id=\"node128\">\n<title>139881355320272</title>\n<polygon fill=\"none\" points=\"86,-9636.5 86,-9672.5 253,-9672.5 253,-9636.5 86,-9636.5\" stroke=\"#000000\"/>\n<text fill=\"#000000\" font-family=\"Times,serif\" font-size=\"14.00\" text-anchor=\"middle\" x=\"169.5\" y=\"-9650.8\">res4d_branch2b: Conv2D</text>\n</g>\n<!-- 139881355677456&#45;&gt;139881355320272 -->\n<g class=\"edge\" id=\"edge138\">\n<title>139881355677456-&gt;139881355320272</title>\n<path d=\"M169.5,-9709.4551C169.5,-9701.3828 169.5,-9691.6764 169.5,-9682.6817\" fill=\"none\" stroke=\"#000000\"/>\n<polygon fill=\"#000000\" points=\"173.0001,-9682.5903 169.5,-9672.5904 166.0001,-9682.5904 173.0001,-9682.5903\" stroke=\"#000000\"/>\n</g>\n<!-- 139881355319248 -->\n<g class=\"node\" id=\"node129\">\n<title>139881355319248</title>\n<polygon fill=\"none\" points=\"54.5,-9563.5 54.5,-9599.5 284.5,-9599.5 284.5,-9563.5 54.5,-9563.5\" stroke=\"#000000\"/>\n<text fill=\"#000000\" font-family=\"Times,serif\" font-size=\"14.00\" text-anchor=\"middle\" x=\"169.5\" y=\"-9577.8\">bn4d_branch2b: BatchNormalization</text>\n</g>\n<!-- 139881355320272&#45;&gt;139881355319248 -->\n<g class=\"edge\" id=\"edge139\">\n<title>139881355320272-&gt;139881355319248</title>\n<path d=\"M169.5,-9636.4551C169.5,-9628.3828 169.5,-9618.6764 169.5,-9609.6817\" fill=\"none\" stroke=\"#000000\"/>\n<polygon fill=\"#000000\" points=\"173.0001,-9609.5903 169.5,-9599.5904 166.0001,-9609.5904 173.0001,-9609.5903\" stroke=\"#000000\"/>\n</g>\n<!-- 139881355674896 -->\n<g class=\"node\" id=\"node130\">\n<title>139881355674896</title>\n<polygon fill=\"none\" points=\"89,-9490.5 89,-9526.5 250,-9526.5 250,-9490.5 89,-9490.5\" stroke=\"#000000\"/>\n<text fill=\"#000000\" font-family=\"Times,serif\" font-size=\"14.00\" text-anchor=\"middle\" x=\"169.5\" y=\"-9504.8\">activation_35: Activation</text>\n</g>\n<!-- 139881355319248&#45;&gt;139881355674896 -->\n<g class=\"edge\" id=\"edge140\">\n<title>139881355319248-&gt;139881355674896</title>\n<path d=\"M169.5,-9563.4551C169.5,-9555.3828 169.5,-9545.6764 169.5,-9536.6817\" fill=\"none\" stroke=\"#000000\"/>\n<polygon fill=\"#000000\" points=\"173.0001,-9536.5903 169.5,-9526.5904 166.0001,-9536.5904 173.0001,-9536.5903\" stroke=\"#000000\"/>\n</g>\n<!-- 139881355948304 -->\n<g class=\"node\" id=\"node131\">\n<title>139881355948304</title>\n<polygon fill=\"none\" points=\"87,-9417.5 87,-9453.5 252,-9453.5 252,-9417.5 87,-9417.5\" stroke=\"#000000\"/>\n<text fill=\"#000000\" font-family=\"Times,serif\" font-size=\"14.00\" text-anchor=\"middle\" x=\"169.5\" y=\"-9431.8\">res4d_branch2c: Conv2D</text>\n</g>\n<!-- 139881355674896&#45;&gt;139881355948304 -->\n<g class=\"edge\" id=\"edge141\">\n<title>139881355674896-&gt;139881355948304</title>\n<path d=\"M169.5,-9490.4551C169.5,-9482.3828 169.5,-9472.6764 169.5,-9463.6817\" fill=\"none\" stroke=\"#000000\"/>\n<polygon fill=\"#000000\" points=\"173.0001,-9463.5903 169.5,-9453.5904 166.0001,-9463.5904 173.0001,-9463.5903\" stroke=\"#000000\"/>\n</g>\n<!-- 139881355974224 -->\n<g class=\"node\" id=\"node132\">\n<title>139881355974224</title>\n<polygon fill=\"none\" points=\"55,-9344.5 55,-9380.5 284,-9380.5 284,-9344.5 55,-9344.5\" stroke=\"#000000\"/>\n<text fill=\"#000000\" font-family=\"Times,serif\" font-size=\"14.00\" text-anchor=\"middle\" x=\"169.5\" y=\"-9358.8\">bn4d_branch2c: BatchNormalization</text>\n</g>\n<!-- 139881355948304&#45;&gt;139881355974224 -->\n<g class=\"edge\" id=\"edge142\">\n<title>139881355948304-&gt;139881355974224</title>\n<path d=\"M169.5,-9417.4551C169.5,-9409.3828 169.5,-9399.6764 169.5,-9390.6817\" fill=\"none\" stroke=\"#000000\"/>\n<polygon fill=\"#000000\" points=\"173.0001,-9390.5903 169.5,-9380.5904 166.0001,-9390.5904 173.0001,-9390.5903\" stroke=\"#000000\"/>\n</g>\n<!-- 139881355974224&#45;&gt;139881355859472 -->\n<g class=\"edge\" id=\"edge143\">\n<title>139881355974224-&gt;139881355859472</title>\n<path d=\"M187.0506,-9344.4551C195.755,-9335.5054 206.4132,-9324.547 215.9156,-9314.7769\" fill=\"none\" stroke=\"#000000\"/>\n<polygon fill=\"#000000\" points=\"218.4421,-9317.1992 222.9053,-9307.5904 213.424,-9312.3187 218.4421,-9317.1992\" stroke=\"#000000\"/>\n</g>\n<!-- 139881355792592 -->\n<g class=\"node\" id=\"node134\">\n<title>139881355792592</title>\n<polygon fill=\"none\" points=\"160,-9198.5 160,-9234.5 321,-9234.5 321,-9198.5 160,-9198.5\" stroke=\"#000000\"/>\n<text fill=\"#000000\" font-family=\"Times,serif\" font-size=\"14.00\" text-anchor=\"middle\" x=\"240.5\" y=\"-9212.8\">activation_36: Activation</text>\n</g>\n<!-- 139881355859472&#45;&gt;139881355792592 -->\n<g class=\"edge\" id=\"edge145\">\n<title>139881355859472-&gt;139881355792592</title>\n<path d=\"M240.5,-9271.4551C240.5,-9263.3828 240.5,-9253.6764 240.5,-9244.6817\" fill=\"none\" stroke=\"#000000\"/>\n<polygon fill=\"#000000\" points=\"244.0001,-9244.5903 240.5,-9234.5904 237.0001,-9244.5904 244.0001,-9244.5903\" stroke=\"#000000\"/>\n</g>\n<!-- 139881357904784 -->\n<g class=\"node\" id=\"node135\">\n<title>139881357904784</title>\n<polygon fill=\"none\" points=\"173.5,-9125.5 173.5,-9161.5 307.5,-9161.5 307.5,-9125.5 173.5,-9125.5\" stroke=\"#000000\"/>\n<text fill=\"#000000\" font-family=\"Times,serif\" font-size=\"14.00\" text-anchor=\"middle\" x=\"240.5\" y=\"-9139.8\">dropout_2: Dropout</text>\n</g>\n<!-- 139881355792592&#45;&gt;139881357904784 -->\n<g class=\"edge\" id=\"edge146\">\n<title>139881355792592-&gt;139881357904784</title>\n<path d=\"M240.5,-9198.4551C240.5,-9190.3828 240.5,-9180.6764 240.5,-9171.6817\" fill=\"none\" stroke=\"#000000\"/>\n<polygon fill=\"#000000\" points=\"244.0001,-9171.5903 240.5,-9161.5904 237.0001,-9171.5904 244.0001,-9171.5903\" stroke=\"#000000\"/>\n</g>\n<!-- 139881357763984 -->\n<g class=\"node\" id=\"node136\">\n<title>139881357763984</title>\n<polygon fill=\"none\" points=\"103.5,-9052.5 103.5,-9088.5 267.5,-9088.5 267.5,-9052.5 103.5,-9052.5\" stroke=\"#000000\"/>\n<text fill=\"#000000\" font-family=\"Times,serif\" font-size=\"14.00\" text-anchor=\"middle\" x=\"185.5\" y=\"-9066.8\">res5a_branch2a: Conv2D</text>\n</g>\n<!-- 139881357904784&#45;&gt;139881357763984 -->\n<g class=\"edge\" id=\"edge147\">\n<title>139881357904784-&gt;139881357763984</title>\n<path d=\"M226.9045,-9125.4551C220.3599,-9116.7686 212.3896,-9106.1898 205.196,-9096.642\" fill=\"none\" stroke=\"#000000\"/>\n<polygon fill=\"#000000\" points=\"207.9427,-9094.4711 199.1297,-9088.5904 202.3518,-9098.6834 207.9427,-9094.4711\" stroke=\"#000000\"/>\n</g>\n<!-- 139881355146448 -->\n<g class=\"node\" id=\"node143\">\n<title>139881355146448</title>\n<polygon fill=\"none\" points=\"267.5,-8979.5 267.5,-9015.5 425.5,-9015.5 425.5,-8979.5 267.5,-8979.5\" stroke=\"#000000\"/>\n<text fill=\"#000000\" font-family=\"Times,serif\" font-size=\"14.00\" text-anchor=\"middle\" x=\"346.5\" y=\"-8993.8\">res5a_branch1: Conv2D</text>\n</g>\n<!-- 139881357904784&#45;&gt;139881355146448 -->\n<g class=\"edge\" id=\"edge154\">\n<title>139881357904784-&gt;139881355146448</title>\n<path d=\"M253.7106,-9125.3042C272.1981,-9099.8403 305.9072,-9053.4108 327.2051,-9024.0759\" fill=\"none\" stroke=\"#000000\"/>\n<polygon fill=\"#000000\" points=\"330.08,-9026.0736 333.1229,-9015.9251 324.4154,-9021.961 330.08,-9026.0736\" stroke=\"#000000\"/>\n</g>\n<!-- 139881357764176 -->\n<g class=\"node\" id=\"node137\">\n<title>139881357764176</title>\n<polygon fill=\"none\" points=\"22,-8979.5 22,-9015.5 249,-9015.5 249,-8979.5 22,-8979.5\" stroke=\"#000000\"/>\n<text fill=\"#000000\" font-family=\"Times,serif\" font-size=\"14.00\" text-anchor=\"middle\" x=\"135.5\" y=\"-8993.8\">bn5a_branch2a: BatchNormalization</text>\n</g>\n<!-- 139881357763984&#45;&gt;139881357764176 -->\n<g class=\"edge\" id=\"edge148\">\n<title>139881357763984-&gt;139881357764176</title>\n<path d=\"M173.1404,-9052.4551C167.2509,-9043.8564 160.0913,-9033.4034 153.6039,-9023.9316\" fill=\"none\" stroke=\"#000000\"/>\n<polygon fill=\"#000000\" points=\"156.4292,-9021.8628 147.8907,-9015.5904 150.654,-9025.8185 156.4292,-9021.8628\" stroke=\"#000000\"/>\n</g>\n<!-- 139881356320912 -->\n<g class=\"node\" id=\"node138\">\n<title>139881356320912</title>\n<polygon fill=\"none\" points=\"56,-8906.5 56,-8942.5 217,-8942.5 217,-8906.5 56,-8906.5\" stroke=\"#000000\"/>\n<text fill=\"#000000\" font-family=\"Times,serif\" font-size=\"14.00\" text-anchor=\"middle\" x=\"136.5\" y=\"-8920.8\">activation_37: Activation</text>\n</g>\n<!-- 139881357764176&#45;&gt;139881356320912 -->\n<g class=\"edge\" id=\"edge149\">\n<title>139881357764176-&gt;139881356320912</title>\n<path d=\"M135.7472,-8979.4551C135.8578,-8971.3828 135.9907,-8961.6764 136.1139,-8952.6817\" fill=\"none\" stroke=\"#000000\"/>\n<polygon fill=\"#000000\" points=\"139.6148,-8952.6374 136.2522,-8942.5904 132.6154,-8952.5414 139.6148,-8952.6374\" stroke=\"#000000\"/>\n</g>\n<!-- 139881355341392 -->\n<g class=\"node\" id=\"node139\">\n<title>139881355341392</title>\n<polygon fill=\"none\" points=\"87,-8833.5 87,-8869.5 252,-8869.5 252,-8833.5 87,-8833.5\" stroke=\"#000000\"/>\n<text fill=\"#000000\" font-family=\"Times,serif\" font-size=\"14.00\" text-anchor=\"middle\" x=\"169.5\" y=\"-8847.8\">res5a_branch2b: Conv2D</text>\n</g>\n<!-- 139881356320912&#45;&gt;139881355341392 -->\n<g class=\"edge\" id=\"edge150\">\n<title>139881356320912-&gt;139881355341392</title>\n<path d=\"M144.6573,-8906.4551C148.4254,-8898.1196 152.9812,-8888.0416 157.157,-8878.8042\" fill=\"none\" stroke=\"#000000\"/>\n<polygon fill=\"#000000\" points=\"160.3922,-8880.1443 161.3222,-8869.5904 154.0136,-8877.2608 160.3922,-8880.1443\" stroke=\"#000000\"/>\n</g>\n<!-- 139881355467472 -->\n<g class=\"node\" id=\"node140\">\n<title>139881355467472</title>\n<polygon fill=\"none\" points=\"71,-8760.5 71,-8796.5 300,-8796.5 300,-8760.5 71,-8760.5\" stroke=\"#000000\"/>\n<text fill=\"#000000\" font-family=\"Times,serif\" font-size=\"14.00\" text-anchor=\"middle\" x=\"185.5\" y=\"-8774.8\">bn5a_branch2b: BatchNormalization</text>\n</g>\n<!-- 139881355341392&#45;&gt;139881355467472 -->\n<g class=\"edge\" id=\"edge151\">\n<title>139881355341392-&gt;139881355467472</title>\n<path d=\"M173.4551,-8833.4551C175.2435,-8825.2951 177.398,-8815.4652 179.3874,-8806.3887\" fill=\"none\" stroke=\"#000000\"/>\n<polygon fill=\"#000000\" points=\"182.8128,-8807.1079 181.535,-8796.5904 175.9751,-8805.6091 182.8128,-8807.1079\" stroke=\"#000000\"/>\n</g>\n<!-- 139881357882704 -->\n<g class=\"node\" id=\"node141\">\n<title>139881357882704</title>\n<polygon fill=\"none\" points=\"114,-8687.5 114,-8723.5 275,-8723.5 275,-8687.5 114,-8687.5\" stroke=\"#000000\"/>\n<text fill=\"#000000\" font-family=\"Times,serif\" font-size=\"14.00\" text-anchor=\"middle\" x=\"194.5\" y=\"-8701.8\">activation_38: Activation</text>\n</g>\n<!-- 139881355467472&#45;&gt;139881357882704 -->\n<g class=\"edge\" id=\"edge152\">\n<title>139881355467472-&gt;139881357882704</title>\n<path d=\"M187.7247,-8760.4551C188.7199,-8752.3828 189.9166,-8742.6764 191.0255,-8733.6817\" fill=\"none\" stroke=\"#000000\"/>\n<polygon fill=\"#000000\" points=\"194.5197,-8733.9435 192.2697,-8723.5904 187.5723,-8733.0869 194.5197,-8733.9435\" stroke=\"#000000\"/>\n</g>\n<!-- 139881355092176 -->\n<g class=\"node\" id=\"node142\">\n<title>139881355092176</title>\n<polygon fill=\"none\" points=\"112.5,-8614.5 112.5,-8650.5 276.5,-8650.5 276.5,-8614.5 112.5,-8614.5\" stroke=\"#000000\"/>\n<text fill=\"#000000\" font-family=\"Times,serif\" font-size=\"14.00\" text-anchor=\"middle\" x=\"194.5\" y=\"-8628.8\">res5a_branch2c: Conv2D</text>\n</g>\n<!-- 139881357882704&#45;&gt;139881355092176 -->\n<g class=\"edge\" id=\"edge153\">\n<title>139881357882704-&gt;139881355092176</title>\n<path d=\"M194.5,-8687.4551C194.5,-8679.3828 194.5,-8669.6764 194.5,-8660.6817\" fill=\"none\" stroke=\"#000000\"/>\n<polygon fill=\"#000000\" points=\"198.0001,-8660.5903 194.5,-8650.5904 191.0001,-8660.5904 198.0001,-8660.5903\" stroke=\"#000000\"/>\n</g>\n<!-- 139881355094672 -->\n<g class=\"node\" id=\"node144\">\n<title>139881355094672</title>\n<polygon fill=\"none\" points=\"81,-8541.5 81,-8577.5 308,-8577.5 308,-8541.5 81,-8541.5\" stroke=\"#000000\"/>\n<text fill=\"#000000\" font-family=\"Times,serif\" font-size=\"14.00\" text-anchor=\"middle\" x=\"194.5\" y=\"-8555.8\">bn5a_branch2c: BatchNormalization</text>\n</g>\n<!-- 139881355092176&#45;&gt;139881355094672 -->\n<g class=\"edge\" id=\"edge155\">\n<title>139881355092176-&gt;139881355094672</title>\n<path d=\"M194.5,-8614.4551C194.5,-8606.3828 194.5,-8596.6764 194.5,-8587.6817\" fill=\"none\" stroke=\"#000000\"/>\n<polygon fill=\"#000000\" points=\"198.0001,-8587.5903 194.5,-8577.5904 191.0001,-8587.5904 198.0001,-8587.5903\" stroke=\"#000000\"/>\n</g>\n<!-- 139881354714128 -->\n<g class=\"node\" id=\"node145\">\n<title>139881354714128</title>\n<polygon fill=\"none\" points=\"235,-8906.5 235,-8942.5 456,-8942.5 456,-8906.5 235,-8906.5\" stroke=\"#000000\"/>\n<text fill=\"#000000\" font-family=\"Times,serif\" font-size=\"14.00\" text-anchor=\"middle\" x=\"345.5\" y=\"-8920.8\">bn5a_branch1: BatchNormalization</text>\n</g>\n<!-- 139881355146448&#45;&gt;139881354714128 -->\n<g class=\"edge\" id=\"edge156\">\n<title>139881355146448-&gt;139881354714128</title>\n<path d=\"M346.2528,-8979.4551C346.1422,-8971.3828 346.0093,-8961.6764 345.8861,-8952.6817\" fill=\"none\" stroke=\"#000000\"/>\n<polygon fill=\"#000000\" points=\"349.3846,-8952.5414 345.7478,-8942.5904 342.3852,-8952.6374 349.3846,-8952.5414\" stroke=\"#000000\"/>\n</g>\n<!-- 139881355199440 -->\n<g class=\"node\" id=\"node146\">\n<title>139881355199440</title>\n<polygon fill=\"none\" points=\"219.5,-8468.5 219.5,-8504.5 311.5,-8504.5 311.5,-8468.5 219.5,-8468.5\" stroke=\"#000000\"/>\n<text fill=\"#000000\" font-family=\"Times,serif\" font-size=\"14.00\" text-anchor=\"middle\" x=\"265.5\" y=\"-8482.8\">add_12: Add</text>\n</g>\n<!-- 139881355094672&#45;&gt;139881355199440 -->\n<g class=\"edge\" id=\"edge157\">\n<title>139881355094672-&gt;139881355199440</title>\n<path d=\"M212.0506,-8541.4551C220.755,-8532.5054 231.4132,-8521.547 240.9156,-8511.7769\" fill=\"none\" stroke=\"#000000\"/>\n<polygon fill=\"#000000\" points=\"243.4421,-8514.1992 247.9053,-8504.5904 238.424,-8509.3187 243.4421,-8514.1992\" stroke=\"#000000\"/>\n</g>\n<!-- 139881354714128&#45;&gt;139881355199440 -->\n<g class=\"edge\" id=\"edge158\">\n<title>139881354714128-&gt;139881355199440</title>\n<path d=\"M343.6352,-8906.0845C340.999,-8878.4173 336.5,-8824.4656 336.5,-8778.5 336.5,-8778.5 336.5,-8778.5 336.5,-8632.5 336.5,-8590.8732 335.8594,-8577.8511 316.5,-8541 310.9066,-8530.3527 302.6654,-8520.2622 294.4315,-8511.7242\" fill=\"none\" stroke=\"#000000\"/>\n<polygon fill=\"#000000\" points=\"296.8388,-8509.1825 287.2644,-8504.6458 291.92,-8514.163 296.8388,-8509.1825\" stroke=\"#000000\"/>\n</g>\n<!-- 139881354841552 -->\n<g class=\"node\" id=\"node147\">\n<title>139881354841552</title>\n<polygon fill=\"none\" points=\"185,-8395.5 185,-8431.5 346,-8431.5 346,-8395.5 185,-8395.5\" stroke=\"#000000\"/>\n<text fill=\"#000000\" font-family=\"Times,serif\" font-size=\"14.00\" text-anchor=\"middle\" x=\"265.5\" y=\"-8409.8\">activation_39: Activation</text>\n</g>\n<!-- 139881355199440&#45;&gt;139881354841552 -->\n<g class=\"edge\" id=\"edge159\">\n<title>139881355199440-&gt;139881354841552</title>\n<path d=\"M265.5,-8468.4551C265.5,-8460.3828 265.5,-8450.6764 265.5,-8441.6817\" fill=\"none\" stroke=\"#000000\"/>\n<polygon fill=\"#000000\" points=\"269.0001,-8441.5903 265.5,-8431.5904 262.0001,-8441.5904 269.0001,-8441.5903\" stroke=\"#000000\"/>\n</g>\n<!-- 139881354928784 -->\n<g class=\"node\" id=\"node148\">\n<title>139881354928784</title>\n<polygon fill=\"none\" points=\"128,-8322.5 128,-8358.5 293,-8358.5 293,-8322.5 128,-8322.5\" stroke=\"#000000\"/>\n<text fill=\"#000000\" font-family=\"Times,serif\" font-size=\"14.00\" text-anchor=\"middle\" x=\"210.5\" y=\"-8336.8\">res5b_branch2a: Conv2D</text>\n</g>\n<!-- 139881354841552&#45;&gt;139881354928784 -->\n<g class=\"edge\" id=\"edge160\">\n<title>139881354841552-&gt;139881354928784</title>\n<path d=\"M251.9045,-8395.4551C245.3599,-8386.7686 237.3896,-8376.1898 230.196,-8366.642\" fill=\"none\" stroke=\"#000000\"/>\n<polygon fill=\"#000000\" points=\"232.9427,-8364.4711 224.1297,-8358.5904 227.3518,-8368.6834 232.9427,-8364.4711\" stroke=\"#000000\"/>\n</g>\n<!-- 139881355860816 -->\n<g class=\"node\" id=\"node156\">\n<title>139881355860816</title>\n<polygon fill=\"none\" points=\"219.5,-7738.5 219.5,-7774.5 311.5,-7774.5 311.5,-7738.5 219.5,-7738.5\" stroke=\"#000000\"/>\n<text fill=\"#000000\" font-family=\"Times,serif\" font-size=\"14.00\" text-anchor=\"middle\" x=\"265.5\" y=\"-7752.8\">add_13: Add</text>\n</g>\n<!-- 139881354841552&#45;&gt;139881355860816 -->\n<g class=\"edge\" id=\"edge169\">\n<title>139881354841552-&gt;139881355860816</title>\n<path d=\"M281.4791,-8395.1083C302.6909,-8368.7403 337.5,-8317.8061 337.5,-8267.5 337.5,-8267.5 337.5,-8267.5 337.5,-7902.5 337.5,-7860.8732 337.0378,-7847.7568 317.5,-7811 311.8031,-7800.2823 303.402,-7790.1724 295.0064,-7781.6383\" fill=\"none\" stroke=\"#000000\"/>\n<polygon fill=\"#000000\" points=\"297.3189,-7779.0057 287.6979,-7774.5687 292.452,-7784.037 297.3189,-7779.0057\" stroke=\"#000000\"/>\n</g>\n<!-- 139881354913040 -->\n<g class=\"node\" id=\"node149\">\n<title>139881354913040</title>\n<polygon fill=\"none\" points=\"80,-8249.5 80,-8285.5 309,-8285.5 309,-8249.5 80,-8249.5\" stroke=\"#000000\"/>\n<text fill=\"#000000\" font-family=\"Times,serif\" font-size=\"14.00\" text-anchor=\"middle\" x=\"194.5\" y=\"-8263.8\">bn5b_branch2a: BatchNormalization</text>\n</g>\n<!-- 139881354928784&#45;&gt;139881354913040 -->\n<g class=\"edge\" id=\"edge161\">\n<title>139881354928784-&gt;139881354913040</title>\n<path d=\"M206.5449,-8322.4551C204.7565,-8314.2951 202.602,-8304.4652 200.6126,-8295.3887\" fill=\"none\" stroke=\"#000000\"/>\n<polygon fill=\"#000000\" points=\"204.0249,-8294.6091 198.465,-8285.5904 197.1872,-8296.1079 204.0249,-8294.6091\" stroke=\"#000000\"/>\n</g>\n<!-- 139881354788944 -->\n<g class=\"node\" id=\"node150\">\n<title>139881354788944</title>\n<polygon fill=\"none\" points=\"114,-8176.5 114,-8212.5 275,-8212.5 275,-8176.5 114,-8176.5\" stroke=\"#000000\"/>\n<text fill=\"#000000\" font-family=\"Times,serif\" font-size=\"14.00\" text-anchor=\"middle\" x=\"194.5\" y=\"-8190.8\">activation_40: Activation</text>\n</g>\n<!-- 139881354913040&#45;&gt;139881354788944 -->\n<g class=\"edge\" id=\"edge162\">\n<title>139881354913040-&gt;139881354788944</title>\n<path d=\"M194.5,-8249.4551C194.5,-8241.3828 194.5,-8231.6764 194.5,-8222.6817\" fill=\"none\" stroke=\"#000000\"/>\n<polygon fill=\"#000000\" points=\"198.0001,-8222.5903 194.5,-8212.5904 191.0001,-8222.5904 198.0001,-8222.5903\" stroke=\"#000000\"/>\n</g>\n<!-- 139881355168784 -->\n<g class=\"node\" id=\"node151\">\n<title>139881355168784</title>\n<polygon fill=\"none\" points=\"111,-8103.5 111,-8139.5 278,-8139.5 278,-8103.5 111,-8103.5\" stroke=\"#000000\"/>\n<text fill=\"#000000\" font-family=\"Times,serif\" font-size=\"14.00\" text-anchor=\"middle\" x=\"194.5\" y=\"-8117.8\">res5b_branch2b: Conv2D</text>\n</g>\n<!-- 139881354788944&#45;&gt;139881355168784 -->\n<g class=\"edge\" id=\"edge163\">\n<title>139881354788944-&gt;139881355168784</title>\n<path d=\"M194.5,-8176.4551C194.5,-8168.3828 194.5,-8158.6764 194.5,-8149.6817\" fill=\"none\" stroke=\"#000000\"/>\n<polygon fill=\"#000000\" points=\"198.0001,-8149.5903 194.5,-8139.5904 191.0001,-8149.5904 198.0001,-8149.5903\" stroke=\"#000000\"/>\n</g>\n<!-- 139881354872784 -->\n<g class=\"node\" id=\"node152\">\n<title>139881354872784</title>\n<polygon fill=\"none\" points=\"79.5,-8030.5 79.5,-8066.5 309.5,-8066.5 309.5,-8030.5 79.5,-8030.5\" stroke=\"#000000\"/>\n<text fill=\"#000000\" font-family=\"Times,serif\" font-size=\"14.00\" text-anchor=\"middle\" x=\"194.5\" y=\"-8044.8\">bn5b_branch2b: BatchNormalization</text>\n</g>\n<!-- 139881355168784&#45;&gt;139881354872784 -->\n<g class=\"edge\" id=\"edge164\">\n<title>139881355168784-&gt;139881354872784</title>\n<path d=\"M194.5,-8103.4551C194.5,-8095.3828 194.5,-8085.6764 194.5,-8076.6817\" fill=\"none\" stroke=\"#000000\"/>\n<polygon fill=\"#000000\" points=\"198.0001,-8076.5903 194.5,-8066.5904 191.0001,-8076.5904 198.0001,-8076.5903\" stroke=\"#000000\"/>\n</g>\n<!-- 139881355492496 -->\n<g class=\"node\" id=\"node153\">\n<title>139881355492496</title>\n<polygon fill=\"none\" points=\"114,-7957.5 114,-7993.5 275,-7993.5 275,-7957.5 114,-7957.5\" stroke=\"#000000\"/>\n<text fill=\"#000000\" font-family=\"Times,serif\" font-size=\"14.00\" text-anchor=\"middle\" x=\"194.5\" y=\"-7971.8\">activation_41: Activation</text>\n</g>\n<!-- 139881354872784&#45;&gt;139881355492496 -->\n<g class=\"edge\" id=\"edge165\">\n<title>139881354872784-&gt;139881355492496</title>\n<path d=\"M194.5,-8030.4551C194.5,-8022.3828 194.5,-8012.6764 194.5,-8003.6817\" fill=\"none\" stroke=\"#000000\"/>\n<polygon fill=\"#000000\" points=\"198.0001,-8003.5903 194.5,-7993.5904 191.0001,-8003.5904 198.0001,-8003.5903\" stroke=\"#000000\"/>\n</g>\n<!-- 139881359075664 -->\n<g class=\"node\" id=\"node154\">\n<title>139881359075664</title>\n<polygon fill=\"none\" points=\"112,-7884.5 112,-7920.5 277,-7920.5 277,-7884.5 112,-7884.5\" stroke=\"#000000\"/>\n<text fill=\"#000000\" font-family=\"Times,serif\" font-size=\"14.00\" text-anchor=\"middle\" x=\"194.5\" y=\"-7898.8\">res5b_branch2c: Conv2D</text>\n</g>\n<!-- 139881355492496&#45;&gt;139881359075664 -->\n<g class=\"edge\" id=\"edge166\">\n<title>139881355492496-&gt;139881359075664</title>\n<path d=\"M194.5,-7957.4551C194.5,-7949.3828 194.5,-7939.6764 194.5,-7930.6817\" fill=\"none\" stroke=\"#000000\"/>\n<polygon fill=\"#000000\" points=\"198.0001,-7930.5903 194.5,-7920.5904 191.0001,-7930.5904 198.0001,-7930.5903\" stroke=\"#000000\"/>\n</g>\n<!-- 139881360690256 -->\n<g class=\"node\" id=\"node155\">\n<title>139881360690256</title>\n<polygon fill=\"none\" points=\"80,-7811.5 80,-7847.5 309,-7847.5 309,-7811.5 80,-7811.5\" stroke=\"#000000\"/>\n<text fill=\"#000000\" font-family=\"Times,serif\" font-size=\"14.00\" text-anchor=\"middle\" x=\"194.5\" y=\"-7825.8\">bn5b_branch2c: BatchNormalization</text>\n</g>\n<!-- 139881359075664&#45;&gt;139881360690256 -->\n<g class=\"edge\" id=\"edge167\">\n<title>139881359075664-&gt;139881360690256</title>\n<path d=\"M194.5,-7884.4551C194.5,-7876.3828 194.5,-7866.6764 194.5,-7857.6817\" fill=\"none\" stroke=\"#000000\"/>\n<polygon fill=\"#000000\" points=\"198.0001,-7857.5903 194.5,-7847.5904 191.0001,-7857.5904 198.0001,-7857.5903\" stroke=\"#000000\"/>\n</g>\n<!-- 139881360690256&#45;&gt;139881355860816 -->\n<g class=\"edge\" id=\"edge168\">\n<title>139881360690256-&gt;139881355860816</title>\n<path d=\"M212.0506,-7811.4551C220.755,-7802.5054 231.4132,-7791.547 240.9156,-7781.7769\" fill=\"none\" stroke=\"#000000\"/>\n<polygon fill=\"#000000\" points=\"243.4421,-7784.1992 247.9053,-7774.5904 238.424,-7779.3187 243.4421,-7784.1992\" stroke=\"#000000\"/>\n</g>\n<!-- 139881355299984 -->\n<g class=\"node\" id=\"node157\">\n<title>139881355299984</title>\n<polygon fill=\"none\" points=\"185,-7665.5 185,-7701.5 346,-7701.5 346,-7665.5 185,-7665.5\" stroke=\"#000000\"/>\n<text fill=\"#000000\" font-family=\"Times,serif\" font-size=\"14.00\" text-anchor=\"middle\" x=\"265.5\" y=\"-7679.8\">activation_42: Activation</text>\n</g>\n<!-- 139881355860816&#45;&gt;139881355299984 -->\n<g class=\"edge\" id=\"edge170\">\n<title>139881355860816-&gt;139881355299984</title>\n<path d=\"M265.5,-7738.4551C265.5,-7730.3828 265.5,-7720.6764 265.5,-7711.6817\" fill=\"none\" stroke=\"#000000\"/>\n<polygon fill=\"#000000\" points=\"269.0001,-7711.5903 265.5,-7701.5904 262.0001,-7711.5904 269.0001,-7711.5903\" stroke=\"#000000\"/>\n</g>\n<!-- 139881354554896 -->\n<g class=\"node\" id=\"node158\">\n<title>139881354554896</title>\n<polygon fill=\"none\" points=\"128.5,-7592.5 128.5,-7628.5 292.5,-7628.5 292.5,-7592.5 128.5,-7592.5\" stroke=\"#000000\"/>\n<text fill=\"#000000\" font-family=\"Times,serif\" font-size=\"14.00\" text-anchor=\"middle\" x=\"210.5\" y=\"-7606.8\">res5c_branch2a: Conv2D</text>\n</g>\n<!-- 139881355299984&#45;&gt;139881354554896 -->\n<g class=\"edge\" id=\"edge171\">\n<title>139881355299984-&gt;139881354554896</title>\n<path d=\"M251.9045,-7665.4551C245.3599,-7656.7686 237.3896,-7646.1898 230.196,-7636.642\" fill=\"none\" stroke=\"#000000\"/>\n<polygon fill=\"#000000\" points=\"232.9427,-7634.4711 224.1297,-7628.5904 227.3518,-7638.6834 232.9427,-7634.4711\" stroke=\"#000000\"/>\n</g>\n<!-- 139881354366864 -->\n<g class=\"node\" id=\"node166\">\n<title>139881354366864</title>\n<polygon fill=\"none\" points=\"219.5,-7008.5 219.5,-7044.5 311.5,-7044.5 311.5,-7008.5 219.5,-7008.5\" stroke=\"#000000\"/>\n<text fill=\"#000000\" font-family=\"Times,serif\" font-size=\"14.00\" text-anchor=\"middle\" x=\"265.5\" y=\"-7022.8\">add_14: Add</text>\n</g>\n<!-- 139881355299984&#45;&gt;139881354366864 -->\n<g class=\"edge\" id=\"edge180\">\n<title>139881355299984-&gt;139881354366864</title>\n<path d=\"M281.2572,-7665.0704C302.1744,-7638.6575 336.5,-7587.6702 336.5,-7537.5 336.5,-7537.5 336.5,-7537.5 336.5,-7172.5 336.5,-7130.8732 335.8594,-7117.8511 316.5,-7081 310.9066,-7070.3527 302.6654,-7060.2622 294.4315,-7051.7242\" fill=\"none\" stroke=\"#000000\"/>\n<polygon fill=\"#000000\" points=\"296.8388,-7049.1825 287.2644,-7044.6458 291.92,-7054.163 296.8388,-7049.1825\" stroke=\"#000000\"/>\n</g>\n<!-- 139881354575696 -->\n<g class=\"node\" id=\"node159\">\n<title>139881354575696</title>\n<polygon fill=\"none\" points=\"81,-7519.5 81,-7555.5 308,-7555.5 308,-7519.5 81,-7519.5\" stroke=\"#000000\"/>\n<text fill=\"#000000\" font-family=\"Times,serif\" font-size=\"14.00\" text-anchor=\"middle\" x=\"194.5\" y=\"-7533.8\">bn5c_branch2a: BatchNormalization</text>\n</g>\n<!-- 139881354554896&#45;&gt;139881354575696 -->\n<g class=\"edge\" id=\"edge172\">\n<title>139881354554896-&gt;139881354575696</title>\n<path d=\"M206.5449,-7592.4551C204.7565,-7584.2951 202.602,-7574.4652 200.6126,-7565.3887\" fill=\"none\" stroke=\"#000000\"/>\n<polygon fill=\"#000000\" points=\"204.0249,-7564.6091 198.465,-7555.5904 197.1872,-7566.1079 204.0249,-7564.6091\" stroke=\"#000000\"/>\n</g>\n<!-- 139881354636432 -->\n<g class=\"node\" id=\"node160\">\n<title>139881354636432</title>\n<polygon fill=\"none\" points=\"114,-7446.5 114,-7482.5 275,-7482.5 275,-7446.5 114,-7446.5\" stroke=\"#000000\"/>\n<text fill=\"#000000\" font-family=\"Times,serif\" font-size=\"14.00\" text-anchor=\"middle\" x=\"194.5\" y=\"-7460.8\">activation_43: Activation</text>\n</g>\n<!-- 139881354575696&#45;&gt;139881354636432 -->\n<g class=\"edge\" id=\"edge173\">\n<title>139881354575696-&gt;139881354636432</title>\n<path d=\"M194.5,-7519.4551C194.5,-7511.3828 194.5,-7501.6764 194.5,-7492.6817\" fill=\"none\" stroke=\"#000000\"/>\n<polygon fill=\"#000000\" points=\"198.0001,-7492.5903 194.5,-7482.5904 191.0001,-7492.5904 198.0001,-7492.5903\" stroke=\"#000000\"/>\n</g>\n<!-- 139881354228112 -->\n<g class=\"node\" id=\"node161\">\n<title>139881354228112</title>\n<polygon fill=\"none\" points=\"111,-7373.5 111,-7409.5 276,-7409.5 276,-7373.5 111,-7373.5\" stroke=\"#000000\"/>\n<text fill=\"#000000\" font-family=\"Times,serif\" font-size=\"14.00\" text-anchor=\"middle\" x=\"193.5\" y=\"-7387.8\">res5c_branch2b: Conv2D</text>\n</g>\n<!-- 139881354636432&#45;&gt;139881354228112 -->\n<g class=\"edge\" id=\"edge174\">\n<title>139881354636432-&gt;139881354228112</title>\n<path d=\"M194.2528,-7446.4551C194.1422,-7438.3828 194.0093,-7428.6764 193.8861,-7419.6817\" fill=\"none\" stroke=\"#000000\"/>\n<polygon fill=\"#000000\" points=\"197.3846,-7419.5414 193.7478,-7409.5904 190.3852,-7419.6374 197.3846,-7419.5414\" stroke=\"#000000\"/>\n</g>\n<!-- 139881354228432 -->\n<g class=\"node\" id=\"node162\">\n<title>139881354228432</title>\n<polygon fill=\"none\" points=\"79,-7300.5 79,-7336.5 308,-7336.5 308,-7300.5 79,-7300.5\" stroke=\"#000000\"/>\n<text fill=\"#000000\" font-family=\"Times,serif\" font-size=\"14.00\" text-anchor=\"middle\" x=\"193.5\" y=\"-7314.8\">bn5c_branch2b: BatchNormalization</text>\n</g>\n<!-- 139881354228112&#45;&gt;139881354228432 -->\n<g class=\"edge\" id=\"edge175\">\n<title>139881354228112-&gt;139881354228432</title>\n<path d=\"M193.5,-7373.4551C193.5,-7365.3828 193.5,-7355.6764 193.5,-7346.6817\" fill=\"none\" stroke=\"#000000\"/>\n<polygon fill=\"#000000\" points=\"197.0001,-7346.5903 193.5,-7336.5904 190.0001,-7346.5904 197.0001,-7346.5903\" stroke=\"#000000\"/>\n</g>\n<!-- 139881354230352 -->\n<g class=\"node\" id=\"node163\">\n<title>139881354230352</title>\n<polygon fill=\"none\" points=\"114,-7227.5 114,-7263.5 275,-7263.5 275,-7227.5 114,-7227.5\" stroke=\"#000000\"/>\n<text fill=\"#000000\" font-family=\"Times,serif\" font-size=\"14.00\" text-anchor=\"middle\" x=\"194.5\" y=\"-7241.8\">activation_44: Activation</text>\n</g>\n<!-- 139881354228432&#45;&gt;139881354230352 -->\n<g class=\"edge\" id=\"edge176\">\n<title>139881354228432-&gt;139881354230352</title>\n<path d=\"M193.7472,-7300.4551C193.8578,-7292.3828 193.9907,-7282.6764 194.1139,-7273.6817\" fill=\"none\" stroke=\"#000000\"/>\n<polygon fill=\"#000000\" points=\"197.6148,-7273.6374 194.2522,-7263.5904 190.6154,-7273.5414 197.6148,-7273.6374\" stroke=\"#000000\"/>\n</g>\n<!-- 139881354413456 -->\n<g class=\"node\" id=\"node164\">\n<title>139881354413456</title>\n<polygon fill=\"none\" points=\"112.5,-7154.5 112.5,-7190.5 276.5,-7190.5 276.5,-7154.5 112.5,-7154.5\" stroke=\"#000000\"/>\n<text fill=\"#000000\" font-family=\"Times,serif\" font-size=\"14.00\" text-anchor=\"middle\" x=\"194.5\" y=\"-7168.8\">res5c_branch2c: Conv2D</text>\n</g>\n<!-- 139881354230352&#45;&gt;139881354413456 -->\n<g class=\"edge\" id=\"edge177\">\n<title>139881354230352-&gt;139881354413456</title>\n<path d=\"M194.5,-7227.4551C194.5,-7219.3828 194.5,-7209.6764 194.5,-7200.6817\" fill=\"none\" stroke=\"#000000\"/>\n<polygon fill=\"#000000\" points=\"198.0001,-7200.5903 194.5,-7190.5904 191.0001,-7200.5904 198.0001,-7200.5903\" stroke=\"#000000\"/>\n</g>\n<!-- 139881354413968 -->\n<g class=\"node\" id=\"node165\">\n<title>139881354413968</title>\n<polygon fill=\"none\" points=\"81,-7081.5 81,-7117.5 308,-7117.5 308,-7081.5 81,-7081.5\" stroke=\"#000000\"/>\n<text fill=\"#000000\" font-family=\"Times,serif\" font-size=\"14.00\" text-anchor=\"middle\" x=\"194.5\" y=\"-7095.8\">bn5c_branch2c: BatchNormalization</text>\n</g>\n<!-- 139881354413456&#45;&gt;139881354413968 -->\n<g class=\"edge\" id=\"edge178\">\n<title>139881354413456-&gt;139881354413968</title>\n<path d=\"M194.5,-7154.4551C194.5,-7146.3828 194.5,-7136.6764 194.5,-7127.6817\" fill=\"none\" stroke=\"#000000\"/>\n<polygon fill=\"#000000\" points=\"198.0001,-7127.5903 194.5,-7117.5904 191.0001,-7127.5904 198.0001,-7127.5903\" stroke=\"#000000\"/>\n</g>\n<!-- 139881354413968&#45;&gt;139881354366864 -->\n<g class=\"edge\" id=\"edge179\">\n<title>139881354413968-&gt;139881354366864</title>\n<path d=\"M212.0506,-7081.4551C220.755,-7072.5054 231.4132,-7061.547 240.9156,-7051.7769\" fill=\"none\" stroke=\"#000000\"/>\n<polygon fill=\"#000000\" points=\"243.4421,-7054.1992 247.9053,-7044.5904 238.424,-7049.3187 243.4421,-7054.1992\" stroke=\"#000000\"/>\n</g>\n<!-- 139881354010000 -->\n<g class=\"node\" id=\"node167\">\n<title>139881354010000</title>\n<polygon fill=\"none\" points=\"185,-6935.5 185,-6971.5 346,-6971.5 346,-6935.5 185,-6935.5\" stroke=\"#000000\"/>\n<text fill=\"#000000\" font-family=\"Times,serif\" font-size=\"14.00\" text-anchor=\"middle\" x=\"265.5\" y=\"-6949.8\">activation_45: Activation</text>\n</g>\n<!-- 139881354366864&#45;&gt;139881354010000 -->\n<g class=\"edge\" id=\"edge181\">\n<title>139881354366864-&gt;139881354010000</title>\n<path d=\"M265.5,-7008.4551C265.5,-7000.3828 265.5,-6990.6764 265.5,-6981.6817\" fill=\"none\" stroke=\"#000000\"/>\n<polygon fill=\"#000000\" points=\"269.0001,-6981.5903 265.5,-6971.5904 262.0001,-6981.5904 269.0001,-6981.5903\" stroke=\"#000000\"/>\n</g>\n<!-- 139881354081424 -->\n<g class=\"node\" id=\"node168\">\n<title>139881354081424</title>\n<polygon fill=\"none\" points=\"128,-6862.5 128,-6898.5 293,-6898.5 293,-6862.5 128,-6862.5\" stroke=\"#000000\"/>\n<text fill=\"#000000\" font-family=\"Times,serif\" font-size=\"14.00\" text-anchor=\"middle\" x=\"210.5\" y=\"-6876.8\">res5d_branch2a: Conv2D</text>\n</g>\n<!-- 139881354010000&#45;&gt;139881354081424 -->\n<g class=\"edge\" id=\"edge182\">\n<title>139881354010000-&gt;139881354081424</title>\n<path d=\"M251.9045,-6935.4551C245.3599,-6926.7686 237.3896,-6916.1898 230.196,-6906.642\" fill=\"none\" stroke=\"#000000\"/>\n<polygon fill=\"#000000\" points=\"232.9427,-6904.4711 224.1297,-6898.5904 227.3518,-6908.6834 232.9427,-6904.4711\" stroke=\"#000000\"/>\n</g>\n<!-- 139881356330256 -->\n<g class=\"node\" id=\"node176\">\n<title>139881356330256</title>\n<polygon fill=\"none\" points=\"219.5,-6278.5 219.5,-6314.5 311.5,-6314.5 311.5,-6278.5 219.5,-6278.5\" stroke=\"#000000\"/>\n<text fill=\"#000000\" font-family=\"Times,serif\" font-size=\"14.00\" text-anchor=\"middle\" x=\"265.5\" y=\"-6292.8\">add_15: Add</text>\n</g>\n<!-- 139881354010000&#45;&gt;139881356330256 -->\n<g class=\"edge\" id=\"edge191\">\n<title>139881354010000-&gt;139881356330256</title>\n<path d=\"M281.4791,-6935.1083C302.6909,-6908.7403 337.5,-6857.8061 337.5,-6807.5 337.5,-6807.5 337.5,-6807.5 337.5,-6442.5 337.5,-6400.8732 337.0378,-6387.7568 317.5,-6351 311.8031,-6340.2823 303.402,-6330.1724 295.0064,-6321.6383\" fill=\"none\" stroke=\"#000000\"/>\n<polygon fill=\"#000000\" points=\"297.3189,-6319.0057 287.6979,-6314.5687 292.452,-6324.037 297.3189,-6319.0057\" stroke=\"#000000\"/>\n</g>\n<!-- 139881354055504 -->\n<g class=\"node\" id=\"node169\">\n<title>139881354055504</title>\n<polygon fill=\"none\" points=\"80,-6789.5 80,-6825.5 309,-6825.5 309,-6789.5 80,-6789.5\" stroke=\"#000000\"/>\n<text fill=\"#000000\" font-family=\"Times,serif\" font-size=\"14.00\" text-anchor=\"middle\" x=\"194.5\" y=\"-6803.8\">bn5d_branch2a: BatchNormalization</text>\n</g>\n<!-- 139881354081424&#45;&gt;139881354055504 -->\n<g class=\"edge\" id=\"edge183\">\n<title>139881354081424-&gt;139881354055504</title>\n<path d=\"M206.5449,-6862.4551C204.7565,-6854.2951 202.602,-6844.4652 200.6126,-6835.3887\" fill=\"none\" stroke=\"#000000\"/>\n<polygon fill=\"#000000\" points=\"204.0249,-6834.6091 198.465,-6825.5904 197.1872,-6836.1079 204.0249,-6834.6091\" stroke=\"#000000\"/>\n</g>\n<!-- 139881353932944 -->\n<g class=\"node\" id=\"node170\">\n<title>139881353932944</title>\n<polygon fill=\"none\" points=\"114,-6716.5 114,-6752.5 275,-6752.5 275,-6716.5 114,-6716.5\" stroke=\"#000000\"/>\n<text fill=\"#000000\" font-family=\"Times,serif\" font-size=\"14.00\" text-anchor=\"middle\" x=\"194.5\" y=\"-6730.8\">activation_46: Activation</text>\n</g>\n<!-- 139881354055504&#45;&gt;139881353932944 -->\n<g class=\"edge\" id=\"edge184\">\n<title>139881354055504-&gt;139881353932944</title>\n<path d=\"M194.5,-6789.4551C194.5,-6781.3828 194.5,-6771.6764 194.5,-6762.6817\" fill=\"none\" stroke=\"#000000\"/>\n<polygon fill=\"#000000\" points=\"198.0001,-6762.5903 194.5,-6752.5904 191.0001,-6762.5904 198.0001,-6762.5903\" stroke=\"#000000\"/>\n</g>\n<!-- 139881354186576 -->\n<g class=\"node\" id=\"node171\">\n<title>139881354186576</title>\n<polygon fill=\"none\" points=\"111,-6643.5 111,-6679.5 278,-6679.5 278,-6643.5 111,-6643.5\" stroke=\"#000000\"/>\n<text fill=\"#000000\" font-family=\"Times,serif\" font-size=\"14.00\" text-anchor=\"middle\" x=\"194.5\" y=\"-6657.8\">res5d_branch2b: Conv2D</text>\n</g>\n<!-- 139881353932944&#45;&gt;139881354186576 -->\n<g class=\"edge\" id=\"edge185\">\n<title>139881353932944-&gt;139881354186576</title>\n<path d=\"M194.5,-6716.4551C194.5,-6708.3828 194.5,-6698.6764 194.5,-6689.6817\" fill=\"none\" stroke=\"#000000\"/>\n<polygon fill=\"#000000\" points=\"198.0001,-6689.5903 194.5,-6679.5904 191.0001,-6689.5904 198.0001,-6689.5903\" stroke=\"#000000\"/>\n</g>\n<!-- 139881354322896 -->\n<g class=\"node\" id=\"node172\">\n<title>139881354322896</title>\n<polygon fill=\"none\" points=\"79.5,-6570.5 79.5,-6606.5 309.5,-6606.5 309.5,-6570.5 79.5,-6570.5\" stroke=\"#000000\"/>\n<text fill=\"#000000\" font-family=\"Times,serif\" font-size=\"14.00\" text-anchor=\"middle\" x=\"194.5\" y=\"-6584.8\">bn5d_branch2b: BatchNormalization</text>\n</g>\n<!-- 139881354186576&#45;&gt;139881354322896 -->\n<g class=\"edge\" id=\"edge186\">\n<title>139881354186576-&gt;139881354322896</title>\n<path d=\"M194.5,-6643.4551C194.5,-6635.3828 194.5,-6625.6764 194.5,-6616.6817\" fill=\"none\" stroke=\"#000000\"/>\n<polygon fill=\"#000000\" points=\"198.0001,-6616.5903 194.5,-6606.5904 191.0001,-6616.5904 198.0001,-6616.5903\" stroke=\"#000000\"/>\n</g>\n<!-- 139881354612432 -->\n<g class=\"node\" id=\"node173\">\n<title>139881354612432</title>\n<polygon fill=\"none\" points=\"114,-6497.5 114,-6533.5 275,-6533.5 275,-6497.5 114,-6497.5\" stroke=\"#000000\"/>\n<text fill=\"#000000\" font-family=\"Times,serif\" font-size=\"14.00\" text-anchor=\"middle\" x=\"194.5\" y=\"-6511.8\">activation_47: Activation</text>\n</g>\n<!-- 139881354322896&#45;&gt;139881354612432 -->\n<g class=\"edge\" id=\"edge187\">\n<title>139881354322896-&gt;139881354612432</title>\n<path d=\"M194.5,-6570.4551C194.5,-6562.3828 194.5,-6552.6764 194.5,-6543.6817\" fill=\"none\" stroke=\"#000000\"/>\n<polygon fill=\"#000000\" points=\"198.0001,-6543.5903 194.5,-6533.5904 191.0001,-6543.5904 198.0001,-6543.5903\" stroke=\"#000000\"/>\n</g>\n<!-- 139881360239376 -->\n<g class=\"node\" id=\"node174\">\n<title>139881360239376</title>\n<polygon fill=\"none\" points=\"112,-6424.5 112,-6460.5 277,-6460.5 277,-6424.5 112,-6424.5\" stroke=\"#000000\"/>\n<text fill=\"#000000\" font-family=\"Times,serif\" font-size=\"14.00\" text-anchor=\"middle\" x=\"194.5\" y=\"-6438.8\">res5d_branch2c: Conv2D</text>\n</g>\n<!-- 139881354612432&#45;&gt;139881360239376 -->\n<g class=\"edge\" id=\"edge188\">\n<title>139881354612432-&gt;139881360239376</title>\n<path d=\"M194.5,-6497.4551C194.5,-6489.3828 194.5,-6479.6764 194.5,-6470.6817\" fill=\"none\" stroke=\"#000000\"/>\n<polygon fill=\"#000000\" points=\"198.0001,-6470.5903 194.5,-6460.5904 191.0001,-6470.5904 198.0001,-6470.5903\" stroke=\"#000000\"/>\n</g>\n<!-- 139881356014864 -->\n<g class=\"node\" id=\"node175\">\n<title>139881356014864</title>\n<polygon fill=\"none\" points=\"80,-6351.5 80,-6387.5 309,-6387.5 309,-6351.5 80,-6351.5\" stroke=\"#000000\"/>\n<text fill=\"#000000\" font-family=\"Times,serif\" font-size=\"14.00\" text-anchor=\"middle\" x=\"194.5\" y=\"-6365.8\">bn5d_branch2c: BatchNormalization</text>\n</g>\n<!-- 139881360239376&#45;&gt;139881356014864 -->\n<g class=\"edge\" id=\"edge189\">\n<title>139881360239376-&gt;139881356014864</title>\n<path d=\"M194.5,-6424.4551C194.5,-6416.3828 194.5,-6406.6764 194.5,-6397.6817\" fill=\"none\" stroke=\"#000000\"/>\n<polygon fill=\"#000000\" points=\"198.0001,-6397.5903 194.5,-6387.5904 191.0001,-6397.5904 198.0001,-6397.5903\" stroke=\"#000000\"/>\n</g>\n<!-- 139881356014864&#45;&gt;139881356330256 -->\n<g class=\"edge\" id=\"edge190\">\n<title>139881356014864-&gt;139881356330256</title>\n<path d=\"M212.0506,-6351.4551C220.755,-6342.5054 231.4132,-6331.547 240.9156,-6321.7769\" fill=\"none\" stroke=\"#000000\"/>\n<polygon fill=\"#000000\" points=\"243.4421,-6324.1992 247.9053,-6314.5904 238.424,-6319.3187 243.4421,-6324.1992\" stroke=\"#000000\"/>\n</g>\n<!-- 139881355149392 -->\n<g class=\"node\" id=\"node177\">\n<title>139881355149392</title>\n<polygon fill=\"none\" points=\"185,-6205.5 185,-6241.5 346,-6241.5 346,-6205.5 185,-6205.5\" stroke=\"#000000\"/>\n<text fill=\"#000000\" font-family=\"Times,serif\" font-size=\"14.00\" text-anchor=\"middle\" x=\"265.5\" y=\"-6219.8\">activation_48: Activation</text>\n</g>\n<!-- 139881356330256&#45;&gt;139881355149392 -->\n<g class=\"edge\" id=\"edge192\">\n<title>139881356330256-&gt;139881355149392</title>\n<path d=\"M265.5,-6278.4551C265.5,-6270.3828 265.5,-6260.6764 265.5,-6251.6817\" fill=\"none\" stroke=\"#000000\"/>\n<polygon fill=\"#000000\" points=\"269.0001,-6251.5903 265.5,-6241.5904 262.0001,-6251.5904 269.0001,-6251.5903\" stroke=\"#000000\"/>\n</g>\n<!-- 139881354083664 -->\n<g class=\"node\" id=\"node178\">\n<title>139881354083664</title>\n<polygon fill=\"none\" points=\"198.5,-6132.5 198.5,-6168.5 332.5,-6168.5 332.5,-6132.5 198.5,-6132.5\" stroke=\"#000000\"/>\n<text fill=\"#000000\" font-family=\"Times,serif\" font-size=\"14.00\" text-anchor=\"middle\" x=\"265.5\" y=\"-6146.8\">dropout_3: Dropout</text>\n</g>\n<!-- 139881355149392&#45;&gt;139881354083664 -->\n<g class=\"edge\" id=\"edge193\">\n<title>139881355149392-&gt;139881354083664</title>\n<path d=\"M265.5,-6205.4551C265.5,-6197.3828 265.5,-6187.6764 265.5,-6178.6817\" fill=\"none\" stroke=\"#000000\"/>\n<polygon fill=\"#000000\" points=\"269.0001,-6178.5903 265.5,-6168.5904 262.0001,-6178.5904 269.0001,-6178.5903\" stroke=\"#000000\"/>\n</g>\n<!-- 139881353741072 -->\n<g class=\"node\" id=\"node179\">\n<title>139881353741072</title>\n<polygon fill=\"none\" points=\"128.5,-6059.5 128.5,-6095.5 292.5,-6095.5 292.5,-6059.5 128.5,-6059.5\" stroke=\"#000000\"/>\n<text fill=\"#000000\" font-family=\"Times,serif\" font-size=\"14.00\" text-anchor=\"middle\" x=\"210.5\" y=\"-6073.8\">res6a_branch2a: Conv2D</text>\n</g>\n<!-- 139881354083664&#45;&gt;139881353741072 -->\n<g class=\"edge\" id=\"edge194\">\n<title>139881354083664-&gt;139881353741072</title>\n<path d=\"M251.9045,-6132.4551C245.3599,-6123.7686 237.3896,-6113.1898 230.196,-6103.642\" fill=\"none\" stroke=\"#000000\"/>\n<polygon fill=\"#000000\" points=\"232.9427,-6101.4711 224.1297,-6095.5904 227.3518,-6105.6834 232.9427,-6101.4711\" stroke=\"#000000\"/>\n</g>\n<!-- 139881353199696 -->\n<g class=\"node\" id=\"node186\">\n<title>139881353199696</title>\n<polygon fill=\"none\" points=\"292.5,-5986.5 292.5,-6022.5 450.5,-6022.5 450.5,-5986.5 292.5,-5986.5\" stroke=\"#000000\"/>\n<text fill=\"#000000\" font-family=\"Times,serif\" font-size=\"14.00\" text-anchor=\"middle\" x=\"371.5\" y=\"-6000.8\">res6a_branch1: Conv2D</text>\n</g>\n<!-- 139881354083664&#45;&gt;139881353199696 -->\n<g class=\"edge\" id=\"edge201\">\n<title>139881354083664-&gt;139881353199696</title>\n<path d=\"M278.7106,-6132.3042C297.1981,-6106.8403 330.9072,-6060.4108 352.2051,-6031.0759\" fill=\"none\" stroke=\"#000000\"/>\n<polygon fill=\"#000000\" points=\"355.08,-6033.0736 358.1229,-6022.9251 349.4154,-6028.961 355.08,-6033.0736\" stroke=\"#000000\"/>\n</g>\n<!-- 139881353740432 -->\n<g class=\"node\" id=\"node180\">\n<title>139881353740432</title>\n<polygon fill=\"none\" points=\"47,-5986.5 47,-6022.5 274,-6022.5 274,-5986.5 47,-5986.5\" stroke=\"#000000\"/>\n<text fill=\"#000000\" font-family=\"Times,serif\" font-size=\"14.00\" text-anchor=\"middle\" x=\"160.5\" y=\"-6000.8\">bn6a_branch2a: BatchNormalization</text>\n</g>\n<!-- 139881353741072&#45;&gt;139881353740432 -->\n<g class=\"edge\" id=\"edge195\">\n<title>139881353741072-&gt;139881353740432</title>\n<path d=\"M198.1404,-6059.4551C192.2509,-6050.8564 185.0913,-6040.4034 178.6039,-6030.9316\" fill=\"none\" stroke=\"#000000\"/>\n<polygon fill=\"#000000\" points=\"181.4292,-6028.8628 172.8907,-6022.5904 175.654,-6032.8185 181.4292,-6028.8628\" stroke=\"#000000\"/>\n</g>\n<!-- 139881353803216 -->\n<g class=\"node\" id=\"node181\">\n<title>139881353803216</title>\n<polygon fill=\"none\" points=\"81,-5913.5 81,-5949.5 242,-5949.5 242,-5913.5 81,-5913.5\" stroke=\"#000000\"/>\n<text fill=\"#000000\" font-family=\"Times,serif\" font-size=\"14.00\" text-anchor=\"middle\" x=\"161.5\" y=\"-5927.8\">activation_49: Activation</text>\n</g>\n<!-- 139881353740432&#45;&gt;139881353803216 -->\n<g class=\"edge\" id=\"edge196\">\n<title>139881353740432-&gt;139881353803216</title>\n<path d=\"M160.7472,-5986.4551C160.8578,-5978.3828 160.9907,-5968.6764 161.1139,-5959.6817\" fill=\"none\" stroke=\"#000000\"/>\n<polygon fill=\"#000000\" points=\"164.6148,-5959.6374 161.2522,-5949.5904 157.6154,-5959.5414 164.6148,-5959.6374\" stroke=\"#000000\"/>\n</g>\n<!-- 139881353910992 -->\n<g class=\"node\" id=\"node182\">\n<title>139881353910992</title>\n<polygon fill=\"none\" points=\"112,-5840.5 112,-5876.5 277,-5876.5 277,-5840.5 112,-5840.5\" stroke=\"#000000\"/>\n<text fill=\"#000000\" font-family=\"Times,serif\" font-size=\"14.00\" text-anchor=\"middle\" x=\"194.5\" y=\"-5854.8\">res6a_branch2b: Conv2D</text>\n</g>\n<!-- 139881353803216&#45;&gt;139881353910992 -->\n<g class=\"edge\" id=\"edge197\">\n<title>139881353803216-&gt;139881353910992</title>\n<path d=\"M169.6573,-5913.4551C173.4254,-5905.1196 177.9812,-5895.0416 182.157,-5885.8042\" fill=\"none\" stroke=\"#000000\"/>\n<polygon fill=\"#000000\" points=\"185.3922,-5887.1443 186.3222,-5876.5904 179.0136,-5884.2608 185.3922,-5887.1443\" stroke=\"#000000\"/>\n</g>\n<!-- 139881353404112 -->\n<g class=\"node\" id=\"node183\">\n<title>139881353404112</title>\n<polygon fill=\"none\" points=\"96,-5767.5 96,-5803.5 325,-5803.5 325,-5767.5 96,-5767.5\" stroke=\"#000000\"/>\n<text fill=\"#000000\" font-family=\"Times,serif\" font-size=\"14.00\" text-anchor=\"middle\" x=\"210.5\" y=\"-5781.8\">bn6a_branch2b: BatchNormalization</text>\n</g>\n<!-- 139881353910992&#45;&gt;139881353404112 -->\n<g class=\"edge\" id=\"edge198\">\n<title>139881353910992-&gt;139881353404112</title>\n<path d=\"M198.4551,-5840.4551C200.2435,-5832.2951 202.398,-5822.4652 204.3874,-5813.3887\" fill=\"none\" stroke=\"#000000\"/>\n<polygon fill=\"#000000\" points=\"207.8128,-5814.1079 206.535,-5803.5904 200.9751,-5812.6091 207.8128,-5814.1079\" stroke=\"#000000\"/>\n</g>\n<!-- 139881353475280 -->\n<g class=\"node\" id=\"node184\">\n<title>139881353475280</title>\n<polygon fill=\"none\" points=\"130,-5694.5 130,-5730.5 291,-5730.5 291,-5694.5 130,-5694.5\" stroke=\"#000000\"/>\n<text fill=\"#000000\" font-family=\"Times,serif\" font-size=\"14.00\" text-anchor=\"middle\" x=\"210.5\" y=\"-5708.8\">activation_50: Activation</text>\n</g>\n<!-- 139881353404112&#45;&gt;139881353475280 -->\n<g class=\"edge\" id=\"edge199\">\n<title>139881353404112-&gt;139881353475280</title>\n<path d=\"M210.5,-5767.4551C210.5,-5759.3828 210.5,-5749.6764 210.5,-5740.6817\" fill=\"none\" stroke=\"#000000\"/>\n<polygon fill=\"#000000\" points=\"214.0001,-5740.5903 210.5,-5730.5904 207.0001,-5740.5904 214.0001,-5740.5903\" stroke=\"#000000\"/>\n</g>\n<!-- 139881353574992 -->\n<g class=\"node\" id=\"node185\">\n<title>139881353574992</title>\n<polygon fill=\"none\" points=\"128.5,-5621.5 128.5,-5657.5 292.5,-5657.5 292.5,-5621.5 128.5,-5621.5\" stroke=\"#000000\"/>\n<text fill=\"#000000\" font-family=\"Times,serif\" font-size=\"14.00\" text-anchor=\"middle\" x=\"210.5\" y=\"-5635.8\">res6a_branch2c: Conv2D</text>\n</g>\n<!-- 139881353475280&#45;&gt;139881353574992 -->\n<g class=\"edge\" id=\"edge200\">\n<title>139881353475280-&gt;139881353574992</title>\n<path d=\"M210.5,-5694.4551C210.5,-5686.3828 210.5,-5676.6764 210.5,-5667.6817\" fill=\"none\" stroke=\"#000000\"/>\n<polygon fill=\"#000000\" points=\"214.0001,-5667.5903 210.5,-5657.5904 207.0001,-5667.5904 214.0001,-5667.5903\" stroke=\"#000000\"/>\n</g>\n<!-- 139881353600528 -->\n<g class=\"node\" id=\"node187\">\n<title>139881353600528</title>\n<polygon fill=\"none\" points=\"106,-5548.5 106,-5584.5 333,-5584.5 333,-5548.5 106,-5548.5\" stroke=\"#000000\"/>\n<text fill=\"#000000\" font-family=\"Times,serif\" font-size=\"14.00\" text-anchor=\"middle\" x=\"219.5\" y=\"-5562.8\">bn6a_branch2c: BatchNormalization</text>\n</g>\n<!-- 139881353574992&#45;&gt;139881353600528 -->\n<g class=\"edge\" id=\"edge202\">\n<title>139881353574992-&gt;139881353600528</title>\n<path d=\"M212.7247,-5621.4551C213.7199,-5613.3828 214.9166,-5603.6764 216.0255,-5594.6817\" fill=\"none\" stroke=\"#000000\"/>\n<polygon fill=\"#000000\" points=\"219.5197,-5594.9435 217.2697,-5584.5904 212.5723,-5594.0869 219.5197,-5594.9435\" stroke=\"#000000\"/>\n</g>\n<!-- 139881353658064 -->\n<g class=\"node\" id=\"node188\">\n<title>139881353658064</title>\n<polygon fill=\"none\" points=\"260,-5913.5 260,-5949.5 481,-5949.5 481,-5913.5 260,-5913.5\" stroke=\"#000000\"/>\n<text fill=\"#000000\" font-family=\"Times,serif\" font-size=\"14.00\" text-anchor=\"middle\" x=\"370.5\" y=\"-5927.8\">bn6a_branch1: BatchNormalization</text>\n</g>\n<!-- 139881353199696&#45;&gt;139881353658064 -->\n<g class=\"edge\" id=\"edge203\">\n<title>139881353199696-&gt;139881353658064</title>\n<path d=\"M371.2528,-5986.4551C371.1422,-5978.3828 371.0093,-5968.6764 370.8861,-5959.6817\" fill=\"none\" stroke=\"#000000\"/>\n<polygon fill=\"#000000\" points=\"374.3846,-5959.5414 370.7478,-5949.5904 367.3852,-5959.6374 374.3846,-5959.5414\" stroke=\"#000000\"/>\n</g>\n<!-- 139881353474576 -->\n<g class=\"node\" id=\"node189\">\n<title>139881353474576</title>\n<polygon fill=\"none\" points=\"244.5,-5475.5 244.5,-5511.5 336.5,-5511.5 336.5,-5475.5 244.5,-5475.5\" stroke=\"#000000\"/>\n<text fill=\"#000000\" font-family=\"Times,serif\" font-size=\"14.00\" text-anchor=\"middle\" x=\"290.5\" y=\"-5489.8\">add_16: Add</text>\n</g>\n<!-- 139881353600528&#45;&gt;139881353474576 -->\n<g class=\"edge\" id=\"edge204\">\n<title>139881353600528-&gt;139881353474576</title>\n<path d=\"M237.0506,-5548.4551C245.755,-5539.5054 256.4132,-5528.547 265.9156,-5518.7769\" fill=\"none\" stroke=\"#000000\"/>\n<polygon fill=\"#000000\" points=\"268.4421,-5521.1992 272.9053,-5511.5904 263.424,-5516.3187 268.4421,-5521.1992\" stroke=\"#000000\"/>\n</g>\n<!-- 139881353658064&#45;&gt;139881353474576 -->\n<g class=\"edge\" id=\"edge205\">\n<title>139881353658064-&gt;139881353474576</title>\n<path d=\"M368.6352,-5913.0845C365.999,-5885.4173 361.5,-5831.4656 361.5,-5785.5 361.5,-5785.5 361.5,-5785.5 361.5,-5639.5 361.5,-5597.8732 360.8594,-5584.8511 341.5,-5548 335.9066,-5537.3527 327.6654,-5527.2622 319.4315,-5518.7242\" fill=\"none\" stroke=\"#000000\"/>\n<polygon fill=\"#000000\" points=\"321.8388,-5516.1825 312.2644,-5511.6458 316.92,-5521.163 321.8388,-5516.1825\" stroke=\"#000000\"/>\n</g>\n<!-- 139881353852816 -->\n<g class=\"node\" id=\"node190\">\n<title>139881353852816</title>\n<polygon fill=\"none\" points=\"210,-5402.5 210,-5438.5 371,-5438.5 371,-5402.5 210,-5402.5\" stroke=\"#000000\"/>\n<text fill=\"#000000\" font-family=\"Times,serif\" font-size=\"14.00\" text-anchor=\"middle\" x=\"290.5\" y=\"-5416.8\">activation_51: Activation</text>\n</g>\n<!-- 139881353474576&#45;&gt;139881353852816 -->\n<g class=\"edge\" id=\"edge206\">\n<title>139881353474576-&gt;139881353852816</title>\n<path d=\"M290.5,-5475.4551C290.5,-5467.3828 290.5,-5457.6764 290.5,-5448.6817\" fill=\"none\" stroke=\"#000000\"/>\n<polygon fill=\"#000000\" points=\"294.0001,-5448.5903 290.5,-5438.5904 287.0001,-5448.5904 294.0001,-5448.5903\" stroke=\"#000000\"/>\n</g>\n<!-- 139881353753808 -->\n<g class=\"node\" id=\"node191\">\n<title>139881353753808</title>\n<polygon fill=\"none\" points=\"153,-5329.5 153,-5365.5 318,-5365.5 318,-5329.5 153,-5329.5\" stroke=\"#000000\"/>\n<text fill=\"#000000\" font-family=\"Times,serif\" font-size=\"14.00\" text-anchor=\"middle\" x=\"235.5\" y=\"-5343.8\">res6b_branch2a: Conv2D</text>\n</g>\n<!-- 139881353852816&#45;&gt;139881353753808 -->\n<g class=\"edge\" id=\"edge207\">\n<title>139881353852816-&gt;139881353753808</title>\n<path d=\"M276.9045,-5402.4551C270.3599,-5393.7686 262.3896,-5383.1898 255.196,-5373.642\" fill=\"none\" stroke=\"#000000\"/>\n<polygon fill=\"#000000\" points=\"257.9427,-5371.4711 249.1297,-5365.5904 252.3518,-5375.6834 257.9427,-5371.4711\" stroke=\"#000000\"/>\n</g>\n<!-- 139881354325136 -->\n<g class=\"node\" id=\"node199\">\n<title>139881354325136</title>\n<polygon fill=\"none\" points=\"244.5,-4745.5 244.5,-4781.5 336.5,-4781.5 336.5,-4745.5 244.5,-4745.5\" stroke=\"#000000\"/>\n<text fill=\"#000000\" font-family=\"Times,serif\" font-size=\"14.00\" text-anchor=\"middle\" x=\"290.5\" y=\"-4759.8\">add_17: Add</text>\n</g>\n<!-- 139881353852816&#45;&gt;139881354325136 -->\n<g class=\"edge\" id=\"edge216\">\n<title>139881353852816-&gt;139881354325136</title>\n<path d=\"M306.4791,-5402.1083C327.6909,-5375.7403 362.5,-5324.8061 362.5,-5274.5 362.5,-5274.5 362.5,-5274.5 362.5,-4909.5 362.5,-4867.8732 362.0378,-4854.7568 342.5,-4818 336.8031,-4807.2823 328.402,-4797.1724 320.0064,-4788.6383\" fill=\"none\" stroke=\"#000000\"/>\n<polygon fill=\"#000000\" points=\"322.3189,-4786.0057 312.6979,-4781.5687 317.452,-4791.037 322.3189,-4786.0057\" stroke=\"#000000\"/>\n</g>\n<!-- 139881353534288 -->\n<g class=\"node\" id=\"node192\">\n<title>139881353534288</title>\n<polygon fill=\"none\" points=\"105,-5256.5 105,-5292.5 334,-5292.5 334,-5256.5 105,-5256.5\" stroke=\"#000000\"/>\n<text fill=\"#000000\" font-family=\"Times,serif\" font-size=\"14.00\" text-anchor=\"middle\" x=\"219.5\" y=\"-5270.8\">bn6b_branch2a: BatchNormalization</text>\n</g>\n<!-- 139881353753808&#45;&gt;139881353534288 -->\n<g class=\"edge\" id=\"edge208\">\n<title>139881353753808-&gt;139881353534288</title>\n<path d=\"M231.5449,-5329.4551C229.7565,-5321.2951 227.602,-5311.4652 225.6126,-5302.3887\" fill=\"none\" stroke=\"#000000\"/>\n<polygon fill=\"#000000\" points=\"229.0249,-5301.6091 223.465,-5292.5904 222.1872,-5303.1079 229.0249,-5301.6091\" stroke=\"#000000\"/>\n</g>\n<!-- 139881355200080 -->\n<g class=\"node\" id=\"node193\">\n<title>139881355200080</title>\n<polygon fill=\"none\" points=\"139,-5183.5 139,-5219.5 300,-5219.5 300,-5183.5 139,-5183.5\" stroke=\"#000000\"/>\n<text fill=\"#000000\" font-family=\"Times,serif\" font-size=\"14.00\" text-anchor=\"middle\" x=\"219.5\" y=\"-5197.8\">activation_52: Activation</text>\n</g>\n<!-- 139881353534288&#45;&gt;139881355200080 -->\n<g class=\"edge\" id=\"edge209\">\n<title>139881353534288-&gt;139881355200080</title>\n<path d=\"M219.5,-5256.4551C219.5,-5248.3828 219.5,-5238.6764 219.5,-5229.6817\" fill=\"none\" stroke=\"#000000\"/>\n<polygon fill=\"#000000\" points=\"223.0001,-5229.5903 219.5,-5219.5904 216.0001,-5229.5904 223.0001,-5229.5903\" stroke=\"#000000\"/>\n</g>\n<!-- 139881355638160 -->\n<g class=\"node\" id=\"node194\">\n<title>139881355638160</title>\n<polygon fill=\"none\" points=\"136,-5110.5 136,-5146.5 303,-5146.5 303,-5110.5 136,-5110.5\" stroke=\"#000000\"/>\n<text fill=\"#000000\" font-family=\"Times,serif\" font-size=\"14.00\" text-anchor=\"middle\" x=\"219.5\" y=\"-5124.8\">res6b_branch2b: Conv2D</text>\n</g>\n<!-- 139881355200080&#45;&gt;139881355638160 -->\n<g class=\"edge\" id=\"edge210\">\n<title>139881355200080-&gt;139881355638160</title>\n<path d=\"M219.5,-5183.4551C219.5,-5175.3828 219.5,-5165.6764 219.5,-5156.6817\" fill=\"none\" stroke=\"#000000\"/>\n<polygon fill=\"#000000\" points=\"223.0001,-5156.5903 219.5,-5146.5904 216.0001,-5156.5904 223.0001,-5156.5903\" stroke=\"#000000\"/>\n</g>\n<!-- 139881355630288 -->\n<g class=\"node\" id=\"node195\">\n<title>139881355630288</title>\n<polygon fill=\"none\" points=\"104.5,-5037.5 104.5,-5073.5 334.5,-5073.5 334.5,-5037.5 104.5,-5037.5\" stroke=\"#000000\"/>\n<text fill=\"#000000\" font-family=\"Times,serif\" font-size=\"14.00\" text-anchor=\"middle\" x=\"219.5\" y=\"-5051.8\">bn6b_branch2b: BatchNormalization</text>\n</g>\n<!-- 139881355638160&#45;&gt;139881355630288 -->\n<g class=\"edge\" id=\"edge211\">\n<title>139881355638160-&gt;139881355630288</title>\n<path d=\"M219.5,-5110.4551C219.5,-5102.3828 219.5,-5092.6764 219.5,-5083.6817\" fill=\"none\" stroke=\"#000000\"/>\n<polygon fill=\"#000000\" points=\"223.0001,-5083.5903 219.5,-5073.5904 216.0001,-5083.5904 223.0001,-5083.5903\" stroke=\"#000000\"/>\n</g>\n<!-- 139881354228496 -->\n<g class=\"node\" id=\"node196\">\n<title>139881354228496</title>\n<polygon fill=\"none\" points=\"139,-4964.5 139,-5000.5 300,-5000.5 300,-4964.5 139,-4964.5\" stroke=\"#000000\"/>\n<text fill=\"#000000\" font-family=\"Times,serif\" font-size=\"14.00\" text-anchor=\"middle\" x=\"219.5\" y=\"-4978.8\">activation_53: Activation</text>\n</g>\n<!-- 139881355630288&#45;&gt;139881354228496 -->\n<g class=\"edge\" id=\"edge212\">\n<title>139881355630288-&gt;139881354228496</title>\n<path d=\"M219.5,-5037.4551C219.5,-5029.3828 219.5,-5019.6764 219.5,-5010.6817\" fill=\"none\" stroke=\"#000000\"/>\n<polygon fill=\"#000000\" points=\"223.0001,-5010.5903 219.5,-5000.5904 216.0001,-5010.5904 223.0001,-5010.5903\" stroke=\"#000000\"/>\n</g>\n<!-- 139881353346640 -->\n<g class=\"node\" id=\"node197\">\n<title>139881353346640</title>\n<polygon fill=\"none\" points=\"137,-4891.5 137,-4927.5 302,-4927.5 302,-4891.5 137,-4891.5\" stroke=\"#000000\"/>\n<text fill=\"#000000\" font-family=\"Times,serif\" font-size=\"14.00\" text-anchor=\"middle\" x=\"219.5\" y=\"-4905.8\">res6b_branch2c: Conv2D</text>\n</g>\n<!-- 139881354228496&#45;&gt;139881353346640 -->\n<g class=\"edge\" id=\"edge213\">\n<title>139881354228496-&gt;139881353346640</title>\n<path d=\"M219.5,-4964.4551C219.5,-4956.3828 219.5,-4946.6764 219.5,-4937.6817\" fill=\"none\" stroke=\"#000000\"/>\n<polygon fill=\"#000000\" points=\"223.0001,-4937.5903 219.5,-4927.5904 216.0001,-4937.5904 223.0001,-4937.5903\" stroke=\"#000000\"/>\n</g>\n<!-- 139881353363152 -->\n<g class=\"node\" id=\"node198\">\n<title>139881353363152</title>\n<polygon fill=\"none\" points=\"105,-4818.5 105,-4854.5 334,-4854.5 334,-4818.5 105,-4818.5\" stroke=\"#000000\"/>\n<text fill=\"#000000\" font-family=\"Times,serif\" font-size=\"14.00\" text-anchor=\"middle\" x=\"219.5\" y=\"-4832.8\">bn6b_branch2c: BatchNormalization</text>\n</g>\n<!-- 139881353346640&#45;&gt;139881353363152 -->\n<g class=\"edge\" id=\"edge214\">\n<title>139881353346640-&gt;139881353363152</title>\n<path d=\"M219.5,-4891.4551C219.5,-4883.3828 219.5,-4873.6764 219.5,-4864.6817\" fill=\"none\" stroke=\"#000000\"/>\n<polygon fill=\"#000000\" points=\"223.0001,-4864.5903 219.5,-4854.5904 216.0001,-4864.5904 223.0001,-4864.5903\" stroke=\"#000000\"/>\n</g>\n<!-- 139881353363152&#45;&gt;139881354325136 -->\n<g class=\"edge\" id=\"edge215\">\n<title>139881353363152-&gt;139881354325136</title>\n<path d=\"M237.0506,-4818.4551C245.755,-4809.5054 256.4132,-4798.547 265.9156,-4788.7769\" fill=\"none\" stroke=\"#000000\"/>\n<polygon fill=\"#000000\" points=\"268.4421,-4791.1992 272.9053,-4781.5904 263.424,-4786.3187 268.4421,-4791.1992\" stroke=\"#000000\"/>\n</g>\n<!-- 139881352929616 -->\n<g class=\"node\" id=\"node200\">\n<title>139881352929616</title>\n<polygon fill=\"none\" points=\"210,-4672.5 210,-4708.5 371,-4708.5 371,-4672.5 210,-4672.5\" stroke=\"#000000\"/>\n<text fill=\"#000000\" font-family=\"Times,serif\" font-size=\"14.00\" text-anchor=\"middle\" x=\"290.5\" y=\"-4686.8\">activation_54: Activation</text>\n</g>\n<!-- 139881354325136&#45;&gt;139881352929616 -->\n<g class=\"edge\" id=\"edge217\">\n<title>139881354325136-&gt;139881352929616</title>\n<path d=\"M290.5,-4745.4551C290.5,-4737.3828 290.5,-4727.6764 290.5,-4718.6817\" fill=\"none\" stroke=\"#000000\"/>\n<polygon fill=\"#000000\" points=\"294.0001,-4718.5903 290.5,-4708.5904 287.0001,-4718.5904 294.0001,-4718.5903\" stroke=\"#000000\"/>\n</g>\n<!-- 139881353006416 -->\n<g class=\"node\" id=\"node201\">\n<title>139881353006416</title>\n<polygon fill=\"none\" points=\"137.5,-4599.5 137.5,-4635.5 301.5,-4635.5 301.5,-4599.5 137.5,-4599.5\" stroke=\"#000000\"/>\n<text fill=\"#000000\" font-family=\"Times,serif\" font-size=\"14.00\" text-anchor=\"middle\" x=\"219.5\" y=\"-4613.8\">res6c_branch2a: Conv2D</text>\n</g>\n<!-- 139881352929616&#45;&gt;139881353006416 -->\n<g class=\"edge\" id=\"edge218\">\n<title>139881352929616-&gt;139881353006416</title>\n<path d=\"M272.9494,-4672.4551C264.245,-4663.5054 253.5868,-4652.547 244.0844,-4642.7769\" fill=\"none\" stroke=\"#000000\"/>\n<polygon fill=\"#000000\" points=\"246.576,-4640.3187 237.0947,-4635.5904 241.5579,-4645.1992 246.576,-4640.3187\" stroke=\"#000000\"/>\n</g>\n<!-- 139881353003280 -->\n<g class=\"node\" id=\"node209\">\n<title>139881353003280</title>\n<polygon fill=\"none\" points=\"228.5,-4015.5 228.5,-4051.5 320.5,-4051.5 320.5,-4015.5 228.5,-4015.5\" stroke=\"#000000\"/>\n<text fill=\"#000000\" font-family=\"Times,serif\" font-size=\"14.00\" text-anchor=\"middle\" x=\"274.5\" y=\"-4029.8\">add_18: Add</text>\n</g>\n<!-- 139881352929616&#45;&gt;139881353003280 -->\n<g class=\"edge\" id=\"edge227\">\n<title>139881352929616-&gt;139881353003280</title>\n<path d=\"M302.1641,-4672.4282C318.3088,-4645.6285 345.5,-4593.255 345.5,-4544.5 345.5,-4544.5 345.5,-4544.5 345.5,-4179.5 345.5,-4137.8732 344.8594,-4124.8511 325.5,-4088 319.9066,-4077.3527 311.6654,-4067.2622 303.4315,-4058.7242\" fill=\"none\" stroke=\"#000000\"/>\n<polygon fill=\"#000000\" points=\"305.8388,-4056.1825 296.2644,-4051.6458 300.92,-4061.163 305.8388,-4056.1825\" stroke=\"#000000\"/>\n</g>\n<!-- 139881353026960 -->\n<g class=\"node\" id=\"node202\">\n<title>139881353026960</title>\n<polygon fill=\"none\" points=\"90,-4526.5 90,-4562.5 317,-4562.5 317,-4526.5 90,-4526.5\" stroke=\"#000000\"/>\n<text fill=\"#000000\" font-family=\"Times,serif\" font-size=\"14.00\" text-anchor=\"middle\" x=\"203.5\" y=\"-4540.8\">bn6c_branch2a: BatchNormalization</text>\n</g>\n<!-- 139881353006416&#45;&gt;139881353026960 -->\n<g class=\"edge\" id=\"edge219\">\n<title>139881353006416-&gt;139881353026960</title>\n<path d=\"M215.5449,-4599.4551C213.7565,-4591.2951 211.602,-4581.4652 209.6126,-4572.3887\" fill=\"none\" stroke=\"#000000\"/>\n<polygon fill=\"#000000\" points=\"213.0249,-4571.6091 207.465,-4562.5904 206.1872,-4573.1079 213.0249,-4571.6091\" stroke=\"#000000\"/>\n</g>\n<!-- 139881354837008 -->\n<g class=\"node\" id=\"node203\">\n<title>139881354837008</title>\n<polygon fill=\"none\" points=\"123,-4453.5 123,-4489.5 284,-4489.5 284,-4453.5 123,-4453.5\" stroke=\"#000000\"/>\n<text fill=\"#000000\" font-family=\"Times,serif\" font-size=\"14.00\" text-anchor=\"middle\" x=\"203.5\" y=\"-4467.8\">activation_55: Activation</text>\n</g>\n<!-- 139881353026960&#45;&gt;139881354837008 -->\n<g class=\"edge\" id=\"edge220\">\n<title>139881353026960-&gt;139881354837008</title>\n<path d=\"M203.5,-4526.4551C203.5,-4518.3828 203.5,-4508.6764 203.5,-4499.6817\" fill=\"none\" stroke=\"#000000\"/>\n<polygon fill=\"#000000\" points=\"207.0001,-4499.5903 203.5,-4489.5904 200.0001,-4499.5904 207.0001,-4499.5903\" stroke=\"#000000\"/>\n</g>\n<!-- 139881352680528 -->\n<g class=\"node\" id=\"node204\">\n<title>139881352680528</title>\n<polygon fill=\"none\" points=\"121,-4380.5 121,-4416.5 286,-4416.5 286,-4380.5 121,-4380.5\" stroke=\"#000000\"/>\n<text fill=\"#000000\" font-family=\"Times,serif\" font-size=\"14.00\" text-anchor=\"middle\" x=\"203.5\" y=\"-4394.8\">res6c_branch2b: Conv2D</text>\n</g>\n<!-- 139881354837008&#45;&gt;139881352680528 -->\n<g class=\"edge\" id=\"edge221\">\n<title>139881354837008-&gt;139881352680528</title>\n<path d=\"M203.5,-4453.4551C203.5,-4445.3828 203.5,-4435.6764 203.5,-4426.6817\" fill=\"none\" stroke=\"#000000\"/>\n<polygon fill=\"#000000\" points=\"207.0001,-4426.5903 203.5,-4416.5904 200.0001,-4426.5904 207.0001,-4426.5903\" stroke=\"#000000\"/>\n</g>\n<!-- 139881352683472 -->\n<g class=\"node\" id=\"node205\">\n<title>139881352683472</title>\n<polygon fill=\"none\" points=\"88,-4307.5 88,-4343.5 317,-4343.5 317,-4307.5 88,-4307.5\" stroke=\"#000000\"/>\n<text fill=\"#000000\" font-family=\"Times,serif\" font-size=\"14.00\" text-anchor=\"middle\" x=\"202.5\" y=\"-4321.8\">bn6c_branch2b: BatchNormalization</text>\n</g>\n<!-- 139881352680528&#45;&gt;139881352683472 -->\n<g class=\"edge\" id=\"edge222\">\n<title>139881352680528-&gt;139881352683472</title>\n<path d=\"M203.2528,-4380.4551C203.1422,-4372.3828 203.0093,-4362.6764 202.8861,-4353.6817\" fill=\"none\" stroke=\"#000000\"/>\n<polygon fill=\"#000000\" points=\"206.3846,-4353.5414 202.7478,-4343.5904 199.3852,-4353.6374 206.3846,-4353.5414\" stroke=\"#000000\"/>\n</g>\n<!-- 139881352695888 -->\n<g class=\"node\" id=\"node206\">\n<title>139881352695888</title>\n<polygon fill=\"none\" points=\"123,-4234.5 123,-4270.5 284,-4270.5 284,-4234.5 123,-4234.5\" stroke=\"#000000\"/>\n<text fill=\"#000000\" font-family=\"Times,serif\" font-size=\"14.00\" text-anchor=\"middle\" x=\"203.5\" y=\"-4248.8\">activation_56: Activation</text>\n</g>\n<!-- 139881352683472&#45;&gt;139881352695888 -->\n<g class=\"edge\" id=\"edge223\">\n<title>139881352683472-&gt;139881352695888</title>\n<path d=\"M202.7472,-4307.4551C202.8578,-4299.3828 202.9907,-4289.6764 203.1139,-4280.6817\" fill=\"none\" stroke=\"#000000\"/>\n<polygon fill=\"#000000\" points=\"206.6148,-4280.6374 203.2522,-4270.5904 199.6154,-4280.5414 206.6148,-4280.6374\" stroke=\"#000000\"/>\n</g>\n<!-- 139881352680656 -->\n<g class=\"node\" id=\"node207\">\n<title>139881352680656</title>\n<polygon fill=\"none\" points=\"121.5,-4161.5 121.5,-4197.5 285.5,-4197.5 285.5,-4161.5 121.5,-4161.5\" stroke=\"#000000\"/>\n<text fill=\"#000000\" font-family=\"Times,serif\" font-size=\"14.00\" text-anchor=\"middle\" x=\"203.5\" y=\"-4175.8\">res6c_branch2c: Conv2D</text>\n</g>\n<!-- 139881352695888&#45;&gt;139881352680656 -->\n<g class=\"edge\" id=\"edge224\">\n<title>139881352695888-&gt;139881352680656</title>\n<path d=\"M203.5,-4234.4551C203.5,-4226.3828 203.5,-4216.6764 203.5,-4207.6817\" fill=\"none\" stroke=\"#000000\"/>\n<polygon fill=\"#000000\" points=\"207.0001,-4207.5903 203.5,-4197.5904 200.0001,-4207.5904 207.0001,-4207.5903\" stroke=\"#000000\"/>\n</g>\n<!-- 139881352817232 -->\n<g class=\"node\" id=\"node208\">\n<title>139881352817232</title>\n<polygon fill=\"none\" points=\"90,-4088.5 90,-4124.5 317,-4124.5 317,-4088.5 90,-4088.5\" stroke=\"#000000\"/>\n<text fill=\"#000000\" font-family=\"Times,serif\" font-size=\"14.00\" text-anchor=\"middle\" x=\"203.5\" y=\"-4102.8\">bn6c_branch2c: BatchNormalization</text>\n</g>\n<!-- 139881352680656&#45;&gt;139881352817232 -->\n<g class=\"edge\" id=\"edge225\">\n<title>139881352680656-&gt;139881352817232</title>\n<path d=\"M203.5,-4161.4551C203.5,-4153.3828 203.5,-4143.6764 203.5,-4134.6817\" fill=\"none\" stroke=\"#000000\"/>\n<polygon fill=\"#000000\" points=\"207.0001,-4134.5903 203.5,-4124.5904 200.0001,-4134.5904 207.0001,-4134.5903\" stroke=\"#000000\"/>\n</g>\n<!-- 139881352817232&#45;&gt;139881353003280 -->\n<g class=\"edge\" id=\"edge226\">\n<title>139881352817232-&gt;139881353003280</title>\n<path d=\"M221.0506,-4088.4551C229.755,-4079.5054 240.4132,-4068.547 249.9156,-4058.7769\" fill=\"none\" stroke=\"#000000\"/>\n<polygon fill=\"#000000\" points=\"252.4421,-4061.1992 256.9053,-4051.5904 247.424,-4056.3187 252.4421,-4061.1992\" stroke=\"#000000\"/>\n</g>\n<!-- 139881353025040 -->\n<g class=\"node\" id=\"node210\">\n<title>139881353025040</title>\n<polygon fill=\"none\" points=\"194,-3942.5 194,-3978.5 355,-3978.5 355,-3942.5 194,-3942.5\" stroke=\"#000000\"/>\n<text fill=\"#000000\" font-family=\"Times,serif\" font-size=\"14.00\" text-anchor=\"middle\" x=\"274.5\" y=\"-3956.8\">activation_57: Activation</text>\n</g>\n<!-- 139881353003280&#45;&gt;139881353025040 -->\n<g class=\"edge\" id=\"edge228\">\n<title>139881353003280-&gt;139881353025040</title>\n<path d=\"M274.5,-4015.4551C274.5,-4007.3828 274.5,-3997.6764 274.5,-3988.6817\" fill=\"none\" stroke=\"#000000\"/>\n<polygon fill=\"#000000\" points=\"278.0001,-3988.5903 274.5,-3978.5904 271.0001,-3988.5904 278.0001,-3988.5903\" stroke=\"#000000\"/>\n</g>\n<!-- 139881353343824 -->\n<g class=\"node\" id=\"node211\">\n<title>139881353343824</title>\n<polygon fill=\"none\" points=\"137,-3869.5 137,-3905.5 302,-3905.5 302,-3869.5 137,-3869.5\" stroke=\"#000000\"/>\n<text fill=\"#000000\" font-family=\"Times,serif\" font-size=\"14.00\" text-anchor=\"middle\" x=\"219.5\" y=\"-3883.8\">res6d_branch2a: Conv2D</text>\n</g>\n<!-- 139881353025040&#45;&gt;139881353343824 -->\n<g class=\"edge\" id=\"edge229\">\n<title>139881353025040-&gt;139881353343824</title>\n<path d=\"M260.9045,-3942.4551C254.3599,-3933.7686 246.3896,-3923.1898 239.196,-3913.642\" fill=\"none\" stroke=\"#000000\"/>\n<polygon fill=\"#000000\" points=\"241.9427,-3911.4711 233.1297,-3905.5904 236.3518,-3915.6834 241.9427,-3911.4711\" stroke=\"#000000\"/>\n</g>\n<!-- 139881352438672 -->\n<g class=\"node\" id=\"node219\">\n<title>139881352438672</title>\n<polygon fill=\"none\" points=\"228.5,-3285.5 228.5,-3321.5 320.5,-3321.5 320.5,-3285.5 228.5,-3285.5\" stroke=\"#000000\"/>\n<text fill=\"#000000\" font-family=\"Times,serif\" font-size=\"14.00\" text-anchor=\"middle\" x=\"274.5\" y=\"-3299.8\">add_19: Add</text>\n</g>\n<!-- 139881353025040&#45;&gt;139881352438672 -->\n<g class=\"edge\" id=\"edge238\">\n<title>139881353025040-&gt;139881352438672</title>\n<path d=\"M290.4791,-3942.1083C311.6909,-3915.7403 346.5,-3864.8061 346.5,-3814.5 346.5,-3814.5 346.5,-3814.5 346.5,-3449.5 346.5,-3407.8732 346.0378,-3394.7568 326.5,-3358 320.8031,-3347.2823 312.402,-3337.1724 304.0064,-3328.6383\" fill=\"none\" stroke=\"#000000\"/>\n<polygon fill=\"#000000\" points=\"306.3189,-3326.0057 296.6979,-3321.5687 301.452,-3331.037 306.3189,-3326.0057\" stroke=\"#000000\"/>\n</g>\n<!-- 139881353950032 -->\n<g class=\"node\" id=\"node212\">\n<title>139881353950032</title>\n<polygon fill=\"none\" points=\"89,-3796.5 89,-3832.5 318,-3832.5 318,-3796.5 89,-3796.5\" stroke=\"#000000\"/>\n<text fill=\"#000000\" font-family=\"Times,serif\" font-size=\"14.00\" text-anchor=\"middle\" x=\"203.5\" y=\"-3810.8\">bn6d_branch2a: BatchNormalization</text>\n</g>\n<!-- 139881353343824&#45;&gt;139881353950032 -->\n<g class=\"edge\" id=\"edge230\">\n<title>139881353343824-&gt;139881353950032</title>\n<path d=\"M215.5449,-3869.4551C213.7565,-3861.2951 211.602,-3851.4652 209.6126,-3842.3887\" fill=\"none\" stroke=\"#000000\"/>\n<polygon fill=\"#000000\" points=\"213.0249,-3841.6091 207.465,-3832.5904 206.1872,-3843.1079 213.0249,-3841.6091\" stroke=\"#000000\"/>\n</g>\n<!-- 139881353344528 -->\n<g class=\"node\" id=\"node213\">\n<title>139881353344528</title>\n<polygon fill=\"none\" points=\"123,-3723.5 123,-3759.5 284,-3759.5 284,-3723.5 123,-3723.5\" stroke=\"#000000\"/>\n<text fill=\"#000000\" font-family=\"Times,serif\" font-size=\"14.00\" text-anchor=\"middle\" x=\"203.5\" y=\"-3737.8\">activation_58: Activation</text>\n</g>\n<!-- 139881353950032&#45;&gt;139881353344528 -->\n<g class=\"edge\" id=\"edge231\">\n<title>139881353950032-&gt;139881353344528</title>\n<path d=\"M203.5,-3796.4551C203.5,-3788.3828 203.5,-3778.6764 203.5,-3769.6817\" fill=\"none\" stroke=\"#000000\"/>\n<polygon fill=\"#000000\" points=\"207.0001,-3769.5903 203.5,-3759.5904 200.0001,-3769.5904 207.0001,-3769.5903\" stroke=\"#000000\"/>\n</g>\n<!-- 139881356862800 -->\n<g class=\"node\" id=\"node214\">\n<title>139881356862800</title>\n<polygon fill=\"none\" points=\"120,-3650.5 120,-3686.5 287,-3686.5 287,-3650.5 120,-3650.5\" stroke=\"#000000\"/>\n<text fill=\"#000000\" font-family=\"Times,serif\" font-size=\"14.00\" text-anchor=\"middle\" x=\"203.5\" y=\"-3664.8\">res6d_branch2b: Conv2D</text>\n</g>\n<!-- 139881353344528&#45;&gt;139881356862800 -->\n<g class=\"edge\" id=\"edge232\">\n<title>139881353344528-&gt;139881356862800</title>\n<path d=\"M203.5,-3723.4551C203.5,-3715.3828 203.5,-3705.6764 203.5,-3696.6817\" fill=\"none\" stroke=\"#000000\"/>\n<polygon fill=\"#000000\" points=\"207.0001,-3696.5903 203.5,-3686.5904 200.0001,-3696.5904 207.0001,-3696.5903\" stroke=\"#000000\"/>\n</g>\n<!-- 139881353403856 -->\n<g class=\"node\" id=\"node215\">\n<title>139881353403856</title>\n<polygon fill=\"none\" points=\"88.5,-3577.5 88.5,-3613.5 318.5,-3613.5 318.5,-3577.5 88.5,-3577.5\" stroke=\"#000000\"/>\n<text fill=\"#000000\" font-family=\"Times,serif\" font-size=\"14.00\" text-anchor=\"middle\" x=\"203.5\" y=\"-3591.8\">bn6d_branch2b: BatchNormalization</text>\n</g>\n<!-- 139881356862800&#45;&gt;139881353403856 -->\n<g class=\"edge\" id=\"edge233\">\n<title>139881356862800-&gt;139881353403856</title>\n<path d=\"M203.5,-3650.4551C203.5,-3642.3828 203.5,-3632.6764 203.5,-3623.6817\" fill=\"none\" stroke=\"#000000\"/>\n<polygon fill=\"#000000\" points=\"207.0001,-3623.5903 203.5,-3613.5904 200.0001,-3623.5904 207.0001,-3623.5903\" stroke=\"#000000\"/>\n</g>\n<!-- 139881355612944 -->\n<g class=\"node\" id=\"node216\">\n<title>139881355612944</title>\n<polygon fill=\"none\" points=\"123,-3504.5 123,-3540.5 284,-3540.5 284,-3504.5 123,-3504.5\" stroke=\"#000000\"/>\n<text fill=\"#000000\" font-family=\"Times,serif\" font-size=\"14.00\" text-anchor=\"middle\" x=\"203.5\" y=\"-3518.8\">activation_59: Activation</text>\n</g>\n<!-- 139881353403856&#45;&gt;139881355612944 -->\n<g class=\"edge\" id=\"edge234\">\n<title>139881353403856-&gt;139881355612944</title>\n<path d=\"M203.5,-3577.4551C203.5,-3569.3828 203.5,-3559.6764 203.5,-3550.6817\" fill=\"none\" stroke=\"#000000\"/>\n<polygon fill=\"#000000\" points=\"207.0001,-3550.5903 203.5,-3540.5904 200.0001,-3550.5904 207.0001,-3550.5903\" stroke=\"#000000\"/>\n</g>\n<!-- 139881352437904 -->\n<g class=\"node\" id=\"node217\">\n<title>139881352437904</title>\n<polygon fill=\"none\" points=\"121,-3431.5 121,-3467.5 286,-3467.5 286,-3431.5 121,-3431.5\" stroke=\"#000000\"/>\n<text fill=\"#000000\" font-family=\"Times,serif\" font-size=\"14.00\" text-anchor=\"middle\" x=\"203.5\" y=\"-3445.8\">res6d_branch2c: Conv2D</text>\n</g>\n<!-- 139881355612944&#45;&gt;139881352437904 -->\n<g class=\"edge\" id=\"edge235\">\n<title>139881355612944-&gt;139881352437904</title>\n<path d=\"M203.5,-3504.4551C203.5,-3496.3828 203.5,-3486.6764 203.5,-3477.6817\" fill=\"none\" stroke=\"#000000\"/>\n<polygon fill=\"#000000\" points=\"207.0001,-3477.5903 203.5,-3467.5904 200.0001,-3477.5904 207.0001,-3477.5903\" stroke=\"#000000\"/>\n</g>\n<!-- 139881353432080 -->\n<g class=\"node\" id=\"node218\">\n<title>139881353432080</title>\n<polygon fill=\"none\" points=\"89,-3358.5 89,-3394.5 318,-3394.5 318,-3358.5 89,-3358.5\" stroke=\"#000000\"/>\n<text fill=\"#000000\" font-family=\"Times,serif\" font-size=\"14.00\" text-anchor=\"middle\" x=\"203.5\" y=\"-3372.8\">bn6d_branch2c: BatchNormalization</text>\n</g>\n<!-- 139881352437904&#45;&gt;139881353432080 -->\n<g class=\"edge\" id=\"edge236\">\n<title>139881352437904-&gt;139881353432080</title>\n<path d=\"M203.5,-3431.4551C203.5,-3423.3828 203.5,-3413.6764 203.5,-3404.6817\" fill=\"none\" stroke=\"#000000\"/>\n<polygon fill=\"#000000\" points=\"207.0001,-3404.5903 203.5,-3394.5904 200.0001,-3404.5904 207.0001,-3404.5903\" stroke=\"#000000\"/>\n</g>\n<!-- 139881353432080&#45;&gt;139881352438672 -->\n<g class=\"edge\" id=\"edge237\">\n<title>139881353432080-&gt;139881352438672</title>\n<path d=\"M221.0506,-3358.4551C229.755,-3349.5054 240.4132,-3338.547 249.9156,-3328.7769\" fill=\"none\" stroke=\"#000000\"/>\n<polygon fill=\"#000000\" points=\"252.4421,-3331.1992 256.9053,-3321.5904 247.424,-3326.3187 252.4421,-3331.1992\" stroke=\"#000000\"/>\n</g>\n<!-- 139881352097872 -->\n<g class=\"node\" id=\"node220\">\n<title>139881352097872</title>\n<polygon fill=\"none\" points=\"194,-3212.5 194,-3248.5 355,-3248.5 355,-3212.5 194,-3212.5\" stroke=\"#000000\"/>\n<text fill=\"#000000\" font-family=\"Times,serif\" font-size=\"14.00\" text-anchor=\"middle\" x=\"274.5\" y=\"-3226.8\">activation_60: Activation</text>\n</g>\n<!-- 139881352438672&#45;&gt;139881352097872 -->\n<g class=\"edge\" id=\"edge239\">\n<title>139881352438672-&gt;139881352097872</title>\n<path d=\"M274.5,-3285.4551C274.5,-3277.3828 274.5,-3267.6764 274.5,-3258.6817\" fill=\"none\" stroke=\"#000000\"/>\n<polygon fill=\"#000000\" points=\"278.0001,-3258.5903 274.5,-3248.5904 271.0001,-3258.5904 278.0001,-3258.5903\" stroke=\"#000000\"/>\n</g>\n<!-- 139881353474896 -->\n<g class=\"node\" id=\"node221\">\n<title>139881353474896</title>\n<polygon fill=\"none\" points=\"207.5,-3139.5 207.5,-3175.5 341.5,-3175.5 341.5,-3139.5 207.5,-3139.5\" stroke=\"#000000\"/>\n<text fill=\"#000000\" font-family=\"Times,serif\" font-size=\"14.00\" text-anchor=\"middle\" x=\"274.5\" y=\"-3153.8\">dropout_4: Dropout</text>\n</g>\n<!-- 139881352097872&#45;&gt;139881353474896 -->\n<g class=\"edge\" id=\"edge240\">\n<title>139881352097872-&gt;139881353474896</title>\n<path d=\"M274.5,-3212.4551C274.5,-3204.3828 274.5,-3194.6764 274.5,-3185.6817\" fill=\"none\" stroke=\"#000000\"/>\n<polygon fill=\"#000000\" points=\"278.0001,-3185.5903 274.5,-3175.5904 271.0001,-3185.5904 278.0001,-3185.5903\" stroke=\"#000000\"/>\n</g>\n<!-- 139881352467664 -->\n<g class=\"node\" id=\"node222\">\n<title>139881352467664</title>\n<polygon fill=\"none\" points=\"137.5,-3066.5 137.5,-3102.5 301.5,-3102.5 301.5,-3066.5 137.5,-3066.5\" stroke=\"#000000\"/>\n<text fill=\"#000000\" font-family=\"Times,serif\" font-size=\"14.00\" text-anchor=\"middle\" x=\"219.5\" y=\"-3080.8\">res7a_branch2a: Conv2D</text>\n</g>\n<!-- 139881353474896&#45;&gt;139881352467664 -->\n<g class=\"edge\" id=\"edge241\">\n<title>139881353474896-&gt;139881352467664</title>\n<path d=\"M260.9045,-3139.4551C254.3599,-3130.7686 246.3896,-3120.1898 239.196,-3110.642\" fill=\"none\" stroke=\"#000000\"/>\n<polygon fill=\"#000000\" points=\"241.9427,-3108.4711 233.1297,-3102.5904 236.3518,-3112.6834 241.9427,-3108.4711\" stroke=\"#000000\"/>\n</g>\n<!-- 139881352307088 -->\n<g class=\"node\" id=\"node229\">\n<title>139881352307088</title>\n<polygon fill=\"none\" points=\"301.5,-2993.5 301.5,-3029.5 459.5,-3029.5 459.5,-2993.5 301.5,-2993.5\" stroke=\"#000000\"/>\n<text fill=\"#000000\" font-family=\"Times,serif\" font-size=\"14.00\" text-anchor=\"middle\" x=\"380.5\" y=\"-3007.8\">res7a_branch1: Conv2D</text>\n</g>\n<!-- 139881353474896&#45;&gt;139881352307088 -->\n<g class=\"edge\" id=\"edge248\">\n<title>139881353474896-&gt;139881352307088</title>\n<path d=\"M287.7106,-3139.3042C306.1981,-3113.8403 339.9072,-3067.4108 361.2051,-3038.0759\" fill=\"none\" stroke=\"#000000\"/>\n<polygon fill=\"#000000\" points=\"364.08,-3040.0736 367.1229,-3029.9251 358.4154,-3035.961 364.08,-3040.0736\" stroke=\"#000000\"/>\n</g>\n<!-- 139881352533392 -->\n<g class=\"node\" id=\"node223\">\n<title>139881352533392</title>\n<polygon fill=\"none\" points=\"56,-2993.5 56,-3029.5 283,-3029.5 283,-2993.5 56,-2993.5\" stroke=\"#000000\"/>\n<text fill=\"#000000\" font-family=\"Times,serif\" font-size=\"14.00\" text-anchor=\"middle\" x=\"169.5\" y=\"-3007.8\">bn7a_branch2a: BatchNormalization</text>\n</g>\n<!-- 139881352467664&#45;&gt;139881352533392 -->\n<g class=\"edge\" id=\"edge242\">\n<title>139881352467664-&gt;139881352533392</title>\n<path d=\"M207.1404,-3066.4551C201.2509,-3057.8564 194.0913,-3047.4034 187.6039,-3037.9316\" fill=\"none\" stroke=\"#000000\"/>\n<polygon fill=\"#000000\" points=\"190.4292,-3035.8628 181.8907,-3029.5904 184.654,-3039.8185 190.4292,-3035.8628\" stroke=\"#000000\"/>\n</g>\n<!-- 139881352242960 -->\n<g class=\"node\" id=\"node224\">\n<title>139881352242960</title>\n<polygon fill=\"none\" points=\"90,-2920.5 90,-2956.5 251,-2956.5 251,-2920.5 90,-2920.5\" stroke=\"#000000\"/>\n<text fill=\"#000000\" font-family=\"Times,serif\" font-size=\"14.00\" text-anchor=\"middle\" x=\"170.5\" y=\"-2934.8\">activation_61: Activation</text>\n</g>\n<!-- 139881352533392&#45;&gt;139881352242960 -->\n<g class=\"edge\" id=\"edge243\">\n<title>139881352533392-&gt;139881352242960</title>\n<path d=\"M169.7472,-2993.4551C169.8578,-2985.3828 169.9907,-2975.6764 170.1139,-2966.6817\" fill=\"none\" stroke=\"#000000\"/>\n<polygon fill=\"#000000\" points=\"173.6148,-2966.6374 170.2522,-2956.5904 166.6154,-2966.5414 173.6148,-2966.6374\" stroke=\"#000000\"/>\n</g>\n<!-- 139881351865360 -->\n<g class=\"node\" id=\"node225\">\n<title>139881351865360</title>\n<polygon fill=\"none\" points=\"121,-2847.5 121,-2883.5 286,-2883.5 286,-2847.5 121,-2847.5\" stroke=\"#000000\"/>\n<text fill=\"#000000\" font-family=\"Times,serif\" font-size=\"14.00\" text-anchor=\"middle\" x=\"203.5\" y=\"-2861.8\">res7a_branch2b: Conv2D</text>\n</g>\n<!-- 139881352242960&#45;&gt;139881351865360 -->\n<g class=\"edge\" id=\"edge244\">\n<title>139881352242960-&gt;139881351865360</title>\n<path d=\"M178.6573,-2920.4551C182.4254,-2912.1196 186.9812,-2902.0416 191.157,-2892.8042\" fill=\"none\" stroke=\"#000000\"/>\n<polygon fill=\"#000000\" points=\"194.3922,-2894.1443 195.3222,-2883.5904 188.0136,-2891.2608 194.3922,-2894.1443\" stroke=\"#000000\"/>\n</g>\n<!-- 139881351873424 -->\n<g class=\"node\" id=\"node226\">\n<title>139881351873424</title>\n<polygon fill=\"none\" points=\"105,-2774.5 105,-2810.5 334,-2810.5 334,-2774.5 105,-2774.5\" stroke=\"#000000\"/>\n<text fill=\"#000000\" font-family=\"Times,serif\" font-size=\"14.00\" text-anchor=\"middle\" x=\"219.5\" y=\"-2788.8\">bn7a_branch2b: BatchNormalization</text>\n</g>\n<!-- 139881351865360&#45;&gt;139881351873424 -->\n<g class=\"edge\" id=\"edge245\">\n<title>139881351865360-&gt;139881351873424</title>\n<path d=\"M207.4551,-2847.4551C209.2435,-2839.2951 211.398,-2829.4652 213.3874,-2820.3887\" fill=\"none\" stroke=\"#000000\"/>\n<polygon fill=\"#000000\" points=\"216.8128,-2821.1079 215.535,-2810.5904 209.9751,-2819.6091 216.8128,-2821.1079\" stroke=\"#000000\"/>\n</g>\n<!-- 139881351950672 -->\n<g class=\"node\" id=\"node227\">\n<title>139881351950672</title>\n<polygon fill=\"none\" points=\"148,-2701.5 148,-2737.5 309,-2737.5 309,-2701.5 148,-2701.5\" stroke=\"#000000\"/>\n<text fill=\"#000000\" font-family=\"Times,serif\" font-size=\"14.00\" text-anchor=\"middle\" x=\"228.5\" y=\"-2715.8\">activation_62: Activation</text>\n</g>\n<!-- 139881351873424&#45;&gt;139881351950672 -->\n<g class=\"edge\" id=\"edge246\">\n<title>139881351873424-&gt;139881351950672</title>\n<path d=\"M221.7247,-2774.4551C222.7199,-2766.3828 223.9166,-2756.6764 225.0255,-2747.6817\" fill=\"none\" stroke=\"#000000\"/>\n<polygon fill=\"#000000\" points=\"228.5197,-2747.9435 226.2697,-2737.5904 221.5723,-2747.0869 228.5197,-2747.9435\" stroke=\"#000000\"/>\n</g>\n<!-- 139881351874000 -->\n<g class=\"node\" id=\"node228\">\n<title>139881351874000</title>\n<polygon fill=\"none\" points=\"146.5,-2628.5 146.5,-2664.5 310.5,-2664.5 310.5,-2628.5 146.5,-2628.5\" stroke=\"#000000\"/>\n<text fill=\"#000000\" font-family=\"Times,serif\" font-size=\"14.00\" text-anchor=\"middle\" x=\"228.5\" y=\"-2642.8\">res7a_branch2c: Conv2D</text>\n</g>\n<!-- 139881351950672&#45;&gt;139881351874000 -->\n<g class=\"edge\" id=\"edge247\">\n<title>139881351950672-&gt;139881351874000</title>\n<path d=\"M228.5,-2701.4551C228.5,-2693.3828 228.5,-2683.6764 228.5,-2674.6817\" fill=\"none\" stroke=\"#000000\"/>\n<polygon fill=\"#000000\" points=\"232.0001,-2674.5903 228.5,-2664.5904 225.0001,-2674.5904 232.0001,-2674.5903\" stroke=\"#000000\"/>\n</g>\n<!-- 139881352296464 -->\n<g class=\"node\" id=\"node230\">\n<title>139881352296464</title>\n<polygon fill=\"none\" points=\"115,-2555.5 115,-2591.5 342,-2591.5 342,-2555.5 115,-2555.5\" stroke=\"#000000\"/>\n<text fill=\"#000000\" font-family=\"Times,serif\" font-size=\"14.00\" text-anchor=\"middle\" x=\"228.5\" y=\"-2569.8\">bn7a_branch2c: BatchNormalization</text>\n</g>\n<!-- 139881351874000&#45;&gt;139881352296464 -->\n<g class=\"edge\" id=\"edge249\">\n<title>139881351874000-&gt;139881352296464</title>\n<path d=\"M228.5,-2628.4551C228.5,-2620.3828 228.5,-2610.6764 228.5,-2601.6817\" fill=\"none\" stroke=\"#000000\"/>\n<polygon fill=\"#000000\" points=\"232.0001,-2601.5903 228.5,-2591.5904 225.0001,-2601.5904 232.0001,-2601.5903\" stroke=\"#000000\"/>\n</g>\n<!-- 139881352590416 -->\n<g class=\"node\" id=\"node231\">\n<title>139881352590416</title>\n<polygon fill=\"none\" points=\"269,-2920.5 269,-2956.5 490,-2956.5 490,-2920.5 269,-2920.5\" stroke=\"#000000\"/>\n<text fill=\"#000000\" font-family=\"Times,serif\" font-size=\"14.00\" text-anchor=\"middle\" x=\"379.5\" y=\"-2934.8\">bn7a_branch1: BatchNormalization</text>\n</g>\n<!-- 139881352307088&#45;&gt;139881352590416 -->\n<g class=\"edge\" id=\"edge250\">\n<title>139881352307088-&gt;139881352590416</title>\n<path d=\"M380.2528,-2993.4551C380.1422,-2985.3828 380.0093,-2975.6764 379.8861,-2966.6817\" fill=\"none\" stroke=\"#000000\"/>\n<polygon fill=\"#000000\" points=\"383.3846,-2966.5414 379.7478,-2956.5904 376.3852,-2966.6374 383.3846,-2966.5414\" stroke=\"#000000\"/>\n</g>\n<!-- 139881352167632 -->\n<g class=\"node\" id=\"node232\">\n<title>139881352167632</title>\n<polygon fill=\"none\" points=\"253.5,-2482.5 253.5,-2518.5 345.5,-2518.5 345.5,-2482.5 253.5,-2482.5\" stroke=\"#000000\"/>\n<text fill=\"#000000\" font-family=\"Times,serif\" font-size=\"14.00\" text-anchor=\"middle\" x=\"299.5\" y=\"-2496.8\">add_20: Add</text>\n</g>\n<!-- 139881352296464&#45;&gt;139881352167632 -->\n<g class=\"edge\" id=\"edge251\">\n<title>139881352296464-&gt;139881352167632</title>\n<path d=\"M246.0506,-2555.4551C254.755,-2546.5054 265.4132,-2535.547 274.9156,-2525.7769\" fill=\"none\" stroke=\"#000000\"/>\n<polygon fill=\"#000000\" points=\"277.4421,-2528.1992 281.9053,-2518.5904 272.424,-2523.3187 277.4421,-2528.1992\" stroke=\"#000000\"/>\n</g>\n<!-- 139881352590416&#45;&gt;139881352167632 -->\n<g class=\"edge\" id=\"edge252\">\n<title>139881352590416-&gt;139881352167632</title>\n<path d=\"M377.6352,-2920.0845C374.999,-2892.4173 370.5,-2838.4656 370.5,-2792.5 370.5,-2792.5 370.5,-2792.5 370.5,-2646.5 370.5,-2604.8732 369.8594,-2591.8511 350.5,-2555 344.9066,-2544.3527 336.6654,-2534.2622 328.4315,-2525.7242\" fill=\"none\" stroke=\"#000000\"/>\n<polygon fill=\"#000000\" points=\"330.8388,-2523.1825 321.2644,-2518.6458 325.92,-2528.163 330.8388,-2523.1825\" stroke=\"#000000\"/>\n</g>\n<!-- 139881356457744 -->\n<g class=\"node\" id=\"node233\">\n<title>139881356457744</title>\n<polygon fill=\"none\" points=\"219,-2409.5 219,-2445.5 380,-2445.5 380,-2409.5 219,-2409.5\" stroke=\"#000000\"/>\n<text fill=\"#000000\" font-family=\"Times,serif\" font-size=\"14.00\" text-anchor=\"middle\" x=\"299.5\" y=\"-2423.8\">activation_63: Activation</text>\n</g>\n<!-- 139881352167632&#45;&gt;139881356457744 -->\n<g class=\"edge\" id=\"edge253\">\n<title>139881352167632-&gt;139881356457744</title>\n<path d=\"M299.5,-2482.4551C299.5,-2474.3828 299.5,-2464.6764 299.5,-2455.6817\" fill=\"none\" stroke=\"#000000\"/>\n<polygon fill=\"#000000\" points=\"303.0001,-2455.5903 299.5,-2445.5904 296.0001,-2455.5904 303.0001,-2455.5903\" stroke=\"#000000\"/>\n</g>\n<!-- 139881352185424 -->\n<g class=\"node\" id=\"node234\">\n<title>139881352185424</title>\n<polygon fill=\"none\" points=\"162,-2336.5 162,-2372.5 327,-2372.5 327,-2336.5 162,-2336.5\" stroke=\"#000000\"/>\n<text fill=\"#000000\" font-family=\"Times,serif\" font-size=\"14.00\" text-anchor=\"middle\" x=\"244.5\" y=\"-2350.8\">res7b_branch2a: Conv2D</text>\n</g>\n<!-- 139881356457744&#45;&gt;139881352185424 -->\n<g class=\"edge\" id=\"edge254\">\n<title>139881356457744-&gt;139881352185424</title>\n<path d=\"M285.9045,-2409.4551C279.3599,-2400.7686 271.3896,-2390.1898 264.196,-2380.642\" fill=\"none\" stroke=\"#000000\"/>\n<polygon fill=\"#000000\" points=\"266.9427,-2378.4711 258.1297,-2372.5904 261.3518,-2382.6834 266.9427,-2378.4711\" stroke=\"#000000\"/>\n</g>\n<!-- 139881351314704 -->\n<g class=\"node\" id=\"node242\">\n<title>139881351314704</title>\n<polygon fill=\"none\" points=\"253.5,-1752.5 253.5,-1788.5 345.5,-1788.5 345.5,-1752.5 253.5,-1752.5\" stroke=\"#000000\"/>\n<text fill=\"#000000\" font-family=\"Times,serif\" font-size=\"14.00\" text-anchor=\"middle\" x=\"299.5\" y=\"-1766.8\">add_21: Add</text>\n</g>\n<!-- 139881356457744&#45;&gt;139881351314704 -->\n<g class=\"edge\" id=\"edge263\">\n<title>139881356457744-&gt;139881351314704</title>\n<path d=\"M315.4791,-2409.1083C336.6909,-2382.7403 371.5,-2331.8061 371.5,-2281.5 371.5,-2281.5 371.5,-2281.5 371.5,-1916.5 371.5,-1874.8732 371.0378,-1861.7568 351.5,-1825 345.8031,-1814.2823 337.402,-1804.1724 329.0064,-1795.6383\" fill=\"none\" stroke=\"#000000\"/>\n<polygon fill=\"#000000\" points=\"331.3189,-1793.0057 321.6979,-1788.5687 326.452,-1798.037 331.3189,-1793.0057\" stroke=\"#000000\"/>\n</g>\n<!-- 139881352974288 -->\n<g class=\"node\" id=\"node235\">\n<title>139881352974288</title>\n<polygon fill=\"none\" points=\"114,-2263.5 114,-2299.5 343,-2299.5 343,-2263.5 114,-2263.5\" stroke=\"#000000\"/>\n<text fill=\"#000000\" font-family=\"Times,serif\" font-size=\"14.00\" text-anchor=\"middle\" x=\"228.5\" y=\"-2277.8\">bn7b_branch2a: BatchNormalization</text>\n</g>\n<!-- 139881352185424&#45;&gt;139881352974288 -->\n<g class=\"edge\" id=\"edge255\">\n<title>139881352185424-&gt;139881352974288</title>\n<path d=\"M240.5449,-2336.4551C238.7565,-2328.2951 236.602,-2318.4652 234.6126,-2309.3887\" fill=\"none\" stroke=\"#000000\"/>\n<polygon fill=\"#000000\" points=\"238.0249,-2308.6091 232.465,-2299.5904 231.1872,-2310.1079 238.0249,-2308.6091\" stroke=\"#000000\"/>\n</g>\n<!-- 139881352940368 -->\n<g class=\"node\" id=\"node236\">\n<title>139881352940368</title>\n<polygon fill=\"none\" points=\"148,-2190.5 148,-2226.5 309,-2226.5 309,-2190.5 148,-2190.5\" stroke=\"#000000\"/>\n<text fill=\"#000000\" font-family=\"Times,serif\" font-size=\"14.00\" text-anchor=\"middle\" x=\"228.5\" y=\"-2204.8\">activation_64: Activation</text>\n</g>\n<!-- 139881352974288&#45;&gt;139881352940368 -->\n<g class=\"edge\" id=\"edge256\">\n<title>139881352974288-&gt;139881352940368</title>\n<path d=\"M228.5,-2263.4551C228.5,-2255.3828 228.5,-2245.6764 228.5,-2236.6817\" fill=\"none\" stroke=\"#000000\"/>\n<polygon fill=\"#000000\" points=\"232.0001,-2236.5903 228.5,-2226.5904 225.0001,-2236.5904 232.0001,-2236.5903\" stroke=\"#000000\"/>\n</g>\n<!-- 139881351622992 -->\n<g class=\"node\" id=\"node237\">\n<title>139881351622992</title>\n<polygon fill=\"none\" points=\"145,-2117.5 145,-2153.5 312,-2153.5 312,-2117.5 145,-2117.5\" stroke=\"#000000\"/>\n<text fill=\"#000000\" font-family=\"Times,serif\" font-size=\"14.00\" text-anchor=\"middle\" x=\"228.5\" y=\"-2131.8\">res7b_branch2b: Conv2D</text>\n</g>\n<!-- 139881352940368&#45;&gt;139881351622992 -->\n<g class=\"edge\" id=\"edge257\">\n<title>139881352940368-&gt;139881351622992</title>\n<path d=\"M228.5,-2190.4551C228.5,-2182.3828 228.5,-2172.6764 228.5,-2163.6817\" fill=\"none\" stroke=\"#000000\"/>\n<polygon fill=\"#000000\" points=\"232.0001,-2163.5903 228.5,-2153.5904 225.0001,-2163.5904 232.0001,-2163.5903\" stroke=\"#000000\"/>\n</g>\n<!-- 139881351623312 -->\n<g class=\"node\" id=\"node238\">\n<title>139881351623312</title>\n<polygon fill=\"none\" points=\"113.5,-2044.5 113.5,-2080.5 343.5,-2080.5 343.5,-2044.5 113.5,-2044.5\" stroke=\"#000000\"/>\n<text fill=\"#000000\" font-family=\"Times,serif\" font-size=\"14.00\" text-anchor=\"middle\" x=\"228.5\" y=\"-2058.8\">bn7b_branch2b: BatchNormalization</text>\n</g>\n<!-- 139881351622992&#45;&gt;139881351623312 -->\n<g class=\"edge\" id=\"edge258\">\n<title>139881351622992-&gt;139881351623312</title>\n<path d=\"M228.5,-2117.4551C228.5,-2109.3828 228.5,-2099.6764 228.5,-2090.6817\" fill=\"none\" stroke=\"#000000\"/>\n<polygon fill=\"#000000\" points=\"232.0001,-2090.5903 228.5,-2080.5904 225.0001,-2090.5904 232.0001,-2090.5903\" stroke=\"#000000\"/>\n</g>\n<!-- 139881351725584 -->\n<g class=\"node\" id=\"node239\">\n<title>139881351725584</title>\n<polygon fill=\"none\" points=\"148,-1971.5 148,-2007.5 309,-2007.5 309,-1971.5 148,-1971.5\" stroke=\"#000000\"/>\n<text fill=\"#000000\" font-family=\"Times,serif\" font-size=\"14.00\" text-anchor=\"middle\" x=\"228.5\" y=\"-1985.8\">activation_65: Activation</text>\n</g>\n<!-- 139881351623312&#45;&gt;139881351725584 -->\n<g class=\"edge\" id=\"edge259\">\n<title>139881351623312-&gt;139881351725584</title>\n<path d=\"M228.5,-2044.4551C228.5,-2036.3828 228.5,-2026.6764 228.5,-2017.6817\" fill=\"none\" stroke=\"#000000\"/>\n<polygon fill=\"#000000\" points=\"232.0001,-2017.5903 228.5,-2007.5904 225.0001,-2017.5904 232.0001,-2017.5903\" stroke=\"#000000\"/>\n</g>\n<!-- 139881351311696 -->\n<g class=\"node\" id=\"node240\">\n<title>139881351311696</title>\n<polygon fill=\"none\" points=\"146,-1898.5 146,-1934.5 311,-1934.5 311,-1898.5 146,-1898.5\" stroke=\"#000000\"/>\n<text fill=\"#000000\" font-family=\"Times,serif\" font-size=\"14.00\" text-anchor=\"middle\" x=\"228.5\" y=\"-1912.8\">res7b_branch2c: Conv2D</text>\n</g>\n<!-- 139881351725584&#45;&gt;139881351311696 -->\n<g class=\"edge\" id=\"edge260\">\n<title>139881351725584-&gt;139881351311696</title>\n<path d=\"M228.5,-1971.4551C228.5,-1963.3828 228.5,-1953.6764 228.5,-1944.6817\" fill=\"none\" stroke=\"#000000\"/>\n<polygon fill=\"#000000\" points=\"232.0001,-1944.5903 228.5,-1934.5904 225.0001,-1944.5904 232.0001,-1944.5903\" stroke=\"#000000\"/>\n</g>\n<!-- 139881351727312 -->\n<g class=\"node\" id=\"node241\">\n<title>139881351727312</title>\n<polygon fill=\"none\" points=\"114,-1825.5 114,-1861.5 343,-1861.5 343,-1825.5 114,-1825.5\" stroke=\"#000000\"/>\n<text fill=\"#000000\" font-family=\"Times,serif\" font-size=\"14.00\" text-anchor=\"middle\" x=\"228.5\" y=\"-1839.8\">bn7b_branch2c: BatchNormalization</text>\n</g>\n<!-- 139881351311696&#45;&gt;139881351727312 -->\n<g class=\"edge\" id=\"edge261\">\n<title>139881351311696-&gt;139881351727312</title>\n<path d=\"M228.5,-1898.4551C228.5,-1890.3828 228.5,-1880.6764 228.5,-1871.6817\" fill=\"none\" stroke=\"#000000\"/>\n<polygon fill=\"#000000\" points=\"232.0001,-1871.5903 228.5,-1861.5904 225.0001,-1871.5904 232.0001,-1871.5903\" stroke=\"#000000\"/>\n</g>\n<!-- 139881351727312&#45;&gt;139881351314704 -->\n<g class=\"edge\" id=\"edge262\">\n<title>139881351727312-&gt;139881351314704</title>\n<path d=\"M246.0506,-1825.4551C254.755,-1816.5054 265.4132,-1805.547 274.9156,-1795.7769\" fill=\"none\" stroke=\"#000000\"/>\n<polygon fill=\"#000000\" points=\"277.4421,-1798.1992 281.9053,-1788.5904 272.424,-1793.3187 277.4421,-1798.1992\" stroke=\"#000000\"/>\n</g>\n<!-- 139881351508048 -->\n<g class=\"node\" id=\"node243\">\n<title>139881351508048</title>\n<polygon fill=\"none\" points=\"219,-1679.5 219,-1715.5 380,-1715.5 380,-1679.5 219,-1679.5\" stroke=\"#000000\"/>\n<text fill=\"#000000\" font-family=\"Times,serif\" font-size=\"14.00\" text-anchor=\"middle\" x=\"299.5\" y=\"-1693.8\">activation_66: Activation</text>\n</g>\n<!-- 139881351314704&#45;&gt;139881351508048 -->\n<g class=\"edge\" id=\"edge264\">\n<title>139881351314704-&gt;139881351508048</title>\n<path d=\"M299.5,-1752.4551C299.5,-1744.3828 299.5,-1734.6764 299.5,-1725.6817\" fill=\"none\" stroke=\"#000000\"/>\n<polygon fill=\"#000000\" points=\"303.0001,-1725.5903 299.5,-1715.5904 296.0001,-1725.5904 303.0001,-1725.5903\" stroke=\"#000000\"/>\n</g>\n<!-- 139881351301136 -->\n<g class=\"node\" id=\"node244\">\n<title>139881351301136</title>\n<polygon fill=\"none\" points=\"162.5,-1606.5 162.5,-1642.5 326.5,-1642.5 326.5,-1606.5 162.5,-1606.5\" stroke=\"#000000\"/>\n<text fill=\"#000000\" font-family=\"Times,serif\" font-size=\"14.00\" text-anchor=\"middle\" x=\"244.5\" y=\"-1620.8\">res7c_branch2a: Conv2D</text>\n</g>\n<!-- 139881351508048&#45;&gt;139881351301136 -->\n<g class=\"edge\" id=\"edge265\">\n<title>139881351508048-&gt;139881351301136</title>\n<path d=\"M285.9045,-1679.4551C279.3599,-1670.7686 271.3896,-1660.1898 264.196,-1650.642\" fill=\"none\" stroke=\"#000000\"/>\n<polygon fill=\"#000000\" points=\"266.9427,-1648.4711 258.1297,-1642.5904 261.3518,-1652.6834 266.9427,-1648.4711\" stroke=\"#000000\"/>\n</g>\n<!-- 139881351300816 -->\n<g class=\"node\" id=\"node252\">\n<title>139881351300816</title>\n<polygon fill=\"none\" points=\"253.5,-1022.5 253.5,-1058.5 345.5,-1058.5 345.5,-1022.5 253.5,-1022.5\" stroke=\"#000000\"/>\n<text fill=\"#000000\" font-family=\"Times,serif\" font-size=\"14.00\" text-anchor=\"middle\" x=\"299.5\" y=\"-1036.8\">add_22: Add</text>\n</g>\n<!-- 139881351508048&#45;&gt;139881351300816 -->\n<g class=\"edge\" id=\"edge274\">\n<title>139881351508048-&gt;139881351300816</title>\n<path d=\"M315.2572,-1679.0704C336.1744,-1652.6575 370.5,-1601.6702 370.5,-1551.5 370.5,-1551.5 370.5,-1551.5 370.5,-1186.5 370.5,-1144.8732 369.8594,-1131.8511 350.5,-1095 344.9066,-1084.3527 336.6654,-1074.2622 328.4315,-1065.7242\" fill=\"none\" stroke=\"#000000\"/>\n<polygon fill=\"#000000\" points=\"330.8388,-1063.1825 321.2644,-1058.6458 325.92,-1068.163 330.8388,-1063.1825\" stroke=\"#000000\"/>\n</g>\n<!-- 139881351114192 -->\n<g class=\"node\" id=\"node245\">\n<title>139881351114192</title>\n<polygon fill=\"none\" points=\"115,-1533.5 115,-1569.5 342,-1569.5 342,-1533.5 115,-1533.5\" stroke=\"#000000\"/>\n<text fill=\"#000000\" font-family=\"Times,serif\" font-size=\"14.00\" text-anchor=\"middle\" x=\"228.5\" y=\"-1547.8\">bn7c_branch2a: BatchNormalization</text>\n</g>\n<!-- 139881351301136&#45;&gt;139881351114192 -->\n<g class=\"edge\" id=\"edge266\">\n<title>139881351301136-&gt;139881351114192</title>\n<path d=\"M240.5449,-1606.4551C238.7565,-1598.2951 236.602,-1588.4652 234.6126,-1579.3887\" fill=\"none\" stroke=\"#000000\"/>\n<polygon fill=\"#000000\" points=\"238.0249,-1578.6091 232.465,-1569.5904 231.1872,-1580.1079 238.0249,-1578.6091\" stroke=\"#000000\"/>\n</g>\n<!-- 139881351158672 -->\n<g class=\"node\" id=\"node246\">\n<title>139881351158672</title>\n<polygon fill=\"none\" points=\"148,-1460.5 148,-1496.5 309,-1496.5 309,-1460.5 148,-1460.5\" stroke=\"#000000\"/>\n<text fill=\"#000000\" font-family=\"Times,serif\" font-size=\"14.00\" text-anchor=\"middle\" x=\"228.5\" y=\"-1474.8\">activation_67: Activation</text>\n</g>\n<!-- 139881351114192&#45;&gt;139881351158672 -->\n<g class=\"edge\" id=\"edge267\">\n<title>139881351114192-&gt;139881351158672</title>\n<path d=\"M228.5,-1533.4551C228.5,-1525.3828 228.5,-1515.6764 228.5,-1506.6817\" fill=\"none\" stroke=\"#000000\"/>\n<polygon fill=\"#000000\" points=\"232.0001,-1506.5903 228.5,-1496.5904 225.0001,-1506.5904 232.0001,-1506.5903\" stroke=\"#000000\"/>\n</g>\n<!-- 139881351192464 -->\n<g class=\"node\" id=\"node247\">\n<title>139881351192464</title>\n<polygon fill=\"none\" points=\"146,-1387.5 146,-1423.5 311,-1423.5 311,-1387.5 146,-1387.5\" stroke=\"#000000\"/>\n<text fill=\"#000000\" font-family=\"Times,serif\" font-size=\"14.00\" text-anchor=\"middle\" x=\"228.5\" y=\"-1401.8\">res7c_branch2b: Conv2D</text>\n</g>\n<!-- 139881351158672&#45;&gt;139881351192464 -->\n<g class=\"edge\" id=\"edge268\">\n<title>139881351158672-&gt;139881351192464</title>\n<path d=\"M228.5,-1460.4551C228.5,-1452.3828 228.5,-1442.6764 228.5,-1433.6817\" fill=\"none\" stroke=\"#000000\"/>\n<polygon fill=\"#000000\" points=\"232.0001,-1433.5903 228.5,-1423.5904 225.0001,-1433.5904 232.0001,-1433.5903\" stroke=\"#000000\"/>\n</g>\n<!-- 139881351497936 -->\n<g class=\"node\" id=\"node248\">\n<title>139881351497936</title>\n<polygon fill=\"none\" points=\"113,-1314.5 113,-1350.5 342,-1350.5 342,-1314.5 113,-1314.5\" stroke=\"#000000\"/>\n<text fill=\"#000000\" font-family=\"Times,serif\" font-size=\"14.00\" text-anchor=\"middle\" x=\"227.5\" y=\"-1328.8\">bn7c_branch2b: BatchNormalization</text>\n</g>\n<!-- 139881351192464&#45;&gt;139881351497936 -->\n<g class=\"edge\" id=\"edge269\">\n<title>139881351192464-&gt;139881351497936</title>\n<path d=\"M228.2528,-1387.4551C228.1422,-1379.3828 228.0093,-1369.6764 227.8861,-1360.6817\" fill=\"none\" stroke=\"#000000\"/>\n<polygon fill=\"#000000\" points=\"231.3846,-1360.5414 227.7478,-1350.5904 224.3852,-1360.6374 231.3846,-1360.5414\" stroke=\"#000000\"/>\n</g>\n<!-- 139881351496144 -->\n<g class=\"node\" id=\"node249\">\n<title>139881351496144</title>\n<polygon fill=\"none\" points=\"148,-1241.5 148,-1277.5 309,-1277.5 309,-1241.5 148,-1241.5\" stroke=\"#000000\"/>\n<text fill=\"#000000\" font-family=\"Times,serif\" font-size=\"14.00\" text-anchor=\"middle\" x=\"228.5\" y=\"-1255.8\">activation_68: Activation</text>\n</g>\n<!-- 139881351497936&#45;&gt;139881351496144 -->\n<g class=\"edge\" id=\"edge270\">\n<title>139881351497936-&gt;139881351496144</title>\n<path d=\"M227.7472,-1314.4551C227.8578,-1306.3828 227.9907,-1296.6764 228.1139,-1287.6817\" fill=\"none\" stroke=\"#000000\"/>\n<polygon fill=\"#000000\" points=\"231.6148,-1287.6374 228.2522,-1277.5904 224.6154,-1287.5414 231.6148,-1287.6374\" stroke=\"#000000\"/>\n</g>\n<!-- 139881351299984 -->\n<g class=\"node\" id=\"node250\">\n<title>139881351299984</title>\n<polygon fill=\"none\" points=\"146.5,-1168.5 146.5,-1204.5 310.5,-1204.5 310.5,-1168.5 146.5,-1168.5\" stroke=\"#000000\"/>\n<text fill=\"#000000\" font-family=\"Times,serif\" font-size=\"14.00\" text-anchor=\"middle\" x=\"228.5\" y=\"-1182.8\">res7c_branch2c: Conv2D</text>\n</g>\n<!-- 139881351496144&#45;&gt;139881351299984 -->\n<g class=\"edge\" id=\"edge271\">\n<title>139881351496144-&gt;139881351299984</title>\n<path d=\"M228.5,-1241.4551C228.5,-1233.3828 228.5,-1223.6764 228.5,-1214.6817\" fill=\"none\" stroke=\"#000000\"/>\n<polygon fill=\"#000000\" points=\"232.0001,-1214.5903 228.5,-1204.5904 225.0001,-1214.5904 232.0001,-1214.5903\" stroke=\"#000000\"/>\n</g>\n<!-- 139881351661776 -->\n<g class=\"node\" id=\"node251\">\n<title>139881351661776</title>\n<polygon fill=\"none\" points=\"115,-1095.5 115,-1131.5 342,-1131.5 342,-1095.5 115,-1095.5\" stroke=\"#000000\"/>\n<text fill=\"#000000\" font-family=\"Times,serif\" font-size=\"14.00\" text-anchor=\"middle\" x=\"228.5\" y=\"-1109.8\">bn7c_branch2c: BatchNormalization</text>\n</g>\n<!-- 139881351299984&#45;&gt;139881351661776 -->\n<g class=\"edge\" id=\"edge272\">\n<title>139881351299984-&gt;139881351661776</title>\n<path d=\"M228.5,-1168.4551C228.5,-1160.3828 228.5,-1150.6764 228.5,-1141.6817\" fill=\"none\" stroke=\"#000000\"/>\n<polygon fill=\"#000000\" points=\"232.0001,-1141.5903 228.5,-1131.5904 225.0001,-1141.5904 232.0001,-1141.5903\" stroke=\"#000000\"/>\n</g>\n<!-- 139881351661776&#45;&gt;139881351300816 -->\n<g class=\"edge\" id=\"edge273\">\n<title>139881351661776-&gt;139881351300816</title>\n<path d=\"M246.0506,-1095.4551C254.755,-1086.5054 265.4132,-1075.547 274.9156,-1065.7769\" fill=\"none\" stroke=\"#000000\"/>\n<polygon fill=\"#000000\" points=\"277.4421,-1068.1992 281.9053,-1058.5904 272.424,-1063.3187 277.4421,-1068.1992\" stroke=\"#000000\"/>\n</g>\n<!-- 139881356866064 -->\n<g class=\"node\" id=\"node253\">\n<title>139881356866064</title>\n<polygon fill=\"none\" points=\"219,-949.5 219,-985.5 380,-985.5 380,-949.5 219,-949.5\" stroke=\"#000000\"/>\n<text fill=\"#000000\" font-family=\"Times,serif\" font-size=\"14.00\" text-anchor=\"middle\" x=\"299.5\" y=\"-963.8\">activation_69: Activation</text>\n</g>\n<!-- 139881351300816&#45;&gt;139881356866064 -->\n<g class=\"edge\" id=\"edge275\">\n<title>139881351300816-&gt;139881356866064</title>\n<path d=\"M299.5,-1022.4551C299.5,-1014.3828 299.5,-1004.6764 299.5,-995.6817\" fill=\"none\" stroke=\"#000000\"/>\n<polygon fill=\"#000000\" points=\"303.0001,-995.5903 299.5,-985.5904 296.0001,-995.5904 303.0001,-995.5903\" stroke=\"#000000\"/>\n</g>\n<!-- 139881351761616 -->\n<g class=\"node\" id=\"node254\">\n<title>139881351761616</title>\n<polygon fill=\"none\" points=\"146,-876.5 146,-912.5 311,-912.5 311,-876.5 146,-876.5\" stroke=\"#000000\"/>\n<text fill=\"#000000\" font-family=\"Times,serif\" font-size=\"14.00\" text-anchor=\"middle\" x=\"228.5\" y=\"-890.8\">res7d_branch2a: Conv2D</text>\n</g>\n<!-- 139881356866064&#45;&gt;139881351761616 -->\n<g class=\"edge\" id=\"edge276\">\n<title>139881356866064-&gt;139881351761616</title>\n<path d=\"M281.9494,-949.4551C273.245,-940.5054 262.5868,-929.547 253.0844,-919.7769\" fill=\"none\" stroke=\"#000000\"/>\n<polygon fill=\"#000000\" points=\"255.576,-917.3187 246.0947,-912.5904 250.5579,-922.1992 255.576,-917.3187\" stroke=\"#000000\"/>\n</g>\n<!-- 139881350980368 -->\n<g class=\"node\" id=\"node262\">\n<title>139881350980368</title>\n<polygon fill=\"none\" points=\"237.5,-292.5 237.5,-328.5 329.5,-328.5 329.5,-292.5 237.5,-292.5\" stroke=\"#000000\"/>\n<text fill=\"#000000\" font-family=\"Times,serif\" font-size=\"14.00\" text-anchor=\"middle\" x=\"283.5\" y=\"-306.8\">add_23: Add</text>\n</g>\n<!-- 139881356866064&#45;&gt;139881350980368 -->\n<g class=\"edge\" id=\"edge285\">\n<title>139881356866064-&gt;139881350980368</title>\n<path d=\"M311.3762,-949.4575C327.8145,-922.6944 355.5,-870.366 355.5,-821.5 355.5,-821.5 355.5,-821.5 355.5,-456.5 355.5,-414.8732 355.0378,-401.7568 335.5,-365 329.8031,-354.2823 321.402,-344.1724 313.0064,-335.6383\" fill=\"none\" stroke=\"#000000\"/>\n<polygon fill=\"#000000\" points=\"315.3189,-333.0057 305.6979,-328.5687 310.452,-338.037 315.3189,-333.0057\" stroke=\"#000000\"/>\n</g>\n<!-- 139881352560144 -->\n<g class=\"node\" id=\"node255\">\n<title>139881352560144</title>\n<polygon fill=\"none\" points=\"98,-803.5 98,-839.5 327,-839.5 327,-803.5 98,-803.5\" stroke=\"#000000\"/>\n<text fill=\"#000000\" font-family=\"Times,serif\" font-size=\"14.00\" text-anchor=\"middle\" x=\"212.5\" y=\"-817.8\">bn7d_branch2a: BatchNormalization</text>\n</g>\n<!-- 139881351761616&#45;&gt;139881352560144 -->\n<g class=\"edge\" id=\"edge277\">\n<title>139881351761616-&gt;139881352560144</title>\n<path d=\"M224.5449,-876.4551C222.7565,-868.2951 220.602,-858.4652 218.6126,-849.3887\" fill=\"none\" stroke=\"#000000\"/>\n<polygon fill=\"#000000\" points=\"222.0249,-848.6091 216.465,-839.5904 215.1872,-850.1079 222.0249,-848.6091\" stroke=\"#000000\"/>\n</g>\n<!-- 139881353227664 -->\n<g class=\"node\" id=\"node256\">\n<title>139881353227664</title>\n<polygon fill=\"none\" points=\"132,-730.5 132,-766.5 293,-766.5 293,-730.5 132,-730.5\" stroke=\"#000000\"/>\n<text fill=\"#000000\" font-family=\"Times,serif\" font-size=\"14.00\" text-anchor=\"middle\" x=\"212.5\" y=\"-744.8\">activation_70: Activation</text>\n</g>\n<!-- 139881352560144&#45;&gt;139881353227664 -->\n<g class=\"edge\" id=\"edge278\">\n<title>139881352560144-&gt;139881353227664</title>\n<path d=\"M212.5,-803.4551C212.5,-795.3828 212.5,-785.6764 212.5,-776.6817\" fill=\"none\" stroke=\"#000000\"/>\n<polygon fill=\"#000000\" points=\"216.0001,-776.5903 212.5,-766.5904 209.0001,-776.5904 216.0001,-776.5903\" stroke=\"#000000\"/>\n</g>\n<!-- 139881350848400 -->\n<g class=\"node\" id=\"node257\">\n<title>139881350848400</title>\n<polygon fill=\"none\" points=\"129,-657.5 129,-693.5 296,-693.5 296,-657.5 129,-657.5\" stroke=\"#000000\"/>\n<text fill=\"#000000\" font-family=\"Times,serif\" font-size=\"14.00\" text-anchor=\"middle\" x=\"212.5\" y=\"-671.8\">res7d_branch2b: Conv2D</text>\n</g>\n<!-- 139881353227664&#45;&gt;139881350848400 -->\n<g class=\"edge\" id=\"edge279\">\n<title>139881353227664-&gt;139881350848400</title>\n<path d=\"M212.5,-730.4551C212.5,-722.3828 212.5,-712.6764 212.5,-703.6817\" fill=\"none\" stroke=\"#000000\"/>\n<polygon fill=\"#000000\" points=\"216.0001,-703.5903 212.5,-693.5904 209.0001,-703.5904 216.0001,-703.5903\" stroke=\"#000000\"/>\n</g>\n<!-- 139881350899280 -->\n<g class=\"node\" id=\"node258\">\n<title>139881350899280</title>\n<polygon fill=\"none\" points=\"97.5,-584.5 97.5,-620.5 327.5,-620.5 327.5,-584.5 97.5,-584.5\" stroke=\"#000000\"/>\n<text fill=\"#000000\" font-family=\"Times,serif\" font-size=\"14.00\" text-anchor=\"middle\" x=\"212.5\" y=\"-598.8\">bn7d_branch2b: BatchNormalization</text>\n</g>\n<!-- 139881350848400&#45;&gt;139881350899280 -->\n<g class=\"edge\" id=\"edge280\">\n<title>139881350848400-&gt;139881350899280</title>\n<path d=\"M212.5,-657.4551C212.5,-649.3828 212.5,-639.6764 212.5,-630.6817\" fill=\"none\" stroke=\"#000000\"/>\n<polygon fill=\"#000000\" points=\"216.0001,-630.5903 212.5,-620.5904 209.0001,-630.5904 216.0001,-630.5903\" stroke=\"#000000\"/>\n</g>\n<!-- 139881350958480 -->\n<g class=\"node\" id=\"node259\">\n<title>139881350958480</title>\n<polygon fill=\"none\" points=\"132,-511.5 132,-547.5 293,-547.5 293,-511.5 132,-511.5\" stroke=\"#000000\"/>\n<text fill=\"#000000\" font-family=\"Times,serif\" font-size=\"14.00\" text-anchor=\"middle\" x=\"212.5\" y=\"-525.8\">activation_71: Activation</text>\n</g>\n<!-- 139881350899280&#45;&gt;139881350958480 -->\n<g class=\"edge\" id=\"edge281\">\n<title>139881350899280-&gt;139881350958480</title>\n<path d=\"M212.5,-584.4551C212.5,-576.3828 212.5,-566.6764 212.5,-557.6817\" fill=\"none\" stroke=\"#000000\"/>\n<polygon fill=\"#000000\" points=\"216.0001,-557.5903 212.5,-547.5904 209.0001,-557.5904 216.0001,-557.5903\" stroke=\"#000000\"/>\n</g>\n<!-- 139881350980304 -->\n<g class=\"node\" id=\"node260\">\n<title>139881350980304</title>\n<polygon fill=\"none\" points=\"130,-438.5 130,-474.5 295,-474.5 295,-438.5 130,-438.5\" stroke=\"#000000\"/>\n<text fill=\"#000000\" font-family=\"Times,serif\" font-size=\"14.00\" text-anchor=\"middle\" x=\"212.5\" y=\"-452.8\">res7d_branch2c: Conv2D</text>\n</g>\n<!-- 139881350958480&#45;&gt;139881350980304 -->\n<g class=\"edge\" id=\"edge282\">\n<title>139881350958480-&gt;139881350980304</title>\n<path d=\"M212.5,-511.4551C212.5,-503.3828 212.5,-493.6764 212.5,-484.6817\" fill=\"none\" stroke=\"#000000\"/>\n<polygon fill=\"#000000\" points=\"216.0001,-484.5903 212.5,-474.5904 209.0001,-484.5904 216.0001,-484.5903\" stroke=\"#000000\"/>\n</g>\n<!-- 139881350982160 -->\n<g class=\"node\" id=\"node261\">\n<title>139881350982160</title>\n<polygon fill=\"none\" points=\"98,-365.5 98,-401.5 327,-401.5 327,-365.5 98,-365.5\" stroke=\"#000000\"/>\n<text fill=\"#000000\" font-family=\"Times,serif\" font-size=\"14.00\" text-anchor=\"middle\" x=\"212.5\" y=\"-379.8\">bn7d_branch2c: BatchNormalization</text>\n</g>\n<!-- 139881350980304&#45;&gt;139881350982160 -->\n<g class=\"edge\" id=\"edge283\">\n<title>139881350980304-&gt;139881350982160</title>\n<path d=\"M212.5,-438.4551C212.5,-430.3828 212.5,-420.6764 212.5,-411.6817\" fill=\"none\" stroke=\"#000000\"/>\n<polygon fill=\"#000000\" points=\"216.0001,-411.5903 212.5,-401.5904 209.0001,-411.5904 216.0001,-411.5903\" stroke=\"#000000\"/>\n</g>\n<!-- 139881350982160&#45;&gt;139881350980368 -->\n<g class=\"edge\" id=\"edge284\">\n<title>139881350982160-&gt;139881350980368</title>\n<path d=\"M230.0506,-365.4551C238.755,-356.5054 249.4132,-345.547 258.9156,-335.7769\" fill=\"none\" stroke=\"#000000\"/>\n<polygon fill=\"#000000\" points=\"261.4421,-338.1992 265.9053,-328.5904 256.424,-333.3187 261.4421,-338.1992\" stroke=\"#000000\"/>\n</g>\n<!-- 139881350712976 -->\n<g class=\"node\" id=\"node263\">\n<title>139881350712976</title>\n<polygon fill=\"none\" points=\"203,-219.5 203,-255.5 364,-255.5 364,-219.5 203,-219.5\" stroke=\"#000000\"/>\n<text fill=\"#000000\" font-family=\"Times,serif\" font-size=\"14.00\" text-anchor=\"middle\" x=\"283.5\" y=\"-233.8\">activation_72: Activation</text>\n</g>\n<!-- 139881350980368&#45;&gt;139881350712976 -->\n<g class=\"edge\" id=\"edge286\">\n<title>139881350980368-&gt;139881350712976</title>\n<path d=\"M283.5,-292.4551C283.5,-284.3828 283.5,-274.6764 283.5,-265.6817\" fill=\"none\" stroke=\"#000000\"/>\n<polygon fill=\"#000000\" points=\"287.0001,-265.5903 283.5,-255.5904 280.0001,-265.5904 287.0001,-265.5903\" stroke=\"#000000\"/>\n</g>\n<!-- 139881350967568 -->\n<g class=\"node\" id=\"node264\">\n<title>139881350967568</title>\n<polygon fill=\"none\" points=\"216.5,-146.5 216.5,-182.5 350.5,-182.5 350.5,-146.5 216.5,-146.5\" stroke=\"#000000\"/>\n<text fill=\"#000000\" font-family=\"Times,serif\" font-size=\"14.00\" text-anchor=\"middle\" x=\"283.5\" y=\"-160.8\">dropout_5: Dropout</text>\n</g>\n<!-- 139881350712976&#45;&gt;139881350967568 -->\n<g class=\"edge\" id=\"edge287\">\n<title>139881350712976-&gt;139881350967568</title>\n<path d=\"M283.5,-219.4551C283.5,-211.3828 283.5,-201.6764 283.5,-192.6817\" fill=\"none\" stroke=\"#000000\"/>\n<polygon fill=\"#000000\" points=\"287.0001,-192.5903 283.5,-182.5904 280.0001,-192.5904 287.0001,-192.5903\" stroke=\"#000000\"/>\n</g>\n<!-- 139881350700496 -->\n<g class=\"node\" id=\"node265\">\n<title>139881350700496</title>\n<polygon fill=\"none\" points=\"234.5,-73.5 234.5,-109.5 332.5,-109.5 332.5,-73.5 234.5,-73.5\" stroke=\"#000000\"/>\n<text fill=\"#000000\" font-family=\"Times,serif\" font-size=\"14.00\" text-anchor=\"middle\" x=\"283.5\" y=\"-87.8\">flatten: Flatten</text>\n</g>\n<!-- 139881350967568&#45;&gt;139881350700496 -->\n<g class=\"edge\" id=\"edge288\">\n<title>139881350967568-&gt;139881350700496</title>\n<path d=\"M283.5,-146.4551C283.5,-138.3828 283.5,-128.6764 283.5,-119.6817\" fill=\"none\" stroke=\"#000000\"/>\n<polygon fill=\"#000000\" points=\"287.0001,-119.5903 283.5,-109.5904 280.0001,-119.5904 287.0001,-119.5903\" stroke=\"#000000\"/>\n</g>\n<!-- 139881350654736 -->\n<g class=\"node\" id=\"node266\">\n<title>139881350654736</title>\n<polygon fill=\"none\" points=\"245,-.5 245,-36.5 322,-36.5 322,-.5 245,-.5\" stroke=\"#000000\"/>\n<text fill=\"#000000\" font-family=\"Times,serif\" font-size=\"14.00\" text-anchor=\"middle\" x=\"283.5\" y=\"-14.8\">fc2: Dense</text>\n</g>\n<!-- 139881350700496&#45;&gt;139881350654736 -->\n<g class=\"edge\" id=\"edge289\">\n<title>139881350700496-&gt;139881350654736</title>\n<path d=\"M283.5,-73.4551C283.5,-65.3828 283.5,-55.6764 283.5,-46.6817\" fill=\"none\" stroke=\"#000000\"/>\n<polygon fill=\"#000000\" points=\"287.0001,-46.5903 283.5,-36.5904 280.0001,-46.5904 287.0001,-46.5903\" stroke=\"#000000\"/>\n</g>\n</g>\n</svg>"
          },
          "metadata": {
            "tags": []
          },
          "execution_count": 27
        }
      ]
    },
    {
      "cell_type": "code",
      "metadata": {
        "colab": {
          "base_uri": "https://localhost:8080/",
          "height": 130
        },
        "id": "iIvGNK14m3Ff",
        "outputId": "3916ab05-a53f-430c-eec1-7acbfa2bd86e"
      },
      "source": [
        "imshow(X_test[0].astype(\"uint8\"))\n",
        "#plt.axis(\"off\")\n"
      ],
      "execution_count": 60,
      "outputs": [
        {
          "output_type": "error",
          "ename": "SyntaxError",
          "evalue": "ignored",
          "traceback": [
            "\u001b[0;36m  File \u001b[0;32m\"<ipython-input-60-2541f891c800>\"\u001b[0;36m, line \u001b[0;32m1\u001b[0m\n\u001b[0;31m    imshow(X_test[0]))\u001b[0m\n\u001b[0m                     ^\u001b[0m\n\u001b[0;31mSyntaxError\u001b[0m\u001b[0;31m:\u001b[0m invalid syntax\n"
          ]
        }
      ]
    },
    {
      "cell_type": "code",
      "metadata": {
        "id": "RNmnLi2Jzix8"
      },
      "source": [
        ""
      ],
      "execution_count": null,
      "outputs": []
    }
  ]
}